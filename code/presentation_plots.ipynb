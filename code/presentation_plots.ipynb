{
 "cells": [
  {
   "cell_type": "markdown",
   "metadata": {},
   "source": [
    "# Motivation / Single Run Case Study"
   ]
  },
  {
   "cell_type": "code",
   "execution_count": 16,
   "metadata": {},
   "outputs": [
    {
     "data": {
      "application/vnd.plotly.v1+json": {
       "config": {
        "plotlyServerURL": "https://plot.ly"
       },
       "data": [
        {
         "alignmentgroup": "True",
         "hovertemplate": "=%{x}<br>counting impact (more is better)=%{y}<extra></extra>",
         "legendgroup": "",
         "marker": {
          "color": "#636efa"
         },
         "name": "",
         "notched": false,
         "offsetgroup": "",
         "orientation": "v",
         "showlegend": false,
         "type": "box",
         "x": [
          "traceID_1",
          "traceID_1",
          "traceID_1",
          "traceID_1",
          "traceID_1",
          "traceID_1",
          "traceID_1",
          "traceID_1",
          "traceID_1",
          "traceID_1",
          "traceID_1",
          "traceID_1",
          "traceID_1",
          "traceID_1",
          "traceID_1",
          "traceID_1",
          "traceID_1",
          "traceID_1",
          "traceID_1",
          "traceID_1",
          "traceID_1",
          "traceID_1",
          "traceID_1",
          "traceID_1",
          "traceID_1",
          "traceID_1",
          "traceID_1",
          "traceID_1",
          "traceID_1",
          "traceID_1",
          "traceID_1",
          "traceID_2",
          "traceID_2",
          "traceID_2",
          "traceID_2",
          "traceID_2",
          "traceID_2",
          "traceID_2",
          "traceID_2",
          "traceID_2",
          "traceID_2",
          "traceID_2",
          "traceID_2",
          "traceID_2",
          "traceID_2",
          "traceID_2",
          "traceID_2",
          "traceID_2",
          "traceID_2",
          "traceID_2",
          "traceID_2",
          "traceID_2",
          "traceID_2",
          "traceID_2",
          "traceID_2",
          "traceID_2",
          "traceID_2",
          "traceID_2",
          "traceID_2",
          "traceID_2",
          "traceID_2",
          "traceID_2",
          "traceID_3",
          "traceID_3",
          "traceID_3",
          "traceID_3",
          "traceID_3",
          "traceID_3",
          "traceID_3",
          "traceID_3",
          "traceID_3",
          "traceID_3",
          "traceID_3",
          "traceID_3",
          "traceID_3",
          "traceID_3",
          "traceID_3",
          "traceID_3",
          "traceID_3",
          "traceID_3",
          "traceID_3",
          "traceID_3",
          "traceID_3",
          "traceID_3",
          "traceID_3",
          "traceID_3",
          "traceID_3",
          "traceID_3",
          "traceID_3",
          "traceID_3",
          "traceID_3",
          "traceID_3",
          "traceID_3",
          "traceID_4",
          "traceID_4",
          "traceID_4",
          "traceID_4",
          "traceID_4",
          "traceID_4",
          "traceID_4",
          "traceID_4",
          "traceID_4",
          "traceID_4",
          "traceID_4",
          "traceID_4",
          "traceID_4",
          "traceID_4",
          "traceID_4",
          "traceID_4",
          "traceID_4",
          "traceID_4",
          "traceID_4",
          "traceID_4",
          "traceID_4",
          "traceID_4",
          "traceID_4",
          "traceID_4",
          "traceID_4",
          "traceID_4",
          "traceID_4",
          "traceID_4",
          "traceID_4",
          "traceID_4",
          "traceID_4",
          "traceID_5",
          "traceID_5",
          "traceID_5",
          "traceID_5",
          "traceID_5",
          "traceID_5",
          "traceID_5",
          "traceID_5",
          "traceID_5",
          "traceID_5",
          "traceID_5",
          "traceID_5",
          "traceID_5",
          "traceID_5",
          "traceID_5",
          "traceID_5",
          "traceID_5",
          "traceID_5",
          "traceID_5",
          "traceID_5",
          "traceID_5",
          "traceID_5",
          "traceID_5",
          "traceID_5",
          "traceID_5",
          "traceID_5",
          "traceID_5",
          "traceID_5",
          "traceID_5",
          "traceID_5",
          "traceID_5",
          "traceID_6",
          "traceID_6",
          "traceID_6",
          "traceID_6",
          "traceID_6",
          "traceID_6",
          "traceID_6",
          "traceID_6",
          "traceID_6",
          "traceID_6",
          "traceID_6",
          "traceID_6",
          "traceID_6",
          "traceID_6",
          "traceID_6",
          "traceID_6",
          "traceID_6",
          "traceID_6",
          "traceID_6",
          "traceID_6",
          "traceID_6",
          "traceID_6",
          "traceID_6",
          "traceID_6",
          "traceID_6",
          "traceID_6",
          "traceID_6",
          "traceID_6",
          "traceID_6",
          "traceID_6",
          "traceID_6",
          "traceID_7",
          "traceID_7",
          "traceID_7",
          "traceID_7",
          "traceID_7",
          "traceID_7",
          "traceID_7",
          "traceID_7",
          "traceID_7",
          "traceID_7",
          "traceID_7",
          "traceID_7",
          "traceID_7",
          "traceID_7",
          "traceID_7",
          "traceID_7",
          "traceID_7",
          "traceID_7",
          "traceID_7",
          "traceID_7",
          "traceID_7",
          "traceID_7",
          "traceID_7",
          "traceID_7",
          "traceID_7",
          "traceID_7",
          "traceID_7",
          "traceID_7",
          "traceID_7",
          "traceID_7",
          "traceID_7",
          "traceID_8",
          "traceID_8",
          "traceID_8",
          "traceID_8",
          "traceID_8",
          "traceID_8",
          "traceID_8",
          "traceID_8",
          "traceID_8",
          "traceID_8",
          "traceID_8",
          "traceID_8",
          "traceID_8",
          "traceID_8",
          "traceID_8",
          "traceID_8",
          "traceID_8",
          "traceID_8",
          "traceID_8",
          "traceID_8",
          "traceID_8",
          "traceID_8",
          "traceID_8",
          "traceID_8",
          "traceID_8",
          "traceID_8",
          "traceID_8",
          "traceID_8",
          "traceID_8",
          "traceID_8",
          "traceID_8",
          "traceID_9",
          "traceID_9",
          "traceID_9",
          "traceID_9",
          "traceID_9",
          "traceID_9",
          "traceID_9",
          "traceID_9",
          "traceID_9",
          "traceID_9",
          "traceID_9",
          "traceID_9",
          "traceID_9",
          "traceID_9",
          "traceID_9",
          "traceID_9",
          "traceID_9",
          "traceID_9",
          "traceID_9",
          "traceID_9",
          "traceID_9",
          "traceID_9",
          "traceID_9",
          "traceID_9",
          "traceID_9",
          "traceID_9",
          "traceID_9",
          "traceID_9",
          "traceID_9",
          "traceID_9",
          "traceID_9",
          "traceID_10",
          "traceID_10",
          "traceID_10",
          "traceID_10",
          "traceID_10",
          "traceID_10",
          "traceID_10",
          "traceID_10",
          "traceID_10",
          "traceID_10",
          "traceID_10",
          "traceID_10",
          "traceID_10",
          "traceID_10",
          "traceID_10",
          "traceID_10",
          "traceID_10",
          "traceID_10",
          "traceID_10",
          "traceID_10",
          "traceID_10",
          "traceID_10",
          "traceID_10",
          "traceID_10",
          "traceID_10",
          "traceID_10",
          "traceID_10",
          "traceID_10",
          "traceID_10",
          "traceID_10",
          "traceID_10",
          "traceID_11",
          "traceID_11",
          "traceID_11",
          "traceID_11",
          "traceID_11",
          "traceID_11",
          "traceID_11",
          "traceID_11",
          "traceID_11",
          "traceID_11",
          "traceID_11",
          "traceID_11",
          "traceID_11",
          "traceID_11",
          "traceID_11",
          "traceID_11",
          "traceID_11",
          "traceID_11",
          "traceID_11",
          "traceID_11",
          "traceID_11",
          "traceID_11",
          "traceID_11",
          "traceID_11",
          "traceID_11",
          "traceID_11",
          "traceID_11",
          "traceID_11",
          "traceID_11",
          "traceID_11",
          "traceID_11",
          "traceID_12",
          "traceID_12",
          "traceID_12",
          "traceID_12",
          "traceID_12",
          "traceID_12",
          "traceID_12",
          "traceID_12",
          "traceID_12",
          "traceID_12",
          "traceID_12",
          "traceID_12",
          "traceID_12",
          "traceID_12",
          "traceID_12",
          "traceID_12",
          "traceID_12",
          "traceID_12",
          "traceID_12",
          "traceID_12",
          "traceID_12",
          "traceID_12",
          "traceID_12",
          "traceID_12",
          "traceID_12",
          "traceID_12",
          "traceID_12",
          "traceID_12",
          "traceID_12",
          "traceID_12",
          "traceID_12",
          "traceID_13",
          "traceID_13",
          "traceID_13",
          "traceID_13",
          "traceID_13",
          "traceID_13",
          "traceID_13",
          "traceID_13",
          "traceID_13",
          "traceID_13",
          "traceID_13",
          "traceID_13",
          "traceID_13",
          "traceID_13",
          "traceID_13",
          "traceID_13",
          "traceID_13",
          "traceID_13",
          "traceID_13",
          "traceID_13",
          "traceID_13",
          "traceID_13",
          "traceID_13",
          "traceID_13",
          "traceID_13",
          "traceID_13",
          "traceID_13",
          "traceID_13",
          "traceID_13",
          "traceID_13",
          "traceID_13",
          "traceID_14",
          "traceID_14",
          "traceID_14",
          "traceID_14",
          "traceID_14",
          "traceID_14",
          "traceID_14",
          "traceID_14",
          "traceID_14",
          "traceID_14",
          "traceID_14",
          "traceID_14",
          "traceID_14",
          "traceID_14",
          "traceID_14",
          "traceID_14",
          "traceID_14",
          "traceID_14",
          "traceID_14",
          "traceID_14",
          "traceID_14",
          "traceID_14",
          "traceID_14",
          "traceID_14",
          "traceID_14",
          "traceID_14",
          "traceID_14",
          "traceID_14",
          "traceID_14",
          "traceID_14",
          "traceID_14",
          "traceID_15",
          "traceID_15",
          "traceID_15",
          "traceID_15",
          "traceID_15",
          "traceID_15",
          "traceID_15",
          "traceID_15",
          "traceID_15",
          "traceID_15",
          "traceID_15",
          "traceID_15",
          "traceID_15",
          "traceID_15",
          "traceID_15",
          "traceID_15",
          "traceID_15",
          "traceID_15",
          "traceID_15",
          "traceID_15",
          "traceID_15",
          "traceID_15",
          "traceID_15",
          "traceID_15",
          "traceID_15",
          "traceID_15",
          "traceID_15",
          "traceID_15",
          "traceID_15",
          "traceID_15",
          "traceID_15",
          "traceID_16",
          "traceID_16",
          "traceID_16",
          "traceID_16",
          "traceID_16",
          "traceID_16",
          "traceID_16",
          "traceID_16",
          "traceID_16",
          "traceID_16",
          "traceID_16",
          "traceID_16",
          "traceID_16",
          "traceID_16",
          "traceID_16",
          "traceID_16",
          "traceID_16",
          "traceID_16",
          "traceID_16",
          "traceID_16",
          "traceID_16",
          "traceID_16",
          "traceID_16",
          "traceID_16",
          "traceID_16",
          "traceID_16",
          "traceID_16",
          "traceID_16",
          "traceID_16",
          "traceID_16",
          "traceID_16",
          "traceID_17",
          "traceID_17",
          "traceID_17",
          "traceID_17",
          "traceID_17",
          "traceID_17",
          "traceID_17",
          "traceID_17",
          "traceID_17",
          "traceID_17",
          "traceID_17",
          "traceID_17",
          "traceID_17",
          "traceID_17",
          "traceID_17",
          "traceID_17",
          "traceID_17",
          "traceID_17",
          "traceID_17",
          "traceID_17",
          "traceID_17",
          "traceID_17",
          "traceID_17",
          "traceID_17",
          "traceID_17",
          "traceID_17",
          "traceID_17",
          "traceID_17",
          "traceID_17",
          "traceID_17",
          "traceID_17",
          "traceID_18",
          "traceID_18",
          "traceID_18",
          "traceID_18",
          "traceID_18",
          "traceID_18",
          "traceID_18",
          "traceID_18",
          "traceID_18",
          "traceID_18",
          "traceID_18",
          "traceID_18",
          "traceID_18",
          "traceID_18",
          "traceID_18",
          "traceID_18",
          "traceID_18",
          "traceID_18",
          "traceID_18",
          "traceID_18",
          "traceID_18",
          "traceID_18",
          "traceID_18",
          "traceID_18",
          "traceID_18",
          "traceID_18",
          "traceID_18",
          "traceID_18",
          "traceID_18",
          "traceID_18",
          "traceID_18",
          "traceID_19",
          "traceID_19",
          "traceID_19",
          "traceID_19",
          "traceID_19",
          "traceID_19",
          "traceID_19",
          "traceID_19",
          "traceID_19",
          "traceID_19",
          "traceID_19",
          "traceID_19",
          "traceID_19",
          "traceID_19",
          "traceID_19",
          "traceID_19",
          "traceID_19",
          "traceID_19",
          "traceID_19",
          "traceID_19",
          "traceID_19",
          "traceID_19",
          "traceID_19",
          "traceID_19",
          "traceID_19",
          "traceID_19",
          "traceID_19",
          "traceID_19",
          "traceID_19",
          "traceID_19",
          "traceID_19",
          "traceID_20",
          "traceID_20",
          "traceID_20",
          "traceID_20",
          "traceID_20",
          "traceID_20",
          "traceID_20",
          "traceID_20",
          "traceID_20",
          "traceID_20",
          "traceID_20",
          "traceID_20",
          "traceID_20",
          "traceID_20",
          "traceID_20",
          "traceID_20",
          "traceID_20",
          "traceID_20",
          "traceID_20",
          "traceID_20",
          "traceID_20",
          "traceID_20",
          "traceID_20",
          "traceID_20",
          "traceID_20",
          "traceID_20",
          "traceID_20",
          "traceID_20",
          "traceID_20",
          "traceID_20",
          "traceID_20"
         ],
         "x0": " ",
         "xaxis": "x",
         "y": [
          0.05,
          0,
          0.225,
          0.2,
          0,
          0,
          0.3,
          0,
          0,
          0.3375,
          0.15,
          0.125,
          0.225,
          0,
          0,
          0,
          0,
          0.25,
          0,
          0.2375,
          0,
          0.0625,
          0,
          0.325,
          0,
          0,
          0.2125,
          0.4,
          0.175,
          0,
          0.5375,
          0,
          0,
          0,
          0,
          0.0441402429889858,
          0,
          0,
          0,
          0,
          0.0617008408097585,
          0.0358243085477732,
          0,
          0,
          0,
          0,
          0.1063007626845216,
          0,
          0,
          0,
          0,
          0,
          0,
          0,
          0,
          0.0190104438374385,
          0,
          0.0195562139081355,
          0,
          0,
          0,
          0,
          0,
          0,
          0,
          0,
          0,
          0.0107212383735991,
          0,
          0,
          0,
          0,
          0,
          0,
          0,
          0,
          0,
          0,
          0,
          0,
          0,
          0,
          0,
          0,
          0,
          0,
          0,
          0,
          0,
          0,
          0,
          0,
          0,
          0.0452214400266943,
          0.0385955255878602,
          0,
          0.0222467179594967,
          0.0711042382440309,
          0.0304224914050817,
          0.1330970525505681,
          0.0219367643816038,
          0.0618784386226732,
          0.0257578449744935,
          0,
          0,
          0,
          0.0460737847476819,
          0.143177779501654,
          0.0891835328367043,
          0.0932288538825703,
          0.0888645919598223,
          0,
          0.0142498447042359,
          0.0865879864994296,
          0.0978959325896919,
          0.08098676240186,
          0.0290579020038131,
          0.0973828478252701,
          0.0302711081139091,
          0,
          0,
          0.0316283412472394,
          0.0754114465583714,
          0,
          0,
          0,
          0,
          0,
          0,
          0,
          0,
          0,
          0,
          0,
          0,
          0,
          0,
          0,
          0,
          0,
          0,
          0,
          0,
          0,
          0,
          0,
          0,
          0,
          0,
          0,
          0,
          0,
          0,
          0,
          0,
          0,
          0.0584739133605068,
          0,
          0,
          0,
          0,
          0,
          0,
          0.0232697229540949,
          0,
          0,
          0,
          0.0462803113127702,
          0,
          0,
          0,
          0,
          0,
          0,
          0,
          0.0409322808672112,
          0,
          0,
          0,
          0,
          0.0110358797783834,
          0,
          0,
          0,
          0,
          0.0562829985801134,
          0,
          0,
          0,
          0,
          0,
          0,
          0,
          0,
          0,
          0,
          0,
          0,
          0,
          0,
          0,
          0,
          0,
          0,
          0,
          0,
          0,
          0,
          0,
          0,
          0,
          0,
          0,
          0,
          0,
          0,
          0,
          0,
          0,
          0,
          0,
          0,
          0,
          0,
          0,
          0,
          0,
          0,
          0,
          0,
          0,
          0,
          0,
          0,
          0,
          0,
          0,
          0,
          0,
          0,
          0,
          0,
          0,
          0,
          0,
          0,
          0,
          0,
          0,
          0,
          0,
          0,
          0,
          0,
          0,
          0,
          0,
          0,
          0,
          0,
          0,
          0,
          0,
          0,
          0.0430065333740279,
          0,
          0,
          0,
          0,
          0,
          0,
          0,
          0,
          0,
          0,
          0,
          0,
          0,
          0,
          0.0438580816292514,
          0,
          0,
          0.0665945071167017,
          0.0898847024096629,
          0.0374115764166688,
          0,
          0,
          0,
          0,
          0,
          0,
          0,
          0,
          0,
          0,
          0,
          0,
          0,
          0,
          0,
          0,
          0,
          0,
          0,
          0,
          0,
          0.0426125090212201,
          0,
          0,
          0,
          0,
          0,
          0,
          0,
          0,
          0,
          0,
          0,
          0,
          0,
          0,
          0,
          0,
          0,
          0,
          0,
          0,
          0,
          0,
          0,
          0,
          0,
          0,
          0,
          0,
          0,
          0,
          0,
          0,
          0,
          0,
          0,
          0,
          0,
          0,
          0,
          0,
          0,
          0,
          0,
          0,
          0,
          0,
          0,
          0,
          0,
          0,
          0,
          0,
          0,
          0,
          0,
          0,
          0,
          0,
          0,
          0,
          0,
          0,
          0,
          0,
          0,
          0,
          0,
          0,
          0,
          0,
          0,
          0,
          0,
          0,
          0,
          0,
          0,
          0,
          0,
          0,
          0,
          0,
          0,
          0,
          0,
          0,
          0,
          0,
          0,
          0,
          0,
          0,
          0,
          0,
          0,
          0,
          0,
          0,
          0,
          0,
          0,
          0,
          0,
          0,
          0,
          0,
          0,
          0,
          0,
          0,
          0,
          0,
          0.0134538964216111,
          0,
          0,
          0,
          0,
          0,
          0,
          0,
          0,
          0,
          0,
          0,
          0,
          0,
          0,
          0,
          0,
          0.0870842526457534,
          0,
          0,
          0,
          0,
          0,
          0,
          0,
          0.0164682718840245,
          0.1341744776287287,
          0,
          0,
          0,
          0,
          0,
          0,
          0,
          0,
          0.0576565369675741,
          0,
          0.0458874555350043,
          0,
          0,
          0.0835066011715856,
          0.0197608893547789,
          0,
          0.0363011336412846,
          0.1046784960633729,
          0,
          0,
          0.0650214797749638,
          0.0410897785715278,
          0,
          0,
          0.0416527847746188,
          0,
          0.0407501228358505,
          0,
          0,
          0,
          0.0554960677117718,
          0,
          0,
          0.014477508838273,
          0,
          0,
          0,
          0.016618845514836,
          0.041172486295383,
          0,
          0,
          0.0668625791223664,
          0,
          0,
          0,
          0,
          0.0092103417038158,
          0,
          0,
          0,
          0,
          0,
          0,
          0,
          0,
          0.0253402117237785,
          0,
          0.0027574710234803,
          0.0031710697395765,
          0,
          0,
          0,
          0.0115450334744377,
          0.0538635452204198,
          0.0206417516338256,
          0,
          0,
          0,
          0,
          0,
          0,
          0.0203059928036597,
          0,
          0,
          0,
          0,
          0.0187441511769968,
          0.0804232336058116,
          0,
          0.0617959155627616,
          0,
          0,
          0.124481437916993,
          0,
          0.0885531900798228,
          0.0817480241920568,
          0,
          0,
          0.0306715688250543,
          0,
          0,
          0.1364829069739985,
          0.0485017103146346,
          0,
          0.0604387921306946,
          0,
          0.1074941182326378,
          0,
          0.0384793816468596,
          0.1567079943348707,
          0.0458053925452796,
          0.1114609455241257,
          0.017183709583491,
          0.0343549179129607,
          0.0861512742151618,
          0,
          0.108104367741655,
          0,
          0.0374975019521297,
          0,
          0,
          0,
          0,
          0,
          0,
          0,
          0,
          0,
          0,
          0,
          0,
          0,
          0,
          0,
          0,
          0,
          0,
          0,
          0,
          0,
          0,
          0,
          0,
          0,
          0,
          0,
          0,
          0,
          0,
          0,
          0,
          0,
          0,
          0,
          0,
          0,
          0,
          0,
          0,
          0,
          0,
          0,
          0,
          0,
          0,
          0,
          0,
          0,
          0,
          0,
          0,
          0.0098025380635106,
          0,
          0,
          0,
          0,
          0,
          0,
          0,
          0,
          0,
          0,
          0,
          0
         ],
         "y0": " ",
         "yaxis": "y"
        }
       ],
       "layout": {
        "boxmode": "group",
        "font": {
         "color": "black",
         "family": "CMU Sans Serif",
         "size": 12
        },
        "height": 350,
        "legend": {
         "tracegroupgap": 0
        },
        "margin": {
         "t": 60
        },
        "paper_bgcolor": "rgba(0,0,0,0)",
        "template": {
         "data": {
          "bar": [
           {
            "error_x": {
             "color": "#2a3f5f"
            },
            "error_y": {
             "color": "#2a3f5f"
            },
            "marker": {
             "line": {
              "color": "#E5ECF6",
              "width": 0.5
             },
             "pattern": {
              "fillmode": "overlay",
              "size": 10,
              "solidity": 0.2
             }
            },
            "type": "bar"
           }
          ],
          "barpolar": [
           {
            "marker": {
             "line": {
              "color": "#E5ECF6",
              "width": 0.5
             },
             "pattern": {
              "fillmode": "overlay",
              "size": 10,
              "solidity": 0.2
             }
            },
            "type": "barpolar"
           }
          ],
          "carpet": [
           {
            "aaxis": {
             "endlinecolor": "#2a3f5f",
             "gridcolor": "white",
             "linecolor": "white",
             "minorgridcolor": "white",
             "startlinecolor": "#2a3f5f"
            },
            "baxis": {
             "endlinecolor": "#2a3f5f",
             "gridcolor": "white",
             "linecolor": "white",
             "minorgridcolor": "white",
             "startlinecolor": "#2a3f5f"
            },
            "type": "carpet"
           }
          ],
          "choropleth": [
           {
            "colorbar": {
             "outlinewidth": 0,
             "ticks": ""
            },
            "type": "choropleth"
           }
          ],
          "contour": [
           {
            "colorbar": {
             "outlinewidth": 0,
             "ticks": ""
            },
            "colorscale": [
             [
              0,
              "#0d0887"
             ],
             [
              0.1111111111111111,
              "#46039f"
             ],
             [
              0.2222222222222222,
              "#7201a8"
             ],
             [
              0.3333333333333333,
              "#9c179e"
             ],
             [
              0.4444444444444444,
              "#bd3786"
             ],
             [
              0.5555555555555556,
              "#d8576b"
             ],
             [
              0.6666666666666666,
              "#ed7953"
             ],
             [
              0.7777777777777778,
              "#fb9f3a"
             ],
             [
              0.8888888888888888,
              "#fdca26"
             ],
             [
              1,
              "#f0f921"
             ]
            ],
            "type": "contour"
           }
          ],
          "contourcarpet": [
           {
            "colorbar": {
             "outlinewidth": 0,
             "ticks": ""
            },
            "type": "contourcarpet"
           }
          ],
          "heatmap": [
           {
            "colorbar": {
             "outlinewidth": 0,
             "ticks": ""
            },
            "colorscale": [
             [
              0,
              "#0d0887"
             ],
             [
              0.1111111111111111,
              "#46039f"
             ],
             [
              0.2222222222222222,
              "#7201a8"
             ],
             [
              0.3333333333333333,
              "#9c179e"
             ],
             [
              0.4444444444444444,
              "#bd3786"
             ],
             [
              0.5555555555555556,
              "#d8576b"
             ],
             [
              0.6666666666666666,
              "#ed7953"
             ],
             [
              0.7777777777777778,
              "#fb9f3a"
             ],
             [
              0.8888888888888888,
              "#fdca26"
             ],
             [
              1,
              "#f0f921"
             ]
            ],
            "type": "heatmap"
           }
          ],
          "heatmapgl": [
           {
            "colorbar": {
             "outlinewidth": 0,
             "ticks": ""
            },
            "colorscale": [
             [
              0,
              "#0d0887"
             ],
             [
              0.1111111111111111,
              "#46039f"
             ],
             [
              0.2222222222222222,
              "#7201a8"
             ],
             [
              0.3333333333333333,
              "#9c179e"
             ],
             [
              0.4444444444444444,
              "#bd3786"
             ],
             [
              0.5555555555555556,
              "#d8576b"
             ],
             [
              0.6666666666666666,
              "#ed7953"
             ],
             [
              0.7777777777777778,
              "#fb9f3a"
             ],
             [
              0.8888888888888888,
              "#fdca26"
             ],
             [
              1,
              "#f0f921"
             ]
            ],
            "type": "heatmapgl"
           }
          ],
          "histogram": [
           {
            "marker": {
             "pattern": {
              "fillmode": "overlay",
              "size": 10,
              "solidity": 0.2
             }
            },
            "type": "histogram"
           }
          ],
          "histogram2d": [
           {
            "colorbar": {
             "outlinewidth": 0,
             "ticks": ""
            },
            "colorscale": [
             [
              0,
              "#0d0887"
             ],
             [
              0.1111111111111111,
              "#46039f"
             ],
             [
              0.2222222222222222,
              "#7201a8"
             ],
             [
              0.3333333333333333,
              "#9c179e"
             ],
             [
              0.4444444444444444,
              "#bd3786"
             ],
             [
              0.5555555555555556,
              "#d8576b"
             ],
             [
              0.6666666666666666,
              "#ed7953"
             ],
             [
              0.7777777777777778,
              "#fb9f3a"
             ],
             [
              0.8888888888888888,
              "#fdca26"
             ],
             [
              1,
              "#f0f921"
             ]
            ],
            "type": "histogram2d"
           }
          ],
          "histogram2dcontour": [
           {
            "colorbar": {
             "outlinewidth": 0,
             "ticks": ""
            },
            "colorscale": [
             [
              0,
              "#0d0887"
             ],
             [
              0.1111111111111111,
              "#46039f"
             ],
             [
              0.2222222222222222,
              "#7201a8"
             ],
             [
              0.3333333333333333,
              "#9c179e"
             ],
             [
              0.4444444444444444,
              "#bd3786"
             ],
             [
              0.5555555555555556,
              "#d8576b"
             ],
             [
              0.6666666666666666,
              "#ed7953"
             ],
             [
              0.7777777777777778,
              "#fb9f3a"
             ],
             [
              0.8888888888888888,
              "#fdca26"
             ],
             [
              1,
              "#f0f921"
             ]
            ],
            "type": "histogram2dcontour"
           }
          ],
          "mesh3d": [
           {
            "colorbar": {
             "outlinewidth": 0,
             "ticks": ""
            },
            "type": "mesh3d"
           }
          ],
          "parcoords": [
           {
            "line": {
             "colorbar": {
              "outlinewidth": 0,
              "ticks": ""
             }
            },
            "type": "parcoords"
           }
          ],
          "pie": [
           {
            "automargin": true,
            "type": "pie"
           }
          ],
          "scatter": [
           {
            "fillpattern": {
             "fillmode": "overlay",
             "size": 10,
             "solidity": 0.2
            },
            "type": "scatter"
           }
          ],
          "scatter3d": [
           {
            "line": {
             "colorbar": {
              "outlinewidth": 0,
              "ticks": ""
             }
            },
            "marker": {
             "colorbar": {
              "outlinewidth": 0,
              "ticks": ""
             }
            },
            "type": "scatter3d"
           }
          ],
          "scattercarpet": [
           {
            "marker": {
             "colorbar": {
              "outlinewidth": 0,
              "ticks": ""
             }
            },
            "type": "scattercarpet"
           }
          ],
          "scattergeo": [
           {
            "marker": {
             "colorbar": {
              "outlinewidth": 0,
              "ticks": ""
             }
            },
            "type": "scattergeo"
           }
          ],
          "scattergl": [
           {
            "marker": {
             "colorbar": {
              "outlinewidth": 0,
              "ticks": ""
             }
            },
            "type": "scattergl"
           }
          ],
          "scattermapbox": [
           {
            "marker": {
             "colorbar": {
              "outlinewidth": 0,
              "ticks": ""
             }
            },
            "type": "scattermapbox"
           }
          ],
          "scatterpolar": [
           {
            "marker": {
             "colorbar": {
              "outlinewidth": 0,
              "ticks": ""
             }
            },
            "type": "scatterpolar"
           }
          ],
          "scatterpolargl": [
           {
            "marker": {
             "colorbar": {
              "outlinewidth": 0,
              "ticks": ""
             }
            },
            "type": "scatterpolargl"
           }
          ],
          "scatterternary": [
           {
            "marker": {
             "colorbar": {
              "outlinewidth": 0,
              "ticks": ""
             }
            },
            "type": "scatterternary"
           }
          ],
          "surface": [
           {
            "colorbar": {
             "outlinewidth": 0,
             "ticks": ""
            },
            "colorscale": [
             [
              0,
              "#0d0887"
             ],
             [
              0.1111111111111111,
              "#46039f"
             ],
             [
              0.2222222222222222,
              "#7201a8"
             ],
             [
              0.3333333333333333,
              "#9c179e"
             ],
             [
              0.4444444444444444,
              "#bd3786"
             ],
             [
              0.5555555555555556,
              "#d8576b"
             ],
             [
              0.6666666666666666,
              "#ed7953"
             ],
             [
              0.7777777777777778,
              "#fb9f3a"
             ],
             [
              0.8888888888888888,
              "#fdca26"
             ],
             [
              1,
              "#f0f921"
             ]
            ],
            "type": "surface"
           }
          ],
          "table": [
           {
            "cells": {
             "fill": {
              "color": "#EBF0F8"
             },
             "line": {
              "color": "white"
             }
            },
            "header": {
             "fill": {
              "color": "#C8D4E3"
             },
             "line": {
              "color": "white"
             }
            },
            "type": "table"
           }
          ]
         },
         "layout": {
          "annotationdefaults": {
           "arrowcolor": "#2a3f5f",
           "arrowhead": 0,
           "arrowwidth": 1
          },
          "autotypenumbers": "strict",
          "coloraxis": {
           "colorbar": {
            "outlinewidth": 0,
            "ticks": ""
           }
          },
          "colorscale": {
           "diverging": [
            [
             0,
             "#8e0152"
            ],
            [
             0.1,
             "#c51b7d"
            ],
            [
             0.2,
             "#de77ae"
            ],
            [
             0.3,
             "#f1b6da"
            ],
            [
             0.4,
             "#fde0ef"
            ],
            [
             0.5,
             "#f7f7f7"
            ],
            [
             0.6,
             "#e6f5d0"
            ],
            [
             0.7,
             "#b8e186"
            ],
            [
             0.8,
             "#7fbc41"
            ],
            [
             0.9,
             "#4d9221"
            ],
            [
             1,
             "#276419"
            ]
           ],
           "sequential": [
            [
             0,
             "#0d0887"
            ],
            [
             0.1111111111111111,
             "#46039f"
            ],
            [
             0.2222222222222222,
             "#7201a8"
            ],
            [
             0.3333333333333333,
             "#9c179e"
            ],
            [
             0.4444444444444444,
             "#bd3786"
            ],
            [
             0.5555555555555556,
             "#d8576b"
            ],
            [
             0.6666666666666666,
             "#ed7953"
            ],
            [
             0.7777777777777778,
             "#fb9f3a"
            ],
            [
             0.8888888888888888,
             "#fdca26"
            ],
            [
             1,
             "#f0f921"
            ]
           ],
           "sequentialminus": [
            [
             0,
             "#0d0887"
            ],
            [
             0.1111111111111111,
             "#46039f"
            ],
            [
             0.2222222222222222,
             "#7201a8"
            ],
            [
             0.3333333333333333,
             "#9c179e"
            ],
            [
             0.4444444444444444,
             "#bd3786"
            ],
            [
             0.5555555555555556,
             "#d8576b"
            ],
            [
             0.6666666666666666,
             "#ed7953"
            ],
            [
             0.7777777777777778,
             "#fb9f3a"
            ],
            [
             0.8888888888888888,
             "#fdca26"
            ],
            [
             1,
             "#f0f921"
            ]
           ]
          },
          "colorway": [
           "#636efa",
           "#EF553B",
           "#00cc96",
           "#ab63fa",
           "#FFA15A",
           "#19d3f3",
           "#FF6692",
           "#B6E880",
           "#FF97FF",
           "#FECB52"
          ],
          "font": {
           "color": "#2a3f5f"
          },
          "geo": {
           "bgcolor": "white",
           "lakecolor": "white",
           "landcolor": "#E5ECF6",
           "showlakes": true,
           "showland": true,
           "subunitcolor": "white"
          },
          "hoverlabel": {
           "align": "left"
          },
          "hovermode": "closest",
          "mapbox": {
           "style": "light"
          },
          "paper_bgcolor": "white",
          "plot_bgcolor": "#E5ECF6",
          "polar": {
           "angularaxis": {
            "gridcolor": "white",
            "linecolor": "white",
            "ticks": ""
           },
           "bgcolor": "#E5ECF6",
           "radialaxis": {
            "gridcolor": "white",
            "linecolor": "white",
            "ticks": ""
           }
          },
          "scene": {
           "xaxis": {
            "backgroundcolor": "#E5ECF6",
            "gridcolor": "white",
            "gridwidth": 2,
            "linecolor": "white",
            "showbackground": true,
            "ticks": "",
            "zerolinecolor": "white"
           },
           "yaxis": {
            "backgroundcolor": "#E5ECF6",
            "gridcolor": "white",
            "gridwidth": 2,
            "linecolor": "white",
            "showbackground": true,
            "ticks": "",
            "zerolinecolor": "white"
           },
           "zaxis": {
            "backgroundcolor": "#E5ECF6",
            "gridcolor": "white",
            "gridwidth": 2,
            "linecolor": "white",
            "showbackground": true,
            "ticks": "",
            "zerolinecolor": "white"
           }
          },
          "shapedefaults": {
           "line": {
            "color": "#2a3f5f"
           }
          },
          "ternary": {
           "aaxis": {
            "gridcolor": "white",
            "linecolor": "white",
            "ticks": ""
           },
           "baxis": {
            "gridcolor": "white",
            "linecolor": "white",
            "ticks": ""
           },
           "bgcolor": "#E5ECF6",
           "caxis": {
            "gridcolor": "white",
            "linecolor": "white",
            "ticks": ""
           }
          },
          "title": {
           "x": 0.05
          },
          "xaxis": {
           "automargin": true,
           "gridcolor": "white",
           "linecolor": "white",
           "ticks": "",
           "title": {
            "standoff": 15
           },
           "zerolinecolor": "white",
           "zerolinewidth": 2
          },
          "yaxis": {
           "automargin": true,
           "gridcolor": "white",
           "linecolor": "white",
           "ticks": "",
           "title": {
            "standoff": 15
           },
           "zerolinecolor": "white",
           "zerolinewidth": 2
          }
         }
        },
        "width": 500,
        "xaxis": {
         "anchor": "y",
         "domain": [
          0,
          1
         ],
         "title": {
          "text": ""
         }
        },
        "yaxis": {
         "anchor": "x",
         "domain": [
          0,
          1
         ],
         "title": {
          "text": "counting impact (more is better)"
         }
        }
       }
      }
     },
     "metadata": {},
     "output_type": "display_data"
    },
    {
     "data": {
      "application/vnd.plotly.v1+json": {
       "config": {
        "plotlyServerURL": "https://plot.ly"
       },
       "data": [
        {
         "alignmentgroup": "True",
         "hovertemplate": "individual=%{x}<br>initial pop fitness (less is better)=%{y}<extra></extra>",
         "legendgroup": "",
         "marker": {
          "color": "#636efa",
          "pattern": {
           "shape": ""
          }
         },
         "name": "",
         "offsetgroup": "",
         "orientation": "v",
         "showlegend": false,
         "textposition": "auto",
         "type": "bar",
         "x": [
          1,
          2,
          3,
          4,
          5,
          6,
          7,
          8,
          9,
          10,
          11,
          12,
          13,
          14,
          15,
          16,
          17,
          18,
          19,
          20
         ],
         "xaxis": "x",
         "y": [
          4.27361745623868,
          3.9811053993515695,
          4.777208910772099,
          0.6126740240019027,
          5.580508241683765,
          2.6674382851423983,
          4.410310217260205,
          7.884405661332371,
          4.850032419542233,
          3.255458616945784,
          5.102298449066719,
          4.999222881236669,
          4.273617456238679,
          5.143141489985245,
          3.903612476272778,
          2.059679886378638,
          2.4354711904617363,
          2.6689821928792123,
          5.7720694640991255,
          4.012115340759871
         ],
         "yaxis": "y"
        }
       ],
       "layout": {
        "barmode": "relative",
        "font": {
         "color": "black",
         "family": "CMU Sans Serif",
         "size": 12
        },
        "height": 350,
        "legend": {
         "tracegroupgap": 0
        },
        "margin": {
         "t": 60
        },
        "paper_bgcolor": "rgba(0,0,0,0)",
        "template": {
         "data": {
          "bar": [
           {
            "error_x": {
             "color": "#2a3f5f"
            },
            "error_y": {
             "color": "#2a3f5f"
            },
            "marker": {
             "line": {
              "color": "#E5ECF6",
              "width": 0.5
             },
             "pattern": {
              "fillmode": "overlay",
              "size": 10,
              "solidity": 0.2
             }
            },
            "type": "bar"
           }
          ],
          "barpolar": [
           {
            "marker": {
             "line": {
              "color": "#E5ECF6",
              "width": 0.5
             },
             "pattern": {
              "fillmode": "overlay",
              "size": 10,
              "solidity": 0.2
             }
            },
            "type": "barpolar"
           }
          ],
          "carpet": [
           {
            "aaxis": {
             "endlinecolor": "#2a3f5f",
             "gridcolor": "white",
             "linecolor": "white",
             "minorgridcolor": "white",
             "startlinecolor": "#2a3f5f"
            },
            "baxis": {
             "endlinecolor": "#2a3f5f",
             "gridcolor": "white",
             "linecolor": "white",
             "minorgridcolor": "white",
             "startlinecolor": "#2a3f5f"
            },
            "type": "carpet"
           }
          ],
          "choropleth": [
           {
            "colorbar": {
             "outlinewidth": 0,
             "ticks": ""
            },
            "type": "choropleth"
           }
          ],
          "contour": [
           {
            "colorbar": {
             "outlinewidth": 0,
             "ticks": ""
            },
            "colorscale": [
             [
              0,
              "#0d0887"
             ],
             [
              0.1111111111111111,
              "#46039f"
             ],
             [
              0.2222222222222222,
              "#7201a8"
             ],
             [
              0.3333333333333333,
              "#9c179e"
             ],
             [
              0.4444444444444444,
              "#bd3786"
             ],
             [
              0.5555555555555556,
              "#d8576b"
             ],
             [
              0.6666666666666666,
              "#ed7953"
             ],
             [
              0.7777777777777778,
              "#fb9f3a"
             ],
             [
              0.8888888888888888,
              "#fdca26"
             ],
             [
              1,
              "#f0f921"
             ]
            ],
            "type": "contour"
           }
          ],
          "contourcarpet": [
           {
            "colorbar": {
             "outlinewidth": 0,
             "ticks": ""
            },
            "type": "contourcarpet"
           }
          ],
          "heatmap": [
           {
            "colorbar": {
             "outlinewidth": 0,
             "ticks": ""
            },
            "colorscale": [
             [
              0,
              "#0d0887"
             ],
             [
              0.1111111111111111,
              "#46039f"
             ],
             [
              0.2222222222222222,
              "#7201a8"
             ],
             [
              0.3333333333333333,
              "#9c179e"
             ],
             [
              0.4444444444444444,
              "#bd3786"
             ],
             [
              0.5555555555555556,
              "#d8576b"
             ],
             [
              0.6666666666666666,
              "#ed7953"
             ],
             [
              0.7777777777777778,
              "#fb9f3a"
             ],
             [
              0.8888888888888888,
              "#fdca26"
             ],
             [
              1,
              "#f0f921"
             ]
            ],
            "type": "heatmap"
           }
          ],
          "heatmapgl": [
           {
            "colorbar": {
             "outlinewidth": 0,
             "ticks": ""
            },
            "colorscale": [
             [
              0,
              "#0d0887"
             ],
             [
              0.1111111111111111,
              "#46039f"
             ],
             [
              0.2222222222222222,
              "#7201a8"
             ],
             [
              0.3333333333333333,
              "#9c179e"
             ],
             [
              0.4444444444444444,
              "#bd3786"
             ],
             [
              0.5555555555555556,
              "#d8576b"
             ],
             [
              0.6666666666666666,
              "#ed7953"
             ],
             [
              0.7777777777777778,
              "#fb9f3a"
             ],
             [
              0.8888888888888888,
              "#fdca26"
             ],
             [
              1,
              "#f0f921"
             ]
            ],
            "type": "heatmapgl"
           }
          ],
          "histogram": [
           {
            "marker": {
             "pattern": {
              "fillmode": "overlay",
              "size": 10,
              "solidity": 0.2
             }
            },
            "type": "histogram"
           }
          ],
          "histogram2d": [
           {
            "colorbar": {
             "outlinewidth": 0,
             "ticks": ""
            },
            "colorscale": [
             [
              0,
              "#0d0887"
             ],
             [
              0.1111111111111111,
              "#46039f"
             ],
             [
              0.2222222222222222,
              "#7201a8"
             ],
             [
              0.3333333333333333,
              "#9c179e"
             ],
             [
              0.4444444444444444,
              "#bd3786"
             ],
             [
              0.5555555555555556,
              "#d8576b"
             ],
             [
              0.6666666666666666,
              "#ed7953"
             ],
             [
              0.7777777777777778,
              "#fb9f3a"
             ],
             [
              0.8888888888888888,
              "#fdca26"
             ],
             [
              1,
              "#f0f921"
             ]
            ],
            "type": "histogram2d"
           }
          ],
          "histogram2dcontour": [
           {
            "colorbar": {
             "outlinewidth": 0,
             "ticks": ""
            },
            "colorscale": [
             [
              0,
              "#0d0887"
             ],
             [
              0.1111111111111111,
              "#46039f"
             ],
             [
              0.2222222222222222,
              "#7201a8"
             ],
             [
              0.3333333333333333,
              "#9c179e"
             ],
             [
              0.4444444444444444,
              "#bd3786"
             ],
             [
              0.5555555555555556,
              "#d8576b"
             ],
             [
              0.6666666666666666,
              "#ed7953"
             ],
             [
              0.7777777777777778,
              "#fb9f3a"
             ],
             [
              0.8888888888888888,
              "#fdca26"
             ],
             [
              1,
              "#f0f921"
             ]
            ],
            "type": "histogram2dcontour"
           }
          ],
          "mesh3d": [
           {
            "colorbar": {
             "outlinewidth": 0,
             "ticks": ""
            },
            "type": "mesh3d"
           }
          ],
          "parcoords": [
           {
            "line": {
             "colorbar": {
              "outlinewidth": 0,
              "ticks": ""
             }
            },
            "type": "parcoords"
           }
          ],
          "pie": [
           {
            "automargin": true,
            "type": "pie"
           }
          ],
          "scatter": [
           {
            "fillpattern": {
             "fillmode": "overlay",
             "size": 10,
             "solidity": 0.2
            },
            "type": "scatter"
           }
          ],
          "scatter3d": [
           {
            "line": {
             "colorbar": {
              "outlinewidth": 0,
              "ticks": ""
             }
            },
            "marker": {
             "colorbar": {
              "outlinewidth": 0,
              "ticks": ""
             }
            },
            "type": "scatter3d"
           }
          ],
          "scattercarpet": [
           {
            "marker": {
             "colorbar": {
              "outlinewidth": 0,
              "ticks": ""
             }
            },
            "type": "scattercarpet"
           }
          ],
          "scattergeo": [
           {
            "marker": {
             "colorbar": {
              "outlinewidth": 0,
              "ticks": ""
             }
            },
            "type": "scattergeo"
           }
          ],
          "scattergl": [
           {
            "marker": {
             "colorbar": {
              "outlinewidth": 0,
              "ticks": ""
             }
            },
            "type": "scattergl"
           }
          ],
          "scattermapbox": [
           {
            "marker": {
             "colorbar": {
              "outlinewidth": 0,
              "ticks": ""
             }
            },
            "type": "scattermapbox"
           }
          ],
          "scatterpolar": [
           {
            "marker": {
             "colorbar": {
              "outlinewidth": 0,
              "ticks": ""
             }
            },
            "type": "scatterpolar"
           }
          ],
          "scatterpolargl": [
           {
            "marker": {
             "colorbar": {
              "outlinewidth": 0,
              "ticks": ""
             }
            },
            "type": "scatterpolargl"
           }
          ],
          "scatterternary": [
           {
            "marker": {
             "colorbar": {
              "outlinewidth": 0,
              "ticks": ""
             }
            },
            "type": "scatterternary"
           }
          ],
          "surface": [
           {
            "colorbar": {
             "outlinewidth": 0,
             "ticks": ""
            },
            "colorscale": [
             [
              0,
              "#0d0887"
             ],
             [
              0.1111111111111111,
              "#46039f"
             ],
             [
              0.2222222222222222,
              "#7201a8"
             ],
             [
              0.3333333333333333,
              "#9c179e"
             ],
             [
              0.4444444444444444,
              "#bd3786"
             ],
             [
              0.5555555555555556,
              "#d8576b"
             ],
             [
              0.6666666666666666,
              "#ed7953"
             ],
             [
              0.7777777777777778,
              "#fb9f3a"
             ],
             [
              0.8888888888888888,
              "#fdca26"
             ],
             [
              1,
              "#f0f921"
             ]
            ],
            "type": "surface"
           }
          ],
          "table": [
           {
            "cells": {
             "fill": {
              "color": "#EBF0F8"
             },
             "line": {
              "color": "white"
             }
            },
            "header": {
             "fill": {
              "color": "#C8D4E3"
             },
             "line": {
              "color": "white"
             }
            },
            "type": "table"
           }
          ]
         },
         "layout": {
          "annotationdefaults": {
           "arrowcolor": "#2a3f5f",
           "arrowhead": 0,
           "arrowwidth": 1
          },
          "autotypenumbers": "strict",
          "coloraxis": {
           "colorbar": {
            "outlinewidth": 0,
            "ticks": ""
           }
          },
          "colorscale": {
           "diverging": [
            [
             0,
             "#8e0152"
            ],
            [
             0.1,
             "#c51b7d"
            ],
            [
             0.2,
             "#de77ae"
            ],
            [
             0.3,
             "#f1b6da"
            ],
            [
             0.4,
             "#fde0ef"
            ],
            [
             0.5,
             "#f7f7f7"
            ],
            [
             0.6,
             "#e6f5d0"
            ],
            [
             0.7,
             "#b8e186"
            ],
            [
             0.8,
             "#7fbc41"
            ],
            [
             0.9,
             "#4d9221"
            ],
            [
             1,
             "#276419"
            ]
           ],
           "sequential": [
            [
             0,
             "#0d0887"
            ],
            [
             0.1111111111111111,
             "#46039f"
            ],
            [
             0.2222222222222222,
             "#7201a8"
            ],
            [
             0.3333333333333333,
             "#9c179e"
            ],
            [
             0.4444444444444444,
             "#bd3786"
            ],
            [
             0.5555555555555556,
             "#d8576b"
            ],
            [
             0.6666666666666666,
             "#ed7953"
            ],
            [
             0.7777777777777778,
             "#fb9f3a"
            ],
            [
             0.8888888888888888,
             "#fdca26"
            ],
            [
             1,
             "#f0f921"
            ]
           ],
           "sequentialminus": [
            [
             0,
             "#0d0887"
            ],
            [
             0.1111111111111111,
             "#46039f"
            ],
            [
             0.2222222222222222,
             "#7201a8"
            ],
            [
             0.3333333333333333,
             "#9c179e"
            ],
            [
             0.4444444444444444,
             "#bd3786"
            ],
            [
             0.5555555555555556,
             "#d8576b"
            ],
            [
             0.6666666666666666,
             "#ed7953"
            ],
            [
             0.7777777777777778,
             "#fb9f3a"
            ],
            [
             0.8888888888888888,
             "#fdca26"
            ],
            [
             1,
             "#f0f921"
            ]
           ]
          },
          "colorway": [
           "#636efa",
           "#EF553B",
           "#00cc96",
           "#ab63fa",
           "#FFA15A",
           "#19d3f3",
           "#FF6692",
           "#B6E880",
           "#FF97FF",
           "#FECB52"
          ],
          "font": {
           "color": "#2a3f5f"
          },
          "geo": {
           "bgcolor": "white",
           "lakecolor": "white",
           "landcolor": "#E5ECF6",
           "showlakes": true,
           "showland": true,
           "subunitcolor": "white"
          },
          "hoverlabel": {
           "align": "left"
          },
          "hovermode": "closest",
          "mapbox": {
           "style": "light"
          },
          "paper_bgcolor": "white",
          "plot_bgcolor": "#E5ECF6",
          "polar": {
           "angularaxis": {
            "gridcolor": "white",
            "linecolor": "white",
            "ticks": ""
           },
           "bgcolor": "#E5ECF6",
           "radialaxis": {
            "gridcolor": "white",
            "linecolor": "white",
            "ticks": ""
           }
          },
          "scene": {
           "xaxis": {
            "backgroundcolor": "#E5ECF6",
            "gridcolor": "white",
            "gridwidth": 2,
            "linecolor": "white",
            "showbackground": true,
            "ticks": "",
            "zerolinecolor": "white"
           },
           "yaxis": {
            "backgroundcolor": "#E5ECF6",
            "gridcolor": "white",
            "gridwidth": 2,
            "linecolor": "white",
            "showbackground": true,
            "ticks": "",
            "zerolinecolor": "white"
           },
           "zaxis": {
            "backgroundcolor": "#E5ECF6",
            "gridcolor": "white",
            "gridwidth": 2,
            "linecolor": "white",
            "showbackground": true,
            "ticks": "",
            "zerolinecolor": "white"
           }
          },
          "shapedefaults": {
           "line": {
            "color": "#2a3f5f"
           }
          },
          "ternary": {
           "aaxis": {
            "gridcolor": "white",
            "linecolor": "white",
            "ticks": ""
           },
           "baxis": {
            "gridcolor": "white",
            "linecolor": "white",
            "ticks": ""
           },
           "bgcolor": "#E5ECF6",
           "caxis": {
            "gridcolor": "white",
            "linecolor": "white",
            "ticks": ""
           }
          },
          "title": {
           "x": 0.05
          },
          "xaxis": {
           "automargin": true,
           "gridcolor": "white",
           "linecolor": "white",
           "ticks": "",
           "title": {
            "standoff": 15
           },
           "zerolinecolor": "white",
           "zerolinewidth": 2
          },
          "yaxis": {
           "automargin": true,
           "gridcolor": "white",
           "linecolor": "white",
           "ticks": "",
           "title": {
            "standoff": 15
           },
           "zerolinecolor": "white",
           "zerolinewidth": 2
          }
         }
        },
        "width": 500,
        "xaxis": {
         "anchor": "y",
         "domain": [
          0,
          1
         ],
         "dtick": 1,
         "tick0": 2,
         "tickmode": "linear",
         "title": {
          "text": "individual"
         }
        },
        "yaxis": {
         "anchor": "x",
         "domain": [
          0,
          1
         ],
         "title": {
          "text": "initial pop fitness (less is better)"
         }
        }
       }
      }
     },
     "metadata": {},
     "output_type": "display_data"
    }
   ],
   "source": [
    "import pandas as pd\n",
    "import plotly.express as px\n",
    "\n",
    "gen = 50; dim = 4; crossover=\"UX\"; seed_quality=\"median\"; percentage_of_optimal_genes=0.75\n",
    "\n",
    "# =============================================================================\n",
    "# impact\n",
    "# =============================================================================\n",
    "\n",
    "ci_df = pd.read_csv(\"../data/sphere_function_data_out/counting_impact.csv\")\n",
    "only_last_gen_ci = ci_df[ci_df.generation == gen]\n",
    "only_last_gen_ci = only_last_gen_ci[only_last_gen_ci.dim == dim]\n",
    "only_last_gen_ci = only_last_gen_ci[only_last_gen_ci.crossover == crossover]\n",
    "only_last_gen_ci = only_last_gen_ci[only_last_gen_ci.seed_quality == seed_quality]\n",
    "only_last_gen_ci = only_last_gen_ci[only_last_gen_ci.percentage_of_optimal_genes == percentage_of_optimal_genes]\n",
    "#only_last_gen_ci = only_last_gen_ci.rename(columns={\"traceID_1\": \"seed_ind\"})\n",
    "\n",
    "\n",
    "fig = px.box(\n",
    "    only_last_gen_ci.drop(columns=['generation', 'run_number', 'seed_quality', 'seed_fitness', 'crossover', 'dim', 'percentage_of_optimal_genes', 'traceID_m']),\n",
    "    width=500, height=350,\n",
    "    labels={\n",
    "        \"value\": \"counting impact (more is better)\",\n",
    "        \"variable\": \"\",\n",
    "        \"percentage_of_optimal_genes\": \"% optimal genes\",\n",
    "    },\n",
    "    )\n",
    "fig.update_layout(\n",
    "    font_family=\"CMU Sans Serif\",\n",
    "    font_color=\"black\",\n",
    "    font_size=12,\n",
    "    paper_bgcolor='rgba(0,0,0,0)',\n",
    ")\n",
    "\n",
    "fig.write_image(\"../figures/presentation/single_run_case_study_impact.svg\")\n",
    "fig.show()\n",
    "\n",
    "# =============================================================================\n",
    "# performance\n",
    "# =============================================================================\n",
    "gen = 1\n",
    "\n",
    "fitness_df = pd.read_csv(\"../data/sphere_function_data_out/fitness.csv\")\n",
    "fitness_df = fitness_df[fitness_df.generation == gen]\n",
    "fitness_df = fitness_df[fitness_df.dim == dim]\n",
    "fitness_df = fitness_df[fitness_df.crossover == crossover]\n",
    "fitness_df = fitness_df[fitness_df.seed_quality == seed_quality]\n",
    "fitness_df = fitness_df[fitness_df.percentage_of_optimal_genes == percentage_of_optimal_genes]\n",
    "fitness_df = fitness_df[fitness_df.run_number == 0].drop(columns = [\"generation\", \"dim\", \"crossover\", \"seed_quality\", \"seed_fitness\", \"run_number\", \"percentage_of_optimal_genes\", \"individual\"])\n",
    "fitness_df = fitness_df.reset_index(drop=True)\n",
    "fitness_df.index = fitness_df.index + 1\n",
    "\n",
    "\n",
    "fig = px.bar(\n",
    "    fitness_df,\n",
    "    x=fitness_df.index,\n",
    "    y=fitness_df.f,\n",
    "    width=500, height=350,\n",
    "    labels={\n",
    "        \"f\": \"initial pop fitness (less is better)\",\n",
    "        \"index\": \"individual\",\n",
    "    },\n",
    "    )\n",
    "\n",
    "fig.update_layout(\n",
    "    xaxis = dict(\n",
    "        tickmode = 'linear',\n",
    "        tick0 = 2,\n",
    "        dtick = 1\n",
    "    ),\n",
    "    font_family=\"CMU Sans Serif\",\n",
    "    font_color=\"black\",\n",
    "    font_size=12,\n",
    "    paper_bgcolor='rgba(0,0,0,0)',\n",
    ")\n",
    "# fig.add_hline(y=fitness_df.f[1])\n",
    "\n",
    "fig.write_image(\"../figures/presentation/single_run_case_study_performance.svg\")\n",
    "fig.show()"
   ]
  },
  {
   "cell_type": "markdown",
   "metadata": {},
   "source": [
    "# Sphere Function Visualization"
   ]
  },
  {
   "cell_type": "code",
   "execution_count": 55,
   "metadata": {},
   "outputs": [
    {
     "data": {
      "application/vnd.plotly.v1+json": {
       "config": {
        "plotlyServerURL": "https://plot.ly"
       },
       "data": [
        {
         "hovertemplate": "x=%{x}<br>f(x), dim = 1=%{y}<extra></extra>",
         "legendgroup": "",
         "line": {
          "color": "#636efa",
          "dash": "solid"
         },
         "marker": {
          "symbol": "circle"
         },
         "mode": "lines",
         "name": "",
         "orientation": "v",
         "showlegend": false,
         "type": "scatter",
         "x": [
          -5,
          -4.98998998998999,
          -4.97997997997998,
          -4.96996996996997,
          -4.95995995995996,
          -4.94994994994995,
          -4.93993993993994,
          -4.92992992992993,
          -4.91991991991992,
          -4.90990990990991,
          -4.8998998998999,
          -4.88988988988989,
          -4.87987987987988,
          -4.86986986986987,
          -4.85985985985986,
          -4.84984984984985,
          -4.83983983983984,
          -4.82982982982983,
          -4.81981981981982,
          -4.80980980980981,
          -4.7997997997998,
          -4.78978978978979,
          -4.77977977977978,
          -4.76976976976977,
          -4.75975975975976,
          -4.74974974974975,
          -4.73973973973974,
          -4.72972972972973,
          -4.71971971971972,
          -4.70970970970971,
          -4.6996996996997,
          -4.68968968968969,
          -4.67967967967968,
          -4.66966966966967,
          -4.65965965965966,
          -4.64964964964965,
          -4.63963963963964,
          -4.62962962962963,
          -4.61961961961962,
          -4.60960960960961,
          -4.5995995995996,
          -4.58958958958959,
          -4.57957957957958,
          -4.56956956956957,
          -4.55955955955956,
          -4.54954954954955,
          -4.53953953953954,
          -4.52952952952953,
          -4.51951951951952,
          -4.50950950950951,
          -4.4994994994995,
          -4.48948948948949,
          -4.47947947947948,
          -4.46946946946947,
          -4.45945945945946,
          -4.44944944944945,
          -4.43943943943944,
          -4.42942942942943,
          -4.41941941941942,
          -4.40940940940941,
          -4.3993993993994,
          -4.38938938938939,
          -4.37937937937938,
          -4.36936936936937,
          -4.35935935935936,
          -4.34934934934935,
          -4.33933933933934,
          -4.32932932932933,
          -4.31931931931932,
          -4.3093093093093096,
          -4.2992992992992995,
          -4.2892892892892895,
          -4.2792792792792795,
          -4.2692692692692695,
          -4.2592592592592595,
          -4.2492492492492495,
          -4.2392392392392395,
          -4.2292292292292295,
          -4.2192192192192195,
          -4.2092092092092095,
          -4.1991991991991995,
          -4.1891891891891895,
          -4.1791791791791795,
          -4.1691691691691695,
          -4.1591591591591595,
          -4.1491491491491495,
          -4.1391391391391394,
          -4.129129129129129,
          -4.119119119119119,
          -4.109109109109109,
          -4.099099099099099,
          -4.089089089089089,
          -4.079079079079079,
          -4.069069069069069,
          -4.059059059059059,
          -4.049049049049049,
          -4.039039039039039,
          -4.029029029029029,
          -4.019019019019019,
          -4.009009009009009,
          -3.998998998998999,
          -3.988988988988989,
          -3.978978978978979,
          -3.968968968968969,
          -3.958958958958959,
          -3.948948948948949,
          -3.938938938938939,
          -3.928928928928929,
          -3.918918918918919,
          -3.908908908908909,
          -3.898898898898899,
          -3.888888888888889,
          -3.878878878878879,
          -3.868868868868869,
          -3.858858858858859,
          -3.848848848848849,
          -3.838838838838839,
          -3.828828828828829,
          -3.818818818818819,
          -3.808808808808809,
          -3.798798798798799,
          -3.7887887887887888,
          -3.7787787787787788,
          -3.7687687687687688,
          -3.7587587587587588,
          -3.7487487487487487,
          -3.7387387387387387,
          -3.7287287287287287,
          -3.7187187187187187,
          -3.7087087087087087,
          -3.6986986986986987,
          -3.6886886886886887,
          -3.6786786786786787,
          -3.6686686686686687,
          -3.6586586586586587,
          -3.6486486486486487,
          -3.6386386386386387,
          -3.6286286286286287,
          -3.6186186186186187,
          -3.6086086086086087,
          -3.5985985985985987,
          -3.5885885885885886,
          -3.5785785785785786,
          -3.5685685685685686,
          -3.5585585585585586,
          -3.5485485485485486,
          -3.5385385385385386,
          -3.5285285285285286,
          -3.5185185185185186,
          -3.5085085085085086,
          -3.4984984984984986,
          -3.4884884884884886,
          -3.4784784784784786,
          -3.4684684684684686,
          -3.4584584584584586,
          -3.4484484484484486,
          -3.4384384384384385,
          -3.4284284284284285,
          -3.4184184184184185,
          -3.4084084084084085,
          -3.3983983983983985,
          -3.388388388388388,
          -3.378378378378378,
          -3.368368368368368,
          -3.358358358358358,
          -3.348348348348348,
          -3.338338338338338,
          -3.328328328328328,
          -3.318318318318318,
          -3.308308308308308,
          -3.298298298298298,
          -3.288288288288288,
          -3.278278278278278,
          -3.268268268268268,
          -3.258258258258258,
          -3.248248248248248,
          -3.238238238238238,
          -3.228228228228228,
          -3.218218218218218,
          -3.208208208208208,
          -3.198198198198198,
          -3.188188188188188,
          -3.178178178178178,
          -3.168168168168168,
          -3.158158158158158,
          -3.148148148148148,
          -3.138138138138138,
          -3.128128128128128,
          -3.118118118118118,
          -3.108108108108108,
          -3.098098098098098,
          -3.088088088088088,
          -3.078078078078078,
          -3.068068068068068,
          -3.058058058058058,
          -3.048048048048048,
          -3.038038038038038,
          -3.028028028028028,
          -3.018018018018018,
          -3.008008008008008,
          -2.997997997997998,
          -2.987987987987988,
          -2.977977977977978,
          -2.967967967967968,
          -2.957957957957958,
          -2.947947947947948,
          -2.937937937937938,
          -2.9279279279279278,
          -2.9179179179179178,
          -2.9079079079079078,
          -2.8978978978978978,
          -2.8878878878878878,
          -2.8778778778778777,
          -2.8678678678678677,
          -2.8578578578578577,
          -2.8478478478478477,
          -2.8378378378378377,
          -2.8278278278278277,
          -2.8178178178178177,
          -2.8078078078078077,
          -2.7977977977977977,
          -2.7877877877877877,
          -2.7777777777777777,
          -2.7677677677677677,
          -2.7577577577577577,
          -2.7477477477477477,
          -2.7377377377377377,
          -2.7277277277277276,
          -2.7177177177177176,
          -2.7077077077077076,
          -2.6976976976976976,
          -2.6876876876876876,
          -2.6776776776776776,
          -2.6676676676676676,
          -2.6576576576576576,
          -2.6476476476476476,
          -2.6376376376376376,
          -2.6276276276276276,
          -2.6176176176176176,
          -2.6076076076076076,
          -2.5975975975975976,
          -2.5875875875875876,
          -2.5775775775775776,
          -2.5675675675675675,
          -2.5575575575575575,
          -2.5475475475475475,
          -2.5375375375375375,
          -2.5275275275275275,
          -2.5175175175175175,
          -2.5075075075075075,
          -2.4974974974974975,
          -2.4874874874874875,
          -2.4774774774774775,
          -2.4674674674674675,
          -2.4574574574574575,
          -2.4474474474474475,
          -2.4374374374374375,
          -2.4274274274274275,
          -2.4174174174174174,
          -2.4074074074074074,
          -2.3973973973973974,
          -2.3873873873873874,
          -2.3773773773773774,
          -2.3673673673673674,
          -2.3573573573573574,
          -2.3473473473473474,
          -2.3373373373373374,
          -2.3273273273273274,
          -2.3173173173173174,
          -2.3073073073073074,
          -2.2972972972972974,
          -2.2872872872872874,
          -2.2772772772772774,
          -2.2672672672672673,
          -2.2572572572572573,
          -2.2472472472472473,
          -2.2372372372372373,
          -2.2272272272272273,
          -2.2172172172172173,
          -2.2072072072072073,
          -2.1971971971971973,
          -2.1871871871871873,
          -2.1771771771771773,
          -2.1671671671671673,
          -2.1571571571571573,
          -2.1471471471471473,
          -2.1371371371371373,
          -2.1271271271271273,
          -2.1171171171171173,
          -2.1071071071071072,
          -2.0970970970970972,
          -2.0870870870870872,
          -2.0770770770770772,
          -2.067067067067067,
          -2.057057057057057,
          -2.047047047047047,
          -2.037037037037037,
          -2.027027027027027,
          -2.017017017017017,
          -2.007007007007007,
          -1.9969969969969972,
          -1.9869869869869872,
          -1.9769769769769772,
          -1.9669669669669672,
          -1.9569569569569571,
          -1.9469469469469471,
          -1.9369369369369371,
          -1.9269269269269271,
          -1.9169169169169171,
          -1.9069069069069071,
          -1.8968968968968971,
          -1.886886886886887,
          -1.876876876876877,
          -1.866866866866867,
          -1.856856856856857,
          -1.846846846846847,
          -1.836836836836837,
          -1.826826826826827,
          -1.816816816816817,
          -1.806806806806807,
          -1.796796796796797,
          -1.7867867867867866,
          -1.7767767767767766,
          -1.7667667667667666,
          -1.7567567567567566,
          -1.7467467467467466,
          -1.7367367367367366,
          -1.7267267267267266,
          -1.7167167167167166,
          -1.7067067067067065,
          -1.6966966966966965,
          -1.6866866866866865,
          -1.6766766766766765,
          -1.6666666666666665,
          -1.6566566566566565,
          -1.6466466466466465,
          -1.6366366366366365,
          -1.6266266266266265,
          -1.6166166166166165,
          -1.6066066066066065,
          -1.5965965965965965,
          -1.5865865865865865,
          -1.5765765765765765,
          -1.5665665665665665,
          -1.5565565565565564,
          -1.5465465465465464,
          -1.5365365365365364,
          -1.5265265265265264,
          -1.5165165165165164,
          -1.5065065065065064,
          -1.4964964964964964,
          -1.4864864864864864,
          -1.4764764764764764,
          -1.4664664664664664,
          -1.4564564564564564,
          -1.4464464464464464,
          -1.4364364364364364,
          -1.4264264264264264,
          -1.4164164164164164,
          -1.4064064064064064,
          -1.3963963963963963,
          -1.3863863863863863,
          -1.3763763763763763,
          -1.3663663663663663,
          -1.3563563563563563,
          -1.3463463463463463,
          -1.3363363363363363,
          -1.3263263263263263,
          -1.3163163163163163,
          -1.3063063063063063,
          -1.2962962962962963,
          -1.2862862862862863,
          -1.2762762762762763,
          -1.2662662662662663,
          -1.2562562562562563,
          -1.2462462462462462,
          -1.2362362362362362,
          -1.2262262262262262,
          -1.2162162162162162,
          -1.2062062062062062,
          -1.1961961961961962,
          -1.1861861861861862,
          -1.1761761761761762,
          -1.1661661661661662,
          -1.1561561561561562,
          -1.1461461461461462,
          -1.1361361361361362,
          -1.1261261261261262,
          -1.1161161161161162,
          -1.1061061061061062,
          -1.0960960960960962,
          -1.0860860860860861,
          -1.0760760760760761,
          -1.0660660660660661,
          -1.0560560560560561,
          -1.0460460460460461,
          -1.0360360360360361,
          -1.026026026026026,
          -1.016016016016016,
          -1.006006006006006,
          -0.9959959959959956,
          -0.9859859859859856,
          -0.9759759759759756,
          -0.9659659659659656,
          -0.9559559559559556,
          -0.9459459459459456,
          -0.9359359359359356,
          -0.9259259259259256,
          -0.9159159159159156,
          -0.9059059059059056,
          -0.8958958958958956,
          -0.8858858858858856,
          -0.8758758758758756,
          -0.8658658658658656,
          -0.8558558558558556,
          -0.8458458458458455,
          -0.8358358358358355,
          -0.8258258258258255,
          -0.8158158158158155,
          -0.8058058058058055,
          -0.7957957957957955,
          -0.7857857857857855,
          -0.7757757757757755,
          -0.7657657657657655,
          -0.7557557557557555,
          -0.7457457457457455,
          -0.7357357357357355,
          -0.7257257257257255,
          -0.7157157157157155,
          -0.7057057057057055,
          -0.6956956956956954,
          -0.6856856856856854,
          -0.6756756756756754,
          -0.6656656656656654,
          -0.6556556556556554,
          -0.6456456456456454,
          -0.6356356356356354,
          -0.6256256256256254,
          -0.6156156156156154,
          -0.6056056056056054,
          -0.5955955955955954,
          -0.5855855855855854,
          -0.5755755755755754,
          -0.5655655655655654,
          -0.5555555555555554,
          -0.5455455455455454,
          -0.5355355355355353,
          -0.5255255255255253,
          -0.5155155155155153,
          -0.5055055055055053,
          -0.4954954954954953,
          -0.4854854854854853,
          -0.4754754754754753,
          -0.4654654654654653,
          -0.4554554554554553,
          -0.4454454454454453,
          -0.4354354354354353,
          -0.4254254254254253,
          -0.41541541541541527,
          -0.40540540540540526,
          -0.39539539539539525,
          -0.38538538538538525,
          -0.37537537537537524,
          -0.36536536536536524,
          -0.35535535535535523,
          -0.3453453453453452,
          -0.3353353353353352,
          -0.3253253253253252,
          -0.3153153153153152,
          -0.3053053053053052,
          -0.2952952952952952,
          -0.2852852852852852,
          -0.2752752752752752,
          -0.26526526526526517,
          -0.25525525525525516,
          -0.24524524524524516,
          -0.23523523523523515,
          -0.22522522522522515,
          -0.21521521521521514,
          -0.20520520520520513,
          -0.19519519519519513,
          -0.18518518518518512,
          -0.1751751751751751,
          -0.1651651651651651,
          -0.1551551551551551,
          -0.1451451451451451,
          -0.1351351351351351,
          -0.12512512512512508,
          -0.11511511511511507,
          -0.10510510510510507,
          -0.09509509509509506,
          -0.08508508508508505,
          -0.07507507507507505,
          -0.06506506506506504,
          -0.055055055055055035,
          -0.04504504504504503,
          -0.03503503503503502,
          -0.025025025025025016,
          -0.01501501501501501,
          -0.005005005005005003,
          0.005005005005005003,
          0.01501501501501501,
          0.025025025025025016,
          0.03503503503503502,
          0.04504504504504503,
          0.055055055055055035,
          0.06506506506506504,
          0.07507507507507505,
          0.08508508508508505,
          0.09509509509509506,
          0.10510510510510507,
          0.11511511511511507,
          0.12512512512512508,
          0.1351351351351351,
          0.1451451451451451,
          0.1551551551551551,
          0.1651651651651651,
          0.1751751751751751,
          0.18518518518518512,
          0.19519519519519513,
          0.20520520520520513,
          0.21521521521521514,
          0.22522522522522515,
          0.23523523523523515,
          0.24524524524524516,
          0.25525525525525516,
          0.26526526526526517,
          0.2752752752752752,
          0.2852852852852852,
          0.2952952952952952,
          0.3053053053053052,
          0.3153153153153152,
          0.3253253253253252,
          0.3353353353353352,
          0.3453453453453452,
          0.35535535535535523,
          0.36536536536536524,
          0.37537537537537524,
          0.38538538538538525,
          0.39539539539539525,
          0.40540540540540526,
          0.41541541541541527,
          0.4254254254254253,
          0.4354354354354353,
          0.4454454454454453,
          0.4554554554554553,
          0.4654654654654653,
          0.4754754754754753,
          0.4854854854854853,
          0.4954954954954953,
          0.5055055055055053,
          0.5155155155155153,
          0.5255255255255253,
          0.5355355355355353,
          0.5455455455455454,
          0.5555555555555554,
          0.5655655655655654,
          0.5755755755755754,
          0.5855855855855854,
          0.5955955955955954,
          0.6056056056056054,
          0.6156156156156154,
          0.6256256256256254,
          0.6356356356356354,
          0.6456456456456454,
          0.6556556556556554,
          0.6656656656656654,
          0.6756756756756754,
          0.6856856856856854,
          0.6956956956956954,
          0.7057057057057055,
          0.7157157157157155,
          0.7257257257257255,
          0.7357357357357355,
          0.7457457457457455,
          0.7557557557557555,
          0.7657657657657655,
          0.7757757757757755,
          0.7857857857857855,
          0.7957957957957955,
          0.8058058058058055,
          0.8158158158158155,
          0.8258258258258255,
          0.8358358358358355,
          0.8458458458458455,
          0.8558558558558556,
          0.8658658658658656,
          0.8758758758758756,
          0.8858858858858856,
          0.8958958958958956,
          0.9059059059059056,
          0.9159159159159156,
          0.9259259259259256,
          0.9359359359359356,
          0.9459459459459456,
          0.9559559559559556,
          0.9659659659659656,
          0.9759759759759756,
          0.9859859859859856,
          0.9959959959959956,
          1.0060060060060056,
          1.0160160160160157,
          1.0260260260260257,
          1.0360360360360357,
          1.0460460460460457,
          1.0560560560560557,
          1.0660660660660657,
          1.0760760760760757,
          1.0860860860860857,
          1.0960960960960957,
          1.1061061061061057,
          1.1161161161161157,
          1.1261261261261257,
          1.1361361361361357,
          1.1461461461461457,
          1.1561561561561557,
          1.1661661661661658,
          1.1761761761761758,
          1.1861861861861858,
          1.1961961961961958,
          1.2062062062062058,
          1.2162162162162158,
          1.2262262262262258,
          1.2362362362362358,
          1.2462462462462458,
          1.2562562562562558,
          1.2662662662662658,
          1.2762762762762758,
          1.2862862862862858,
          1.2962962962962958,
          1.3063063063063058,
          1.3163163163163158,
          1.3263263263263259,
          1.3363363363363359,
          1.3463463463463459,
          1.3563563563563559,
          1.3663663663663659,
          1.3763763763763759,
          1.386386386386386,
          1.396396396396396,
          1.406406406406406,
          1.4164164164164168,
          1.4264264264264268,
          1.4364364364364368,
          1.4464464464464468,
          1.4564564564564568,
          1.4664664664664668,
          1.4764764764764768,
          1.4864864864864868,
          1.4964964964964969,
          1.5065065065065069,
          1.5165165165165169,
          1.5265265265265269,
          1.5365365365365369,
          1.5465465465465469,
          1.556556556556557,
          1.566566566566567,
          1.576576576576577,
          1.586586586586587,
          1.596596596596597,
          1.606606606606607,
          1.616616616616617,
          1.626626626626627,
          1.636636636636637,
          1.646646646646647,
          1.656656656656657,
          1.666666666666667,
          1.676676676676677,
          1.686686686686687,
          1.696696696696697,
          1.706706706706707,
          1.716716716716717,
          1.726726726726727,
          1.736736736736737,
          1.746746746746747,
          1.756756756756757,
          1.766766766766767,
          1.776776776776777,
          1.786786786786787,
          1.796796796796797,
          1.806806806806807,
          1.816816816816817,
          1.826826826826827,
          1.836836836836837,
          1.846846846846847,
          1.856856856856857,
          1.866866866866867,
          1.876876876876877,
          1.886886886886887,
          1.8968968968968971,
          1.9069069069069071,
          1.9169169169169171,
          1.9269269269269271,
          1.9369369369369371,
          1.9469469469469471,
          1.9569569569569571,
          1.9669669669669672,
          1.9769769769769772,
          1.9869869869869872,
          1.9969969969969972,
          2.007007007007007,
          2.017017017017017,
          2.027027027027027,
          2.037037037037037,
          2.047047047047047,
          2.057057057057057,
          2.067067067067067,
          2.0770770770770772,
          2.0870870870870872,
          2.0970970970970972,
          2.1071071071071072,
          2.1171171171171173,
          2.1271271271271273,
          2.1371371371371373,
          2.1471471471471473,
          2.1571571571571573,
          2.1671671671671673,
          2.1771771771771773,
          2.1871871871871873,
          2.1971971971971973,
          2.2072072072072073,
          2.2172172172172173,
          2.2272272272272273,
          2.2372372372372373,
          2.2472472472472473,
          2.2572572572572573,
          2.2672672672672673,
          2.2772772772772774,
          2.2872872872872874,
          2.2972972972972974,
          2.3073073073073074,
          2.3173173173173174,
          2.3273273273273274,
          2.3373373373373374,
          2.3473473473473474,
          2.3573573573573574,
          2.3673673673673674,
          2.3773773773773774,
          2.3873873873873874,
          2.3973973973973974,
          2.4074074074074074,
          2.4174174174174174,
          2.4274274274274275,
          2.4374374374374375,
          2.4474474474474475,
          2.4574574574574575,
          2.4674674674674675,
          2.4774774774774775,
          2.4874874874874875,
          2.4974974974974975,
          2.5075075075075075,
          2.5175175175175175,
          2.5275275275275275,
          2.5375375375375375,
          2.5475475475475475,
          2.5575575575575575,
          2.5675675675675675,
          2.5775775775775776,
          2.5875875875875876,
          2.5975975975975976,
          2.6076076076076076,
          2.6176176176176176,
          2.6276276276276276,
          2.6376376376376376,
          2.6476476476476476,
          2.6576576576576576,
          2.6676676676676676,
          2.6776776776776776,
          2.6876876876876876,
          2.6976976976976976,
          2.7077077077077076,
          2.7177177177177176,
          2.7277277277277276,
          2.7377377377377377,
          2.7477477477477477,
          2.7577577577577577,
          2.7677677677677677,
          2.7777777777777777,
          2.7877877877877877,
          2.7977977977977977,
          2.8078078078078077,
          2.8178178178178177,
          2.8278278278278277,
          2.8378378378378377,
          2.8478478478478477,
          2.8578578578578577,
          2.8678678678678677,
          2.8778778778778777,
          2.8878878878878878,
          2.8978978978978978,
          2.9079079079079078,
          2.9179179179179178,
          2.9279279279279278,
          2.937937937937938,
          2.947947947947948,
          2.957957957957958,
          2.967967967967968,
          2.977977977977978,
          2.987987987987988,
          2.997997997997998,
          3.0080080080080087,
          3.0180180180180187,
          3.0280280280280287,
          3.0380380380380387,
          3.0480480480480487,
          3.0580580580580587,
          3.0680680680680688,
          3.0780780780780788,
          3.0880880880880888,
          3.0980980980980988,
          3.108108108108109,
          3.118118118118119,
          3.128128128128129,
          3.138138138138139,
          3.148148148148149,
          3.158158158158159,
          3.168168168168169,
          3.178178178178179,
          3.188188188188189,
          3.198198198198199,
          3.208208208208209,
          3.218218218218219,
          3.228228228228229,
          3.238238238238239,
          3.248248248248249,
          3.258258258258259,
          3.268268268268269,
          3.278278278278279,
          3.288288288288289,
          3.298298298298299,
          3.308308308308309,
          3.318318318318319,
          3.328328328328329,
          3.338338338338339,
          3.348348348348349,
          3.358358358358359,
          3.368368368368369,
          3.378378378378379,
          3.388388388388389,
          3.398398398398399,
          3.408408408408409,
          3.418418418418419,
          3.428428428428429,
          3.438438438438439,
          3.448448448448449,
          3.458458458458459,
          3.468468468468469,
          3.478478478478479,
          3.488488488488489,
          3.498498498498499,
          3.508508508508509,
          3.518518518518519,
          3.528528528528529,
          3.538538538538539,
          3.548548548548549,
          3.558558558558559,
          3.568568568568569,
          3.578578578578579,
          3.588588588588589,
          3.598598598598599,
          3.608608608608609,
          3.618618618618619,
          3.628628628628629,
          3.638638638638639,
          3.648648648648649,
          3.658658658658659,
          3.668668668668669,
          3.678678678678679,
          3.688688688688689,
          3.698698698698699,
          3.708708708708709,
          3.718718718718719,
          3.728728728728729,
          3.738738738738739,
          3.748748748748749,
          3.758758758758759,
          3.768768768768769,
          3.778778778778779,
          3.788788788788789,
          3.7987987987987992,
          3.8088088088088092,
          3.8188188188188192,
          3.8288288288288292,
          3.8388388388388393,
          3.8488488488488493,
          3.8588588588588593,
          3.8688688688688693,
          3.8788788788788793,
          3.8888888888888893,
          3.8988988988988993,
          3.9089089089089093,
          3.9189189189189193,
          3.9289289289289293,
          3.9389389389389393,
          3.9489489489489493,
          3.9589589589589593,
          3.9689689689689693,
          3.9789789789789793,
          3.9889889889889893,
          3.9989989989989994,
          4.009009009009009,
          4.019019019019019,
          4.029029029029029,
          4.039039039039039,
          4.049049049049049,
          4.059059059059059,
          4.069069069069069,
          4.079079079079079,
          4.089089089089089,
          4.099099099099099,
          4.109109109109109,
          4.119119119119119,
          4.129129129129129,
          4.1391391391391394,
          4.1491491491491495,
          4.1591591591591595,
          4.1691691691691695,
          4.1791791791791795,
          4.1891891891891895,
          4.1991991991991995,
          4.2092092092092095,
          4.2192192192192195,
          4.2292292292292295,
          4.2392392392392395,
          4.2492492492492495,
          4.2592592592592595,
          4.2692692692692695,
          4.2792792792792795,
          4.2892892892892895,
          4.2992992992992995,
          4.3093093093093096,
          4.31931931931932,
          4.32932932932933,
          4.33933933933934,
          4.34934934934935,
          4.35935935935936,
          4.36936936936937,
          4.37937937937938,
          4.38938938938939,
          4.3993993993994,
          4.40940940940941,
          4.41941941941942,
          4.42942942942943,
          4.43943943943944,
          4.44944944944945,
          4.45945945945946,
          4.46946946946947,
          4.47947947947948,
          4.48948948948949,
          4.4994994994995,
          4.50950950950951,
          4.51951951951952,
          4.52952952952953,
          4.53953953953954,
          4.54954954954955,
          4.55955955955956,
          4.56956956956957,
          4.57957957957958,
          4.58958958958959,
          4.5995995995996,
          4.60960960960961,
          4.61961961961962,
          4.62962962962963,
          4.63963963963964,
          4.64964964964965,
          4.65965965965966,
          4.66966966966967,
          4.67967967967968,
          4.68968968968969,
          4.6996996996997,
          4.70970970970971,
          4.71971971971972,
          4.72972972972973,
          4.73973973973974,
          4.74974974974975,
          4.75975975975976,
          4.76976976976977,
          4.77977977977978,
          4.78978978978979,
          4.7997997997998,
          4.80980980980981,
          4.81981981981982,
          4.82982982982983,
          4.83983983983984,
          4.84984984984985,
          4.85985985985986,
          4.86986986986987,
          4.87987987987988,
          4.88988988988989,
          4.8998998998999,
          4.90990990990991,
          4.91991991991992,
          4.92992992992993,
          4.93993993993994,
          4.94994994994995,
          4.95995995995996,
          4.96996996996997,
          4.97997997997998,
          4.98998998998999,
          5
         ],
         "xaxis": "x",
         "y": [
          25,
          24.9000001002003,
          24.800200601001404,
          24.700601502403305,
          24.601202804406007,
          24.502004507009513,
          24.40300661021382,
          24.304209114018924,
          24.20561201842483,
          24.10721532343154,
          24.00901902903905,
          23.91102313524736,
          23.81322764205647,
          23.715632549466385,
          23.618237857477098,
          23.52104356608861,
          23.424049675300928,
          23.327256185114045,
          23.230663095527962,
          23.13427040654268,
          23.0380781181582,
          22.94208623037452,
          22.846294743191642,
          22.750703656609563,
          22.655312970628287,
          22.560122685247812,
          22.465132800468137,
          22.37034331628926,
          22.27575423271119,
          22.18136554973392,
          22.087177267357447,
          21.99318938558178,
          21.89940190440691,
          21.805814823832844,
          21.712428143859576,
          21.619241864487112,
          21.526255985715448,
          21.433470507544584,
          21.34088542997452,
          21.24850075300526,
          21.1563164766368,
          21.06433260086914,
          20.97254912570228,
          20.880966051136223,
          20.789583377170967,
          20.69840110380651,
          20.607419231042858,
          20.51663775888,
          20.42605668731795,
          20.3356760163567,
          20.245495745996248,
          20.1555158762366,
          20.06573640707775,
          19.9761573385197,
          19.886778670562457,
          19.797600403206012,
          19.708622536450367,
          19.619845070295522,
          19.53126800474148,
          19.44289133978824,
          19.3547150754358,
          19.266739211684158,
          19.17896374853332,
          19.091388685983283,
          19.004014024034046,
          18.916839762685612,
          18.829865901937975,
          18.74309244179114,
          18.65651938224511,
          18.570146723299878,
          18.48397446495545,
          18.39800260721182,
          18.31223115006899,
          18.226660093526963,
          18.141289437585737,
          18.05611918224531,
          17.971149327505685,
          17.886379873366863,
          17.80181081982884,
          17.71744216689162,
          17.633273914555197,
          17.54930606281958,
          17.46553861168476,
          17.381971561150742,
          17.298604911217527,
          17.21543866188511,
          17.132472813153495,
          17.049707365022684,
          16.96714231749267,
          16.88477767056346,
          16.802613424235048,
          16.720649578507437,
          16.63888613338063,
          16.557323088854623,
          16.475960444929417,
          16.39479820160501,
          16.313836358881407,
          16.233074916758603,
          16.1525138752366,
          16.0721532343154,
          15.991992993994995,
          15.912033154275395,
          15.832273715156598,
          15.7527146766386,
          15.673356038721403,
          15.594197801405008,
          15.515239964689414,
          15.43648252857462,
          15.357925493060629,
          15.279568858147437,
          15.201412623835045,
          15.123456790123456,
          15.045701357012668,
          14.96814632450268,
          14.890791692593494,
          14.813637461285108,
          14.736683630577524,
          14.659930200470741,
          14.583377170964757,
          14.507024542059577,
          14.430872313755197,
          14.354920486051617,
          14.279169058948838,
          14.203618032446862,
          14.128267406545685,
          14.053117181245309,
          13.978167356545734,
          13.903417932446962,
          13.828868908948989,
          13.754520286051818,
          13.680372063755447,
          13.606424242059878,
          13.53267682096511,
          13.459129800471143,
          13.385783180577976,
          13.31263696128561,
          13.239691142594046,
          13.166945724503282,
          13.09440070701332,
          13.022056090124158,
          12.949911873835799,
          12.87796805814824,
          12.80622464306148,
          12.734681628575522,
          12.663339014690367,
          12.592196801406011,
          12.521254988722458,
          12.450513576639704,
          12.37997256515775,
          12.3096319542766,
          12.239491743996249,
          12.169551934316699,
          12.099812525237951,
          12.030273516760005,
          11.960934908882857,
          11.891796701606513,
          11.822858894930969,
          11.754121488856224,
          11.685584483382282,
          11.61724787850914,
          11.5491116742368,
          11.481175870565258,
          11.41344046749452,
          11.345905465024583,
          11.278570863155446,
          11.21143666188711,
          11.144502861219577,
          11.077769461152842,
          11.01123646168691,
          10.944903862821779,
          10.878771664557448,
          10.812839866893919,
          10.747108469831192,
          10.681577473369263,
          10.616246877508138,
          10.551116682247812,
          10.486186887588287,
          10.421457493529564,
          10.356928500071641,
          10.29259990721452,
          10.2284717149582,
          10.16454392330268,
          10.100816532247961,
          10.037289541794046,
          9.973962951940928,
          9.910836762688612,
          9.847910974037099,
          9.785185585986385,
          9.722660598536473,
          9.660336011687361,
          9.598211825439051,
          9.536288039791541,
          9.474564654744833,
          9.413041670298925,
          9.35171908645382,
          9.290596903209515,
          9.22967512056601,
          9.168953738523307,
          9.108432757081404,
          9.048112176240304,
          8.987991996000003,
          8.928072216360503,
          8.868352837321805,
          8.808833858883908,
          8.749515281046811,
          8.690397103810517,
          8.631479327175022,
          8.572761951140329,
          8.514244975706436,
          8.455928400873345,
          8.397812226641054,
          8.339896453009565,
          8.282181079978876,
          8.22466610754899,
          8.167351535719904,
          8.110237364491619,
          8.053323593864134,
          7.99661022383745,
          7.940097254411568,
          7.883784685586487,
          7.827672517362206,
          7.7717607497387275,
          7.716049382716049,
          7.660538416294171,
          7.605227850473095,
          7.55011768525282,
          7.495207920633345,
          7.440498556614672,
          7.3859895931968,
          7.331681030379729,
          7.277572868163459,
          7.223665106547989,
          7.1699577455333205,
          7.116450785119453,
          7.063144225306387,
          7.010038066094122,
          6.957132307482658,
          6.904426949471994,
          6.851921992062132,
          6.7996174352530705,
          6.74751327904481,
          6.695609523437351,
          6.643906168430693,
          6.592403214024835,
          6.541100660219779,
          6.489998507015524,
          6.43909675441207,
          6.388395402409416,
          6.337894451007564,
          6.287593900206513,
          6.237493750006262,
          6.187594000406813,
          6.137894651408165,
          6.088395703010318,
          6.0390971552132715,
          5.989999008017026,
          5.941101261421582,
          5.8924039154269385,
          5.843906970033096,
          5.795610425240055,
          5.747514281047815,
          5.6996185374563755,
          5.651923194465737,
          5.6044282520759,
          5.557133710286863,
          5.510039569098629,
          5.463145828511194,
          5.416452488524561,
          5.369959549138729,
          5.323667010353697,
          5.277574872169467,
          5.231683134586038,
          5.18599179760341,
          5.140500861221582,
          5.095210325440556,
          5.050120190260331,
          5.005230455680906,
          4.960541121702283,
          4.9160521883244614,
          4.87176365554744,
          4.827675523371219,
          4.783787791795801,
          4.740100460821182,
          4.696613530447364,
          4.653327000674349,
          4.610240871502134,
          4.567355142930719,
          4.524669814960106,
          4.482184887590294,
          4.439900360821282,
          4.397816234653072,
          4.355932509085663,
          4.3142491841190544,
          4.272766259753247,
          4.231483735988241,
          4.190401612824036,
          4.149519890260632,
          4.108838568298029,
          4.068357646936226,
          4.028077126175225,
          3.987997006015025,
          3.9481172864556253,
          3.908437967497027,
          3.8689590491392303,
          3.829680531382234,
          3.7906024142260386,
          3.751724697670644,
          3.713047381716051,
          3.674570466362259,
          3.6362939516092676,
          3.5982178374570775,
          3.5603421239056883,
          3.5226668109551,
          3.4851918986053128,
          3.4479173868563264,
          3.4108432757081415,
          3.373969565160757,
          3.337296255214174,
          3.300823345868392,
          3.2645508371234104,
          3.2284787289792303,
          3.1926070214358497,
          3.1569357144932715,
          3.121464808151494,
          3.086194302410518,
          3.051124197270343,
          3.0162544927309685,
          2.9815851887923954,
          2.9471162854546233,
          2.912847782717652,
          2.878779680581482,
          2.844911979046113,
          2.8112446781115445,
          2.7777777777777772,
          2.7445112780448113,
          2.711445178912646,
          2.678579480381282,
          2.6459141824507184,
          2.6134492851209563,
          2.581184788391995,
          2.549120692263835,
          2.5172569967364757,
          2.4855937018099175,
          2.4541308074841606,
          2.422868313759204,
          2.391806220635049,
          2.3609445281116948,
          2.3302832361891417,
          2.2998223448673896,
          2.2695618541464384,
          2.239501764026288,
          2.209642074506939,
          2.179982785588391,
          2.1505238972706437,
          2.121265409553698,
          2.0922073224375524,
          2.0633496359222083,
          2.0346923500076652,
          2.006235464693923,
          1.977978979980982,
          1.9499228958688417,
          1.9220672123575024,
          1.8944119294469643,
          1.8669570471372272,
          1.839702565428291,
          1.8126484843201558,
          1.7857948038128217,
          1.7591415239062886,
          1.7326886446005565,
          1.7064361658956253,
          1.680384087791495,
          1.654532410288166,
          1.628881133385638,
          1.6034302570839107,
          1.5781797813829845,
          1.5531297062828595,
          1.5282800317835352,
          1.503630757885012,
          1.47918188458729,
          1.454933411890369,
          1.4308853397942487,
          1.4070376682989296,
          1.3833903974044115,
          1.3599435271106943,
          1.3366970574177781,
          1.313650988325663,
          1.290805319834349,
          1.2681600519438359,
          1.2457151846541237,
          1.2234707179652127,
          1.2014266518771024,
          1.1795829863897933,
          1.1579397215032852,
          1.136496857217578,
          1.115254393532672,
          1.094212330448567,
          1.0733706679652628,
          1.0527294060827597,
          1.0322885448010575,
          1.0120480841201565,
          0.9920080240400554,
          0.9721683645607563,
          0.9525291056822581,
          0.933090247404561,
          0.913851789727665,
          0.8948137326515698,
          0.8759760761762757,
          0.8573388203017827,
          0.8389019650280906,
          0.8206655103551994,
          0.8026294562831093,
          0.7847938028118203,
          0.7671585499413321,
          0.749723697671645,
          0.732489246002759,
          0.7154551949346739,
          0.6986215444673898,
          0.6819882946009067,
          0.6655554453352246,
          0.6493229966703435,
          0.6332909486062634,
          0.6174593011429844,
          0.6018280542805063,
          0.5863972080188292,
          0.5711667623579532,
          0.5561367172978781,
          0.541307072838604,
          0.5266778289801309,
          0.5122489857224588,
          0.49802054306558774,
          0.4839925010095177,
          0.4701648595542486,
          0.45653761869978055,
          0.44311077844611346,
          0.4298843387932474,
          0.4168582997411823,
          0.40403266128991827,
          0.39140742343945517,
          0.37898258618979314,
          0.36675814954093205,
          0.354734113492872,
          0.3429104780456129,
          0.33128724319915487,
          0.3198644089534978,
          0.30864197530864174,
          0.2976199422645867,
          0.28679830982133264,
          0.2761770779788796,
          0.26575624673722753,
          0.2555358160963765,
          0.24551578605632643,
          0.23569615661707738,
          0.2260769277786293,
          0.21665809954098228,
          0.20743967190413623,
          0.19842164486809116,
          0.18960401843284713,
          0.18098679259840408,
          0.17256996736476204,
          0.164353542731921,
          0.15633751869988094,
          0.1485218952686419,
          0.14090667243820387,
          0.13349185020856683,
          0.1262774285797308,
          0.11926340755169576,
          0.11244978712446171,
          0.10583656729802868,
          0.09942374807239665,
          0.09321132944756562,
          0.08719931142353558,
          0.08138769400030656,
          0.07577647717787853,
          0.07036566095625149,
          0.06515524533542547,
          0.06014523031540044,
          0.055335615896176416,
          0.05072640207775339,
          0.04631758886013137,
          0.04210917624331035,
          0.038101164227290325,
          0.034293552812071304,
          0.03068634199765329,
          0.02727953178403627,
          0.024073122171220252,
          0.021067113159205238,
          0.018261504747991222,
          0.015656296937578206,
          0.013251489727966194,
          0.011047083119155183,
          0.009043077111145173,
          0.007239471703936164,
          0.005636266897528155,
          0.0042334626919211474,
          0.003031059087115141,
          0.0020290560831101355,
          0.0012274536799061315,
          0.0006262518775031283,
          0.0002254506759011262,
          0.000025050075100125133,
          0.000025050075100125133,
          0.0002254506759011262,
          0.0006262518775031283,
          0.0012274536799061315,
          0.0020290560831101355,
          0.003031059087115141,
          0.0042334626919211474,
          0.005636266897528155,
          0.007239471703936164,
          0.009043077111145173,
          0.011047083119155183,
          0.013251489727966194,
          0.015656296937578206,
          0.018261504747991222,
          0.021067113159205238,
          0.024073122171220252,
          0.02727953178403627,
          0.03068634199765329,
          0.034293552812071304,
          0.038101164227290325,
          0.04210917624331035,
          0.04631758886013137,
          0.05072640207775339,
          0.055335615896176416,
          0.06014523031540044,
          0.06515524533542547,
          0.07036566095625149,
          0.07577647717787853,
          0.08138769400030656,
          0.08719931142353558,
          0.09321132944756562,
          0.09942374807239665,
          0.10583656729802868,
          0.11244978712446171,
          0.11926340755169576,
          0.1262774285797308,
          0.13349185020856683,
          0.14090667243820387,
          0.1485218952686419,
          0.15633751869988094,
          0.164353542731921,
          0.17256996736476204,
          0.18098679259840408,
          0.18960401843284713,
          0.19842164486809116,
          0.20743967190413623,
          0.21665809954098228,
          0.2260769277786293,
          0.23569615661707738,
          0.24551578605632643,
          0.2555358160963765,
          0.26575624673722753,
          0.2761770779788796,
          0.28679830982133264,
          0.2976199422645867,
          0.30864197530864174,
          0.3198644089534978,
          0.33128724319915487,
          0.3429104780456129,
          0.354734113492872,
          0.36675814954093205,
          0.37898258618979314,
          0.39140742343945517,
          0.40403266128991827,
          0.4168582997411823,
          0.4298843387932474,
          0.44311077844611346,
          0.45653761869978055,
          0.4701648595542486,
          0.4839925010095177,
          0.49802054306558774,
          0.5122489857224588,
          0.5266778289801309,
          0.541307072838604,
          0.5561367172978781,
          0.5711667623579532,
          0.5863972080188292,
          0.6018280542805063,
          0.6174593011429844,
          0.6332909486062634,
          0.6493229966703435,
          0.6655554453352246,
          0.6819882946009067,
          0.6986215444673898,
          0.7154551949346739,
          0.732489246002759,
          0.749723697671645,
          0.7671585499413321,
          0.7847938028118203,
          0.8026294562831093,
          0.8206655103551994,
          0.8389019650280906,
          0.8573388203017827,
          0.8759760761762757,
          0.8948137326515698,
          0.913851789727665,
          0.933090247404561,
          0.9525291056822581,
          0.9721683645607563,
          0.9920080240400554,
          1.0120480841201556,
          1.0322885448010566,
          1.0527294060827588,
          1.0733706679652617,
          1.0942123304485658,
          1.115254393532671,
          1.136496857217577,
          1.1579397215032843,
          1.1795829863897924,
          1.2014266518771015,
          1.2234707179652116,
          1.2457151846541228,
          1.2681600519438347,
          1.2908053198343479,
          1.313650988325662,
          1.3366970574177772,
          1.3599435271106932,
          1.3833903974044104,
          1.4070376682989285,
          1.4308853397942476,
          1.4549334118903678,
          1.4791818845872888,
          1.503630757885011,
          1.528280031783534,
          1.5531297062828584,
          1.5781797813829834,
          1.6034302570839096,
          1.6288811333856368,
          1.654532410288165,
          1.680384087791494,
          1.7064361658956242,
          1.7326886446005554,
          1.7591415239062875,
          1.7857948038128206,
          1.8126484843201547,
          1.83970256542829,
          1.866957047137226,
          1.8944119294469632,
          1.9220672123575013,
          1.9499228958688404,
          1.9779789799809806,
          2.0062354646939244,
          2.0346923500076666,
          2.0633496359222097,
          2.0922073224375537,
          2.121265409553699,
          2.150523897270645,
          2.1799827855883924,
          2.2096420745069403,
          2.2395017640262895,
          2.2695618541464397,
          2.299822344867391,
          2.330283236189143,
          2.3609445281116965,
          2.3918062206350506,
          2.4228683137592055,
          2.454130807484162,
          2.4855937018099192,
          2.517256996736477,
          2.5491206922638363,
          2.5811847883919965,
          2.6134492851209576,
          2.64591418245072,
          2.6785794803812832,
          2.7114451789126472,
          2.7445112780448127,
          2.7777777777777786,
          2.811244678111546,
          2.844911979046114,
          2.8787796805814834,
          2.9128477827176535,
          2.9471162854546247,
          2.9815851887923968,
          3.0162544927309702,
          3.0511241972703442,
          3.0861943024105196,
          3.121464808151496,
          3.156935714493273,
          3.192607021435851,
          3.2284787289792303,
          3.2645508371234104,
          3.300823345868392,
          3.337296255214174,
          3.373969565160757,
          3.4108432757081415,
          3.4479173868563264,
          3.4851918986053128,
          3.5226668109551,
          3.5603421239056883,
          3.5982178374570775,
          3.6362939516092676,
          3.674570466362259,
          3.713047381716051,
          3.751724697670644,
          3.7906024142260386,
          3.829680531382234,
          3.8689590491392303,
          3.908437967497027,
          3.9481172864556253,
          3.987997006015025,
          4.028077126175225,
          4.068357646936226,
          4.108838568298029,
          4.149519890260632,
          4.190401612824036,
          4.231483735988241,
          4.272766259753247,
          4.3142491841190544,
          4.355932509085663,
          4.397816234653072,
          4.439900360821282,
          4.482184887590294,
          4.524669814960106,
          4.567355142930719,
          4.610240871502134,
          4.653327000674349,
          4.696613530447364,
          4.740100460821182,
          4.783787791795801,
          4.827675523371219,
          4.87176365554744,
          4.9160521883244614,
          4.960541121702283,
          5.005230455680906,
          5.050120190260331,
          5.095210325440556,
          5.140500861221582,
          5.18599179760341,
          5.231683134586038,
          5.277574872169467,
          5.323667010353697,
          5.369959549138729,
          5.416452488524561,
          5.463145828511194,
          5.510039569098629,
          5.557133710286863,
          5.6044282520759,
          5.651923194465737,
          5.6996185374563755,
          5.747514281047815,
          5.795610425240055,
          5.843906970033096,
          5.8924039154269385,
          5.941101261421582,
          5.989999008017026,
          6.0390971552132715,
          6.088395703010318,
          6.137894651408165,
          6.187594000406813,
          6.237493750006262,
          6.287593900206513,
          6.337894451007564,
          6.388395402409416,
          6.43909675441207,
          6.489998507015524,
          6.541100660219779,
          6.592403214024835,
          6.643906168430693,
          6.695609523437351,
          6.74751327904481,
          6.7996174352530705,
          6.851921992062132,
          6.904426949471994,
          6.957132307482658,
          7.010038066094122,
          7.063144225306387,
          7.116450785119453,
          7.1699577455333205,
          7.223665106547989,
          7.277572868163459,
          7.331681030379729,
          7.3859895931968,
          7.440498556614672,
          7.495207920633345,
          7.55011768525282,
          7.605227850473095,
          7.660538416294171,
          7.716049382716049,
          7.7717607497387275,
          7.827672517362206,
          7.883784685586487,
          7.940097254411568,
          7.99661022383745,
          8.053323593864134,
          8.110237364491619,
          8.167351535719904,
          8.22466610754899,
          8.282181079978876,
          8.339896453009565,
          8.397812226641054,
          8.455928400873345,
          8.514244975706436,
          8.572761951140329,
          8.631479327175022,
          8.690397103810517,
          8.749515281046811,
          8.808833858883908,
          8.868352837321805,
          8.928072216360503,
          8.987991996000003,
          9.04811217624031,
          9.10843275708141,
          9.168953738523312,
          9.229675120566016,
          9.29059690320952,
          9.351719086453825,
          9.413041670298933,
          9.474564654744839,
          9.536288039791547,
          9.598211825439057,
          9.660336011687367,
          9.722660598536478,
          9.78518558598639,
          9.847910974037104,
          9.910836762688618,
          9.973962951940933,
          10.03728954179405,
          10.100816532247968,
          10.164543923302686,
          10.228471714958205,
          10.292599907214527,
          10.356928500071648,
          10.42145749352957,
          10.486186887588293,
          10.551116682247818,
          10.616246877508143,
          10.68157747336927,
          10.747108469831197,
          10.812839866893924,
          10.878771664557455,
          10.944903862821784,
          11.011236461686916,
          11.07776946115285,
          11.144502861219582,
          11.211436661887117,
          11.278570863155451,
          11.345905465024588,
          11.413440467494526,
          11.481175870565265,
          11.549111674236803,
          11.617247878509144,
          11.685584483382286,
          11.754121488856228,
          11.82285889493097,
          11.891796701606514,
          11.96093490888286,
          12.030273516760007,
          12.099812525237954,
          12.169551934316702,
          12.239491743996252,
          12.309631954276602,
          12.379972565157754,
          12.450513576639706,
          12.52125498872246,
          12.592196801406015,
          12.66333901469037,
          12.734681628575526,
          12.806224643061483,
          12.877968058148243,
          12.949911873835802,
          13.022056090124162,
          13.094400707013323,
          13.166945724503286,
          13.239691142594049,
          13.312636961285614,
          13.38578318057798,
          13.459129800471146,
          13.532676820965113,
          13.606424242059882,
          13.680372063755451,
          13.754520286051822,
          13.828868908948992,
          13.903417932446965,
          13.978167356545738,
          14.053117181245312,
          14.128267406545689,
          14.203618032446865,
          14.279169058948842,
          14.35492048605162,
          14.4308723137552,
          14.50702454205958,
          14.583377170964761,
          14.659930200470745,
          14.736683630577527,
          14.813637461285111,
          14.890791692593497,
          14.968146324502683,
          15.045701357012671,
          15.12345679012346,
          15.201412623835049,
          15.27956885814744,
          15.35792549306063,
          15.436482528574624,
          15.515239964689417,
          15.594197801405011,
          15.673356038721407,
          15.752714676638604,
          15.832273715156601,
          15.912033154275399,
          15.991992993994998,
          16.0721532343154,
          16.1525138752366,
          16.233074916758603,
          16.313836358881407,
          16.39479820160501,
          16.475960444929417,
          16.557323088854623,
          16.63888613338063,
          16.720649578507437,
          16.802613424235048,
          16.88477767056346,
          16.96714231749267,
          17.049707365022684,
          17.132472813153495,
          17.21543866188511,
          17.298604911217527,
          17.381971561150742,
          17.46553861168476,
          17.54930606281958,
          17.633273914555197,
          17.71744216689162,
          17.80181081982884,
          17.886379873366863,
          17.971149327505685,
          18.05611918224531,
          18.141289437585737,
          18.226660093526963,
          18.31223115006899,
          18.39800260721182,
          18.48397446495545,
          18.570146723299878,
          18.65651938224511,
          18.74309244179114,
          18.829865901937975,
          18.916839762685612,
          19.004014024034046,
          19.091388685983283,
          19.17896374853332,
          19.266739211684158,
          19.3547150754358,
          19.44289133978824,
          19.53126800474148,
          19.619845070295522,
          19.708622536450367,
          19.797600403206012,
          19.886778670562457,
          19.9761573385197,
          20.06573640707775,
          20.1555158762366,
          20.245495745996248,
          20.3356760163567,
          20.42605668731795,
          20.51663775888,
          20.607419231042858,
          20.69840110380651,
          20.789583377170967,
          20.880966051136223,
          20.97254912570228,
          21.06433260086914,
          21.1563164766368,
          21.24850075300526,
          21.34088542997452,
          21.433470507544584,
          21.526255985715448,
          21.619241864487112,
          21.712428143859576,
          21.805814823832844,
          21.89940190440691,
          21.99318938558178,
          22.087177267357447,
          22.18136554973392,
          22.27575423271119,
          22.37034331628926,
          22.465132800468137,
          22.560122685247812,
          22.655312970628287,
          22.750703656609563,
          22.846294743191642,
          22.94208623037452,
          23.0380781181582,
          23.13427040654268,
          23.230663095527962,
          23.327256185114045,
          23.424049675300928,
          23.52104356608861,
          23.618237857477098,
          23.715632549466385,
          23.81322764205647,
          23.91102313524736,
          24.00901902903905,
          24.10721532343154,
          24.20561201842483,
          24.304209114018924,
          24.40300661021382,
          24.502004507009513,
          24.601202804406007,
          24.700601502403305,
          24.800200601001404,
          24.9000001002003,
          25
         ],
         "yaxis": "y"
        }
       ],
       "layout": {
        "height": 500,
        "legend": {
         "tracegroupgap": 0
        },
        "margin": {
         "t": 60
        },
        "template": {
         "data": {
          "bar": [
           {
            "error_x": {
             "color": "#2a3f5f"
            },
            "error_y": {
             "color": "#2a3f5f"
            },
            "marker": {
             "line": {
              "color": "#E5ECF6",
              "width": 0.5
             },
             "pattern": {
              "fillmode": "overlay",
              "size": 10,
              "solidity": 0.2
             }
            },
            "type": "bar"
           }
          ],
          "barpolar": [
           {
            "marker": {
             "line": {
              "color": "#E5ECF6",
              "width": 0.5
             },
             "pattern": {
              "fillmode": "overlay",
              "size": 10,
              "solidity": 0.2
             }
            },
            "type": "barpolar"
           }
          ],
          "carpet": [
           {
            "aaxis": {
             "endlinecolor": "#2a3f5f",
             "gridcolor": "white",
             "linecolor": "white",
             "minorgridcolor": "white",
             "startlinecolor": "#2a3f5f"
            },
            "baxis": {
             "endlinecolor": "#2a3f5f",
             "gridcolor": "white",
             "linecolor": "white",
             "minorgridcolor": "white",
             "startlinecolor": "#2a3f5f"
            },
            "type": "carpet"
           }
          ],
          "choropleth": [
           {
            "colorbar": {
             "outlinewidth": 0,
             "ticks": ""
            },
            "type": "choropleth"
           }
          ],
          "contour": [
           {
            "colorbar": {
             "outlinewidth": 0,
             "ticks": ""
            },
            "colorscale": [
             [
              0,
              "#0d0887"
             ],
             [
              0.1111111111111111,
              "#46039f"
             ],
             [
              0.2222222222222222,
              "#7201a8"
             ],
             [
              0.3333333333333333,
              "#9c179e"
             ],
             [
              0.4444444444444444,
              "#bd3786"
             ],
             [
              0.5555555555555556,
              "#d8576b"
             ],
             [
              0.6666666666666666,
              "#ed7953"
             ],
             [
              0.7777777777777778,
              "#fb9f3a"
             ],
             [
              0.8888888888888888,
              "#fdca26"
             ],
             [
              1,
              "#f0f921"
             ]
            ],
            "type": "contour"
           }
          ],
          "contourcarpet": [
           {
            "colorbar": {
             "outlinewidth": 0,
             "ticks": ""
            },
            "type": "contourcarpet"
           }
          ],
          "heatmap": [
           {
            "colorbar": {
             "outlinewidth": 0,
             "ticks": ""
            },
            "colorscale": [
             [
              0,
              "#0d0887"
             ],
             [
              0.1111111111111111,
              "#46039f"
             ],
             [
              0.2222222222222222,
              "#7201a8"
             ],
             [
              0.3333333333333333,
              "#9c179e"
             ],
             [
              0.4444444444444444,
              "#bd3786"
             ],
             [
              0.5555555555555556,
              "#d8576b"
             ],
             [
              0.6666666666666666,
              "#ed7953"
             ],
             [
              0.7777777777777778,
              "#fb9f3a"
             ],
             [
              0.8888888888888888,
              "#fdca26"
             ],
             [
              1,
              "#f0f921"
             ]
            ],
            "type": "heatmap"
           }
          ],
          "heatmapgl": [
           {
            "colorbar": {
             "outlinewidth": 0,
             "ticks": ""
            },
            "colorscale": [
             [
              0,
              "#0d0887"
             ],
             [
              0.1111111111111111,
              "#46039f"
             ],
             [
              0.2222222222222222,
              "#7201a8"
             ],
             [
              0.3333333333333333,
              "#9c179e"
             ],
             [
              0.4444444444444444,
              "#bd3786"
             ],
             [
              0.5555555555555556,
              "#d8576b"
             ],
             [
              0.6666666666666666,
              "#ed7953"
             ],
             [
              0.7777777777777778,
              "#fb9f3a"
             ],
             [
              0.8888888888888888,
              "#fdca26"
             ],
             [
              1,
              "#f0f921"
             ]
            ],
            "type": "heatmapgl"
           }
          ],
          "histogram": [
           {
            "marker": {
             "pattern": {
              "fillmode": "overlay",
              "size": 10,
              "solidity": 0.2
             }
            },
            "type": "histogram"
           }
          ],
          "histogram2d": [
           {
            "colorbar": {
             "outlinewidth": 0,
             "ticks": ""
            },
            "colorscale": [
             [
              0,
              "#0d0887"
             ],
             [
              0.1111111111111111,
              "#46039f"
             ],
             [
              0.2222222222222222,
              "#7201a8"
             ],
             [
              0.3333333333333333,
              "#9c179e"
             ],
             [
              0.4444444444444444,
              "#bd3786"
             ],
             [
              0.5555555555555556,
              "#d8576b"
             ],
             [
              0.6666666666666666,
              "#ed7953"
             ],
             [
              0.7777777777777778,
              "#fb9f3a"
             ],
             [
              0.8888888888888888,
              "#fdca26"
             ],
             [
              1,
              "#f0f921"
             ]
            ],
            "type": "histogram2d"
           }
          ],
          "histogram2dcontour": [
           {
            "colorbar": {
             "outlinewidth": 0,
             "ticks": ""
            },
            "colorscale": [
             [
              0,
              "#0d0887"
             ],
             [
              0.1111111111111111,
              "#46039f"
             ],
             [
              0.2222222222222222,
              "#7201a8"
             ],
             [
              0.3333333333333333,
              "#9c179e"
             ],
             [
              0.4444444444444444,
              "#bd3786"
             ],
             [
              0.5555555555555556,
              "#d8576b"
             ],
             [
              0.6666666666666666,
              "#ed7953"
             ],
             [
              0.7777777777777778,
              "#fb9f3a"
             ],
             [
              0.8888888888888888,
              "#fdca26"
             ],
             [
              1,
              "#f0f921"
             ]
            ],
            "type": "histogram2dcontour"
           }
          ],
          "mesh3d": [
           {
            "colorbar": {
             "outlinewidth": 0,
             "ticks": ""
            },
            "type": "mesh3d"
           }
          ],
          "parcoords": [
           {
            "line": {
             "colorbar": {
              "outlinewidth": 0,
              "ticks": ""
             }
            },
            "type": "parcoords"
           }
          ],
          "pie": [
           {
            "automargin": true,
            "type": "pie"
           }
          ],
          "scatter": [
           {
            "fillpattern": {
             "fillmode": "overlay",
             "size": 10,
             "solidity": 0.2
            },
            "type": "scatter"
           }
          ],
          "scatter3d": [
           {
            "line": {
             "colorbar": {
              "outlinewidth": 0,
              "ticks": ""
             }
            },
            "marker": {
             "colorbar": {
              "outlinewidth": 0,
              "ticks": ""
             }
            },
            "type": "scatter3d"
           }
          ],
          "scattercarpet": [
           {
            "marker": {
             "colorbar": {
              "outlinewidth": 0,
              "ticks": ""
             }
            },
            "type": "scattercarpet"
           }
          ],
          "scattergeo": [
           {
            "marker": {
             "colorbar": {
              "outlinewidth": 0,
              "ticks": ""
             }
            },
            "type": "scattergeo"
           }
          ],
          "scattergl": [
           {
            "marker": {
             "colorbar": {
              "outlinewidth": 0,
              "ticks": ""
             }
            },
            "type": "scattergl"
           }
          ],
          "scattermapbox": [
           {
            "marker": {
             "colorbar": {
              "outlinewidth": 0,
              "ticks": ""
             }
            },
            "type": "scattermapbox"
           }
          ],
          "scatterpolar": [
           {
            "marker": {
             "colorbar": {
              "outlinewidth": 0,
              "ticks": ""
             }
            },
            "type": "scatterpolar"
           }
          ],
          "scatterpolargl": [
           {
            "marker": {
             "colorbar": {
              "outlinewidth": 0,
              "ticks": ""
             }
            },
            "type": "scatterpolargl"
           }
          ],
          "scatterternary": [
           {
            "marker": {
             "colorbar": {
              "outlinewidth": 0,
              "ticks": ""
             }
            },
            "type": "scatterternary"
           }
          ],
          "surface": [
           {
            "colorbar": {
             "outlinewidth": 0,
             "ticks": ""
            },
            "colorscale": [
             [
              0,
              "#0d0887"
             ],
             [
              0.1111111111111111,
              "#46039f"
             ],
             [
              0.2222222222222222,
              "#7201a8"
             ],
             [
              0.3333333333333333,
              "#9c179e"
             ],
             [
              0.4444444444444444,
              "#bd3786"
             ],
             [
              0.5555555555555556,
              "#d8576b"
             ],
             [
              0.6666666666666666,
              "#ed7953"
             ],
             [
              0.7777777777777778,
              "#fb9f3a"
             ],
             [
              0.8888888888888888,
              "#fdca26"
             ],
             [
              1,
              "#f0f921"
             ]
            ],
            "type": "surface"
           }
          ],
          "table": [
           {
            "cells": {
             "fill": {
              "color": "#EBF0F8"
             },
             "line": {
              "color": "white"
             }
            },
            "header": {
             "fill": {
              "color": "#C8D4E3"
             },
             "line": {
              "color": "white"
             }
            },
            "type": "table"
           }
          ]
         },
         "layout": {
          "annotationdefaults": {
           "arrowcolor": "#2a3f5f",
           "arrowhead": 0,
           "arrowwidth": 1
          },
          "autotypenumbers": "strict",
          "coloraxis": {
           "colorbar": {
            "outlinewidth": 0,
            "ticks": ""
           }
          },
          "colorscale": {
           "diverging": [
            [
             0,
             "#8e0152"
            ],
            [
             0.1,
             "#c51b7d"
            ],
            [
             0.2,
             "#de77ae"
            ],
            [
             0.3,
             "#f1b6da"
            ],
            [
             0.4,
             "#fde0ef"
            ],
            [
             0.5,
             "#f7f7f7"
            ],
            [
             0.6,
             "#e6f5d0"
            ],
            [
             0.7,
             "#b8e186"
            ],
            [
             0.8,
             "#7fbc41"
            ],
            [
             0.9,
             "#4d9221"
            ],
            [
             1,
             "#276419"
            ]
           ],
           "sequential": [
            [
             0,
             "#0d0887"
            ],
            [
             0.1111111111111111,
             "#46039f"
            ],
            [
             0.2222222222222222,
             "#7201a8"
            ],
            [
             0.3333333333333333,
             "#9c179e"
            ],
            [
             0.4444444444444444,
             "#bd3786"
            ],
            [
             0.5555555555555556,
             "#d8576b"
            ],
            [
             0.6666666666666666,
             "#ed7953"
            ],
            [
             0.7777777777777778,
             "#fb9f3a"
            ],
            [
             0.8888888888888888,
             "#fdca26"
            ],
            [
             1,
             "#f0f921"
            ]
           ],
           "sequentialminus": [
            [
             0,
             "#0d0887"
            ],
            [
             0.1111111111111111,
             "#46039f"
            ],
            [
             0.2222222222222222,
             "#7201a8"
            ],
            [
             0.3333333333333333,
             "#9c179e"
            ],
            [
             0.4444444444444444,
             "#bd3786"
            ],
            [
             0.5555555555555556,
             "#d8576b"
            ],
            [
             0.6666666666666666,
             "#ed7953"
            ],
            [
             0.7777777777777778,
             "#fb9f3a"
            ],
            [
             0.8888888888888888,
             "#fdca26"
            ],
            [
             1,
             "#f0f921"
            ]
           ]
          },
          "colorway": [
           "#636efa",
           "#EF553B",
           "#00cc96",
           "#ab63fa",
           "#FFA15A",
           "#19d3f3",
           "#FF6692",
           "#B6E880",
           "#FF97FF",
           "#FECB52"
          ],
          "font": {
           "color": "#2a3f5f"
          },
          "geo": {
           "bgcolor": "white",
           "lakecolor": "white",
           "landcolor": "#E5ECF6",
           "showlakes": true,
           "showland": true,
           "subunitcolor": "white"
          },
          "hoverlabel": {
           "align": "left"
          },
          "hovermode": "closest",
          "mapbox": {
           "style": "light"
          },
          "paper_bgcolor": "white",
          "plot_bgcolor": "#E5ECF6",
          "polar": {
           "angularaxis": {
            "gridcolor": "white",
            "linecolor": "white",
            "ticks": ""
           },
           "bgcolor": "#E5ECF6",
           "radialaxis": {
            "gridcolor": "white",
            "linecolor": "white",
            "ticks": ""
           }
          },
          "scene": {
           "xaxis": {
            "backgroundcolor": "#E5ECF6",
            "gridcolor": "white",
            "gridwidth": 2,
            "linecolor": "white",
            "showbackground": true,
            "ticks": "",
            "zerolinecolor": "white"
           },
           "yaxis": {
            "backgroundcolor": "#E5ECF6",
            "gridcolor": "white",
            "gridwidth": 2,
            "linecolor": "white",
            "showbackground": true,
            "ticks": "",
            "zerolinecolor": "white"
           },
           "zaxis": {
            "backgroundcolor": "#E5ECF6",
            "gridcolor": "white",
            "gridwidth": 2,
            "linecolor": "white",
            "showbackground": true,
            "ticks": "",
            "zerolinecolor": "white"
           }
          },
          "shapedefaults": {
           "line": {
            "color": "#2a3f5f"
           }
          },
          "ternary": {
           "aaxis": {
            "gridcolor": "white",
            "linecolor": "white",
            "ticks": ""
           },
           "baxis": {
            "gridcolor": "white",
            "linecolor": "white",
            "ticks": ""
           },
           "bgcolor": "#E5ECF6",
           "caxis": {
            "gridcolor": "white",
            "linecolor": "white",
            "ticks": ""
           }
          },
          "title": {
           "x": 0.05
          },
          "xaxis": {
           "automargin": true,
           "gridcolor": "white",
           "linecolor": "white",
           "ticks": "",
           "title": {
            "standoff": 15
           },
           "zerolinecolor": "white",
           "zerolinewidth": 2
          },
          "yaxis": {
           "automargin": true,
           "gridcolor": "white",
           "linecolor": "white",
           "ticks": "",
           "title": {
            "standoff": 15
           },
           "zerolinecolor": "white",
           "zerolinewidth": 2
          }
         }
        },
        "width": 700,
        "xaxis": {
         "anchor": "y",
         "domain": [
          0,
          1
         ],
         "title": {
          "text": "x"
         }
        },
        "yaxis": {
         "anchor": "x",
         "domain": [
          0,
          1
         ],
         "title": {
          "text": "f(x), dim = 1"
         }
        }
       }
      }
     },
     "metadata": {},
     "output_type": "display_data"
    },
    {
     "data": {
      "application/vnd.plotly.v1+json": {
       "config": {
        "plotlyServerURL": "https://plot.ly"
       },
       "data": [
        {
         "hovertemplate": "x=%{x}<br>f(x), dim = 1=%{y}<extra></extra>",
         "legendgroup": "",
         "line": {
          "color": "#636efa",
          "dash": "solid"
         },
         "marker": {
          "symbol": "circle"
         },
         "mode": "lines",
         "name": "",
         "orientation": "v",
         "showlegend": false,
         "type": "scatter",
         "x": [
          -5,
          -4.98998998998999,
          -4.97997997997998,
          -4.96996996996997,
          -4.95995995995996,
          -4.94994994994995,
          -4.93993993993994,
          -4.92992992992993,
          -4.91991991991992,
          -4.90990990990991,
          -4.8998998998999,
          -4.88988988988989,
          -4.87987987987988,
          -4.86986986986987,
          -4.85985985985986,
          -4.84984984984985,
          -4.83983983983984,
          -4.82982982982983,
          -4.81981981981982,
          -4.80980980980981,
          -4.7997997997998,
          -4.78978978978979,
          -4.77977977977978,
          -4.76976976976977,
          -4.75975975975976,
          -4.74974974974975,
          -4.73973973973974,
          -4.72972972972973,
          -4.71971971971972,
          -4.70970970970971,
          -4.6996996996997,
          -4.68968968968969,
          -4.67967967967968,
          -4.66966966966967,
          -4.65965965965966,
          -4.64964964964965,
          -4.63963963963964,
          -4.62962962962963,
          -4.61961961961962,
          -4.60960960960961,
          -4.5995995995996,
          -4.58958958958959,
          -4.57957957957958,
          -4.56956956956957,
          -4.55955955955956,
          -4.54954954954955,
          -4.53953953953954,
          -4.52952952952953,
          -4.51951951951952,
          -4.50950950950951,
          -4.4994994994995,
          -4.48948948948949,
          -4.47947947947948,
          -4.46946946946947,
          -4.45945945945946,
          -4.44944944944945,
          -4.43943943943944,
          -4.42942942942943,
          -4.41941941941942,
          -4.40940940940941,
          -4.3993993993994,
          -4.38938938938939,
          -4.37937937937938,
          -4.36936936936937,
          -4.35935935935936,
          -4.34934934934935,
          -4.33933933933934,
          -4.32932932932933,
          -4.31931931931932,
          -4.3093093093093096,
          -4.2992992992992995,
          -4.2892892892892895,
          -4.2792792792792795,
          -4.2692692692692695,
          -4.2592592592592595,
          -4.2492492492492495,
          -4.2392392392392395,
          -4.2292292292292295,
          -4.2192192192192195,
          -4.2092092092092095,
          -4.1991991991991995,
          -4.1891891891891895,
          -4.1791791791791795,
          -4.1691691691691695,
          -4.1591591591591595,
          -4.1491491491491495,
          -4.1391391391391394,
          -4.129129129129129,
          -4.119119119119119,
          -4.109109109109109,
          -4.099099099099099,
          -4.089089089089089,
          -4.079079079079079,
          -4.069069069069069,
          -4.059059059059059,
          -4.049049049049049,
          -4.039039039039039,
          -4.029029029029029,
          -4.019019019019019,
          -4.009009009009009,
          -3.998998998998999,
          -3.988988988988989,
          -3.978978978978979,
          -3.968968968968969,
          -3.958958958958959,
          -3.948948948948949,
          -3.938938938938939,
          -3.928928928928929,
          -3.918918918918919,
          -3.908908908908909,
          -3.898898898898899,
          -3.888888888888889,
          -3.878878878878879,
          -3.868868868868869,
          -3.858858858858859,
          -3.848848848848849,
          -3.838838838838839,
          -3.828828828828829,
          -3.818818818818819,
          -3.808808808808809,
          -3.798798798798799,
          -3.7887887887887888,
          -3.7787787787787788,
          -3.7687687687687688,
          -3.7587587587587588,
          -3.7487487487487487,
          -3.7387387387387387,
          -3.7287287287287287,
          -3.7187187187187187,
          -3.7087087087087087,
          -3.6986986986986987,
          -3.6886886886886887,
          -3.6786786786786787,
          -3.6686686686686687,
          -3.6586586586586587,
          -3.6486486486486487,
          -3.6386386386386387,
          -3.6286286286286287,
          -3.6186186186186187,
          -3.6086086086086087,
          -3.5985985985985987,
          -3.5885885885885886,
          -3.5785785785785786,
          -3.5685685685685686,
          -3.5585585585585586,
          -3.5485485485485486,
          -3.5385385385385386,
          -3.5285285285285286,
          -3.5185185185185186,
          -3.5085085085085086,
          -3.4984984984984986,
          -3.4884884884884886,
          -3.4784784784784786,
          -3.4684684684684686,
          -3.4584584584584586,
          -3.4484484484484486,
          -3.4384384384384385,
          -3.4284284284284285,
          -3.4184184184184185,
          -3.4084084084084085,
          -3.3983983983983985,
          -3.388388388388388,
          -3.378378378378378,
          -3.368368368368368,
          -3.358358358358358,
          -3.348348348348348,
          -3.338338338338338,
          -3.328328328328328,
          -3.318318318318318,
          -3.308308308308308,
          -3.298298298298298,
          -3.288288288288288,
          -3.278278278278278,
          -3.268268268268268,
          -3.258258258258258,
          -3.248248248248248,
          -3.238238238238238,
          -3.228228228228228,
          -3.218218218218218,
          -3.208208208208208,
          -3.198198198198198,
          -3.188188188188188,
          -3.178178178178178,
          -3.168168168168168,
          -3.158158158158158,
          -3.148148148148148,
          -3.138138138138138,
          -3.128128128128128,
          -3.118118118118118,
          -3.108108108108108,
          -3.098098098098098,
          -3.088088088088088,
          -3.078078078078078,
          -3.068068068068068,
          -3.058058058058058,
          -3.048048048048048,
          -3.038038038038038,
          -3.028028028028028,
          -3.018018018018018,
          -3.008008008008008,
          -2.997997997997998,
          -2.987987987987988,
          -2.977977977977978,
          -2.967967967967968,
          -2.957957957957958,
          -2.947947947947948,
          -2.937937937937938,
          -2.9279279279279278,
          -2.9179179179179178,
          -2.9079079079079078,
          -2.8978978978978978,
          -2.8878878878878878,
          -2.8778778778778777,
          -2.8678678678678677,
          -2.8578578578578577,
          -2.8478478478478477,
          -2.8378378378378377,
          -2.8278278278278277,
          -2.8178178178178177,
          -2.8078078078078077,
          -2.7977977977977977,
          -2.7877877877877877,
          -2.7777777777777777,
          -2.7677677677677677,
          -2.7577577577577577,
          -2.7477477477477477,
          -2.7377377377377377,
          -2.7277277277277276,
          -2.7177177177177176,
          -2.7077077077077076,
          -2.6976976976976976,
          -2.6876876876876876,
          -2.6776776776776776,
          -2.6676676676676676,
          -2.6576576576576576,
          -2.6476476476476476,
          -2.6376376376376376,
          -2.6276276276276276,
          -2.6176176176176176,
          -2.6076076076076076,
          -2.5975975975975976,
          -2.5875875875875876,
          -2.5775775775775776,
          -2.5675675675675675,
          -2.5575575575575575,
          -2.5475475475475475,
          -2.5375375375375375,
          -2.5275275275275275,
          -2.5175175175175175,
          -2.5075075075075075,
          -2.4974974974974975,
          -2.4874874874874875,
          -2.4774774774774775,
          -2.4674674674674675,
          -2.4574574574574575,
          -2.4474474474474475,
          -2.4374374374374375,
          -2.4274274274274275,
          -2.4174174174174174,
          -2.4074074074074074,
          -2.3973973973973974,
          -2.3873873873873874,
          -2.3773773773773774,
          -2.3673673673673674,
          -2.3573573573573574,
          -2.3473473473473474,
          -2.3373373373373374,
          -2.3273273273273274,
          -2.3173173173173174,
          -2.3073073073073074,
          -2.2972972972972974,
          -2.2872872872872874,
          -2.2772772772772774,
          -2.2672672672672673,
          -2.2572572572572573,
          -2.2472472472472473,
          -2.2372372372372373,
          -2.2272272272272273,
          -2.2172172172172173,
          -2.2072072072072073,
          -2.1971971971971973,
          -2.1871871871871873,
          -2.1771771771771773,
          -2.1671671671671673,
          -2.1571571571571573,
          -2.1471471471471473,
          -2.1371371371371373,
          -2.1271271271271273,
          -2.1171171171171173,
          -2.1071071071071072,
          -2.0970970970970972,
          -2.0870870870870872,
          -2.0770770770770772,
          -2.067067067067067,
          -2.057057057057057,
          -2.047047047047047,
          -2.037037037037037,
          -2.027027027027027,
          -2.017017017017017,
          -2.007007007007007,
          -1.9969969969969972,
          -1.9869869869869872,
          -1.9769769769769772,
          -1.9669669669669672,
          -1.9569569569569571,
          -1.9469469469469471,
          -1.9369369369369371,
          -1.9269269269269271,
          -1.9169169169169171,
          -1.9069069069069071,
          -1.8968968968968971,
          -1.886886886886887,
          -1.876876876876877,
          -1.866866866866867,
          -1.856856856856857,
          -1.846846846846847,
          -1.836836836836837,
          -1.826826826826827,
          -1.816816816816817,
          -1.806806806806807,
          -1.796796796796797,
          -1.7867867867867866,
          -1.7767767767767766,
          -1.7667667667667666,
          -1.7567567567567566,
          -1.7467467467467466,
          -1.7367367367367366,
          -1.7267267267267266,
          -1.7167167167167166,
          -1.7067067067067065,
          -1.6966966966966965,
          -1.6866866866866865,
          -1.6766766766766765,
          -1.6666666666666665,
          -1.6566566566566565,
          -1.6466466466466465,
          -1.6366366366366365,
          -1.6266266266266265,
          -1.6166166166166165,
          -1.6066066066066065,
          -1.5965965965965965,
          -1.5865865865865865,
          -1.5765765765765765,
          -1.5665665665665665,
          -1.5565565565565564,
          -1.5465465465465464,
          -1.5365365365365364,
          -1.5265265265265264,
          -1.5165165165165164,
          -1.5065065065065064,
          -1.4964964964964964,
          -1.4864864864864864,
          -1.4764764764764764,
          -1.4664664664664664,
          -1.4564564564564564,
          -1.4464464464464464,
          -1.4364364364364364,
          -1.4264264264264264,
          -1.4164164164164164,
          -1.4064064064064064,
          -1.3963963963963963,
          -1.3863863863863863,
          -1.3763763763763763,
          -1.3663663663663663,
          -1.3563563563563563,
          -1.3463463463463463,
          -1.3363363363363363,
          -1.3263263263263263,
          -1.3163163163163163,
          -1.3063063063063063,
          -1.2962962962962963,
          -1.2862862862862863,
          -1.2762762762762763,
          -1.2662662662662663,
          -1.2562562562562563,
          -1.2462462462462462,
          -1.2362362362362362,
          -1.2262262262262262,
          -1.2162162162162162,
          -1.2062062062062062,
          -1.1961961961961962,
          -1.1861861861861862,
          -1.1761761761761762,
          -1.1661661661661662,
          -1.1561561561561562,
          -1.1461461461461462,
          -1.1361361361361362,
          -1.1261261261261262,
          -1.1161161161161162,
          -1.1061061061061062,
          -1.0960960960960962,
          -1.0860860860860861,
          -1.0760760760760761,
          -1.0660660660660661,
          -1.0560560560560561,
          -1.0460460460460461,
          -1.0360360360360361,
          -1.026026026026026,
          -1.016016016016016,
          -1.006006006006006,
          -0.9959959959959956,
          -0.9859859859859856,
          -0.9759759759759756,
          -0.9659659659659656,
          -0.9559559559559556,
          -0.9459459459459456,
          -0.9359359359359356,
          -0.9259259259259256,
          -0.9159159159159156,
          -0.9059059059059056,
          -0.8958958958958956,
          -0.8858858858858856,
          -0.8758758758758756,
          -0.8658658658658656,
          -0.8558558558558556,
          -0.8458458458458455,
          -0.8358358358358355,
          -0.8258258258258255,
          -0.8158158158158155,
          -0.8058058058058055,
          -0.7957957957957955,
          -0.7857857857857855,
          -0.7757757757757755,
          -0.7657657657657655,
          -0.7557557557557555,
          -0.7457457457457455,
          -0.7357357357357355,
          -0.7257257257257255,
          -0.7157157157157155,
          -0.7057057057057055,
          -0.6956956956956954,
          -0.6856856856856854,
          -0.6756756756756754,
          -0.6656656656656654,
          -0.6556556556556554,
          -0.6456456456456454,
          -0.6356356356356354,
          -0.6256256256256254,
          -0.6156156156156154,
          -0.6056056056056054,
          -0.5955955955955954,
          -0.5855855855855854,
          -0.5755755755755754,
          -0.5655655655655654,
          -0.5555555555555554,
          -0.5455455455455454,
          -0.5355355355355353,
          -0.5255255255255253,
          -0.5155155155155153,
          -0.5055055055055053,
          -0.4954954954954953,
          -0.4854854854854853,
          -0.4754754754754753,
          -0.4654654654654653,
          -0.4554554554554553,
          -0.4454454454454453,
          -0.4354354354354353,
          -0.4254254254254253,
          -0.41541541541541527,
          -0.40540540540540526,
          -0.39539539539539525,
          -0.38538538538538525,
          -0.37537537537537524,
          -0.36536536536536524,
          -0.35535535535535523,
          -0.3453453453453452,
          -0.3353353353353352,
          -0.3253253253253252,
          -0.3153153153153152,
          -0.3053053053053052,
          -0.2952952952952952,
          -0.2852852852852852,
          -0.2752752752752752,
          -0.26526526526526517,
          -0.25525525525525516,
          -0.24524524524524516,
          -0.23523523523523515,
          -0.22522522522522515,
          -0.21521521521521514,
          -0.20520520520520513,
          -0.19519519519519513,
          -0.18518518518518512,
          -0.1751751751751751,
          -0.1651651651651651,
          -0.1551551551551551,
          -0.1451451451451451,
          -0.1351351351351351,
          -0.12512512512512508,
          -0.11511511511511507,
          -0.10510510510510507,
          -0.09509509509509506,
          -0.08508508508508505,
          -0.07507507507507505,
          -0.06506506506506504,
          -0.055055055055055035,
          -0.04504504504504503,
          -0.03503503503503502,
          -0.025025025025025016,
          -0.01501501501501501,
          -0.005005005005005003,
          0.005005005005005003,
          0.01501501501501501,
          0.025025025025025016,
          0.03503503503503502,
          0.04504504504504503,
          0.055055055055055035,
          0.06506506506506504,
          0.07507507507507505,
          0.08508508508508505,
          0.09509509509509506,
          0.10510510510510507,
          0.11511511511511507,
          0.12512512512512508,
          0.1351351351351351,
          0.1451451451451451,
          0.1551551551551551,
          0.1651651651651651,
          0.1751751751751751,
          0.18518518518518512,
          0.19519519519519513,
          0.20520520520520513,
          0.21521521521521514,
          0.22522522522522515,
          0.23523523523523515,
          0.24524524524524516,
          0.25525525525525516,
          0.26526526526526517,
          0.2752752752752752,
          0.2852852852852852,
          0.2952952952952952,
          0.3053053053053052,
          0.3153153153153152,
          0.3253253253253252,
          0.3353353353353352,
          0.3453453453453452,
          0.35535535535535523,
          0.36536536536536524,
          0.37537537537537524,
          0.38538538538538525,
          0.39539539539539525,
          0.40540540540540526,
          0.41541541541541527,
          0.4254254254254253,
          0.4354354354354353,
          0.4454454454454453,
          0.4554554554554553,
          0.4654654654654653,
          0.4754754754754753,
          0.4854854854854853,
          0.4954954954954953,
          0.5055055055055053,
          0.5155155155155153,
          0.5255255255255253,
          0.5355355355355353,
          0.5455455455455454,
          0.5555555555555554,
          0.5655655655655654,
          0.5755755755755754,
          0.5855855855855854,
          0.5955955955955954,
          0.6056056056056054,
          0.6156156156156154,
          0.6256256256256254,
          0.6356356356356354,
          0.6456456456456454,
          0.6556556556556554,
          0.6656656656656654,
          0.6756756756756754,
          0.6856856856856854,
          0.6956956956956954,
          0.7057057057057055,
          0.7157157157157155,
          0.7257257257257255,
          0.7357357357357355,
          0.7457457457457455,
          0.7557557557557555,
          0.7657657657657655,
          0.7757757757757755,
          0.7857857857857855,
          0.7957957957957955,
          0.8058058058058055,
          0.8158158158158155,
          0.8258258258258255,
          0.8358358358358355,
          0.8458458458458455,
          0.8558558558558556,
          0.8658658658658656,
          0.8758758758758756,
          0.8858858858858856,
          0.8958958958958956,
          0.9059059059059056,
          0.9159159159159156,
          0.9259259259259256,
          0.9359359359359356,
          0.9459459459459456,
          0.9559559559559556,
          0.9659659659659656,
          0.9759759759759756,
          0.9859859859859856,
          0.9959959959959956,
          1.0060060060060056,
          1.0160160160160157,
          1.0260260260260257,
          1.0360360360360357,
          1.0460460460460457,
          1.0560560560560557,
          1.0660660660660657,
          1.0760760760760757,
          1.0860860860860857,
          1.0960960960960957,
          1.1061061061061057,
          1.1161161161161157,
          1.1261261261261257,
          1.1361361361361357,
          1.1461461461461457,
          1.1561561561561557,
          1.1661661661661658,
          1.1761761761761758,
          1.1861861861861858,
          1.1961961961961958,
          1.2062062062062058,
          1.2162162162162158,
          1.2262262262262258,
          1.2362362362362358,
          1.2462462462462458,
          1.2562562562562558,
          1.2662662662662658,
          1.2762762762762758,
          1.2862862862862858,
          1.2962962962962958,
          1.3063063063063058,
          1.3163163163163158,
          1.3263263263263259,
          1.3363363363363359,
          1.3463463463463459,
          1.3563563563563559,
          1.3663663663663659,
          1.3763763763763759,
          1.386386386386386,
          1.396396396396396,
          1.406406406406406,
          1.4164164164164168,
          1.4264264264264268,
          1.4364364364364368,
          1.4464464464464468,
          1.4564564564564568,
          1.4664664664664668,
          1.4764764764764768,
          1.4864864864864868,
          1.4964964964964969,
          1.5065065065065069,
          1.5165165165165169,
          1.5265265265265269,
          1.5365365365365369,
          1.5465465465465469,
          1.556556556556557,
          1.566566566566567,
          1.576576576576577,
          1.586586586586587,
          1.596596596596597,
          1.606606606606607,
          1.616616616616617,
          1.626626626626627,
          1.636636636636637,
          1.646646646646647,
          1.656656656656657,
          1.666666666666667,
          1.676676676676677,
          1.686686686686687,
          1.696696696696697,
          1.706706706706707,
          1.716716716716717,
          1.726726726726727,
          1.736736736736737,
          1.746746746746747,
          1.756756756756757,
          1.766766766766767,
          1.776776776776777,
          1.786786786786787,
          1.796796796796797,
          1.806806806806807,
          1.816816816816817,
          1.826826826826827,
          1.836836836836837,
          1.846846846846847,
          1.856856856856857,
          1.866866866866867,
          1.876876876876877,
          1.886886886886887,
          1.8968968968968971,
          1.9069069069069071,
          1.9169169169169171,
          1.9269269269269271,
          1.9369369369369371,
          1.9469469469469471,
          1.9569569569569571,
          1.9669669669669672,
          1.9769769769769772,
          1.9869869869869872,
          1.9969969969969972,
          2.007007007007007,
          2.017017017017017,
          2.027027027027027,
          2.037037037037037,
          2.047047047047047,
          2.057057057057057,
          2.067067067067067,
          2.0770770770770772,
          2.0870870870870872,
          2.0970970970970972,
          2.1071071071071072,
          2.1171171171171173,
          2.1271271271271273,
          2.1371371371371373,
          2.1471471471471473,
          2.1571571571571573,
          2.1671671671671673,
          2.1771771771771773,
          2.1871871871871873,
          2.1971971971971973,
          2.2072072072072073,
          2.2172172172172173,
          2.2272272272272273,
          2.2372372372372373,
          2.2472472472472473,
          2.2572572572572573,
          2.2672672672672673,
          2.2772772772772774,
          2.2872872872872874,
          2.2972972972972974,
          2.3073073073073074,
          2.3173173173173174,
          2.3273273273273274,
          2.3373373373373374,
          2.3473473473473474,
          2.3573573573573574,
          2.3673673673673674,
          2.3773773773773774,
          2.3873873873873874,
          2.3973973973973974,
          2.4074074074074074,
          2.4174174174174174,
          2.4274274274274275,
          2.4374374374374375,
          2.4474474474474475,
          2.4574574574574575,
          2.4674674674674675,
          2.4774774774774775,
          2.4874874874874875,
          2.4974974974974975,
          2.5075075075075075,
          2.5175175175175175,
          2.5275275275275275,
          2.5375375375375375,
          2.5475475475475475,
          2.5575575575575575,
          2.5675675675675675,
          2.5775775775775776,
          2.5875875875875876,
          2.5975975975975976,
          2.6076076076076076,
          2.6176176176176176,
          2.6276276276276276,
          2.6376376376376376,
          2.6476476476476476,
          2.6576576576576576,
          2.6676676676676676,
          2.6776776776776776,
          2.6876876876876876,
          2.6976976976976976,
          2.7077077077077076,
          2.7177177177177176,
          2.7277277277277276,
          2.7377377377377377,
          2.7477477477477477,
          2.7577577577577577,
          2.7677677677677677,
          2.7777777777777777,
          2.7877877877877877,
          2.7977977977977977,
          2.8078078078078077,
          2.8178178178178177,
          2.8278278278278277,
          2.8378378378378377,
          2.8478478478478477,
          2.8578578578578577,
          2.8678678678678677,
          2.8778778778778777,
          2.8878878878878878,
          2.8978978978978978,
          2.9079079079079078,
          2.9179179179179178,
          2.9279279279279278,
          2.937937937937938,
          2.947947947947948,
          2.957957957957958,
          2.967967967967968,
          2.977977977977978,
          2.987987987987988,
          2.997997997997998,
          3.0080080080080087,
          3.0180180180180187,
          3.0280280280280287,
          3.0380380380380387,
          3.0480480480480487,
          3.0580580580580587,
          3.0680680680680688,
          3.0780780780780788,
          3.0880880880880888,
          3.0980980980980988,
          3.108108108108109,
          3.118118118118119,
          3.128128128128129,
          3.138138138138139,
          3.148148148148149,
          3.158158158158159,
          3.168168168168169,
          3.178178178178179,
          3.188188188188189,
          3.198198198198199,
          3.208208208208209,
          3.218218218218219,
          3.228228228228229,
          3.238238238238239,
          3.248248248248249,
          3.258258258258259,
          3.268268268268269,
          3.278278278278279,
          3.288288288288289,
          3.298298298298299,
          3.308308308308309,
          3.318318318318319,
          3.328328328328329,
          3.338338338338339,
          3.348348348348349,
          3.358358358358359,
          3.368368368368369,
          3.378378378378379,
          3.388388388388389,
          3.398398398398399,
          3.408408408408409,
          3.418418418418419,
          3.428428428428429,
          3.438438438438439,
          3.448448448448449,
          3.458458458458459,
          3.468468468468469,
          3.478478478478479,
          3.488488488488489,
          3.498498498498499,
          3.508508508508509,
          3.518518518518519,
          3.528528528528529,
          3.538538538538539,
          3.548548548548549,
          3.558558558558559,
          3.568568568568569,
          3.578578578578579,
          3.588588588588589,
          3.598598598598599,
          3.608608608608609,
          3.618618618618619,
          3.628628628628629,
          3.638638638638639,
          3.648648648648649,
          3.658658658658659,
          3.668668668668669,
          3.678678678678679,
          3.688688688688689,
          3.698698698698699,
          3.708708708708709,
          3.718718718718719,
          3.728728728728729,
          3.738738738738739,
          3.748748748748749,
          3.758758758758759,
          3.768768768768769,
          3.778778778778779,
          3.788788788788789,
          3.7987987987987992,
          3.8088088088088092,
          3.8188188188188192,
          3.8288288288288292,
          3.8388388388388393,
          3.8488488488488493,
          3.8588588588588593,
          3.8688688688688693,
          3.8788788788788793,
          3.8888888888888893,
          3.8988988988988993,
          3.9089089089089093,
          3.9189189189189193,
          3.9289289289289293,
          3.9389389389389393,
          3.9489489489489493,
          3.9589589589589593,
          3.9689689689689693,
          3.9789789789789793,
          3.9889889889889893,
          3.9989989989989994,
          4.009009009009009,
          4.019019019019019,
          4.029029029029029,
          4.039039039039039,
          4.049049049049049,
          4.059059059059059,
          4.069069069069069,
          4.079079079079079,
          4.089089089089089,
          4.099099099099099,
          4.109109109109109,
          4.119119119119119,
          4.129129129129129,
          4.1391391391391394,
          4.1491491491491495,
          4.1591591591591595,
          4.1691691691691695,
          4.1791791791791795,
          4.1891891891891895,
          4.1991991991991995,
          4.2092092092092095,
          4.2192192192192195,
          4.2292292292292295,
          4.2392392392392395,
          4.2492492492492495,
          4.2592592592592595,
          4.2692692692692695,
          4.2792792792792795,
          4.2892892892892895,
          4.2992992992992995,
          4.3093093093093096,
          4.31931931931932,
          4.32932932932933,
          4.33933933933934,
          4.34934934934935,
          4.35935935935936,
          4.36936936936937,
          4.37937937937938,
          4.38938938938939,
          4.3993993993994,
          4.40940940940941,
          4.41941941941942,
          4.42942942942943,
          4.43943943943944,
          4.44944944944945,
          4.45945945945946,
          4.46946946946947,
          4.47947947947948,
          4.48948948948949,
          4.4994994994995,
          4.50950950950951,
          4.51951951951952,
          4.52952952952953,
          4.53953953953954,
          4.54954954954955,
          4.55955955955956,
          4.56956956956957,
          4.57957957957958,
          4.58958958958959,
          4.5995995995996,
          4.60960960960961,
          4.61961961961962,
          4.62962962962963,
          4.63963963963964,
          4.64964964964965,
          4.65965965965966,
          4.66966966966967,
          4.67967967967968,
          4.68968968968969,
          4.6996996996997,
          4.70970970970971,
          4.71971971971972,
          4.72972972972973,
          4.73973973973974,
          4.74974974974975,
          4.75975975975976,
          4.76976976976977,
          4.77977977977978,
          4.78978978978979,
          4.7997997997998,
          4.80980980980981,
          4.81981981981982,
          4.82982982982983,
          4.83983983983984,
          4.84984984984985,
          4.85985985985986,
          4.86986986986987,
          4.87987987987988,
          4.88988988988989,
          4.8998998998999,
          4.90990990990991,
          4.91991991991992,
          4.92992992992993,
          4.93993993993994,
          4.94994994994995,
          4.95995995995996,
          4.96996996996997,
          4.97997997997998,
          4.98998998998999,
          5
         ],
         "xaxis": "x",
         "y": [
          25,
          24.9000001002003,
          24.800200601001404,
          24.700601502403305,
          24.601202804406007,
          24.502004507009513,
          24.40300661021382,
          24.304209114018924,
          24.20561201842483,
          24.10721532343154,
          24.00901902903905,
          23.91102313524736,
          23.81322764205647,
          23.715632549466385,
          23.618237857477098,
          23.52104356608861,
          23.424049675300928,
          23.327256185114045,
          23.230663095527962,
          23.13427040654268,
          23.0380781181582,
          22.94208623037452,
          22.846294743191642,
          22.750703656609563,
          22.655312970628287,
          22.560122685247812,
          22.465132800468137,
          22.37034331628926,
          22.27575423271119,
          22.18136554973392,
          22.087177267357447,
          21.99318938558178,
          21.89940190440691,
          21.805814823832844,
          21.712428143859576,
          21.619241864487112,
          21.526255985715448,
          21.433470507544584,
          21.34088542997452,
          21.24850075300526,
          21.1563164766368,
          21.06433260086914,
          20.97254912570228,
          20.880966051136223,
          20.789583377170967,
          20.69840110380651,
          20.607419231042858,
          20.51663775888,
          20.42605668731795,
          20.3356760163567,
          20.245495745996248,
          20.1555158762366,
          20.06573640707775,
          19.9761573385197,
          19.886778670562457,
          19.797600403206012,
          19.708622536450367,
          19.619845070295522,
          19.53126800474148,
          19.44289133978824,
          19.3547150754358,
          19.266739211684158,
          19.17896374853332,
          19.091388685983283,
          19.004014024034046,
          18.916839762685612,
          18.829865901937975,
          18.74309244179114,
          18.65651938224511,
          18.570146723299878,
          18.48397446495545,
          18.39800260721182,
          18.31223115006899,
          18.226660093526963,
          18.141289437585737,
          18.05611918224531,
          17.971149327505685,
          17.886379873366863,
          17.80181081982884,
          17.71744216689162,
          17.633273914555197,
          17.54930606281958,
          17.46553861168476,
          17.381971561150742,
          17.298604911217527,
          17.21543866188511,
          17.132472813153495,
          17.049707365022684,
          16.96714231749267,
          16.88477767056346,
          16.802613424235048,
          16.720649578507437,
          16.63888613338063,
          16.557323088854623,
          16.475960444929417,
          16.39479820160501,
          16.313836358881407,
          16.233074916758603,
          16.1525138752366,
          16.0721532343154,
          15.991992993994995,
          15.912033154275395,
          15.832273715156598,
          15.7527146766386,
          15.673356038721403,
          15.594197801405008,
          15.515239964689414,
          15.43648252857462,
          15.357925493060629,
          15.279568858147437,
          15.201412623835045,
          15.123456790123456,
          15.045701357012668,
          14.96814632450268,
          14.890791692593494,
          14.813637461285108,
          14.736683630577524,
          14.659930200470741,
          14.583377170964757,
          14.507024542059577,
          14.430872313755197,
          14.354920486051617,
          14.279169058948838,
          14.203618032446862,
          14.128267406545685,
          14.053117181245309,
          13.978167356545734,
          13.903417932446962,
          13.828868908948989,
          13.754520286051818,
          13.680372063755447,
          13.606424242059878,
          13.53267682096511,
          13.459129800471143,
          13.385783180577976,
          13.31263696128561,
          13.239691142594046,
          13.166945724503282,
          13.09440070701332,
          13.022056090124158,
          12.949911873835799,
          12.87796805814824,
          12.80622464306148,
          12.734681628575522,
          12.663339014690367,
          12.592196801406011,
          12.521254988722458,
          12.450513576639704,
          12.37997256515775,
          12.3096319542766,
          12.239491743996249,
          12.169551934316699,
          12.099812525237951,
          12.030273516760005,
          11.960934908882857,
          11.891796701606513,
          11.822858894930969,
          11.754121488856224,
          11.685584483382282,
          11.61724787850914,
          11.5491116742368,
          11.481175870565258,
          11.41344046749452,
          11.345905465024583,
          11.278570863155446,
          11.21143666188711,
          11.144502861219577,
          11.077769461152842,
          11.01123646168691,
          10.944903862821779,
          10.878771664557448,
          10.812839866893919,
          10.747108469831192,
          10.681577473369263,
          10.616246877508138,
          10.551116682247812,
          10.486186887588287,
          10.421457493529564,
          10.356928500071641,
          10.29259990721452,
          10.2284717149582,
          10.16454392330268,
          10.100816532247961,
          10.037289541794046,
          9.973962951940928,
          9.910836762688612,
          9.847910974037099,
          9.785185585986385,
          9.722660598536473,
          9.660336011687361,
          9.598211825439051,
          9.536288039791541,
          9.474564654744833,
          9.413041670298925,
          9.35171908645382,
          9.290596903209515,
          9.22967512056601,
          9.168953738523307,
          9.108432757081404,
          9.048112176240304,
          8.987991996000003,
          8.928072216360503,
          8.868352837321805,
          8.808833858883908,
          8.749515281046811,
          8.690397103810517,
          8.631479327175022,
          8.572761951140329,
          8.514244975706436,
          8.455928400873345,
          8.397812226641054,
          8.339896453009565,
          8.282181079978876,
          8.22466610754899,
          8.167351535719904,
          8.110237364491619,
          8.053323593864134,
          7.99661022383745,
          7.940097254411568,
          7.883784685586487,
          7.827672517362206,
          7.7717607497387275,
          7.716049382716049,
          7.660538416294171,
          7.605227850473095,
          7.55011768525282,
          7.495207920633345,
          7.440498556614672,
          7.3859895931968,
          7.331681030379729,
          7.277572868163459,
          7.223665106547989,
          7.1699577455333205,
          7.116450785119453,
          7.063144225306387,
          7.010038066094122,
          6.957132307482658,
          6.904426949471994,
          6.851921992062132,
          6.7996174352530705,
          6.74751327904481,
          6.695609523437351,
          6.643906168430693,
          6.592403214024835,
          6.541100660219779,
          6.489998507015524,
          6.43909675441207,
          6.388395402409416,
          6.337894451007564,
          6.287593900206513,
          6.237493750006262,
          6.187594000406813,
          6.137894651408165,
          6.088395703010318,
          6.0390971552132715,
          5.989999008017026,
          5.941101261421582,
          5.8924039154269385,
          5.843906970033096,
          5.795610425240055,
          5.747514281047815,
          5.6996185374563755,
          5.651923194465737,
          5.6044282520759,
          5.557133710286863,
          5.510039569098629,
          5.463145828511194,
          5.416452488524561,
          5.369959549138729,
          5.323667010353697,
          5.277574872169467,
          5.231683134586038,
          5.18599179760341,
          5.140500861221582,
          5.095210325440556,
          5.050120190260331,
          5.005230455680906,
          4.960541121702283,
          4.9160521883244614,
          4.87176365554744,
          4.827675523371219,
          4.783787791795801,
          4.740100460821182,
          4.696613530447364,
          4.653327000674349,
          4.610240871502134,
          4.567355142930719,
          4.524669814960106,
          4.482184887590294,
          4.439900360821282,
          4.397816234653072,
          4.355932509085663,
          4.3142491841190544,
          4.272766259753247,
          4.231483735988241,
          4.190401612824036,
          4.149519890260632,
          4.108838568298029,
          4.068357646936226,
          4.028077126175225,
          3.987997006015025,
          3.9481172864556253,
          3.908437967497027,
          3.8689590491392303,
          3.829680531382234,
          3.7906024142260386,
          3.751724697670644,
          3.713047381716051,
          3.674570466362259,
          3.6362939516092676,
          3.5982178374570775,
          3.5603421239056883,
          3.5226668109551,
          3.4851918986053128,
          3.4479173868563264,
          3.4108432757081415,
          3.373969565160757,
          3.337296255214174,
          3.300823345868392,
          3.2645508371234104,
          3.2284787289792303,
          3.1926070214358497,
          3.1569357144932715,
          3.121464808151494,
          3.086194302410518,
          3.051124197270343,
          3.0162544927309685,
          2.9815851887923954,
          2.9471162854546233,
          2.912847782717652,
          2.878779680581482,
          2.844911979046113,
          2.8112446781115445,
          2.7777777777777772,
          2.7445112780448113,
          2.711445178912646,
          2.678579480381282,
          2.6459141824507184,
          2.6134492851209563,
          2.581184788391995,
          2.549120692263835,
          2.5172569967364757,
          2.4855937018099175,
          2.4541308074841606,
          2.422868313759204,
          2.391806220635049,
          2.3609445281116948,
          2.3302832361891417,
          2.2998223448673896,
          2.2695618541464384,
          2.239501764026288,
          2.209642074506939,
          2.179982785588391,
          2.1505238972706437,
          2.121265409553698,
          2.0922073224375524,
          2.0633496359222083,
          2.0346923500076652,
          2.006235464693923,
          1.977978979980982,
          1.9499228958688417,
          1.9220672123575024,
          1.8944119294469643,
          1.8669570471372272,
          1.839702565428291,
          1.8126484843201558,
          1.7857948038128217,
          1.7591415239062886,
          1.7326886446005565,
          1.7064361658956253,
          1.680384087791495,
          1.654532410288166,
          1.628881133385638,
          1.6034302570839107,
          1.5781797813829845,
          1.5531297062828595,
          1.5282800317835352,
          1.503630757885012,
          1.47918188458729,
          1.454933411890369,
          1.4308853397942487,
          1.4070376682989296,
          1.3833903974044115,
          1.3599435271106943,
          1.3366970574177781,
          1.313650988325663,
          1.290805319834349,
          1.2681600519438359,
          1.2457151846541237,
          1.2234707179652127,
          1.2014266518771024,
          1.1795829863897933,
          1.1579397215032852,
          1.136496857217578,
          1.115254393532672,
          1.094212330448567,
          1.0733706679652628,
          1.0527294060827597,
          1.0322885448010575,
          1.0120480841201565,
          0.9920080240400554,
          0.9721683645607563,
          0.9525291056822581,
          0.933090247404561,
          0.913851789727665,
          0.8948137326515698,
          0.8759760761762757,
          0.8573388203017827,
          0.8389019650280906,
          0.8206655103551994,
          0.8026294562831093,
          0.7847938028118203,
          0.7671585499413321,
          0.749723697671645,
          0.732489246002759,
          0.7154551949346739,
          0.6986215444673898,
          0.6819882946009067,
          0.6655554453352246,
          0.6493229966703435,
          0.6332909486062634,
          0.6174593011429844,
          0.6018280542805063,
          0.5863972080188292,
          0.5711667623579532,
          0.5561367172978781,
          0.541307072838604,
          0.5266778289801309,
          0.5122489857224588,
          0.49802054306558774,
          0.4839925010095177,
          0.4701648595542486,
          0.45653761869978055,
          0.44311077844611346,
          0.4298843387932474,
          0.4168582997411823,
          0.40403266128991827,
          0.39140742343945517,
          0.37898258618979314,
          0.36675814954093205,
          0.354734113492872,
          0.3429104780456129,
          0.33128724319915487,
          0.3198644089534978,
          0.30864197530864174,
          0.2976199422645867,
          0.28679830982133264,
          0.2761770779788796,
          0.26575624673722753,
          0.2555358160963765,
          0.24551578605632643,
          0.23569615661707738,
          0.2260769277786293,
          0.21665809954098228,
          0.20743967190413623,
          0.19842164486809116,
          0.18960401843284713,
          0.18098679259840408,
          0.17256996736476204,
          0.164353542731921,
          0.15633751869988094,
          0.1485218952686419,
          0.14090667243820387,
          0.13349185020856683,
          0.1262774285797308,
          0.11926340755169576,
          0.11244978712446171,
          0.10583656729802868,
          0.09942374807239665,
          0.09321132944756562,
          0.08719931142353558,
          0.08138769400030656,
          0.07577647717787853,
          0.07036566095625149,
          0.06515524533542547,
          0.06014523031540044,
          0.055335615896176416,
          0.05072640207775339,
          0.04631758886013137,
          0.04210917624331035,
          0.038101164227290325,
          0.034293552812071304,
          0.03068634199765329,
          0.02727953178403627,
          0.024073122171220252,
          0.021067113159205238,
          0.018261504747991222,
          0.015656296937578206,
          0.013251489727966194,
          0.011047083119155183,
          0.009043077111145173,
          0.007239471703936164,
          0.005636266897528155,
          0.0042334626919211474,
          0.003031059087115141,
          0.0020290560831101355,
          0.0012274536799061315,
          0.0006262518775031283,
          0.0002254506759011262,
          0.000025050075100125133,
          0.000025050075100125133,
          0.0002254506759011262,
          0.0006262518775031283,
          0.0012274536799061315,
          0.0020290560831101355,
          0.003031059087115141,
          0.0042334626919211474,
          0.005636266897528155,
          0.007239471703936164,
          0.009043077111145173,
          0.011047083119155183,
          0.013251489727966194,
          0.015656296937578206,
          0.018261504747991222,
          0.021067113159205238,
          0.024073122171220252,
          0.02727953178403627,
          0.03068634199765329,
          0.034293552812071304,
          0.038101164227290325,
          0.04210917624331035,
          0.04631758886013137,
          0.05072640207775339,
          0.055335615896176416,
          0.06014523031540044,
          0.06515524533542547,
          0.07036566095625149,
          0.07577647717787853,
          0.08138769400030656,
          0.08719931142353558,
          0.09321132944756562,
          0.09942374807239665,
          0.10583656729802868,
          0.11244978712446171,
          0.11926340755169576,
          0.1262774285797308,
          0.13349185020856683,
          0.14090667243820387,
          0.1485218952686419,
          0.15633751869988094,
          0.164353542731921,
          0.17256996736476204,
          0.18098679259840408,
          0.18960401843284713,
          0.19842164486809116,
          0.20743967190413623,
          0.21665809954098228,
          0.2260769277786293,
          0.23569615661707738,
          0.24551578605632643,
          0.2555358160963765,
          0.26575624673722753,
          0.2761770779788796,
          0.28679830982133264,
          0.2976199422645867,
          0.30864197530864174,
          0.3198644089534978,
          0.33128724319915487,
          0.3429104780456129,
          0.354734113492872,
          0.36675814954093205,
          0.37898258618979314,
          0.39140742343945517,
          0.40403266128991827,
          0.4168582997411823,
          0.4298843387932474,
          0.44311077844611346,
          0.45653761869978055,
          0.4701648595542486,
          0.4839925010095177,
          0.49802054306558774,
          0.5122489857224588,
          0.5266778289801309,
          0.541307072838604,
          0.5561367172978781,
          0.5711667623579532,
          0.5863972080188292,
          0.6018280542805063,
          0.6174593011429844,
          0.6332909486062634,
          0.6493229966703435,
          0.6655554453352246,
          0.6819882946009067,
          0.6986215444673898,
          0.7154551949346739,
          0.732489246002759,
          0.749723697671645,
          0.7671585499413321,
          0.7847938028118203,
          0.8026294562831093,
          0.8206655103551994,
          0.8389019650280906,
          0.8573388203017827,
          0.8759760761762757,
          0.8948137326515698,
          0.913851789727665,
          0.933090247404561,
          0.9525291056822581,
          0.9721683645607563,
          0.9920080240400554,
          1.0120480841201556,
          1.0322885448010566,
          1.0527294060827588,
          1.0733706679652617,
          1.0942123304485658,
          1.115254393532671,
          1.136496857217577,
          1.1579397215032843,
          1.1795829863897924,
          1.2014266518771015,
          1.2234707179652116,
          1.2457151846541228,
          1.2681600519438347,
          1.2908053198343479,
          1.313650988325662,
          1.3366970574177772,
          1.3599435271106932,
          1.3833903974044104,
          1.4070376682989285,
          1.4308853397942476,
          1.4549334118903678,
          1.4791818845872888,
          1.503630757885011,
          1.528280031783534,
          1.5531297062828584,
          1.5781797813829834,
          1.6034302570839096,
          1.6288811333856368,
          1.654532410288165,
          1.680384087791494,
          1.7064361658956242,
          1.7326886446005554,
          1.7591415239062875,
          1.7857948038128206,
          1.8126484843201547,
          1.83970256542829,
          1.866957047137226,
          1.8944119294469632,
          1.9220672123575013,
          1.9499228958688404,
          1.9779789799809806,
          2.0062354646939244,
          2.0346923500076666,
          2.0633496359222097,
          2.0922073224375537,
          2.121265409553699,
          2.150523897270645,
          2.1799827855883924,
          2.2096420745069403,
          2.2395017640262895,
          2.2695618541464397,
          2.299822344867391,
          2.330283236189143,
          2.3609445281116965,
          2.3918062206350506,
          2.4228683137592055,
          2.454130807484162,
          2.4855937018099192,
          2.517256996736477,
          2.5491206922638363,
          2.5811847883919965,
          2.6134492851209576,
          2.64591418245072,
          2.6785794803812832,
          2.7114451789126472,
          2.7445112780448127,
          2.7777777777777786,
          2.811244678111546,
          2.844911979046114,
          2.8787796805814834,
          2.9128477827176535,
          2.9471162854546247,
          2.9815851887923968,
          3.0162544927309702,
          3.0511241972703442,
          3.0861943024105196,
          3.121464808151496,
          3.156935714493273,
          3.192607021435851,
          3.2284787289792303,
          3.2645508371234104,
          3.300823345868392,
          3.337296255214174,
          3.373969565160757,
          3.4108432757081415,
          3.4479173868563264,
          3.4851918986053128,
          3.5226668109551,
          3.5603421239056883,
          3.5982178374570775,
          3.6362939516092676,
          3.674570466362259,
          3.713047381716051,
          3.751724697670644,
          3.7906024142260386,
          3.829680531382234,
          3.8689590491392303,
          3.908437967497027,
          3.9481172864556253,
          3.987997006015025,
          4.028077126175225,
          4.068357646936226,
          4.108838568298029,
          4.149519890260632,
          4.190401612824036,
          4.231483735988241,
          4.272766259753247,
          4.3142491841190544,
          4.355932509085663,
          4.397816234653072,
          4.439900360821282,
          4.482184887590294,
          4.524669814960106,
          4.567355142930719,
          4.610240871502134,
          4.653327000674349,
          4.696613530447364,
          4.740100460821182,
          4.783787791795801,
          4.827675523371219,
          4.87176365554744,
          4.9160521883244614,
          4.960541121702283,
          5.005230455680906,
          5.050120190260331,
          5.095210325440556,
          5.140500861221582,
          5.18599179760341,
          5.231683134586038,
          5.277574872169467,
          5.323667010353697,
          5.369959549138729,
          5.416452488524561,
          5.463145828511194,
          5.510039569098629,
          5.557133710286863,
          5.6044282520759,
          5.651923194465737,
          5.6996185374563755,
          5.747514281047815,
          5.795610425240055,
          5.843906970033096,
          5.8924039154269385,
          5.941101261421582,
          5.989999008017026,
          6.0390971552132715,
          6.088395703010318,
          6.137894651408165,
          6.187594000406813,
          6.237493750006262,
          6.287593900206513,
          6.337894451007564,
          6.388395402409416,
          6.43909675441207,
          6.489998507015524,
          6.541100660219779,
          6.592403214024835,
          6.643906168430693,
          6.695609523437351,
          6.74751327904481,
          6.7996174352530705,
          6.851921992062132,
          6.904426949471994,
          6.957132307482658,
          7.010038066094122,
          7.063144225306387,
          7.116450785119453,
          7.1699577455333205,
          7.223665106547989,
          7.277572868163459,
          7.331681030379729,
          7.3859895931968,
          7.440498556614672,
          7.495207920633345,
          7.55011768525282,
          7.605227850473095,
          7.660538416294171,
          7.716049382716049,
          7.7717607497387275,
          7.827672517362206,
          7.883784685586487,
          7.940097254411568,
          7.99661022383745,
          8.053323593864134,
          8.110237364491619,
          8.167351535719904,
          8.22466610754899,
          8.282181079978876,
          8.339896453009565,
          8.397812226641054,
          8.455928400873345,
          8.514244975706436,
          8.572761951140329,
          8.631479327175022,
          8.690397103810517,
          8.749515281046811,
          8.808833858883908,
          8.868352837321805,
          8.928072216360503,
          8.987991996000003,
          9.04811217624031,
          9.10843275708141,
          9.168953738523312,
          9.229675120566016,
          9.29059690320952,
          9.351719086453825,
          9.413041670298933,
          9.474564654744839,
          9.536288039791547,
          9.598211825439057,
          9.660336011687367,
          9.722660598536478,
          9.78518558598639,
          9.847910974037104,
          9.910836762688618,
          9.973962951940933,
          10.03728954179405,
          10.100816532247968,
          10.164543923302686,
          10.228471714958205,
          10.292599907214527,
          10.356928500071648,
          10.42145749352957,
          10.486186887588293,
          10.551116682247818,
          10.616246877508143,
          10.68157747336927,
          10.747108469831197,
          10.812839866893924,
          10.878771664557455,
          10.944903862821784,
          11.011236461686916,
          11.07776946115285,
          11.144502861219582,
          11.211436661887117,
          11.278570863155451,
          11.345905465024588,
          11.413440467494526,
          11.481175870565265,
          11.549111674236803,
          11.617247878509144,
          11.685584483382286,
          11.754121488856228,
          11.82285889493097,
          11.891796701606514,
          11.96093490888286,
          12.030273516760007,
          12.099812525237954,
          12.169551934316702,
          12.239491743996252,
          12.309631954276602,
          12.379972565157754,
          12.450513576639706,
          12.52125498872246,
          12.592196801406015,
          12.66333901469037,
          12.734681628575526,
          12.806224643061483,
          12.877968058148243,
          12.949911873835802,
          13.022056090124162,
          13.094400707013323,
          13.166945724503286,
          13.239691142594049,
          13.312636961285614,
          13.38578318057798,
          13.459129800471146,
          13.532676820965113,
          13.606424242059882,
          13.680372063755451,
          13.754520286051822,
          13.828868908948992,
          13.903417932446965,
          13.978167356545738,
          14.053117181245312,
          14.128267406545689,
          14.203618032446865,
          14.279169058948842,
          14.35492048605162,
          14.4308723137552,
          14.50702454205958,
          14.583377170964761,
          14.659930200470745,
          14.736683630577527,
          14.813637461285111,
          14.890791692593497,
          14.968146324502683,
          15.045701357012671,
          15.12345679012346,
          15.201412623835049,
          15.27956885814744,
          15.35792549306063,
          15.436482528574624,
          15.515239964689417,
          15.594197801405011,
          15.673356038721407,
          15.752714676638604,
          15.832273715156601,
          15.912033154275399,
          15.991992993994998,
          16.0721532343154,
          16.1525138752366,
          16.233074916758603,
          16.313836358881407,
          16.39479820160501,
          16.475960444929417,
          16.557323088854623,
          16.63888613338063,
          16.720649578507437,
          16.802613424235048,
          16.88477767056346,
          16.96714231749267,
          17.049707365022684,
          17.132472813153495,
          17.21543866188511,
          17.298604911217527,
          17.381971561150742,
          17.46553861168476,
          17.54930606281958,
          17.633273914555197,
          17.71744216689162,
          17.80181081982884,
          17.886379873366863,
          17.971149327505685,
          18.05611918224531,
          18.141289437585737,
          18.226660093526963,
          18.31223115006899,
          18.39800260721182,
          18.48397446495545,
          18.570146723299878,
          18.65651938224511,
          18.74309244179114,
          18.829865901937975,
          18.916839762685612,
          19.004014024034046,
          19.091388685983283,
          19.17896374853332,
          19.266739211684158,
          19.3547150754358,
          19.44289133978824,
          19.53126800474148,
          19.619845070295522,
          19.708622536450367,
          19.797600403206012,
          19.886778670562457,
          19.9761573385197,
          20.06573640707775,
          20.1555158762366,
          20.245495745996248,
          20.3356760163567,
          20.42605668731795,
          20.51663775888,
          20.607419231042858,
          20.69840110380651,
          20.789583377170967,
          20.880966051136223,
          20.97254912570228,
          21.06433260086914,
          21.1563164766368,
          21.24850075300526,
          21.34088542997452,
          21.433470507544584,
          21.526255985715448,
          21.619241864487112,
          21.712428143859576,
          21.805814823832844,
          21.89940190440691,
          21.99318938558178,
          22.087177267357447,
          22.18136554973392,
          22.27575423271119,
          22.37034331628926,
          22.465132800468137,
          22.560122685247812,
          22.655312970628287,
          22.750703656609563,
          22.846294743191642,
          22.94208623037452,
          23.0380781181582,
          23.13427040654268,
          23.230663095527962,
          23.327256185114045,
          23.424049675300928,
          23.52104356608861,
          23.618237857477098,
          23.715632549466385,
          23.81322764205647,
          23.91102313524736,
          24.00901902903905,
          24.10721532343154,
          24.20561201842483,
          24.304209114018924,
          24.40300661021382,
          24.502004507009513,
          24.601202804406007,
          24.700601502403305,
          24.800200601001404,
          24.9000001002003,
          25
         ],
         "yaxis": "y"
        }
       ],
       "layout": {
        "height": 500,
        "legend": {
         "tracegroupgap": 0
        },
        "margin": {
         "t": 60
        },
        "shapes": [
         {
          "type": "line",
          "x0": 0,
          "x1": 1,
          "xref": "x domain",
          "y0": 9,
          "y1": 9,
          "yref": "y"
         }
        ],
        "template": {
         "data": {
          "bar": [
           {
            "error_x": {
             "color": "#2a3f5f"
            },
            "error_y": {
             "color": "#2a3f5f"
            },
            "marker": {
             "line": {
              "color": "#E5ECF6",
              "width": 0.5
             },
             "pattern": {
              "fillmode": "overlay",
              "size": 10,
              "solidity": 0.2
             }
            },
            "type": "bar"
           }
          ],
          "barpolar": [
           {
            "marker": {
             "line": {
              "color": "#E5ECF6",
              "width": 0.5
             },
             "pattern": {
              "fillmode": "overlay",
              "size": 10,
              "solidity": 0.2
             }
            },
            "type": "barpolar"
           }
          ],
          "carpet": [
           {
            "aaxis": {
             "endlinecolor": "#2a3f5f",
             "gridcolor": "white",
             "linecolor": "white",
             "minorgridcolor": "white",
             "startlinecolor": "#2a3f5f"
            },
            "baxis": {
             "endlinecolor": "#2a3f5f",
             "gridcolor": "white",
             "linecolor": "white",
             "minorgridcolor": "white",
             "startlinecolor": "#2a3f5f"
            },
            "type": "carpet"
           }
          ],
          "choropleth": [
           {
            "colorbar": {
             "outlinewidth": 0,
             "ticks": ""
            },
            "type": "choropleth"
           }
          ],
          "contour": [
           {
            "colorbar": {
             "outlinewidth": 0,
             "ticks": ""
            },
            "colorscale": [
             [
              0,
              "#0d0887"
             ],
             [
              0.1111111111111111,
              "#46039f"
             ],
             [
              0.2222222222222222,
              "#7201a8"
             ],
             [
              0.3333333333333333,
              "#9c179e"
             ],
             [
              0.4444444444444444,
              "#bd3786"
             ],
             [
              0.5555555555555556,
              "#d8576b"
             ],
             [
              0.6666666666666666,
              "#ed7953"
             ],
             [
              0.7777777777777778,
              "#fb9f3a"
             ],
             [
              0.8888888888888888,
              "#fdca26"
             ],
             [
              1,
              "#f0f921"
             ]
            ],
            "type": "contour"
           }
          ],
          "contourcarpet": [
           {
            "colorbar": {
             "outlinewidth": 0,
             "ticks": ""
            },
            "type": "contourcarpet"
           }
          ],
          "heatmap": [
           {
            "colorbar": {
             "outlinewidth": 0,
             "ticks": ""
            },
            "colorscale": [
             [
              0,
              "#0d0887"
             ],
             [
              0.1111111111111111,
              "#46039f"
             ],
             [
              0.2222222222222222,
              "#7201a8"
             ],
             [
              0.3333333333333333,
              "#9c179e"
             ],
             [
              0.4444444444444444,
              "#bd3786"
             ],
             [
              0.5555555555555556,
              "#d8576b"
             ],
             [
              0.6666666666666666,
              "#ed7953"
             ],
             [
              0.7777777777777778,
              "#fb9f3a"
             ],
             [
              0.8888888888888888,
              "#fdca26"
             ],
             [
              1,
              "#f0f921"
             ]
            ],
            "type": "heatmap"
           }
          ],
          "heatmapgl": [
           {
            "colorbar": {
             "outlinewidth": 0,
             "ticks": ""
            },
            "colorscale": [
             [
              0,
              "#0d0887"
             ],
             [
              0.1111111111111111,
              "#46039f"
             ],
             [
              0.2222222222222222,
              "#7201a8"
             ],
             [
              0.3333333333333333,
              "#9c179e"
             ],
             [
              0.4444444444444444,
              "#bd3786"
             ],
             [
              0.5555555555555556,
              "#d8576b"
             ],
             [
              0.6666666666666666,
              "#ed7953"
             ],
             [
              0.7777777777777778,
              "#fb9f3a"
             ],
             [
              0.8888888888888888,
              "#fdca26"
             ],
             [
              1,
              "#f0f921"
             ]
            ],
            "type": "heatmapgl"
           }
          ],
          "histogram": [
           {
            "marker": {
             "pattern": {
              "fillmode": "overlay",
              "size": 10,
              "solidity": 0.2
             }
            },
            "type": "histogram"
           }
          ],
          "histogram2d": [
           {
            "colorbar": {
             "outlinewidth": 0,
             "ticks": ""
            },
            "colorscale": [
             [
              0,
              "#0d0887"
             ],
             [
              0.1111111111111111,
              "#46039f"
             ],
             [
              0.2222222222222222,
              "#7201a8"
             ],
             [
              0.3333333333333333,
              "#9c179e"
             ],
             [
              0.4444444444444444,
              "#bd3786"
             ],
             [
              0.5555555555555556,
              "#d8576b"
             ],
             [
              0.6666666666666666,
              "#ed7953"
             ],
             [
              0.7777777777777778,
              "#fb9f3a"
             ],
             [
              0.8888888888888888,
              "#fdca26"
             ],
             [
              1,
              "#f0f921"
             ]
            ],
            "type": "histogram2d"
           }
          ],
          "histogram2dcontour": [
           {
            "colorbar": {
             "outlinewidth": 0,
             "ticks": ""
            },
            "colorscale": [
             [
              0,
              "#0d0887"
             ],
             [
              0.1111111111111111,
              "#46039f"
             ],
             [
              0.2222222222222222,
              "#7201a8"
             ],
             [
              0.3333333333333333,
              "#9c179e"
             ],
             [
              0.4444444444444444,
              "#bd3786"
             ],
             [
              0.5555555555555556,
              "#d8576b"
             ],
             [
              0.6666666666666666,
              "#ed7953"
             ],
             [
              0.7777777777777778,
              "#fb9f3a"
             ],
             [
              0.8888888888888888,
              "#fdca26"
             ],
             [
              1,
              "#f0f921"
             ]
            ],
            "type": "histogram2dcontour"
           }
          ],
          "mesh3d": [
           {
            "colorbar": {
             "outlinewidth": 0,
             "ticks": ""
            },
            "type": "mesh3d"
           }
          ],
          "parcoords": [
           {
            "line": {
             "colorbar": {
              "outlinewidth": 0,
              "ticks": ""
             }
            },
            "type": "parcoords"
           }
          ],
          "pie": [
           {
            "automargin": true,
            "type": "pie"
           }
          ],
          "scatter": [
           {
            "fillpattern": {
             "fillmode": "overlay",
             "size": 10,
             "solidity": 0.2
            },
            "type": "scatter"
           }
          ],
          "scatter3d": [
           {
            "line": {
             "colorbar": {
              "outlinewidth": 0,
              "ticks": ""
             }
            },
            "marker": {
             "colorbar": {
              "outlinewidth": 0,
              "ticks": ""
             }
            },
            "type": "scatter3d"
           }
          ],
          "scattercarpet": [
           {
            "marker": {
             "colorbar": {
              "outlinewidth": 0,
              "ticks": ""
             }
            },
            "type": "scattercarpet"
           }
          ],
          "scattergeo": [
           {
            "marker": {
             "colorbar": {
              "outlinewidth": 0,
              "ticks": ""
             }
            },
            "type": "scattergeo"
           }
          ],
          "scattergl": [
           {
            "marker": {
             "colorbar": {
              "outlinewidth": 0,
              "ticks": ""
             }
            },
            "type": "scattergl"
           }
          ],
          "scattermapbox": [
           {
            "marker": {
             "colorbar": {
              "outlinewidth": 0,
              "ticks": ""
             }
            },
            "type": "scattermapbox"
           }
          ],
          "scatterpolar": [
           {
            "marker": {
             "colorbar": {
              "outlinewidth": 0,
              "ticks": ""
             }
            },
            "type": "scatterpolar"
           }
          ],
          "scatterpolargl": [
           {
            "marker": {
             "colorbar": {
              "outlinewidth": 0,
              "ticks": ""
             }
            },
            "type": "scatterpolargl"
           }
          ],
          "scatterternary": [
           {
            "marker": {
             "colorbar": {
              "outlinewidth": 0,
              "ticks": ""
             }
            },
            "type": "scatterternary"
           }
          ],
          "surface": [
           {
            "colorbar": {
             "outlinewidth": 0,
             "ticks": ""
            },
            "colorscale": [
             [
              0,
              "#0d0887"
             ],
             [
              0.1111111111111111,
              "#46039f"
             ],
             [
              0.2222222222222222,
              "#7201a8"
             ],
             [
              0.3333333333333333,
              "#9c179e"
             ],
             [
              0.4444444444444444,
              "#bd3786"
             ],
             [
              0.5555555555555556,
              "#d8576b"
             ],
             [
              0.6666666666666666,
              "#ed7953"
             ],
             [
              0.7777777777777778,
              "#fb9f3a"
             ],
             [
              0.8888888888888888,
              "#fdca26"
             ],
             [
              1,
              "#f0f921"
             ]
            ],
            "type": "surface"
           }
          ],
          "table": [
           {
            "cells": {
             "fill": {
              "color": "#EBF0F8"
             },
             "line": {
              "color": "white"
             }
            },
            "header": {
             "fill": {
              "color": "#C8D4E3"
             },
             "line": {
              "color": "white"
             }
            },
            "type": "table"
           }
          ]
         },
         "layout": {
          "annotationdefaults": {
           "arrowcolor": "#2a3f5f",
           "arrowhead": 0,
           "arrowwidth": 1
          },
          "autotypenumbers": "strict",
          "coloraxis": {
           "colorbar": {
            "outlinewidth": 0,
            "ticks": ""
           }
          },
          "colorscale": {
           "diverging": [
            [
             0,
             "#8e0152"
            ],
            [
             0.1,
             "#c51b7d"
            ],
            [
             0.2,
             "#de77ae"
            ],
            [
             0.3,
             "#f1b6da"
            ],
            [
             0.4,
             "#fde0ef"
            ],
            [
             0.5,
             "#f7f7f7"
            ],
            [
             0.6,
             "#e6f5d0"
            ],
            [
             0.7,
             "#b8e186"
            ],
            [
             0.8,
             "#7fbc41"
            ],
            [
             0.9,
             "#4d9221"
            ],
            [
             1,
             "#276419"
            ]
           ],
           "sequential": [
            [
             0,
             "#0d0887"
            ],
            [
             0.1111111111111111,
             "#46039f"
            ],
            [
             0.2222222222222222,
             "#7201a8"
            ],
            [
             0.3333333333333333,
             "#9c179e"
            ],
            [
             0.4444444444444444,
             "#bd3786"
            ],
            [
             0.5555555555555556,
             "#d8576b"
            ],
            [
             0.6666666666666666,
             "#ed7953"
            ],
            [
             0.7777777777777778,
             "#fb9f3a"
            ],
            [
             0.8888888888888888,
             "#fdca26"
            ],
            [
             1,
             "#f0f921"
            ]
           ],
           "sequentialminus": [
            [
             0,
             "#0d0887"
            ],
            [
             0.1111111111111111,
             "#46039f"
            ],
            [
             0.2222222222222222,
             "#7201a8"
            ],
            [
             0.3333333333333333,
             "#9c179e"
            ],
            [
             0.4444444444444444,
             "#bd3786"
            ],
            [
             0.5555555555555556,
             "#d8576b"
            ],
            [
             0.6666666666666666,
             "#ed7953"
            ],
            [
             0.7777777777777778,
             "#fb9f3a"
            ],
            [
             0.8888888888888888,
             "#fdca26"
            ],
            [
             1,
             "#f0f921"
            ]
           ]
          },
          "colorway": [
           "#636efa",
           "#EF553B",
           "#00cc96",
           "#ab63fa",
           "#FFA15A",
           "#19d3f3",
           "#FF6692",
           "#B6E880",
           "#FF97FF",
           "#FECB52"
          ],
          "font": {
           "color": "#2a3f5f"
          },
          "geo": {
           "bgcolor": "white",
           "lakecolor": "white",
           "landcolor": "#E5ECF6",
           "showlakes": true,
           "showland": true,
           "subunitcolor": "white"
          },
          "hoverlabel": {
           "align": "left"
          },
          "hovermode": "closest",
          "mapbox": {
           "style": "light"
          },
          "paper_bgcolor": "white",
          "plot_bgcolor": "#E5ECF6",
          "polar": {
           "angularaxis": {
            "gridcolor": "white",
            "linecolor": "white",
            "ticks": ""
           },
           "bgcolor": "#E5ECF6",
           "radialaxis": {
            "gridcolor": "white",
            "linecolor": "white",
            "ticks": ""
           }
          },
          "scene": {
           "xaxis": {
            "backgroundcolor": "#E5ECF6",
            "gridcolor": "white",
            "gridwidth": 2,
            "linecolor": "white",
            "showbackground": true,
            "ticks": "",
            "zerolinecolor": "white"
           },
           "yaxis": {
            "backgroundcolor": "#E5ECF6",
            "gridcolor": "white",
            "gridwidth": 2,
            "linecolor": "white",
            "showbackground": true,
            "ticks": "",
            "zerolinecolor": "white"
           },
           "zaxis": {
            "backgroundcolor": "#E5ECF6",
            "gridcolor": "white",
            "gridwidth": 2,
            "linecolor": "white",
            "showbackground": true,
            "ticks": "",
            "zerolinecolor": "white"
           }
          },
          "shapedefaults": {
           "line": {
            "color": "#2a3f5f"
           }
          },
          "ternary": {
           "aaxis": {
            "gridcolor": "white",
            "linecolor": "white",
            "ticks": ""
           },
           "baxis": {
            "gridcolor": "white",
            "linecolor": "white",
            "ticks": ""
           },
           "bgcolor": "#E5ECF6",
           "caxis": {
            "gridcolor": "white",
            "linecolor": "white",
            "ticks": ""
           }
          },
          "title": {
           "x": 0.05
          },
          "xaxis": {
           "automargin": true,
           "gridcolor": "white",
           "linecolor": "white",
           "ticks": "",
           "title": {
            "standoff": 15
           },
           "zerolinecolor": "white",
           "zerolinewidth": 2
          },
          "yaxis": {
           "automargin": true,
           "gridcolor": "white",
           "linecolor": "white",
           "ticks": "",
           "title": {
            "standoff": 15
           },
           "zerolinecolor": "white",
           "zerolinewidth": 2
          }
         }
        },
        "width": 700,
        "xaxis": {
         "anchor": "y",
         "domain": [
          0,
          1
         ],
         "title": {
          "text": "x"
         }
        },
        "yaxis": {
         "anchor": "x",
         "domain": [
          0,
          1
         ],
         "title": {
          "text": "f(x), dim = 1"
         }
        }
       }
      }
     },
     "metadata": {},
     "output_type": "display_data"
    }
   ],
   "source": [
    "import numpy as np\n",
    "import plotly.express as px\n",
    "\n",
    "from problems.Sphere import Sphere\n",
    "\n",
    "problem = Sphere(n_var=1)\n",
    "\n",
    "\n",
    "n_samples = 1000\n",
    "t = np.linspace(-5, 5, n_samples)\n",
    "\n",
    "#print(t.reshape((100, 1)))\n",
    "f = problem.evaluate(t.reshape((n_samples, 1))).reshape((n_samples))\n",
    "\n",
    "#-0.4998856251826551 -0.6625772720946803 -0.16350068322957823 0.38568400236784367\n",
    "\n",
    "# NumPy arrays arguments\n",
    "fig = px.line(x=t,\n",
    "                 y=f,\n",
    "                 labels={'x':'x', 'y':'f(x), dim = 1'},\n",
    "                 height=500, width=700) # override keyword names with labels\n",
    "fig.show()\n",
    "fig.write_image(\"../figures/presentation/1D_Sphere.svg\")\n",
    "fig.add_hline(y=9)\n",
    "# fig.add_hline(y=35)\n",
    "# fig.add_hline(y=0.5)\n",
    "fig.show()\n",
    "fig.write_image(\"../figures/presentation/1D_Sphere_with_line.svg\")"
   ]
  },
  {
   "cell_type": "markdown",
   "metadata": {},
   "source": [
    "# p_opt / % of optimal genes"
   ]
  },
  {
   "cell_type": "code",
   "execution_count": 13,
   "metadata": {},
   "outputs": [
    {
     "data": {
      "application/vnd.plotly.v1+json": {
       "config": {
        "plotlyServerURL": "https://plot.ly"
       },
       "data": [
        {
         "alignmentgroup": "True",
         "hovertemplate": "% optimal genes=%{x}<br>seed influence (more is better)=%{y}<extra></extra>",
         "legendgroup": "0.0",
         "marker": {
          "color": "#636efa"
         },
         "name": "0.0",
         "notched": false,
         "offsetgroup": "0.0",
         "orientation": "v",
         "showlegend": true,
         "type": "box",
         "x": [
          0,
          0,
          0,
          0,
          0,
          0,
          0,
          0,
          0,
          0,
          0,
          0,
          0,
          0,
          0,
          0,
          0,
          0,
          0,
          0,
          0,
          0,
          0,
          0,
          0,
          0,
          0,
          0,
          0,
          0,
          0
         ],
         "x0": " ",
         "xaxis": "x",
         "y": [
          0,
          0,
          0,
          0,
          0,
          0,
          0,
          0.0290578103735129,
          0,
          0,
          0,
          0,
          0,
          0,
          0,
          0,
          0,
          0,
          0,
          0.0142931934266974,
          0,
          0,
          0,
          0,
          0,
          0,
          0,
          0,
          0,
          0,
          0
         ],
         "y0": " ",
         "yaxis": "y"
        },
        {
         "alignmentgroup": "True",
         "hovertemplate": "% optimal genes=%{x}<br>seed influence (more is better)=%{y}<extra></extra>",
         "legendgroup": "0.25",
         "marker": {
          "color": "#EF553B"
         },
         "name": "0.25",
         "notched": false,
         "offsetgroup": "0.25",
         "orientation": "v",
         "showlegend": true,
         "type": "box",
         "x": [
          0.25,
          0.25,
          0.25,
          0.25,
          0.25,
          0.25,
          0.25,
          0.25,
          0.25,
          0.25,
          0.25,
          0.25,
          0.25,
          0.25,
          0.25,
          0.25,
          0.25,
          0.25,
          0.25,
          0.25,
          0.25,
          0.25,
          0.25,
          0.25,
          0.25,
          0.25,
          0.25,
          0.25,
          0.25,
          0.25,
          0.25
         ],
         "x0": " ",
         "xaxis": "x",
         "y": [
          0.11875,
          0.034375,
          0,
          0.128125,
          0.03125,
          0.05,
          0.034375,
          0.028125,
          0,
          0,
          0.125,
          0.0550558886609117,
          0,
          0,
          0.20625,
          0.0625,
          0,
          0,
          0,
          0,
          0,
          0,
          0.125,
          0.0625,
          0,
          0,
          0.0625,
          0,
          0,
          0.1125949488729414,
          0
         ],
         "y0": " ",
         "yaxis": "y"
        },
        {
         "alignmentgroup": "True",
         "hovertemplate": "% optimal genes=%{x}<br>seed influence (more is better)=%{y}<extra></extra>",
         "legendgroup": "0.5",
         "marker": {
          "color": "#00cc96"
         },
         "name": "0.5",
         "notched": false,
         "offsetgroup": "0.5",
         "orientation": "v",
         "showlegend": true,
         "type": "box",
         "x": [
          0.5,
          0.5,
          0.5,
          0.5,
          0.5,
          0.5,
          0.5,
          0.5,
          0.5,
          0.5,
          0.5,
          0.5,
          0.5,
          0.5,
          0.5,
          0.5,
          0.5,
          0.5,
          0.5,
          0.5,
          0.5,
          0.5,
          0.5,
          0.5,
          0.5,
          0.5,
          0.5,
          0.5,
          0.5,
          0.5,
          0.5
         ],
         "x0": " ",
         "xaxis": "x",
         "y": [
          0.1,
          0.090625,
          0,
          0.346875,
          0,
          0.25,
          0.028125,
          0.059375,
          0,
          0,
          0.040625,
          0.0625,
          0.1375,
          0.24375,
          0.38125,
          0.16875,
          0,
          0.053125,
          0.29375,
          0.2125,
          0.0625,
          0,
          0.109375,
          0.340625,
          0,
          0.034375,
          0.33125,
          0,
          0,
          0.275,
          0
         ],
         "y0": " ",
         "yaxis": "y"
        },
        {
         "alignmentgroup": "True",
         "hovertemplate": "% optimal genes=%{x}<br>seed influence (more is better)=%{y}<extra></extra>",
         "legendgroup": "0.75",
         "marker": {
          "color": "#ab63fa"
         },
         "name": "0.75",
         "notched": false,
         "offsetgroup": "0.75",
         "orientation": "v",
         "showlegend": true,
         "type": "box",
         "x": [
          0.75,
          0.75,
          0.75,
          0.75,
          0.75,
          0.75,
          0.75,
          0.75,
          0.75,
          0.75,
          0.75,
          0.75,
          0.75,
          0.75,
          0.75,
          0.75,
          0.75,
          0.75,
          0.75,
          0.75,
          0.75,
          0.75,
          0.75,
          0.75,
          0.75,
          0.75,
          0.75,
          0.75,
          0.75,
          0.75,
          0.75
         ],
         "x0": " ",
         "xaxis": "x",
         "y": [
          0.221875,
          0.484375,
          0,
          0.2625,
          0.5125,
          0.384375,
          0,
          0.096875,
          0.365625,
          0.125,
          0.375,
          0.321875,
          0.040625,
          0.2375,
          0.36875,
          0.0625,
          0.153125,
          0.10625,
          0,
          0,
          0.353125,
          0.125,
          0.2625,
          0.0625,
          0,
          0.38125,
          0.36875,
          0.159375,
          0.20625,
          0.125,
          0.10625
         ],
         "y0": " ",
         "yaxis": "y"
        }
       ],
       "layout": {
        "boxmode": "overlay",
        "font": {
         "color": "black",
         "family": "CMU Sans Serif",
         "size": 12
        },
        "height": 300,
        "legend": {
         "title": {
          "text": "% optimal genes"
         },
         "tracegroupgap": 0
        },
        "margin": {
         "t": 60
        },
        "paper_bgcolor": "rgba(0,0,0,0)",
        "showlegend": false,
        "template": {
         "data": {
          "bar": [
           {
            "error_x": {
             "color": "#2a3f5f"
            },
            "error_y": {
             "color": "#2a3f5f"
            },
            "marker": {
             "line": {
              "color": "#E5ECF6",
              "width": 0.5
             },
             "pattern": {
              "fillmode": "overlay",
              "size": 10,
              "solidity": 0.2
             }
            },
            "type": "bar"
           }
          ],
          "barpolar": [
           {
            "marker": {
             "line": {
              "color": "#E5ECF6",
              "width": 0.5
             },
             "pattern": {
              "fillmode": "overlay",
              "size": 10,
              "solidity": 0.2
             }
            },
            "type": "barpolar"
           }
          ],
          "carpet": [
           {
            "aaxis": {
             "endlinecolor": "#2a3f5f",
             "gridcolor": "white",
             "linecolor": "white",
             "minorgridcolor": "white",
             "startlinecolor": "#2a3f5f"
            },
            "baxis": {
             "endlinecolor": "#2a3f5f",
             "gridcolor": "white",
             "linecolor": "white",
             "minorgridcolor": "white",
             "startlinecolor": "#2a3f5f"
            },
            "type": "carpet"
           }
          ],
          "choropleth": [
           {
            "colorbar": {
             "outlinewidth": 0,
             "ticks": ""
            },
            "type": "choropleth"
           }
          ],
          "contour": [
           {
            "colorbar": {
             "outlinewidth": 0,
             "ticks": ""
            },
            "colorscale": [
             [
              0,
              "#0d0887"
             ],
             [
              0.1111111111111111,
              "#46039f"
             ],
             [
              0.2222222222222222,
              "#7201a8"
             ],
             [
              0.3333333333333333,
              "#9c179e"
             ],
             [
              0.4444444444444444,
              "#bd3786"
             ],
             [
              0.5555555555555556,
              "#d8576b"
             ],
             [
              0.6666666666666666,
              "#ed7953"
             ],
             [
              0.7777777777777778,
              "#fb9f3a"
             ],
             [
              0.8888888888888888,
              "#fdca26"
             ],
             [
              1,
              "#f0f921"
             ]
            ],
            "type": "contour"
           }
          ],
          "contourcarpet": [
           {
            "colorbar": {
             "outlinewidth": 0,
             "ticks": ""
            },
            "type": "contourcarpet"
           }
          ],
          "heatmap": [
           {
            "colorbar": {
             "outlinewidth": 0,
             "ticks": ""
            },
            "colorscale": [
             [
              0,
              "#0d0887"
             ],
             [
              0.1111111111111111,
              "#46039f"
             ],
             [
              0.2222222222222222,
              "#7201a8"
             ],
             [
              0.3333333333333333,
              "#9c179e"
             ],
             [
              0.4444444444444444,
              "#bd3786"
             ],
             [
              0.5555555555555556,
              "#d8576b"
             ],
             [
              0.6666666666666666,
              "#ed7953"
             ],
             [
              0.7777777777777778,
              "#fb9f3a"
             ],
             [
              0.8888888888888888,
              "#fdca26"
             ],
             [
              1,
              "#f0f921"
             ]
            ],
            "type": "heatmap"
           }
          ],
          "heatmapgl": [
           {
            "colorbar": {
             "outlinewidth": 0,
             "ticks": ""
            },
            "colorscale": [
             [
              0,
              "#0d0887"
             ],
             [
              0.1111111111111111,
              "#46039f"
             ],
             [
              0.2222222222222222,
              "#7201a8"
             ],
             [
              0.3333333333333333,
              "#9c179e"
             ],
             [
              0.4444444444444444,
              "#bd3786"
             ],
             [
              0.5555555555555556,
              "#d8576b"
             ],
             [
              0.6666666666666666,
              "#ed7953"
             ],
             [
              0.7777777777777778,
              "#fb9f3a"
             ],
             [
              0.8888888888888888,
              "#fdca26"
             ],
             [
              1,
              "#f0f921"
             ]
            ],
            "type": "heatmapgl"
           }
          ],
          "histogram": [
           {
            "marker": {
             "pattern": {
              "fillmode": "overlay",
              "size": 10,
              "solidity": 0.2
             }
            },
            "type": "histogram"
           }
          ],
          "histogram2d": [
           {
            "colorbar": {
             "outlinewidth": 0,
             "ticks": ""
            },
            "colorscale": [
             [
              0,
              "#0d0887"
             ],
             [
              0.1111111111111111,
              "#46039f"
             ],
             [
              0.2222222222222222,
              "#7201a8"
             ],
             [
              0.3333333333333333,
              "#9c179e"
             ],
             [
              0.4444444444444444,
              "#bd3786"
             ],
             [
              0.5555555555555556,
              "#d8576b"
             ],
             [
              0.6666666666666666,
              "#ed7953"
             ],
             [
              0.7777777777777778,
              "#fb9f3a"
             ],
             [
              0.8888888888888888,
              "#fdca26"
             ],
             [
              1,
              "#f0f921"
             ]
            ],
            "type": "histogram2d"
           }
          ],
          "histogram2dcontour": [
           {
            "colorbar": {
             "outlinewidth": 0,
             "ticks": ""
            },
            "colorscale": [
             [
              0,
              "#0d0887"
             ],
             [
              0.1111111111111111,
              "#46039f"
             ],
             [
              0.2222222222222222,
              "#7201a8"
             ],
             [
              0.3333333333333333,
              "#9c179e"
             ],
             [
              0.4444444444444444,
              "#bd3786"
             ],
             [
              0.5555555555555556,
              "#d8576b"
             ],
             [
              0.6666666666666666,
              "#ed7953"
             ],
             [
              0.7777777777777778,
              "#fb9f3a"
             ],
             [
              0.8888888888888888,
              "#fdca26"
             ],
             [
              1,
              "#f0f921"
             ]
            ],
            "type": "histogram2dcontour"
           }
          ],
          "mesh3d": [
           {
            "colorbar": {
             "outlinewidth": 0,
             "ticks": ""
            },
            "type": "mesh3d"
           }
          ],
          "parcoords": [
           {
            "line": {
             "colorbar": {
              "outlinewidth": 0,
              "ticks": ""
             }
            },
            "type": "parcoords"
           }
          ],
          "pie": [
           {
            "automargin": true,
            "type": "pie"
           }
          ],
          "scatter": [
           {
            "fillpattern": {
             "fillmode": "overlay",
             "size": 10,
             "solidity": 0.2
            },
            "type": "scatter"
           }
          ],
          "scatter3d": [
           {
            "line": {
             "colorbar": {
              "outlinewidth": 0,
              "ticks": ""
             }
            },
            "marker": {
             "colorbar": {
              "outlinewidth": 0,
              "ticks": ""
             }
            },
            "type": "scatter3d"
           }
          ],
          "scattercarpet": [
           {
            "marker": {
             "colorbar": {
              "outlinewidth": 0,
              "ticks": ""
             }
            },
            "type": "scattercarpet"
           }
          ],
          "scattergeo": [
           {
            "marker": {
             "colorbar": {
              "outlinewidth": 0,
              "ticks": ""
             }
            },
            "type": "scattergeo"
           }
          ],
          "scattergl": [
           {
            "marker": {
             "colorbar": {
              "outlinewidth": 0,
              "ticks": ""
             }
            },
            "type": "scattergl"
           }
          ],
          "scattermapbox": [
           {
            "marker": {
             "colorbar": {
              "outlinewidth": 0,
              "ticks": ""
             }
            },
            "type": "scattermapbox"
           }
          ],
          "scatterpolar": [
           {
            "marker": {
             "colorbar": {
              "outlinewidth": 0,
              "ticks": ""
             }
            },
            "type": "scatterpolar"
           }
          ],
          "scatterpolargl": [
           {
            "marker": {
             "colorbar": {
              "outlinewidth": 0,
              "ticks": ""
             }
            },
            "type": "scatterpolargl"
           }
          ],
          "scatterternary": [
           {
            "marker": {
             "colorbar": {
              "outlinewidth": 0,
              "ticks": ""
             }
            },
            "type": "scatterternary"
           }
          ],
          "surface": [
           {
            "colorbar": {
             "outlinewidth": 0,
             "ticks": ""
            },
            "colorscale": [
             [
              0,
              "#0d0887"
             ],
             [
              0.1111111111111111,
              "#46039f"
             ],
             [
              0.2222222222222222,
              "#7201a8"
             ],
             [
              0.3333333333333333,
              "#9c179e"
             ],
             [
              0.4444444444444444,
              "#bd3786"
             ],
             [
              0.5555555555555556,
              "#d8576b"
             ],
             [
              0.6666666666666666,
              "#ed7953"
             ],
             [
              0.7777777777777778,
              "#fb9f3a"
             ],
             [
              0.8888888888888888,
              "#fdca26"
             ],
             [
              1,
              "#f0f921"
             ]
            ],
            "type": "surface"
           }
          ],
          "table": [
           {
            "cells": {
             "fill": {
              "color": "#EBF0F8"
             },
             "line": {
              "color": "white"
             }
            },
            "header": {
             "fill": {
              "color": "#C8D4E3"
             },
             "line": {
              "color": "white"
             }
            },
            "type": "table"
           }
          ]
         },
         "layout": {
          "annotationdefaults": {
           "arrowcolor": "#2a3f5f",
           "arrowhead": 0,
           "arrowwidth": 1
          },
          "autotypenumbers": "strict",
          "coloraxis": {
           "colorbar": {
            "outlinewidth": 0,
            "ticks": ""
           }
          },
          "colorscale": {
           "diverging": [
            [
             0,
             "#8e0152"
            ],
            [
             0.1,
             "#c51b7d"
            ],
            [
             0.2,
             "#de77ae"
            ],
            [
             0.3,
             "#f1b6da"
            ],
            [
             0.4,
             "#fde0ef"
            ],
            [
             0.5,
             "#f7f7f7"
            ],
            [
             0.6,
             "#e6f5d0"
            ],
            [
             0.7,
             "#b8e186"
            ],
            [
             0.8,
             "#7fbc41"
            ],
            [
             0.9,
             "#4d9221"
            ],
            [
             1,
             "#276419"
            ]
           ],
           "sequential": [
            [
             0,
             "#0d0887"
            ],
            [
             0.1111111111111111,
             "#46039f"
            ],
            [
             0.2222222222222222,
             "#7201a8"
            ],
            [
             0.3333333333333333,
             "#9c179e"
            ],
            [
             0.4444444444444444,
             "#bd3786"
            ],
            [
             0.5555555555555556,
             "#d8576b"
            ],
            [
             0.6666666666666666,
             "#ed7953"
            ],
            [
             0.7777777777777778,
             "#fb9f3a"
            ],
            [
             0.8888888888888888,
             "#fdca26"
            ],
            [
             1,
             "#f0f921"
            ]
           ],
           "sequentialminus": [
            [
             0,
             "#0d0887"
            ],
            [
             0.1111111111111111,
             "#46039f"
            ],
            [
             0.2222222222222222,
             "#7201a8"
            ],
            [
             0.3333333333333333,
             "#9c179e"
            ],
            [
             0.4444444444444444,
             "#bd3786"
            ],
            [
             0.5555555555555556,
             "#d8576b"
            ],
            [
             0.6666666666666666,
             "#ed7953"
            ],
            [
             0.7777777777777778,
             "#fb9f3a"
            ],
            [
             0.8888888888888888,
             "#fdca26"
            ],
            [
             1,
             "#f0f921"
            ]
           ]
          },
          "colorway": [
           "#636efa",
           "#EF553B",
           "#00cc96",
           "#ab63fa",
           "#FFA15A",
           "#19d3f3",
           "#FF6692",
           "#B6E880",
           "#FF97FF",
           "#FECB52"
          ],
          "font": {
           "color": "#2a3f5f"
          },
          "geo": {
           "bgcolor": "white",
           "lakecolor": "white",
           "landcolor": "#E5ECF6",
           "showlakes": true,
           "showland": true,
           "subunitcolor": "white"
          },
          "hoverlabel": {
           "align": "left"
          },
          "hovermode": "closest",
          "mapbox": {
           "style": "light"
          },
          "paper_bgcolor": "white",
          "plot_bgcolor": "#E5ECF6",
          "polar": {
           "angularaxis": {
            "gridcolor": "white",
            "linecolor": "white",
            "ticks": ""
           },
           "bgcolor": "#E5ECF6",
           "radialaxis": {
            "gridcolor": "white",
            "linecolor": "white",
            "ticks": ""
           }
          },
          "scene": {
           "xaxis": {
            "backgroundcolor": "#E5ECF6",
            "gridcolor": "white",
            "gridwidth": 2,
            "linecolor": "white",
            "showbackground": true,
            "ticks": "",
            "zerolinecolor": "white"
           },
           "yaxis": {
            "backgroundcolor": "#E5ECF6",
            "gridcolor": "white",
            "gridwidth": 2,
            "linecolor": "white",
            "showbackground": true,
            "ticks": "",
            "zerolinecolor": "white"
           },
           "zaxis": {
            "backgroundcolor": "#E5ECF6",
            "gridcolor": "white",
            "gridwidth": 2,
            "linecolor": "white",
            "showbackground": true,
            "ticks": "",
            "zerolinecolor": "white"
           }
          },
          "shapedefaults": {
           "line": {
            "color": "#2a3f5f"
           }
          },
          "ternary": {
           "aaxis": {
            "gridcolor": "white",
            "linecolor": "white",
            "ticks": ""
           },
           "baxis": {
            "gridcolor": "white",
            "linecolor": "white",
            "ticks": ""
           },
           "bgcolor": "#E5ECF6",
           "caxis": {
            "gridcolor": "white",
            "linecolor": "white",
            "ticks": ""
           }
          },
          "title": {
           "x": 0.05
          },
          "xaxis": {
           "automargin": true,
           "gridcolor": "white",
           "linecolor": "white",
           "ticks": "",
           "title": {
            "standoff": 15
           },
           "zerolinecolor": "white",
           "zerolinewidth": 2
          },
          "yaxis": {
           "automargin": true,
           "gridcolor": "white",
           "linecolor": "white",
           "ticks": "",
           "title": {
            "standoff": 15
           },
           "zerolinecolor": "white",
           "zerolinewidth": 2
          }
         }
        },
        "width": 400,
        "xaxis": {
         "anchor": "y",
         "categoryarray": [
          0,
          0.25,
          0.5,
          0.75
         ],
         "categoryorder": "array",
         "domain": [
          0,
          1
         ],
         "showgrid": true,
         "title": {
          "text": "% optimal genes"
         },
         "type": "category"
        },
        "yaxis": {
         "anchor": "x",
         "domain": [
          0,
          1
         ],
         "title": {
          "text": "seed influence (more is better)"
         }
        }
       }
      }
     },
     "metadata": {},
     "output_type": "display_data"
    },
    {
     "data": {
      "application/vnd.plotly.v1+json": {
       "config": {
        "plotlyServerURL": "https://plot.ly"
       },
       "data": [
        {
         "alignmentgroup": "True",
         "hovertemplate": "% optimal genes=%{x}<br>fitness (less is better)=%{y}<extra></extra>",
         "legendgroup": "0.0",
         "marker": {
          "color": "#636efa"
         },
         "name": "0.0",
         "notched": false,
         "offsetgroup": "0.0",
         "orientation": "v",
         "showlegend": true,
         "type": "box",
         "x": [
          0,
          0,
          0,
          0,
          0,
          0,
          0,
          0,
          0,
          0,
          0,
          0,
          0,
          0,
          0,
          0,
          0,
          0,
          0,
          0,
          0,
          0,
          0,
          0,
          0,
          0,
          0,
          0,
          0,
          0,
          0
         ],
         "x0": " ",
         "xaxis": "x",
         "y": [
          0.0693786163016842,
          0.1416876727943044,
          0.1670772957449847,
          0.0996754763102357,
          0.3509545932613952,
          0.1040364935359273,
          0.3297631562425239,
          0.2959882200528145,
          0.207545655412207,
          0.1453570219850363,
          0.3376746126354198,
          0.1546015635796576,
          0.1151466853834701,
          0.1123444337050844,
          0.1028626606342481,
          0.2167380863046759,
          0.0975367821234788,
          0.1194295215561388,
          0.0836829231166975,
          0.0716433968594541,
          0.0771818265163754,
          0.0839830742600501,
          0.1607921668870385,
          0.2787052894733568,
          0.2220727122186871,
          0.1884326246705638,
          0.0923249900985524,
          0.1556022321436972,
          0.1785337376351538,
          0.1907355105729479,
          0.0677464911293066
         ],
         "y0": " ",
         "yaxis": "y"
        },
        {
         "alignmentgroup": "True",
         "hovertemplate": "% optimal genes=%{x}<br>fitness (less is better)=%{y}<extra></extra>",
         "legendgroup": "0.25",
         "marker": {
          "color": "#EF553B"
         },
         "name": "0.25",
         "notched": false,
         "offsetgroup": "0.25",
         "orientation": "v",
         "showlegend": true,
         "type": "box",
         "x": [
          0.25,
          0.25,
          0.25,
          0.25,
          0.25,
          0.25,
          0.25,
          0.25,
          0.25,
          0.25,
          0.25,
          0.25,
          0.25,
          0.25,
          0.25,
          0.25,
          0.25,
          0.25,
          0.25,
          0.25,
          0.25,
          0.25,
          0.25,
          0.25,
          0.25,
          0.25,
          0.25,
          0.25,
          0.25,
          0.25,
          0.25
         ],
         "x0": " ",
         "xaxis": "x",
         "y": [
          0.0366778072800898,
          0.1873295338634535,
          0.1670772957449847,
          0.0969039195628259,
          0.170638796480233,
          0.1040799125423843,
          0.1635800449318767,
          0.3473669763135837,
          0.2445924590581677,
          0.0655993281744524,
          0.0399213603618381,
          0.1449131136460785,
          0.0529075085112306,
          0.3258868550933106,
          0.0695379645472873,
          0.0630025730920132,
          0.1728220610989972,
          0.2523514683765704,
          0.3117678796009213,
          0.1072347660274218,
          0.0271313301972421,
          0.0720919333851744,
          0.2768355102250518,
          0.1228021114017731,
          0.2220727122186871,
          0.070119451495162,
          0.1132303089930894,
          0.133899038536194,
          0.0928122482949529,
          0.401017084714709,
          0.1129182743146502
         ],
         "y0": " ",
         "yaxis": "y"
        },
        {
         "alignmentgroup": "True",
         "hovertemplate": "% optimal genes=%{x}<br>fitness (less is better)=%{y}<extra></extra>",
         "legendgroup": "0.5",
         "marker": {
          "color": "#00cc96"
         },
         "name": "0.5",
         "notched": false,
         "offsetgroup": "0.5",
         "orientation": "v",
         "showlegend": true,
         "type": "box",
         "x": [
          0.5,
          0.5,
          0.5,
          0.5,
          0.5,
          0.5,
          0.5,
          0.5,
          0.5,
          0.5,
          0.5,
          0.5,
          0.5,
          0.5,
          0.5,
          0.5,
          0.5,
          0.5,
          0.5,
          0.5,
          0.5,
          0.5,
          0.5,
          0.5,
          0.5,
          0.5,
          0.5,
          0.5,
          0.5,
          0.5,
          0.5
         ],
         "x0": " ",
         "xaxis": "x",
         "y": [
          0.0259598809603889,
          0.1329604456011356,
          0.1670772957449847,
          0.0249161458967193,
          0.219947699091466,
          0.047973450998613,
          0.1660980847282049,
          0.1909932941084764,
          0.0463178453757397,
          0.0893049758780238,
          0.0632303945575584,
          0.3928385356963546,
          0.0967076394293659,
          0.0341457505560075,
          0.0958989527193915,
          0.0944801133964429,
          0.2053101740100654,
          0.1680209329913148,
          0.0616249414531624,
          0.0276221660451443,
          0.1929779932400665,
          0.044271344004598,
          0.2945633135016623,
          0.0312418846269141,
          0.2220727122186871,
          0.2085709663102601,
          0.0505025340747934,
          0.0856998373244045,
          0.1388720363763159,
          0.1536952447035808,
          0.1370015808203932
         ],
         "y0": " ",
         "yaxis": "y"
        },
        {
         "alignmentgroup": "True",
         "hovertemplate": "% optimal genes=%{x}<br>fitness (less is better)=%{y}<extra></extra>",
         "legendgroup": "0.75",
         "marker": {
          "color": "#ab63fa"
         },
         "name": "0.75",
         "notched": false,
         "offsetgroup": "0.75",
         "orientation": "v",
         "showlegend": true,
         "type": "box",
         "x": [
          0.75,
          0.75,
          0.75,
          0.75,
          0.75,
          0.75,
          0.75,
          0.75,
          0.75,
          0.75,
          0.75,
          0.75,
          0.75,
          0.75,
          0.75,
          0.75,
          0.75,
          0.75,
          0.75,
          0.75,
          0.75,
          0.75,
          0.75,
          0.75,
          0.75,
          0.75,
          0.75,
          0.75,
          0.75,
          0.75,
          0.75
         ],
         "x0": " ",
         "xaxis": "x",
         "y": [
          0.0878797201885775,
          0.0065509229094798,
          0.0384947431683077,
          0.1524561833120971,
          0.0989710441620833,
          0.0134871503586908,
          0.2977169065901986,
          0.0190182738802959,
          0.0143069046522625,
          0.03299011092004,
          0.0461390488876244,
          0.1668632163523873,
          0.0824698371440744,
          0.0825735862144309,
          0.0113842887717675,
          0.1974480892048407,
          0.0489867950229163,
          0.0830170590539573,
          0.1551472304058536,
          0.2037213106075532,
          0.0343615246658683,
          0.0697231450371053,
          0.0351203031786725,
          0.3332879636208278,
          0.2220727122186871,
          0.0154264243793652,
          0.0424683839501588,
          0.0644528605745553,
          0.0902803584133572,
          0.0892407494130449,
          0.2458218458936958
         ],
         "y0": " ",
         "yaxis": "y"
        }
       ],
       "layout": {
        "boxmode": "overlay",
        "font": {
         "color": "black",
         "family": "CMU Sans Serif",
         "size": 12
        },
        "height": 300,
        "legend": {
         "title": {
          "text": "% optimal genes"
         },
         "tracegroupgap": 0
        },
        "margin": {
         "t": 60
        },
        "paper_bgcolor": "rgba(0,0,0,0)",
        "showlegend": false,
        "template": {
         "data": {
          "bar": [
           {
            "error_x": {
             "color": "#2a3f5f"
            },
            "error_y": {
             "color": "#2a3f5f"
            },
            "marker": {
             "line": {
              "color": "#E5ECF6",
              "width": 0.5
             },
             "pattern": {
              "fillmode": "overlay",
              "size": 10,
              "solidity": 0.2
             }
            },
            "type": "bar"
           }
          ],
          "barpolar": [
           {
            "marker": {
             "line": {
              "color": "#E5ECF6",
              "width": 0.5
             },
             "pattern": {
              "fillmode": "overlay",
              "size": 10,
              "solidity": 0.2
             }
            },
            "type": "barpolar"
           }
          ],
          "carpet": [
           {
            "aaxis": {
             "endlinecolor": "#2a3f5f",
             "gridcolor": "white",
             "linecolor": "white",
             "minorgridcolor": "white",
             "startlinecolor": "#2a3f5f"
            },
            "baxis": {
             "endlinecolor": "#2a3f5f",
             "gridcolor": "white",
             "linecolor": "white",
             "minorgridcolor": "white",
             "startlinecolor": "#2a3f5f"
            },
            "type": "carpet"
           }
          ],
          "choropleth": [
           {
            "colorbar": {
             "outlinewidth": 0,
             "ticks": ""
            },
            "type": "choropleth"
           }
          ],
          "contour": [
           {
            "colorbar": {
             "outlinewidth": 0,
             "ticks": ""
            },
            "colorscale": [
             [
              0,
              "#0d0887"
             ],
             [
              0.1111111111111111,
              "#46039f"
             ],
             [
              0.2222222222222222,
              "#7201a8"
             ],
             [
              0.3333333333333333,
              "#9c179e"
             ],
             [
              0.4444444444444444,
              "#bd3786"
             ],
             [
              0.5555555555555556,
              "#d8576b"
             ],
             [
              0.6666666666666666,
              "#ed7953"
             ],
             [
              0.7777777777777778,
              "#fb9f3a"
             ],
             [
              0.8888888888888888,
              "#fdca26"
             ],
             [
              1,
              "#f0f921"
             ]
            ],
            "type": "contour"
           }
          ],
          "contourcarpet": [
           {
            "colorbar": {
             "outlinewidth": 0,
             "ticks": ""
            },
            "type": "contourcarpet"
           }
          ],
          "heatmap": [
           {
            "colorbar": {
             "outlinewidth": 0,
             "ticks": ""
            },
            "colorscale": [
             [
              0,
              "#0d0887"
             ],
             [
              0.1111111111111111,
              "#46039f"
             ],
             [
              0.2222222222222222,
              "#7201a8"
             ],
             [
              0.3333333333333333,
              "#9c179e"
             ],
             [
              0.4444444444444444,
              "#bd3786"
             ],
             [
              0.5555555555555556,
              "#d8576b"
             ],
             [
              0.6666666666666666,
              "#ed7953"
             ],
             [
              0.7777777777777778,
              "#fb9f3a"
             ],
             [
              0.8888888888888888,
              "#fdca26"
             ],
             [
              1,
              "#f0f921"
             ]
            ],
            "type": "heatmap"
           }
          ],
          "heatmapgl": [
           {
            "colorbar": {
             "outlinewidth": 0,
             "ticks": ""
            },
            "colorscale": [
             [
              0,
              "#0d0887"
             ],
             [
              0.1111111111111111,
              "#46039f"
             ],
             [
              0.2222222222222222,
              "#7201a8"
             ],
             [
              0.3333333333333333,
              "#9c179e"
             ],
             [
              0.4444444444444444,
              "#bd3786"
             ],
             [
              0.5555555555555556,
              "#d8576b"
             ],
             [
              0.6666666666666666,
              "#ed7953"
             ],
             [
              0.7777777777777778,
              "#fb9f3a"
             ],
             [
              0.8888888888888888,
              "#fdca26"
             ],
             [
              1,
              "#f0f921"
             ]
            ],
            "type": "heatmapgl"
           }
          ],
          "histogram": [
           {
            "marker": {
             "pattern": {
              "fillmode": "overlay",
              "size": 10,
              "solidity": 0.2
             }
            },
            "type": "histogram"
           }
          ],
          "histogram2d": [
           {
            "colorbar": {
             "outlinewidth": 0,
             "ticks": ""
            },
            "colorscale": [
             [
              0,
              "#0d0887"
             ],
             [
              0.1111111111111111,
              "#46039f"
             ],
             [
              0.2222222222222222,
              "#7201a8"
             ],
             [
              0.3333333333333333,
              "#9c179e"
             ],
             [
              0.4444444444444444,
              "#bd3786"
             ],
             [
              0.5555555555555556,
              "#d8576b"
             ],
             [
              0.6666666666666666,
              "#ed7953"
             ],
             [
              0.7777777777777778,
              "#fb9f3a"
             ],
             [
              0.8888888888888888,
              "#fdca26"
             ],
             [
              1,
              "#f0f921"
             ]
            ],
            "type": "histogram2d"
           }
          ],
          "histogram2dcontour": [
           {
            "colorbar": {
             "outlinewidth": 0,
             "ticks": ""
            },
            "colorscale": [
             [
              0,
              "#0d0887"
             ],
             [
              0.1111111111111111,
              "#46039f"
             ],
             [
              0.2222222222222222,
              "#7201a8"
             ],
             [
              0.3333333333333333,
              "#9c179e"
             ],
             [
              0.4444444444444444,
              "#bd3786"
             ],
             [
              0.5555555555555556,
              "#d8576b"
             ],
             [
              0.6666666666666666,
              "#ed7953"
             ],
             [
              0.7777777777777778,
              "#fb9f3a"
             ],
             [
              0.8888888888888888,
              "#fdca26"
             ],
             [
              1,
              "#f0f921"
             ]
            ],
            "type": "histogram2dcontour"
           }
          ],
          "mesh3d": [
           {
            "colorbar": {
             "outlinewidth": 0,
             "ticks": ""
            },
            "type": "mesh3d"
           }
          ],
          "parcoords": [
           {
            "line": {
             "colorbar": {
              "outlinewidth": 0,
              "ticks": ""
             }
            },
            "type": "parcoords"
           }
          ],
          "pie": [
           {
            "automargin": true,
            "type": "pie"
           }
          ],
          "scatter": [
           {
            "fillpattern": {
             "fillmode": "overlay",
             "size": 10,
             "solidity": 0.2
            },
            "type": "scatter"
           }
          ],
          "scatter3d": [
           {
            "line": {
             "colorbar": {
              "outlinewidth": 0,
              "ticks": ""
             }
            },
            "marker": {
             "colorbar": {
              "outlinewidth": 0,
              "ticks": ""
             }
            },
            "type": "scatter3d"
           }
          ],
          "scattercarpet": [
           {
            "marker": {
             "colorbar": {
              "outlinewidth": 0,
              "ticks": ""
             }
            },
            "type": "scattercarpet"
           }
          ],
          "scattergeo": [
           {
            "marker": {
             "colorbar": {
              "outlinewidth": 0,
              "ticks": ""
             }
            },
            "type": "scattergeo"
           }
          ],
          "scattergl": [
           {
            "marker": {
             "colorbar": {
              "outlinewidth": 0,
              "ticks": ""
             }
            },
            "type": "scattergl"
           }
          ],
          "scattermapbox": [
           {
            "marker": {
             "colorbar": {
              "outlinewidth": 0,
              "ticks": ""
             }
            },
            "type": "scattermapbox"
           }
          ],
          "scatterpolar": [
           {
            "marker": {
             "colorbar": {
              "outlinewidth": 0,
              "ticks": ""
             }
            },
            "type": "scatterpolar"
           }
          ],
          "scatterpolargl": [
           {
            "marker": {
             "colorbar": {
              "outlinewidth": 0,
              "ticks": ""
             }
            },
            "type": "scatterpolargl"
           }
          ],
          "scatterternary": [
           {
            "marker": {
             "colorbar": {
              "outlinewidth": 0,
              "ticks": ""
             }
            },
            "type": "scatterternary"
           }
          ],
          "surface": [
           {
            "colorbar": {
             "outlinewidth": 0,
             "ticks": ""
            },
            "colorscale": [
             [
              0,
              "#0d0887"
             ],
             [
              0.1111111111111111,
              "#46039f"
             ],
             [
              0.2222222222222222,
              "#7201a8"
             ],
             [
              0.3333333333333333,
              "#9c179e"
             ],
             [
              0.4444444444444444,
              "#bd3786"
             ],
             [
              0.5555555555555556,
              "#d8576b"
             ],
             [
              0.6666666666666666,
              "#ed7953"
             ],
             [
              0.7777777777777778,
              "#fb9f3a"
             ],
             [
              0.8888888888888888,
              "#fdca26"
             ],
             [
              1,
              "#f0f921"
             ]
            ],
            "type": "surface"
           }
          ],
          "table": [
           {
            "cells": {
             "fill": {
              "color": "#EBF0F8"
             },
             "line": {
              "color": "white"
             }
            },
            "header": {
             "fill": {
              "color": "#C8D4E3"
             },
             "line": {
              "color": "white"
             }
            },
            "type": "table"
           }
          ]
         },
         "layout": {
          "annotationdefaults": {
           "arrowcolor": "#2a3f5f",
           "arrowhead": 0,
           "arrowwidth": 1
          },
          "autotypenumbers": "strict",
          "coloraxis": {
           "colorbar": {
            "outlinewidth": 0,
            "ticks": ""
           }
          },
          "colorscale": {
           "diverging": [
            [
             0,
             "#8e0152"
            ],
            [
             0.1,
             "#c51b7d"
            ],
            [
             0.2,
             "#de77ae"
            ],
            [
             0.3,
             "#f1b6da"
            ],
            [
             0.4,
             "#fde0ef"
            ],
            [
             0.5,
             "#f7f7f7"
            ],
            [
             0.6,
             "#e6f5d0"
            ],
            [
             0.7,
             "#b8e186"
            ],
            [
             0.8,
             "#7fbc41"
            ],
            [
             0.9,
             "#4d9221"
            ],
            [
             1,
             "#276419"
            ]
           ],
           "sequential": [
            [
             0,
             "#0d0887"
            ],
            [
             0.1111111111111111,
             "#46039f"
            ],
            [
             0.2222222222222222,
             "#7201a8"
            ],
            [
             0.3333333333333333,
             "#9c179e"
            ],
            [
             0.4444444444444444,
             "#bd3786"
            ],
            [
             0.5555555555555556,
             "#d8576b"
            ],
            [
             0.6666666666666666,
             "#ed7953"
            ],
            [
             0.7777777777777778,
             "#fb9f3a"
            ],
            [
             0.8888888888888888,
             "#fdca26"
            ],
            [
             1,
             "#f0f921"
            ]
           ],
           "sequentialminus": [
            [
             0,
             "#0d0887"
            ],
            [
             0.1111111111111111,
             "#46039f"
            ],
            [
             0.2222222222222222,
             "#7201a8"
            ],
            [
             0.3333333333333333,
             "#9c179e"
            ],
            [
             0.4444444444444444,
             "#bd3786"
            ],
            [
             0.5555555555555556,
             "#d8576b"
            ],
            [
             0.6666666666666666,
             "#ed7953"
            ],
            [
             0.7777777777777778,
             "#fb9f3a"
            ],
            [
             0.8888888888888888,
             "#fdca26"
            ],
            [
             1,
             "#f0f921"
            ]
           ]
          },
          "colorway": [
           "#636efa",
           "#EF553B",
           "#00cc96",
           "#ab63fa",
           "#FFA15A",
           "#19d3f3",
           "#FF6692",
           "#B6E880",
           "#FF97FF",
           "#FECB52"
          ],
          "font": {
           "color": "#2a3f5f"
          },
          "geo": {
           "bgcolor": "white",
           "lakecolor": "white",
           "landcolor": "#E5ECF6",
           "showlakes": true,
           "showland": true,
           "subunitcolor": "white"
          },
          "hoverlabel": {
           "align": "left"
          },
          "hovermode": "closest",
          "mapbox": {
           "style": "light"
          },
          "paper_bgcolor": "white",
          "plot_bgcolor": "#E5ECF6",
          "polar": {
           "angularaxis": {
            "gridcolor": "white",
            "linecolor": "white",
            "ticks": ""
           },
           "bgcolor": "#E5ECF6",
           "radialaxis": {
            "gridcolor": "white",
            "linecolor": "white",
            "ticks": ""
           }
          },
          "scene": {
           "xaxis": {
            "backgroundcolor": "#E5ECF6",
            "gridcolor": "white",
            "gridwidth": 2,
            "linecolor": "white",
            "showbackground": true,
            "ticks": "",
            "zerolinecolor": "white"
           },
           "yaxis": {
            "backgroundcolor": "#E5ECF6",
            "gridcolor": "white",
            "gridwidth": 2,
            "linecolor": "white",
            "showbackground": true,
            "ticks": "",
            "zerolinecolor": "white"
           },
           "zaxis": {
            "backgroundcolor": "#E5ECF6",
            "gridcolor": "white",
            "gridwidth": 2,
            "linecolor": "white",
            "showbackground": true,
            "ticks": "",
            "zerolinecolor": "white"
           }
          },
          "shapedefaults": {
           "line": {
            "color": "#2a3f5f"
           }
          },
          "ternary": {
           "aaxis": {
            "gridcolor": "white",
            "linecolor": "white",
            "ticks": ""
           },
           "baxis": {
            "gridcolor": "white",
            "linecolor": "white",
            "ticks": ""
           },
           "bgcolor": "#E5ECF6",
           "caxis": {
            "gridcolor": "white",
            "linecolor": "white",
            "ticks": ""
           }
          },
          "title": {
           "x": 0.05
          },
          "xaxis": {
           "automargin": true,
           "gridcolor": "white",
           "linecolor": "white",
           "ticks": "",
           "title": {
            "standoff": 15
           },
           "zerolinecolor": "white",
           "zerolinewidth": 2
          },
          "yaxis": {
           "automargin": true,
           "gridcolor": "white",
           "linecolor": "white",
           "ticks": "",
           "title": {
            "standoff": 15
           },
           "zerolinecolor": "white",
           "zerolinewidth": 2
          }
         }
        },
        "width": 400,
        "xaxis": {
         "anchor": "y",
         "categoryarray": [
          0,
          0.25,
          0.5,
          0.75
         ],
         "categoryorder": "array",
         "domain": [
          0,
          1
         ],
         "showgrid": true,
         "title": {
          "text": "% optimal genes"
         },
         "type": "category"
        },
        "yaxis": {
         "anchor": "x",
         "domain": [
          0,
          1
         ],
         "title": {
          "text": "fitness (less is better)"
         }
        }
       }
      }
     },
     "metadata": {},
     "output_type": "display_data"
    }
   ],
   "source": [
    "import pandas as pd\n",
    "import plotly.express as px\n",
    "\n",
    "gen = 50; dim = 16; seed_quality = \"lower quartile\"; crossover=\"UX\"\n",
    "\n",
    "\n",
    "# =============================================================================\n",
    "# Impact\n",
    "# =============================================================================\n",
    "\n",
    "ci_df = pd.read_csv(\"../data/sphere_function_data_out/counting_impact.csv\")\n",
    "only_last_gen_ci = ci_df[ci_df.generation == gen]\n",
    "only_last_gen_ci = only_last_gen_ci[only_last_gen_ci.dim == dim]\n",
    "only_last_gen_ci = only_last_gen_ci[only_last_gen_ci.seed_quality == seed_quality]\n",
    "only_last_gen_ci = only_last_gen_ci[only_last_gen_ci.crossover == crossover]\n",
    "\n",
    "\n",
    "only_last_gen_ci = only_last_gen_ci[['traceID_1', 'percentage_of_optimal_genes', 'seed_quality', 'crossover']]\n",
    "\n",
    "fig = px.box(\n",
    "    only_last_gen_ci,\n",
    "    y=\"traceID_1\", x=\"percentage_of_optimal_genes\",\n",
    "    #facet_col=\"seed_quality\",\n",
    "    #facet_row=\"crossover\",\n",
    "    color=\"percentage_of_optimal_genes\",\n",
    "    labels={\n",
    "            \"value\": \"counting impact\",\n",
    "            \"variable\": \"\",\n",
    "            \"percentage_of_optimal_genes\": \"% optimal genes\",\n",
    "            \"traceID_1\" : \"seed influence (more is better)\"\n",
    "        },       \n",
    "    height=300, width=400,\n",
    "    )\n",
    "fig.update_layout(\n",
    "    font_family=\"CMU Sans Serif\",\n",
    "    font_color=\"black\",\n",
    "    font_size=12,\n",
    "    paper_bgcolor='rgba(0,0,0,0)',\n",
    ")\n",
    "fig.update_layout(showlegend=False)\n",
    "fig.update_xaxes(showgrid=True, type='category')\n",
    "fig.write_image(\"../figures/presentation/p_opt_comparison_impact.svg\")\n",
    "fig.show()\n",
    "\n",
    "# =============================================================================\n",
    "# performance\n",
    "# =============================================================================\n",
    "\n",
    "perf_df = pd.read_csv(\"../data/sphere_function_data_out/performance.csv\")\n",
    "only_last_gen_perf = perf_df[perf_df.generation == gen]\n",
    "only_last_gen_perf = only_last_gen_perf[only_last_gen_perf.dim == dim]\n",
    "only_last_gen_perf = only_last_gen_perf[only_last_gen_perf.seed_quality == seed_quality]\n",
    "only_last_gen_perf = only_last_gen_perf[only_last_gen_perf.crossover == crossover]\n",
    "\n",
    "\n",
    "fig = px.box(\n",
    "    only_last_gen_perf,\n",
    "    y=\"min_f\", x=\"percentage_of_optimal_genes\",\n",
    "    #facet_col=\"seed_quality\",\n",
    "    #facet_row=\"crossover\",\n",
    "    color=\"percentage_of_optimal_genes\",\n",
    "    labels={\n",
    "            \"min_f\": \"fitness (less is better)\",\n",
    "            \"percentage_of_optimal_genes\": \"% optimal genes\",\n",
    "        },       \n",
    "    height=300, width=400,\n",
    "    )\n",
    "fig.update_layout(\n",
    "    font_family=\"CMU Sans Serif\",\n",
    "    font_color=\"black\",\n",
    "    font_size=12,\n",
    "    paper_bgcolor='rgba(0,0,0,0)',\n",
    ")\n",
    "fig.update_layout(showlegend=False)\n",
    "fig.update_xaxes(showgrid=True, type='category')\n",
    "fig.write_image(\"../figures/presentation/p_opt_comparison_performance.svg\")\n",
    "fig.show()"
   ]
  },
  {
   "cell_type": "markdown",
   "metadata": {},
   "source": [
    "# Seed Qualities"
   ]
  },
  {
   "cell_type": "code",
   "execution_count": 77,
   "metadata": {},
   "outputs": [
    {
     "data": {
      "application/vnd.plotly.v1+json": {
       "config": {
        "plotlyServerURL": "https://plot.ly"
       },
       "data": [
        {
         "alignmentgroup": "True",
         "hovertemplate": "% optimal genes=%{x}<br>seed_quality=best<br>seed ind influence=%{y}<extra></extra>",
         "legendgroup": "0.0",
         "marker": {
          "color": "#636efa"
         },
         "name": "0.0",
         "notched": false,
         "offsetgroup": "0.0",
         "orientation": "v",
         "showlegend": true,
         "type": "box",
         "x": [
          0,
          0,
          0,
          0,
          0,
          0,
          0,
          0,
          0,
          0,
          0,
          0,
          0,
          0,
          0,
          0,
          0,
          0,
          0,
          0,
          0,
          0,
          0,
          0,
          0,
          0,
          0,
          0,
          0,
          0,
          0
         ],
         "x0": " ",
         "xaxis": "x",
         "y": [
          0.2362187119641439,
          0.0716816049424731,
          0.1968743466929897,
          0.0596372232556181,
          0.2272156577891287,
          0.186370367661314,
          0.1477271329397995,
          0.1947706567368592,
          0.0742629842327933,
          0.093270622389768,
          0.0360917432133381,
          0.1961300675271265,
          0.1059279821366444,
          0.2063950246300991,
          0.1817976658108427,
          0.1633382937230385,
          0.1240517864956672,
          0.1720867459931132,
          0.1067291027562857,
          0.0910982126151244,
          0.0496557966711568,
          0.1553346999231626,
          0.1158955457625318,
          0,
          0.2208600276775922,
          0.0691795019846216,
          0.1725436647231891,
          0.1744931898851349,
          0.0660790946076729,
          0.196228653775052,
          0.2186584628470857
         ],
         "y0": " ",
         "yaxis": "y"
        },
        {
         "alignmentgroup": "True",
         "hovertemplate": "% optimal genes=%{x}<br>seed_quality=lower quartile<br>seed ind influence=%{y}<extra></extra>",
         "legendgroup": "0.0",
         "marker": {
          "color": "#636efa"
         },
         "name": "0.0",
         "notched": false,
         "offsetgroup": "0.0",
         "orientation": "v",
         "showlegend": false,
         "type": "box",
         "x": [
          0,
          0,
          0,
          0,
          0,
          0,
          0,
          0,
          0,
          0,
          0,
          0,
          0,
          0,
          0,
          0,
          0,
          0,
          0,
          0,
          0,
          0,
          0,
          0,
          0,
          0,
          0,
          0,
          0,
          0,
          0
         ],
         "x0": " ",
         "xaxis": "x2",
         "y": [
          0,
          0,
          0,
          0,
          0,
          0,
          0,
          0.0290578103735129,
          0,
          0,
          0,
          0,
          0,
          0,
          0,
          0,
          0,
          0,
          0,
          0.0142931934266974,
          0,
          0,
          0,
          0,
          0,
          0,
          0,
          0,
          0,
          0,
          0
         ],
         "y0": " ",
         "yaxis": "y2"
        },
        {
         "alignmentgroup": "True",
         "hovertemplate": "% optimal genes=%{x}<br>seed_quality=median<br>seed ind influence=%{y}<extra></extra>",
         "legendgroup": "0.0",
         "marker": {
          "color": "#636efa"
         },
         "name": "0.0",
         "notched": false,
         "offsetgroup": "0.0",
         "orientation": "v",
         "showlegend": false,
         "type": "box",
         "x": [
          0,
          0,
          0,
          0,
          0,
          0,
          0,
          0,
          0,
          0,
          0,
          0,
          0,
          0,
          0,
          0,
          0,
          0,
          0,
          0,
          0,
          0,
          0,
          0,
          0,
          0,
          0,
          0,
          0,
          0,
          0
         ],
         "x0": " ",
         "xaxis": "x3",
         "y": [
          0,
          0,
          0,
          0,
          0,
          0,
          0,
          0,
          0,
          0,
          0,
          0,
          0,
          0,
          0,
          0,
          0,
          0,
          0,
          0,
          0,
          0,
          0,
          0,
          0,
          0,
          0,
          0,
          0,
          0,
          0
         ],
         "y0": " ",
         "yaxis": "y3"
        },
        {
         "alignmentgroup": "True",
         "hovertemplate": "% optimal genes=%{x}<br>seed_quality=upper quartile<br>seed ind influence=%{y}<extra></extra>",
         "legendgroup": "0.0",
         "marker": {
          "color": "#636efa"
         },
         "name": "0.0",
         "notched": false,
         "offsetgroup": "0.0",
         "orientation": "v",
         "showlegend": false,
         "type": "box",
         "x": [
          0,
          0,
          0,
          0,
          0,
          0,
          0,
          0,
          0,
          0,
          0,
          0,
          0,
          0,
          0,
          0,
          0,
          0,
          0,
          0,
          0,
          0,
          0,
          0,
          0,
          0,
          0,
          0,
          0,
          0,
          0
         ],
         "x0": " ",
         "xaxis": "x4",
         "y": [
          0,
          0,
          0,
          0,
          0,
          0,
          0,
          0,
          0,
          0,
          0,
          0,
          0,
          0,
          0,
          0,
          0,
          0,
          0,
          0,
          0,
          0,
          0,
          0,
          0,
          0,
          0,
          0,
          0,
          0,
          0
         ],
         "y0": " ",
         "yaxis": "y4"
        },
        {
         "alignmentgroup": "True",
         "hovertemplate": "% optimal genes=%{x}<br>seed_quality=best<br>seed ind influence=%{y}<extra></extra>",
         "legendgroup": "0.25",
         "marker": {
          "color": "#EF553B"
         },
         "name": "0.25",
         "notched": false,
         "offsetgroup": "0.25",
         "orientation": "v",
         "showlegend": true,
         "type": "box",
         "x": [
          0.25,
          0.25,
          0.25,
          0.25,
          0.25,
          0.25,
          0.25,
          0.25,
          0.25,
          0.25,
          0.25,
          0.25,
          0.25,
          0.25,
          0.25,
          0.25,
          0.25,
          0.25,
          0.25,
          0.25,
          0.25,
          0.25,
          0.25,
          0.25,
          0.25,
          0.25,
          0.25,
          0.25,
          0.25,
          0.25,
          0.25
         ],
         "x0": " ",
         "xaxis": "x",
         "y": [
          0.2680814102557912,
          0.3394032777551427,
          0.3028103884499357,
          0.146875,
          0.3615766446475889,
          0.3636957779041075,
          0.2291131542142833,
          0.2292099124044802,
          0.2343338116152238,
          0.3177164534886368,
          0.2154606294757323,
          0.2789590967931629,
          0.3339914273871173,
          0.3221358034029078,
          0.3169250415158307,
          0.3522203857735698,
          0.279869499649884,
          0.2239708545449193,
          0.3024885706817523,
          0.2801854271547616,
          0.2300216457294899,
          0.271857009806169,
          0.3156109561413807,
          0.1971849016822788,
          0.2184531960239109,
          0.2987165182553522,
          0.200811028220954,
          0.3035434283627656,
          0.2839476686885288,
          0.2430445843204925,
          0.3578118960731455
         ],
         "y0": " ",
         "yaxis": "y"
        },
        {
         "alignmentgroup": "True",
         "hovertemplate": "% optimal genes=%{x}<br>seed_quality=lower quartile<br>seed ind influence=%{y}<extra></extra>",
         "legendgroup": "0.25",
         "marker": {
          "color": "#EF553B"
         },
         "name": "0.25",
         "notched": false,
         "offsetgroup": "0.25",
         "orientation": "v",
         "showlegend": false,
         "type": "box",
         "x": [
          0.25,
          0.25,
          0.25,
          0.25,
          0.25,
          0.25,
          0.25,
          0.25,
          0.25,
          0.25,
          0.25,
          0.25,
          0.25,
          0.25,
          0.25,
          0.25,
          0.25,
          0.25,
          0.25,
          0.25,
          0.25,
          0.25,
          0.25,
          0.25,
          0.25,
          0.25,
          0.25,
          0.25,
          0.25,
          0.25,
          0.25
         ],
         "x0": " ",
         "xaxis": "x2",
         "y": [
          0.11875,
          0.034375,
          0,
          0.128125,
          0.03125,
          0.05,
          0.034375,
          0.028125,
          0,
          0,
          0.125,
          0.0550558886609117,
          0,
          0,
          0.20625,
          0.0625,
          0,
          0,
          0,
          0,
          0,
          0,
          0.125,
          0.0625,
          0,
          0,
          0.0625,
          0,
          0,
          0.1125949488729414,
          0
         ],
         "y0": " ",
         "yaxis": "y2"
        },
        {
         "alignmentgroup": "True",
         "hovertemplate": "% optimal genes=%{x}<br>seed_quality=median<br>seed ind influence=%{y}<extra></extra>",
         "legendgroup": "0.25",
         "marker": {
          "color": "#EF553B"
         },
         "name": "0.25",
         "notched": false,
         "offsetgroup": "0.25",
         "orientation": "v",
         "showlegend": false,
         "type": "box",
         "x": [
          0.25,
          0.25,
          0.25,
          0.25,
          0.25,
          0.25,
          0.25,
          0.25,
          0.25,
          0.25,
          0.25,
          0.25,
          0.25,
          0.25,
          0.25,
          0.25,
          0.25,
          0.25,
          0.25,
          0.25,
          0.25,
          0.25,
          0.25,
          0.25,
          0.25,
          0.25,
          0.25,
          0.25,
          0.25,
          0.25,
          0.25
         ],
         "x0": " ",
         "xaxis": "x3",
         "y": [
          0,
          0,
          0,
          0.096875,
          0,
          0,
          0.028125,
          0,
          0,
          0,
          0,
          0,
          0,
          0,
          0,
          0,
          0,
          0,
          0.0625,
          0,
          0,
          0.03125,
          0,
          0,
          0,
          0,
          0,
          0,
          0,
          0,
          0
         ],
         "y0": " ",
         "yaxis": "y3"
        },
        {
         "alignmentgroup": "True",
         "hovertemplate": "% optimal genes=%{x}<br>seed_quality=upper quartile<br>seed ind influence=%{y}<extra></extra>",
         "legendgroup": "0.25",
         "marker": {
          "color": "#EF553B"
         },
         "name": "0.25",
         "notched": false,
         "offsetgroup": "0.25",
         "orientation": "v",
         "showlegend": false,
         "type": "box",
         "x": [
          0.25,
          0.25,
          0.25,
          0.25,
          0.25,
          0.25,
          0.25,
          0.25,
          0.25,
          0.25,
          0.25,
          0.25,
          0.25,
          0.25,
          0.25,
          0.25,
          0.25,
          0.25,
          0.25,
          0.25,
          0.25,
          0.25,
          0.25,
          0.25,
          0.25,
          0.25,
          0.25,
          0.25,
          0.25,
          0.25,
          0.25
         ],
         "x0": " ",
         "xaxis": "x4",
         "y": [
          0,
          0,
          0,
          0,
          0.04375,
          0,
          0.021875,
          0,
          0,
          0,
          0,
          0,
          0,
          0,
          0,
          0,
          0,
          0,
          0.01875,
          0,
          0,
          0,
          0,
          0,
          0,
          0,
          0,
          0,
          0,
          0,
          0
         ],
         "y0": " ",
         "yaxis": "y4"
        },
        {
         "alignmentgroup": "True",
         "hovertemplate": "% optimal genes=%{x}<br>seed_quality=best<br>seed ind influence=%{y}<extra></extra>",
         "legendgroup": "0.5",
         "marker": {
          "color": "#00cc96"
         },
         "name": "0.5",
         "notched": false,
         "offsetgroup": "0.5",
         "orientation": "v",
         "showlegend": true,
         "type": "box",
         "x": [
          0.5,
          0.5,
          0.5,
          0.5,
          0.5,
          0.5,
          0.5,
          0.5,
          0.5,
          0.5,
          0.5,
          0.5,
          0.5,
          0.5,
          0.5,
          0.5,
          0.5,
          0.5,
          0.5,
          0.5,
          0.5,
          0.5,
          0.5,
          0.5,
          0.5,
          0.5,
          0.5,
          0.5,
          0.5,
          0.5,
          0.5
         ],
         "x0": " ",
         "xaxis": "x",
         "y": [
          0.4445459380987673,
          0.471875,
          0.4901891507743109,
          0.4012960284735946,
          0.4543316550450984,
          0.4530348170781659,
          0.4931171696747213,
          0.4994137857618036,
          0.3546810368752144,
          0.3626403565402792,
          0.375,
          0.4318042343068001,
          0.5025354924463613,
          0.378125,
          0.4518595985302515,
          0.4481587406714816,
          0.4707838895013734,
          0.4204705918338655,
          0.4167654447394378,
          0.371875,
          0.3742050552301015,
          0.39375,
          0.421875,
          0.3852459681500854,
          0.4629432399402812,
          0.4335976367339801,
          0.4130401174546948,
          0.4092766810124293,
          0.4022641751407882,
          0.4658433298113092,
          0.471875
         ],
         "y0": " ",
         "yaxis": "y"
        },
        {
         "alignmentgroup": "True",
         "hovertemplate": "% optimal genes=%{x}<br>seed_quality=lower quartile<br>seed ind influence=%{y}<extra></extra>",
         "legendgroup": "0.5",
         "marker": {
          "color": "#00cc96"
         },
         "name": "0.5",
         "notched": false,
         "offsetgroup": "0.5",
         "orientation": "v",
         "showlegend": false,
         "type": "box",
         "x": [
          0.5,
          0.5,
          0.5,
          0.5,
          0.5,
          0.5,
          0.5,
          0.5,
          0.5,
          0.5,
          0.5,
          0.5,
          0.5,
          0.5,
          0.5,
          0.5,
          0.5,
          0.5,
          0.5,
          0.5,
          0.5,
          0.5,
          0.5,
          0.5,
          0.5,
          0.5,
          0.5,
          0.5,
          0.5,
          0.5,
          0.5
         ],
         "x0": " ",
         "xaxis": "x2",
         "y": [
          0.1,
          0.090625,
          0,
          0.346875,
          0,
          0.25,
          0.028125,
          0.059375,
          0,
          0,
          0.040625,
          0.0625,
          0.1375,
          0.24375,
          0.38125,
          0.16875,
          0,
          0.053125,
          0.29375,
          0.2125,
          0.0625,
          0,
          0.109375,
          0.340625,
          0,
          0.034375,
          0.33125,
          0,
          0,
          0.275,
          0
         ],
         "y0": " ",
         "yaxis": "y2"
        },
        {
         "alignmentgroup": "True",
         "hovertemplate": "% optimal genes=%{x}<br>seed_quality=median<br>seed ind influence=%{y}<extra></extra>",
         "legendgroup": "0.5",
         "marker": {
          "color": "#00cc96"
         },
         "name": "0.5",
         "notched": false,
         "offsetgroup": "0.5",
         "orientation": "v",
         "showlegend": false,
         "type": "box",
         "x": [
          0.5,
          0.5,
          0.5,
          0.5,
          0.5,
          0.5,
          0.5,
          0.5,
          0.5,
          0.5,
          0.5,
          0.5,
          0.5,
          0.5,
          0.5,
          0.5,
          0.5,
          0.5,
          0.5,
          0.5,
          0.5,
          0.5,
          0.5,
          0.5,
          0.5,
          0.5,
          0.5,
          0.5,
          0.5,
          0.5,
          0.5
         ],
         "x0": " ",
         "xaxis": "x3",
         "y": [
          0,
          0.0625,
          0,
          0.0625,
          0.034375,
          0,
          0.0625,
          0,
          0,
          0,
          0,
          0,
          0,
          0,
          0,
          0,
          0,
          0,
          0.040625,
          0.171875,
          0.125,
          0.0625,
          0,
          0,
          0,
          0,
          0,
          0,
          0,
          0.053125,
          0
         ],
         "y0": " ",
         "yaxis": "y3"
        },
        {
         "alignmentgroup": "True",
         "hovertemplate": "% optimal genes=%{x}<br>seed_quality=upper quartile<br>seed ind influence=%{y}<extra></extra>",
         "legendgroup": "0.5",
         "marker": {
          "color": "#00cc96"
         },
         "name": "0.5",
         "notched": false,
         "offsetgroup": "0.5",
         "orientation": "v",
         "showlegend": false,
         "type": "box",
         "x": [
          0.5,
          0.5,
          0.5,
          0.5,
          0.5,
          0.5,
          0.5,
          0.5,
          0.5,
          0.5,
          0.5,
          0.5,
          0.5,
          0.5,
          0.5,
          0.5,
          0.5,
          0.5,
          0.5,
          0.5,
          0.5,
          0.5,
          0.5,
          0.5,
          0.5,
          0.5,
          0.5,
          0.5,
          0.5,
          0.5,
          0.5
         ],
         "x0": " ",
         "xaxis": "x4",
         "y": [
          0,
          0,
          0,
          0,
          0,
          0,
          0,
          0.0625,
          0,
          0,
          0,
          0,
          0,
          0,
          0,
          0,
          0,
          0,
          0.125,
          0.209375,
          0.1,
          0,
          0,
          0,
          0,
          0,
          0,
          0,
          0,
          0,
          0
         ],
         "y0": " ",
         "yaxis": "y4"
        },
        {
         "alignmentgroup": "True",
         "hovertemplate": "% optimal genes=%{x}<br>seed_quality=best<br>seed ind influence=%{y}<extra></extra>",
         "legendgroup": "0.75",
         "marker": {
          "color": "#ab63fa"
         },
         "name": "0.75",
         "notched": false,
         "offsetgroup": "0.75",
         "orientation": "v",
         "showlegend": true,
         "type": "box",
         "x": [
          0.75,
          0.75,
          0.75,
          0.75,
          0.75,
          0.75,
          0.75,
          0.75,
          0.75,
          0.75,
          0.75,
          0.75,
          0.75,
          0.75,
          0.75,
          0.75,
          0.75,
          0.75,
          0.75,
          0.75,
          0.75,
          0.75,
          0.75,
          0.75,
          0.75,
          0.75,
          0.75,
          0.75,
          0.75,
          0.75,
          0.75
         ],
         "x0": " ",
         "xaxis": "x",
         "y": [
          0.653125,
          0.678125,
          0.63125,
          0.496875,
          0.6375,
          0.590625,
          0.6746417816104201,
          0.6375,
          0.625,
          0.6412326353882769,
          0.503125,
          0.6759567936593072,
          0.590625,
          0.46875,
          0.6685970946438168,
          0.6618563701572195,
          0.621875,
          0.5625,
          0.50625,
          0.629148774681684,
          0.590625,
          0.621875,
          0.65625,
          0.6774577130778192,
          0.59375,
          0.56875,
          0.571875,
          0.634375,
          0.590625,
          0.65,
          0.6626423729932688
         ],
         "y0": " ",
         "yaxis": "y"
        },
        {
         "alignmentgroup": "True",
         "hovertemplate": "% optimal genes=%{x}<br>seed_quality=lower quartile<br>seed ind influence=%{y}<extra></extra>",
         "legendgroup": "0.75",
         "marker": {
          "color": "#ab63fa"
         },
         "name": "0.75",
         "notched": false,
         "offsetgroup": "0.75",
         "orientation": "v",
         "showlegend": false,
         "type": "box",
         "x": [
          0.75,
          0.75,
          0.75,
          0.75,
          0.75,
          0.75,
          0.75,
          0.75,
          0.75,
          0.75,
          0.75,
          0.75,
          0.75,
          0.75,
          0.75,
          0.75,
          0.75,
          0.75,
          0.75,
          0.75,
          0.75,
          0.75,
          0.75,
          0.75,
          0.75,
          0.75,
          0.75,
          0.75,
          0.75,
          0.75,
          0.75
         ],
         "x0": " ",
         "xaxis": "x2",
         "y": [
          0.221875,
          0.484375,
          0,
          0.2625,
          0.5125,
          0.384375,
          0,
          0.096875,
          0.365625,
          0.125,
          0.375,
          0.321875,
          0.040625,
          0.2375,
          0.36875,
          0.0625,
          0.153125,
          0.10625,
          0,
          0,
          0.353125,
          0.125,
          0.2625,
          0.0625,
          0,
          0.38125,
          0.36875,
          0.159375,
          0.20625,
          0.125,
          0.10625
         ],
         "y0": " ",
         "yaxis": "y2"
        },
        {
         "alignmentgroup": "True",
         "hovertemplate": "% optimal genes=%{x}<br>seed_quality=median<br>seed ind influence=%{y}<extra></extra>",
         "legendgroup": "0.75",
         "marker": {
          "color": "#ab63fa"
         },
         "name": "0.75",
         "notched": false,
         "offsetgroup": "0.75",
         "orientation": "v",
         "showlegend": false,
         "type": "box",
         "x": [
          0.75,
          0.75,
          0.75,
          0.75,
          0.75,
          0.75,
          0.75,
          0.75,
          0.75,
          0.75,
          0.75,
          0.75,
          0.75,
          0.75,
          0.75,
          0.75,
          0.75,
          0.75,
          0.75,
          0.75,
          0.75,
          0.75,
          0.75,
          0.75,
          0.75,
          0.75,
          0.75,
          0.75,
          0.75,
          0.75,
          0.75
         ],
         "x0": " ",
         "xaxis": "x3",
         "y": [
          0,
          0.175,
          0,
          0.08125,
          0.421875,
          0,
          0.24375,
          0.084375,
          0.16875,
          0,
          0.165625,
          0.43125,
          0,
          0.1875,
          0,
          0.1375,
          0,
          0,
          0.1625,
          0,
          0.3875,
          0.159375,
          0.303125,
          0,
          0,
          0,
          0,
          0,
          0.184375,
          0.215625,
          0
         ],
         "y0": " ",
         "yaxis": "y3"
        },
        {
         "alignmentgroup": "True",
         "hovertemplate": "% optimal genes=%{x}<br>seed_quality=upper quartile<br>seed ind influence=%{y}<extra></extra>",
         "legendgroup": "0.75",
         "marker": {
          "color": "#ab63fa"
         },
         "name": "0.75",
         "notched": false,
         "offsetgroup": "0.75",
         "orientation": "v",
         "showlegend": false,
         "type": "box",
         "x": [
          0.75,
          0.75,
          0.75,
          0.75,
          0.75,
          0.75,
          0.75,
          0.75,
          0.75,
          0.75,
          0.75,
          0.75,
          0.75,
          0.75,
          0.75,
          0.75,
          0.75,
          0.75,
          0.75,
          0.75,
          0.75,
          0.75,
          0.75,
          0.75,
          0.75,
          0.75,
          0.75,
          0.75,
          0.75,
          0.75,
          0.75
         ],
         "x0": " ",
         "xaxis": "x4",
         "y": [
          0,
          0,
          0,
          0,
          0.36875,
          0,
          0.021875,
          0,
          0.103125,
          0,
          0.296875,
          0,
          0,
          0,
          0,
          0,
          0,
          0,
          0.225,
          0,
          0.265625,
          0,
          0.43125,
          0,
          0,
          0,
          0,
          0,
          0,
          0,
          0
         ],
         "y0": " ",
         "yaxis": "y4"
        }
       ],
       "layout": {
        "annotations": [
         {
          "font": {},
          "showarrow": false,
          "text": "seed_quality=best",
          "x": 0.1175,
          "xanchor": "center",
          "xref": "paper",
          "y": 1,
          "yanchor": "bottom",
          "yref": "paper"
         },
         {
          "font": {},
          "showarrow": false,
          "text": "seed_quality=lower quartile",
          "x": 0.3725,
          "xanchor": "center",
          "xref": "paper",
          "y": 1,
          "yanchor": "bottom",
          "yref": "paper"
         },
         {
          "font": {},
          "showarrow": false,
          "text": "seed_quality=median",
          "x": 0.6275,
          "xanchor": "center",
          "xref": "paper",
          "y": 1,
          "yanchor": "bottom",
          "yref": "paper"
         },
         {
          "font": {},
          "showarrow": false,
          "text": "seed_quality=upper quartile",
          "x": 0.8824999999999998,
          "xanchor": "center",
          "xref": "paper",
          "y": 1,
          "yanchor": "bottom",
          "yref": "paper"
         }
        ],
        "boxmode": "overlay",
        "height": 400,
        "legend": {
         "title": {
          "text": "% optimal genes"
         },
         "tracegroupgap": 0
        },
        "margin": {
         "t": 60
        },
        "showlegend": false,
        "template": {
         "data": {
          "bar": [
           {
            "error_x": {
             "color": "#2a3f5f"
            },
            "error_y": {
             "color": "#2a3f5f"
            },
            "marker": {
             "line": {
              "color": "#E5ECF6",
              "width": 0.5
             },
             "pattern": {
              "fillmode": "overlay",
              "size": 10,
              "solidity": 0.2
             }
            },
            "type": "bar"
           }
          ],
          "barpolar": [
           {
            "marker": {
             "line": {
              "color": "#E5ECF6",
              "width": 0.5
             },
             "pattern": {
              "fillmode": "overlay",
              "size": 10,
              "solidity": 0.2
             }
            },
            "type": "barpolar"
           }
          ],
          "carpet": [
           {
            "aaxis": {
             "endlinecolor": "#2a3f5f",
             "gridcolor": "white",
             "linecolor": "white",
             "minorgridcolor": "white",
             "startlinecolor": "#2a3f5f"
            },
            "baxis": {
             "endlinecolor": "#2a3f5f",
             "gridcolor": "white",
             "linecolor": "white",
             "minorgridcolor": "white",
             "startlinecolor": "#2a3f5f"
            },
            "type": "carpet"
           }
          ],
          "choropleth": [
           {
            "colorbar": {
             "outlinewidth": 0,
             "ticks": ""
            },
            "type": "choropleth"
           }
          ],
          "contour": [
           {
            "colorbar": {
             "outlinewidth": 0,
             "ticks": ""
            },
            "colorscale": [
             [
              0,
              "#0d0887"
             ],
             [
              0.1111111111111111,
              "#46039f"
             ],
             [
              0.2222222222222222,
              "#7201a8"
             ],
             [
              0.3333333333333333,
              "#9c179e"
             ],
             [
              0.4444444444444444,
              "#bd3786"
             ],
             [
              0.5555555555555556,
              "#d8576b"
             ],
             [
              0.6666666666666666,
              "#ed7953"
             ],
             [
              0.7777777777777778,
              "#fb9f3a"
             ],
             [
              0.8888888888888888,
              "#fdca26"
             ],
             [
              1,
              "#f0f921"
             ]
            ],
            "type": "contour"
           }
          ],
          "contourcarpet": [
           {
            "colorbar": {
             "outlinewidth": 0,
             "ticks": ""
            },
            "type": "contourcarpet"
           }
          ],
          "heatmap": [
           {
            "colorbar": {
             "outlinewidth": 0,
             "ticks": ""
            },
            "colorscale": [
             [
              0,
              "#0d0887"
             ],
             [
              0.1111111111111111,
              "#46039f"
             ],
             [
              0.2222222222222222,
              "#7201a8"
             ],
             [
              0.3333333333333333,
              "#9c179e"
             ],
             [
              0.4444444444444444,
              "#bd3786"
             ],
             [
              0.5555555555555556,
              "#d8576b"
             ],
             [
              0.6666666666666666,
              "#ed7953"
             ],
             [
              0.7777777777777778,
              "#fb9f3a"
             ],
             [
              0.8888888888888888,
              "#fdca26"
             ],
             [
              1,
              "#f0f921"
             ]
            ],
            "type": "heatmap"
           }
          ],
          "heatmapgl": [
           {
            "colorbar": {
             "outlinewidth": 0,
             "ticks": ""
            },
            "colorscale": [
             [
              0,
              "#0d0887"
             ],
             [
              0.1111111111111111,
              "#46039f"
             ],
             [
              0.2222222222222222,
              "#7201a8"
             ],
             [
              0.3333333333333333,
              "#9c179e"
             ],
             [
              0.4444444444444444,
              "#bd3786"
             ],
             [
              0.5555555555555556,
              "#d8576b"
             ],
             [
              0.6666666666666666,
              "#ed7953"
             ],
             [
              0.7777777777777778,
              "#fb9f3a"
             ],
             [
              0.8888888888888888,
              "#fdca26"
             ],
             [
              1,
              "#f0f921"
             ]
            ],
            "type": "heatmapgl"
           }
          ],
          "histogram": [
           {
            "marker": {
             "pattern": {
              "fillmode": "overlay",
              "size": 10,
              "solidity": 0.2
             }
            },
            "type": "histogram"
           }
          ],
          "histogram2d": [
           {
            "colorbar": {
             "outlinewidth": 0,
             "ticks": ""
            },
            "colorscale": [
             [
              0,
              "#0d0887"
             ],
             [
              0.1111111111111111,
              "#46039f"
             ],
             [
              0.2222222222222222,
              "#7201a8"
             ],
             [
              0.3333333333333333,
              "#9c179e"
             ],
             [
              0.4444444444444444,
              "#bd3786"
             ],
             [
              0.5555555555555556,
              "#d8576b"
             ],
             [
              0.6666666666666666,
              "#ed7953"
             ],
             [
              0.7777777777777778,
              "#fb9f3a"
             ],
             [
              0.8888888888888888,
              "#fdca26"
             ],
             [
              1,
              "#f0f921"
             ]
            ],
            "type": "histogram2d"
           }
          ],
          "histogram2dcontour": [
           {
            "colorbar": {
             "outlinewidth": 0,
             "ticks": ""
            },
            "colorscale": [
             [
              0,
              "#0d0887"
             ],
             [
              0.1111111111111111,
              "#46039f"
             ],
             [
              0.2222222222222222,
              "#7201a8"
             ],
             [
              0.3333333333333333,
              "#9c179e"
             ],
             [
              0.4444444444444444,
              "#bd3786"
             ],
             [
              0.5555555555555556,
              "#d8576b"
             ],
             [
              0.6666666666666666,
              "#ed7953"
             ],
             [
              0.7777777777777778,
              "#fb9f3a"
             ],
             [
              0.8888888888888888,
              "#fdca26"
             ],
             [
              1,
              "#f0f921"
             ]
            ],
            "type": "histogram2dcontour"
           }
          ],
          "mesh3d": [
           {
            "colorbar": {
             "outlinewidth": 0,
             "ticks": ""
            },
            "type": "mesh3d"
           }
          ],
          "parcoords": [
           {
            "line": {
             "colorbar": {
              "outlinewidth": 0,
              "ticks": ""
             }
            },
            "type": "parcoords"
           }
          ],
          "pie": [
           {
            "automargin": true,
            "type": "pie"
           }
          ],
          "scatter": [
           {
            "fillpattern": {
             "fillmode": "overlay",
             "size": 10,
             "solidity": 0.2
            },
            "type": "scatter"
           }
          ],
          "scatter3d": [
           {
            "line": {
             "colorbar": {
              "outlinewidth": 0,
              "ticks": ""
             }
            },
            "marker": {
             "colorbar": {
              "outlinewidth": 0,
              "ticks": ""
             }
            },
            "type": "scatter3d"
           }
          ],
          "scattercarpet": [
           {
            "marker": {
             "colorbar": {
              "outlinewidth": 0,
              "ticks": ""
             }
            },
            "type": "scattercarpet"
           }
          ],
          "scattergeo": [
           {
            "marker": {
             "colorbar": {
              "outlinewidth": 0,
              "ticks": ""
             }
            },
            "type": "scattergeo"
           }
          ],
          "scattergl": [
           {
            "marker": {
             "colorbar": {
              "outlinewidth": 0,
              "ticks": ""
             }
            },
            "type": "scattergl"
           }
          ],
          "scattermapbox": [
           {
            "marker": {
             "colorbar": {
              "outlinewidth": 0,
              "ticks": ""
             }
            },
            "type": "scattermapbox"
           }
          ],
          "scatterpolar": [
           {
            "marker": {
             "colorbar": {
              "outlinewidth": 0,
              "ticks": ""
             }
            },
            "type": "scatterpolar"
           }
          ],
          "scatterpolargl": [
           {
            "marker": {
             "colorbar": {
              "outlinewidth": 0,
              "ticks": ""
             }
            },
            "type": "scatterpolargl"
           }
          ],
          "scatterternary": [
           {
            "marker": {
             "colorbar": {
              "outlinewidth": 0,
              "ticks": ""
             }
            },
            "type": "scatterternary"
           }
          ],
          "surface": [
           {
            "colorbar": {
             "outlinewidth": 0,
             "ticks": ""
            },
            "colorscale": [
             [
              0,
              "#0d0887"
             ],
             [
              0.1111111111111111,
              "#46039f"
             ],
             [
              0.2222222222222222,
              "#7201a8"
             ],
             [
              0.3333333333333333,
              "#9c179e"
             ],
             [
              0.4444444444444444,
              "#bd3786"
             ],
             [
              0.5555555555555556,
              "#d8576b"
             ],
             [
              0.6666666666666666,
              "#ed7953"
             ],
             [
              0.7777777777777778,
              "#fb9f3a"
             ],
             [
              0.8888888888888888,
              "#fdca26"
             ],
             [
              1,
              "#f0f921"
             ]
            ],
            "type": "surface"
           }
          ],
          "table": [
           {
            "cells": {
             "fill": {
              "color": "#EBF0F8"
             },
             "line": {
              "color": "white"
             }
            },
            "header": {
             "fill": {
              "color": "#C8D4E3"
             },
             "line": {
              "color": "white"
             }
            },
            "type": "table"
           }
          ]
         },
         "layout": {
          "annotationdefaults": {
           "arrowcolor": "#2a3f5f",
           "arrowhead": 0,
           "arrowwidth": 1
          },
          "autotypenumbers": "strict",
          "coloraxis": {
           "colorbar": {
            "outlinewidth": 0,
            "ticks": ""
           }
          },
          "colorscale": {
           "diverging": [
            [
             0,
             "#8e0152"
            ],
            [
             0.1,
             "#c51b7d"
            ],
            [
             0.2,
             "#de77ae"
            ],
            [
             0.3,
             "#f1b6da"
            ],
            [
             0.4,
             "#fde0ef"
            ],
            [
             0.5,
             "#f7f7f7"
            ],
            [
             0.6,
             "#e6f5d0"
            ],
            [
             0.7,
             "#b8e186"
            ],
            [
             0.8,
             "#7fbc41"
            ],
            [
             0.9,
             "#4d9221"
            ],
            [
             1,
             "#276419"
            ]
           ],
           "sequential": [
            [
             0,
             "#0d0887"
            ],
            [
             0.1111111111111111,
             "#46039f"
            ],
            [
             0.2222222222222222,
             "#7201a8"
            ],
            [
             0.3333333333333333,
             "#9c179e"
            ],
            [
             0.4444444444444444,
             "#bd3786"
            ],
            [
             0.5555555555555556,
             "#d8576b"
            ],
            [
             0.6666666666666666,
             "#ed7953"
            ],
            [
             0.7777777777777778,
             "#fb9f3a"
            ],
            [
             0.8888888888888888,
             "#fdca26"
            ],
            [
             1,
             "#f0f921"
            ]
           ],
           "sequentialminus": [
            [
             0,
             "#0d0887"
            ],
            [
             0.1111111111111111,
             "#46039f"
            ],
            [
             0.2222222222222222,
             "#7201a8"
            ],
            [
             0.3333333333333333,
             "#9c179e"
            ],
            [
             0.4444444444444444,
             "#bd3786"
            ],
            [
             0.5555555555555556,
             "#d8576b"
            ],
            [
             0.6666666666666666,
             "#ed7953"
            ],
            [
             0.7777777777777778,
             "#fb9f3a"
            ],
            [
             0.8888888888888888,
             "#fdca26"
            ],
            [
             1,
             "#f0f921"
            ]
           ]
          },
          "colorway": [
           "#636efa",
           "#EF553B",
           "#00cc96",
           "#ab63fa",
           "#FFA15A",
           "#19d3f3",
           "#FF6692",
           "#B6E880",
           "#FF97FF",
           "#FECB52"
          ],
          "font": {
           "color": "#2a3f5f"
          },
          "geo": {
           "bgcolor": "white",
           "lakecolor": "white",
           "landcolor": "#E5ECF6",
           "showlakes": true,
           "showland": true,
           "subunitcolor": "white"
          },
          "hoverlabel": {
           "align": "left"
          },
          "hovermode": "closest",
          "mapbox": {
           "style": "light"
          },
          "paper_bgcolor": "white",
          "plot_bgcolor": "#E5ECF6",
          "polar": {
           "angularaxis": {
            "gridcolor": "white",
            "linecolor": "white",
            "ticks": ""
           },
           "bgcolor": "#E5ECF6",
           "radialaxis": {
            "gridcolor": "white",
            "linecolor": "white",
            "ticks": ""
           }
          },
          "scene": {
           "xaxis": {
            "backgroundcolor": "#E5ECF6",
            "gridcolor": "white",
            "gridwidth": 2,
            "linecolor": "white",
            "showbackground": true,
            "ticks": "",
            "zerolinecolor": "white"
           },
           "yaxis": {
            "backgroundcolor": "#E5ECF6",
            "gridcolor": "white",
            "gridwidth": 2,
            "linecolor": "white",
            "showbackground": true,
            "ticks": "",
            "zerolinecolor": "white"
           },
           "zaxis": {
            "backgroundcolor": "#E5ECF6",
            "gridcolor": "white",
            "gridwidth": 2,
            "linecolor": "white",
            "showbackground": true,
            "ticks": "",
            "zerolinecolor": "white"
           }
          },
          "shapedefaults": {
           "line": {
            "color": "#2a3f5f"
           }
          },
          "ternary": {
           "aaxis": {
            "gridcolor": "white",
            "linecolor": "white",
            "ticks": ""
           },
           "baxis": {
            "gridcolor": "white",
            "linecolor": "white",
            "ticks": ""
           },
           "bgcolor": "#E5ECF6",
           "caxis": {
            "gridcolor": "white",
            "linecolor": "white",
            "ticks": ""
           }
          },
          "title": {
           "x": 0.05
          },
          "xaxis": {
           "automargin": true,
           "gridcolor": "white",
           "linecolor": "white",
           "ticks": "",
           "title": {
            "standoff": 15
           },
           "zerolinecolor": "white",
           "zerolinewidth": 2
          },
          "yaxis": {
           "automargin": true,
           "gridcolor": "white",
           "linecolor": "white",
           "ticks": "",
           "title": {
            "standoff": 15
           },
           "zerolinecolor": "white",
           "zerolinewidth": 2
          }
         }
        },
        "width": 1300,
        "xaxis": {
         "anchor": "y",
         "categoryarray": [
          0,
          0.25,
          0.5,
          0.75
         ],
         "categoryorder": "array",
         "domain": [
          0,
          0.235
         ],
         "showgrid": true,
         "title": {
          "text": "% optimal genes"
         },
         "type": "category"
        },
        "xaxis2": {
         "anchor": "y2",
         "categoryarray": [
          0,
          0.25,
          0.5,
          0.75
         ],
         "categoryorder": "array",
         "domain": [
          0.255,
          0.49
         ],
         "matches": "x",
         "showgrid": true,
         "title": {
          "text": "% optimal genes"
         },
         "type": "category"
        },
        "xaxis3": {
         "anchor": "y3",
         "categoryarray": [
          0,
          0.25,
          0.5,
          0.75
         ],
         "categoryorder": "array",
         "domain": [
          0.51,
          0.745
         ],
         "matches": "x",
         "showgrid": true,
         "title": {
          "text": "% optimal genes"
         },
         "type": "category"
        },
        "xaxis4": {
         "anchor": "y4",
         "categoryarray": [
          0,
          0.25,
          0.5,
          0.75
         ],
         "categoryorder": "array",
         "domain": [
          0.7649999999999999,
          0.9999999999999999
         ],
         "matches": "x",
         "showgrid": true,
         "title": {
          "text": "% optimal genes"
         },
         "type": "category"
        },
        "yaxis": {
         "anchor": "x",
         "domain": [
          0,
          1
         ],
         "title": {
          "text": "seed ind influence"
         }
        },
        "yaxis2": {
         "anchor": "x2",
         "domain": [
          0,
          1
         ],
         "matches": "y",
         "showticklabels": false
        },
        "yaxis3": {
         "anchor": "x3",
         "domain": [
          0,
          1
         ],
         "matches": "y",
         "showticklabels": false
        },
        "yaxis4": {
         "anchor": "x4",
         "domain": [
          0,
          1
         ],
         "matches": "y",
         "showticklabels": false
        }
       }
      }
     },
     "metadata": {},
     "output_type": "display_data"
    },
    {
     "data": {
      "application/vnd.plotly.v1+json": {
       "config": {
        "plotlyServerURL": "https://plot.ly"
       },
       "data": [
        {
         "alignmentgroup": "True",
         "hovertemplate": "% optimal genes=%{x}<br>seed_quality=best<br>min_f=%{y}<extra></extra>",
         "legendgroup": "0.0",
         "marker": {
          "color": "#636efa"
         },
         "name": "0.0",
         "notched": false,
         "offsetgroup": "0.0",
         "orientation": "v",
         "showlegend": true,
         "type": "box",
         "x": [
          0,
          0,
          0,
          0,
          0,
          0,
          0,
          0,
          0,
          0,
          0,
          0,
          0,
          0,
          0,
          0,
          0,
          0,
          0,
          0,
          0,
          0,
          0,
          0,
          0,
          0,
          0,
          0,
          0,
          0,
          0
         ],
         "x0": " ",
         "xaxis": "x",
         "y": [
          0.2072309070250675,
          0.069952620457586,
          0.1928487453736702,
          0.1292925515797278,
          0.3041598084957881,
          0.4501893859672944,
          0.3421118404613775,
          0.5389234984890897,
          0.0767129658315595,
          0.2461077986096261,
          0.0790920215146631,
          0.1102121944156386,
          0.1888632595079436,
          0.2809987626395526,
          0.2274743010508685,
          0.1679750807413898,
          0.2384108785358967,
          0.5281549342966235,
          0.2123740944857624,
          0.2843377746777061,
          0.068064168235546,
          0.4846101285263562,
          0.078536714544994,
          0.1650389669273464,
          0.3303909808231596,
          0.2256586186195883,
          0.3442964284876467,
          0.0966388540617556,
          0.0682076278626955,
          0.0890619533525607,
          0.193041851724999
         ],
         "y0": " ",
         "yaxis": "y"
        },
        {
         "alignmentgroup": "True",
         "hovertemplate": "% optimal genes=%{x}<br>seed_quality=lower quartile<br>min_f=%{y}<extra></extra>",
         "legendgroup": "0.0",
         "marker": {
          "color": "#636efa"
         },
         "name": "0.0",
         "notched": false,
         "offsetgroup": "0.0",
         "orientation": "v",
         "showlegend": false,
         "type": "box",
         "x": [
          0,
          0,
          0,
          0,
          0,
          0,
          0,
          0,
          0,
          0,
          0,
          0,
          0,
          0,
          0,
          0,
          0,
          0,
          0,
          0,
          0,
          0,
          0,
          0,
          0,
          0,
          0,
          0,
          0,
          0,
          0
         ],
         "x0": " ",
         "xaxis": "x2",
         "y": [
          0.0693786163016842,
          0.1416876727943044,
          0.1670772957449847,
          0.0996754763102357,
          0.3509545932613952,
          0.1040364935359273,
          0.3297631562425239,
          0.2959882200528145,
          0.207545655412207,
          0.1453570219850363,
          0.3376746126354198,
          0.1546015635796576,
          0.1151466853834701,
          0.1123444337050844,
          0.1028626606342481,
          0.2167380863046759,
          0.0975367821234788,
          0.1194295215561388,
          0.0836829231166975,
          0.0716433968594541,
          0.0771818265163754,
          0.0839830742600501,
          0.1607921668870385,
          0.2787052894733568,
          0.2220727122186871,
          0.1884326246705638,
          0.0923249900985524,
          0.1556022321436972,
          0.1785337376351538,
          0.1907355105729479,
          0.0677464911293066
         ],
         "y0": " ",
         "yaxis": "y2"
        },
        {
         "alignmentgroup": "True",
         "hovertemplate": "% optimal genes=%{x}<br>seed_quality=median<br>min_f=%{y}<extra></extra>",
         "legendgroup": "0.0",
         "marker": {
          "color": "#636efa"
         },
         "name": "0.0",
         "notched": false,
         "offsetgroup": "0.0",
         "orientation": "v",
         "showlegend": false,
         "type": "box",
         "x": [
          0,
          0,
          0,
          0,
          0,
          0,
          0,
          0,
          0,
          0,
          0,
          0,
          0,
          0,
          0,
          0,
          0,
          0,
          0,
          0,
          0,
          0,
          0,
          0,
          0,
          0,
          0,
          0,
          0,
          0,
          0
         ],
         "x0": " ",
         "xaxis": "x3",
         "y": [
          0.3111989997857906,
          0.1958955965919758,
          0.1670772957449847,
          0.0713947952749087,
          0.1900360503739572,
          0.0793166540652492,
          0.3017452454496378,
          0.1065850058794705,
          0.0634430400811315,
          0.054101310704718,
          0.0824789359252575,
          0.0549850314570517,
          0.2114404666847561,
          0.2537422118757336,
          0.0636263942356672,
          0.1319083183839098,
          0.1791468247122135,
          0.1360066144490058,
          0.2195953159421023,
          0.1070006877232243,
          0.0818867934477086,
          0.1225038073454757,
          0.1568834820443623,
          0.09436071438335,
          0.0846020837726399,
          0.0873555007923667,
          0.135491389022353,
          0.1196747765018994,
          0.074610942125962,
          0.1796840623647463,
          0.2999429222426515
         ],
         "y0": " ",
         "yaxis": "y3"
        },
        {
         "alignmentgroup": "True",
         "hovertemplate": "% optimal genes=%{x}<br>seed_quality=upper quartile<br>min_f=%{y}<extra></extra>",
         "legendgroup": "0.0",
         "marker": {
          "color": "#636efa"
         },
         "name": "0.0",
         "notched": false,
         "offsetgroup": "0.0",
         "orientation": "v",
         "showlegend": false,
         "type": "box",
         "x": [
          0,
          0,
          0,
          0,
          0,
          0,
          0,
          0,
          0,
          0,
          0,
          0,
          0,
          0,
          0,
          0,
          0,
          0,
          0,
          0,
          0,
          0,
          0,
          0,
          0,
          0,
          0,
          0,
          0,
          0,
          0
         ],
         "x0": " ",
         "xaxis": "x4",
         "y": [
          0.3111989997857906,
          0.2126421893227024,
          0.1670772957449847,
          0.2484248629830344,
          0.2718005177727353,
          0.0793166540652492,
          0.1834756219207304,
          0.1699034148653828,
          0.0634430400811315,
          0.2300612222658888,
          0.0623119648555823,
          0.4160787991664095,
          0.2114404666847561,
          0.0701138087084351,
          0.34797447978451,
          0.0582556127841554,
          0.0302298485195682,
          0.0884190366346029,
          0.1182164503871025,
          0.1070006877232243,
          0.1828510424673345,
          0.0794007987689948,
          0.0644463263218292,
          0.09436071438335,
          0.0846020837726399,
          0.0873555007923667,
          0.135491389022353,
          0.1380717883537658,
          0.1708167017623451,
          0.3025285733245829,
          0.485119181772446
         ],
         "y0": " ",
         "yaxis": "y4"
        },
        {
         "alignmentgroup": "True",
         "hovertemplate": "% optimal genes=%{x}<br>seed_quality=best<br>min_f=%{y}<extra></extra>",
         "legendgroup": "0.25",
         "marker": {
          "color": "#EF553B"
         },
         "name": "0.25",
         "notched": false,
         "offsetgroup": "0.25",
         "orientation": "v",
         "showlegend": true,
         "type": "box",
         "x": [
          0.25,
          0.25,
          0.25,
          0.25,
          0.25,
          0.25,
          0.25,
          0.25,
          0.25,
          0.25,
          0.25,
          0.25,
          0.25,
          0.25,
          0.25,
          0.25,
          0.25,
          0.25,
          0.25,
          0.25,
          0.25,
          0.25,
          0.25,
          0.25,
          0.25,
          0.25,
          0.25,
          0.25,
          0.25,
          0.25,
          0.25
         ],
         "x0": " ",
         "xaxis": "x",
         "y": [
          0.0645593868317434,
          0.1021023392329485,
          0.0974206700419722,
          0.0794878632530209,
          0.147553742809555,
          0.0671167661756123,
          0.139167665938005,
          0.447470789031048,
          0.0633118871984134,
          0.1183773519196929,
          0.1797678421805132,
          0.0645015060278879,
          0.2055056936091823,
          0.2805902946886118,
          0.1216764158310426,
          0.0390626720094268,
          0.077590446996593,
          0.0855244915222629,
          0.0230956672228173,
          0.1634294201639642,
          0.0334089290175988,
          0.0421818840498058,
          0.0497524903573292,
          0.1656837860106335,
          0.1620550940019548,
          0.4727683007309087,
          0.1536156373399811,
          0.0689401845673822,
          0.1695885615080603,
          0.073909634380184,
          0.1370418290986037
         ],
         "y0": " ",
         "yaxis": "y"
        },
        {
         "alignmentgroup": "True",
         "hovertemplate": "% optimal genes=%{x}<br>seed_quality=lower quartile<br>min_f=%{y}<extra></extra>",
         "legendgroup": "0.25",
         "marker": {
          "color": "#EF553B"
         },
         "name": "0.25",
         "notched": false,
         "offsetgroup": "0.25",
         "orientation": "v",
         "showlegend": false,
         "type": "box",
         "x": [
          0.25,
          0.25,
          0.25,
          0.25,
          0.25,
          0.25,
          0.25,
          0.25,
          0.25,
          0.25,
          0.25,
          0.25,
          0.25,
          0.25,
          0.25,
          0.25,
          0.25,
          0.25,
          0.25,
          0.25,
          0.25,
          0.25,
          0.25,
          0.25,
          0.25,
          0.25,
          0.25,
          0.25,
          0.25,
          0.25,
          0.25
         ],
         "x0": " ",
         "xaxis": "x2",
         "y": [
          0.0366778072800898,
          0.1873295338634535,
          0.1670772957449847,
          0.0969039195628259,
          0.170638796480233,
          0.1040799125423843,
          0.1635800449318767,
          0.3473669763135837,
          0.2445924590581677,
          0.0655993281744524,
          0.0399213603618381,
          0.1449131136460785,
          0.0529075085112306,
          0.3258868550933106,
          0.0695379645472873,
          0.0630025730920132,
          0.1728220610989972,
          0.2523514683765704,
          0.3117678796009213,
          0.1072347660274218,
          0.0271313301972421,
          0.0720919333851744,
          0.2768355102250518,
          0.1228021114017731,
          0.2220727122186871,
          0.070119451495162,
          0.1132303089930894,
          0.133899038536194,
          0.0928122482949529,
          0.401017084714709,
          0.1129182743146502
         ],
         "y0": " ",
         "yaxis": "y2"
        },
        {
         "alignmentgroup": "True",
         "hovertemplate": "% optimal genes=%{x}<br>seed_quality=median<br>min_f=%{y}<extra></extra>",
         "legendgroup": "0.25",
         "marker": {
          "color": "#EF553B"
         },
         "name": "0.25",
         "notched": false,
         "offsetgroup": "0.25",
         "orientation": "v",
         "showlegend": false,
         "type": "box",
         "x": [
          0.25,
          0.25,
          0.25,
          0.25,
          0.25,
          0.25,
          0.25,
          0.25,
          0.25,
          0.25,
          0.25,
          0.25,
          0.25,
          0.25,
          0.25,
          0.25,
          0.25,
          0.25,
          0.25,
          0.25,
          0.25,
          0.25,
          0.25,
          0.25,
          0.25,
          0.25,
          0.25,
          0.25,
          0.25,
          0.25,
          0.25
         ],
         "x0": " ",
         "xaxis": "x3",
         "y": [
          0.3111989997857906,
          0.1217522323868775,
          0.1670772957449847,
          0.0765678057525135,
          0.1373793514086088,
          0.0793166540652492,
          0.1125973565945549,
          0.1699034148653828,
          0.0634430400811315,
          0.0730728817119087,
          0.0256255231019162,
          0.1126743908297273,
          0.2114404666847561,
          0.2537422118757336,
          0.34797447978451,
          0.061362804215623,
          0.1230013718852078,
          0.1534029737994056,
          0.1293153206729133,
          0.1070006877232243,
          0.1142453588252462,
          0.0640391617386324,
          0.0962912929898343,
          0.09436071438335,
          0.0846020837726399,
          0.0873555007923667,
          0.135491389022353,
          0.2961381197831729,
          0.2847758464891199,
          0.1796840623647463,
          0.2999429222426515
         ],
         "y0": " ",
         "yaxis": "y3"
        },
        {
         "alignmentgroup": "True",
         "hovertemplate": "% optimal genes=%{x}<br>seed_quality=upper quartile<br>min_f=%{y}<extra></extra>",
         "legendgroup": "0.25",
         "marker": {
          "color": "#EF553B"
         },
         "name": "0.25",
         "notched": false,
         "offsetgroup": "0.25",
         "orientation": "v",
         "showlegend": false,
         "type": "box",
         "x": [
          0.25,
          0.25,
          0.25,
          0.25,
          0.25,
          0.25,
          0.25,
          0.25,
          0.25,
          0.25,
          0.25,
          0.25,
          0.25,
          0.25,
          0.25,
          0.25,
          0.25,
          0.25,
          0.25,
          0.25,
          0.25,
          0.25,
          0.25,
          0.25,
          0.25,
          0.25,
          0.25,
          0.25,
          0.25,
          0.25,
          0.25
         ],
         "x0": " ",
         "xaxis": "x4",
         "y": [
          0.3111989997857906,
          0.2126421893227024,
          0.1670772957449847,
          0.2484248629830344,
          0.2100237172403404,
          0.0793166540652492,
          0.187423265323622,
          0.234630473765763,
          0.0634430400811315,
          0.2300612222658888,
          0.0705332331935598,
          0.4160787991664095,
          0.2114404666847561,
          0.0701138087084351,
          0.1974776702666276,
          0.1319083183839098,
          0.1226773707564982,
          0.0884190366346029,
          0.0646673504612618,
          0.1070006877232243,
          0.127999447496696,
          0.0794007987689948,
          0.1568834820443623,
          0.09436071438335,
          0.0846020837726399,
          0.0873555007923667,
          0.135491389022353,
          0.1380717883537658,
          0.1708167017623451,
          0.176013958989144,
          0.485119181772446
         ],
         "y0": " ",
         "yaxis": "y4"
        },
        {
         "alignmentgroup": "True",
         "hovertemplate": "% optimal genes=%{x}<br>seed_quality=best<br>min_f=%{y}<extra></extra>",
         "legendgroup": "0.5",
         "marker": {
          "color": "#00cc96"
         },
         "name": "0.5",
         "notched": false,
         "offsetgroup": "0.5",
         "orientation": "v",
         "showlegend": true,
         "type": "box",
         "x": [
          0.5,
          0.5,
          0.5,
          0.5,
          0.5,
          0.5,
          0.5,
          0.5,
          0.5,
          0.5,
          0.5,
          0.5,
          0.5,
          0.5,
          0.5,
          0.5,
          0.5,
          0.5,
          0.5,
          0.5,
          0.5,
          0.5,
          0.5,
          0.5,
          0.5,
          0.5,
          0.5,
          0.5,
          0.5,
          0.5,
          0.5
         ],
         "x0": " ",
         "xaxis": "x",
         "y": [
          0.0350824611082806,
          0.1455664941814139,
          0.0691540078464033,
          0.0116915064246944,
          0.1707607554596366,
          0.119909114642157,
          0.0880135995571972,
          0.0322863885810563,
          0.0865672286826124,
          0.013658594652468,
          0.0902219614719397,
          0.0218499897627294,
          0.0518325839004746,
          0.0360377335913494,
          0.0559100475861966,
          0.0511848307016206,
          0.0115820780980361,
          0.0423203804297084,
          0.0326529490189053,
          0.0595863502441543,
          0.1277994645383158,
          0.1081528390176916,
          0.0432749624747817,
          0.1130932646246852,
          0.0647202382807951,
          0.0144533177507095,
          0.0380420536894103,
          0.1387172674413305,
          0.0442317724434194,
          0.0356385443530884,
          0.0471637706746931
         ],
         "y0": " ",
         "yaxis": "y"
        },
        {
         "alignmentgroup": "True",
         "hovertemplate": "% optimal genes=%{x}<br>seed_quality=lower quartile<br>min_f=%{y}<extra></extra>",
         "legendgroup": "0.5",
         "marker": {
          "color": "#00cc96"
         },
         "name": "0.5",
         "notched": false,
         "offsetgroup": "0.5",
         "orientation": "v",
         "showlegend": false,
         "type": "box",
         "x": [
          0.5,
          0.5,
          0.5,
          0.5,
          0.5,
          0.5,
          0.5,
          0.5,
          0.5,
          0.5,
          0.5,
          0.5,
          0.5,
          0.5,
          0.5,
          0.5,
          0.5,
          0.5,
          0.5,
          0.5,
          0.5,
          0.5,
          0.5,
          0.5,
          0.5,
          0.5,
          0.5,
          0.5,
          0.5,
          0.5,
          0.5
         ],
         "x0": " ",
         "xaxis": "x2",
         "y": [
          0.0259598809603889,
          0.1329604456011356,
          0.1670772957449847,
          0.0249161458967193,
          0.219947699091466,
          0.047973450998613,
          0.1660980847282049,
          0.1909932941084764,
          0.0463178453757397,
          0.0893049758780238,
          0.0632303945575584,
          0.3928385356963546,
          0.0967076394293659,
          0.0341457505560075,
          0.0958989527193915,
          0.0944801133964429,
          0.2053101740100654,
          0.1680209329913148,
          0.0616249414531624,
          0.0276221660451443,
          0.1929779932400665,
          0.044271344004598,
          0.2945633135016623,
          0.0312418846269141,
          0.2220727122186871,
          0.2085709663102601,
          0.0505025340747934,
          0.0856998373244045,
          0.1388720363763159,
          0.1536952447035808,
          0.1370015808203932
         ],
         "y0": " ",
         "yaxis": "y2"
        },
        {
         "alignmentgroup": "True",
         "hovertemplate": "% optimal genes=%{x}<br>seed_quality=median<br>min_f=%{y}<extra></extra>",
         "legendgroup": "0.5",
         "marker": {
          "color": "#00cc96"
         },
         "name": "0.5",
         "notched": false,
         "offsetgroup": "0.5",
         "orientation": "v",
         "showlegend": false,
         "type": "box",
         "x": [
          0.5,
          0.5,
          0.5,
          0.5,
          0.5,
          0.5,
          0.5,
          0.5,
          0.5,
          0.5,
          0.5,
          0.5,
          0.5,
          0.5,
          0.5,
          0.5,
          0.5,
          0.5,
          0.5,
          0.5,
          0.5,
          0.5,
          0.5,
          0.5,
          0.5,
          0.5,
          0.5,
          0.5,
          0.5,
          0.5,
          0.5
         ],
         "x0": " ",
         "xaxis": "x3",
         "y": [
          0.3111989997857906,
          0.1568328750549055,
          0.1670772957449847,
          0.1254525633995254,
          0.1895167436627914,
          0.0793166540652492,
          0.0792418548450153,
          0.5800479506926713,
          0.0634430400811315,
          0.2300612222658888,
          0.1584451755588651,
          0.208782860069653,
          0.2114404666847561,
          0.1436123847465018,
          0.1597657246427214,
          0.1319083183839098,
          0.2327723330036079,
          0.1360066144490058,
          0.43855855075311,
          0.072429292607651,
          0.039431542758273,
          0.0904545595309036,
          0.0962912929898343,
          0.09436071438335,
          0.0846020837726399,
          0.0873555007923667,
          0.135491389022353,
          0.1031883752107924,
          0.1708167017623451,
          0.3673670561125725,
          0.2921086294448212
         ],
         "y0": " ",
         "yaxis": "y3"
        },
        {
         "alignmentgroup": "True",
         "hovertemplate": "% optimal genes=%{x}<br>seed_quality=upper quartile<br>min_f=%{y}<extra></extra>",
         "legendgroup": "0.5",
         "marker": {
          "color": "#00cc96"
         },
         "name": "0.5",
         "notched": false,
         "offsetgroup": "0.5",
         "orientation": "v",
         "showlegend": false,
         "type": "box",
         "x": [
          0.5,
          0.5,
          0.5,
          0.5,
          0.5,
          0.5,
          0.5,
          0.5,
          0.5,
          0.5,
          0.5,
          0.5,
          0.5,
          0.5,
          0.5,
          0.5,
          0.5,
          0.5,
          0.5,
          0.5,
          0.5,
          0.5,
          0.5,
          0.5,
          0.5,
          0.5,
          0.5,
          0.5,
          0.5,
          0.5,
          0.5
         ],
         "x0": " ",
         "xaxis": "x4",
         "y": [
          0.3111989997857906,
          0.2126421893227024,
          0.1670772957449847,
          0.2484248629830344,
          0.2262413054130397,
          0.0793166540652492,
          0.1614373965326448,
          0.1851050967339499,
          0.0634430400811315,
          0.0695607792769001,
          0.078475610311158,
          0.4160787991664095,
          0.2114404666847561,
          0.0701138087084351,
          0.1236619870850188,
          0.2132149129082532,
          0.2615494117116474,
          0.0884190366346029,
          0.0648226514760072,
          0.1832893570330425,
          0.0586580421321816,
          0.0794007987689948,
          0.1568834820443623,
          0.09436071438335,
          0.0846020837726399,
          0.0873555007923667,
          0.135491389022353,
          0.1380717883537658,
          0.1708167017623451,
          0.1796840623647463,
          0.485119181772446
         ],
         "y0": " ",
         "yaxis": "y4"
        },
        {
         "alignmentgroup": "True",
         "hovertemplate": "% optimal genes=%{x}<br>seed_quality=best<br>min_f=%{y}<extra></extra>",
         "legendgroup": "0.75",
         "marker": {
          "color": "#ab63fa"
         },
         "name": "0.75",
         "notched": false,
         "offsetgroup": "0.75",
         "orientation": "v",
         "showlegend": true,
         "type": "box",
         "x": [
          0.75,
          0.75,
          0.75,
          0.75,
          0.75,
          0.75,
          0.75,
          0.75,
          0.75,
          0.75,
          0.75,
          0.75,
          0.75,
          0.75,
          0.75,
          0.75,
          0.75,
          0.75,
          0.75,
          0.75,
          0.75,
          0.75,
          0.75,
          0.75,
          0.75,
          0.75,
          0.75,
          0.75,
          0.75,
          0.75,
          0.75
         ],
         "x0": " ",
         "xaxis": "x",
         "y": [
          0.0031213184838702,
          0.0011573686108308,
          0.0024245172125778,
          0.0097707147553334,
          0.0023524287452668,
          0.0064215721703644,
          0.0033782648244023,
          0.0027153302075318,
          0.0230762279503683,
          0.0041687033060338,
          0.0169940442466882,
          0.0086202588088584,
          0.0082553084756435,
          0.0829322741098051,
          0.0081694817155375,
          0.021671996847037,
          0.0066294485221253,
          0.0208863510628187,
          0.0036751917762031,
          0.010032761260732,
          0.001641777299993,
          0.1000289419102858,
          0.0074011821540716,
          0.0818350127097651,
          0.0863804924328094,
          0.0188362713537616,
          0.0325203843547875,
          0.0036847219516753,
          0.0063596606279762,
          0.0039097611114858,
          0.0018795687951699
         ],
         "y0": " ",
         "yaxis": "y"
        },
        {
         "alignmentgroup": "True",
         "hovertemplate": "% optimal genes=%{x}<br>seed_quality=lower quartile<br>min_f=%{y}<extra></extra>",
         "legendgroup": "0.75",
         "marker": {
          "color": "#ab63fa"
         },
         "name": "0.75",
         "notched": false,
         "offsetgroup": "0.75",
         "orientation": "v",
         "showlegend": false,
         "type": "box",
         "x": [
          0.75,
          0.75,
          0.75,
          0.75,
          0.75,
          0.75,
          0.75,
          0.75,
          0.75,
          0.75,
          0.75,
          0.75,
          0.75,
          0.75,
          0.75,
          0.75,
          0.75,
          0.75,
          0.75,
          0.75,
          0.75,
          0.75,
          0.75,
          0.75,
          0.75,
          0.75,
          0.75,
          0.75,
          0.75,
          0.75,
          0.75
         ],
         "x0": " ",
         "xaxis": "x2",
         "y": [
          0.0878797201885775,
          0.0065509229094798,
          0.0384947431683077,
          0.1524561833120971,
          0.0989710441620833,
          0.0134871503586908,
          0.2977169065901986,
          0.0190182738802959,
          0.0143069046522625,
          0.03299011092004,
          0.0461390488876244,
          0.1668632163523873,
          0.0824698371440744,
          0.0825735862144309,
          0.0113842887717675,
          0.1974480892048407,
          0.0489867950229163,
          0.0830170590539573,
          0.1551472304058536,
          0.2037213106075532,
          0.0343615246658683,
          0.0697231450371053,
          0.0351203031786725,
          0.3332879636208278,
          0.2220727122186871,
          0.0154264243793652,
          0.0424683839501588,
          0.0644528605745553,
          0.0902803584133572,
          0.0892407494130449,
          0.2458218458936958
         ],
         "y0": " ",
         "yaxis": "y2"
        },
        {
         "alignmentgroup": "True",
         "hovertemplate": "% optimal genes=%{x}<br>seed_quality=median<br>min_f=%{y}<extra></extra>",
         "legendgroup": "0.75",
         "marker": {
          "color": "#ab63fa"
         },
         "name": "0.75",
         "notched": false,
         "offsetgroup": "0.75",
         "orientation": "v",
         "showlegend": false,
         "type": "box",
         "x": [
          0.75,
          0.75,
          0.75,
          0.75,
          0.75,
          0.75,
          0.75,
          0.75,
          0.75,
          0.75,
          0.75,
          0.75,
          0.75,
          0.75,
          0.75,
          0.75,
          0.75,
          0.75,
          0.75,
          0.75,
          0.75,
          0.75,
          0.75,
          0.75,
          0.75,
          0.75,
          0.75,
          0.75,
          0.75,
          0.75,
          0.75
         ],
         "x0": " ",
         "xaxis": "x3",
         "y": [
          0.3111989997857906,
          0.0545386578709402,
          0.0851481352365852,
          0.1938113174805396,
          0.0132314539043174,
          0.0793166540652492,
          0.0987728836444267,
          0.0775334218630542,
          0.0518458006600004,
          0.2300612222658888,
          0.0521341083854995,
          0.0378277418625374,
          0.2114404666847561,
          0.0930944227880548,
          0.0872726993208296,
          0.0529475999322248,
          0.1226773707564982,
          0.2523514683765704,
          0.1276078173846841,
          0.1070006877232243,
          0.0387853749649876,
          0.1674492263215229,
          0.0432015115304111,
          0.09436071438335,
          0.0846020837726399,
          0.0873555007923667,
          0.135491389022353,
          0.1031883752107924,
          0.3766728177648832,
          0.0776350569754813,
          0.195627054296459
         ],
         "y0": " ",
         "yaxis": "y3"
        },
        {
         "alignmentgroup": "True",
         "hovertemplate": "% optimal genes=%{x}<br>seed_quality=upper quartile<br>min_f=%{y}<extra></extra>",
         "legendgroup": "0.75",
         "marker": {
          "color": "#ab63fa"
         },
         "name": "0.75",
         "notched": false,
         "offsetgroup": "0.75",
         "orientation": "v",
         "showlegend": false,
         "type": "box",
         "x": [
          0.75,
          0.75,
          0.75,
          0.75,
          0.75,
          0.75,
          0.75,
          0.75,
          0.75,
          0.75,
          0.75,
          0.75,
          0.75,
          0.75,
          0.75,
          0.75,
          0.75,
          0.75,
          0.75,
          0.75,
          0.75,
          0.75,
          0.75,
          0.75,
          0.75,
          0.75,
          0.75,
          0.75,
          0.75,
          0.75,
          0.75
         ],
         "x0": " ",
         "xaxis": "x4",
         "y": [
          0.3111989997857906,
          0.2126421893227024,
          0.079920023019751,
          0.2484248629830344,
          0.0333670446650471,
          0.0793166540652492,
          0.187423265323622,
          0.234630473765763,
          0.1110831038075664,
          0.1159699307088428,
          0.0747999283471896,
          0.4160787991664095,
          0.2114404666847561,
          0.0701138087084351,
          0.1236619870850188,
          0.1319083183839098,
          0.1226773707564982,
          0.0884190366346029,
          0.1693791519004826,
          0.1070006877232243,
          0.0808625207942632,
          0.0794007987689948,
          0.0241654556638267,
          0.09436071438335,
          0.0846020837726399,
          0.0873555007923667,
          0.135491389022353,
          0.1380717883537658,
          0.1708167017623451,
          0.2581703123298571,
          0.485119181772446
         ],
         "y0": " ",
         "yaxis": "y4"
        }
       ],
       "layout": {
        "annotations": [
         {
          "font": {},
          "showarrow": false,
          "text": "seed_quality=best",
          "x": 0.1175,
          "xanchor": "center",
          "xref": "paper",
          "y": 1,
          "yanchor": "bottom",
          "yref": "paper"
         },
         {
          "font": {},
          "showarrow": false,
          "text": "seed_quality=lower quartile",
          "x": 0.3725,
          "xanchor": "center",
          "xref": "paper",
          "y": 1,
          "yanchor": "bottom",
          "yref": "paper"
         },
         {
          "font": {},
          "showarrow": false,
          "text": "seed_quality=median",
          "x": 0.6275,
          "xanchor": "center",
          "xref": "paper",
          "y": 1,
          "yanchor": "bottom",
          "yref": "paper"
         },
         {
          "font": {},
          "showarrow": false,
          "text": "seed_quality=upper quartile",
          "x": 0.8824999999999998,
          "xanchor": "center",
          "xref": "paper",
          "y": 1,
          "yanchor": "bottom",
          "yref": "paper"
         }
        ],
        "boxmode": "overlay",
        "height": 400,
        "legend": {
         "title": {
          "text": "% optimal genes"
         },
         "tracegroupgap": 0
        },
        "margin": {
         "t": 60
        },
        "showlegend": false,
        "template": {
         "data": {
          "bar": [
           {
            "error_x": {
             "color": "#2a3f5f"
            },
            "error_y": {
             "color": "#2a3f5f"
            },
            "marker": {
             "line": {
              "color": "#E5ECF6",
              "width": 0.5
             },
             "pattern": {
              "fillmode": "overlay",
              "size": 10,
              "solidity": 0.2
             }
            },
            "type": "bar"
           }
          ],
          "barpolar": [
           {
            "marker": {
             "line": {
              "color": "#E5ECF6",
              "width": 0.5
             },
             "pattern": {
              "fillmode": "overlay",
              "size": 10,
              "solidity": 0.2
             }
            },
            "type": "barpolar"
           }
          ],
          "carpet": [
           {
            "aaxis": {
             "endlinecolor": "#2a3f5f",
             "gridcolor": "white",
             "linecolor": "white",
             "minorgridcolor": "white",
             "startlinecolor": "#2a3f5f"
            },
            "baxis": {
             "endlinecolor": "#2a3f5f",
             "gridcolor": "white",
             "linecolor": "white",
             "minorgridcolor": "white",
             "startlinecolor": "#2a3f5f"
            },
            "type": "carpet"
           }
          ],
          "choropleth": [
           {
            "colorbar": {
             "outlinewidth": 0,
             "ticks": ""
            },
            "type": "choropleth"
           }
          ],
          "contour": [
           {
            "colorbar": {
             "outlinewidth": 0,
             "ticks": ""
            },
            "colorscale": [
             [
              0,
              "#0d0887"
             ],
             [
              0.1111111111111111,
              "#46039f"
             ],
             [
              0.2222222222222222,
              "#7201a8"
             ],
             [
              0.3333333333333333,
              "#9c179e"
             ],
             [
              0.4444444444444444,
              "#bd3786"
             ],
             [
              0.5555555555555556,
              "#d8576b"
             ],
             [
              0.6666666666666666,
              "#ed7953"
             ],
             [
              0.7777777777777778,
              "#fb9f3a"
             ],
             [
              0.8888888888888888,
              "#fdca26"
             ],
             [
              1,
              "#f0f921"
             ]
            ],
            "type": "contour"
           }
          ],
          "contourcarpet": [
           {
            "colorbar": {
             "outlinewidth": 0,
             "ticks": ""
            },
            "type": "contourcarpet"
           }
          ],
          "heatmap": [
           {
            "colorbar": {
             "outlinewidth": 0,
             "ticks": ""
            },
            "colorscale": [
             [
              0,
              "#0d0887"
             ],
             [
              0.1111111111111111,
              "#46039f"
             ],
             [
              0.2222222222222222,
              "#7201a8"
             ],
             [
              0.3333333333333333,
              "#9c179e"
             ],
             [
              0.4444444444444444,
              "#bd3786"
             ],
             [
              0.5555555555555556,
              "#d8576b"
             ],
             [
              0.6666666666666666,
              "#ed7953"
             ],
             [
              0.7777777777777778,
              "#fb9f3a"
             ],
             [
              0.8888888888888888,
              "#fdca26"
             ],
             [
              1,
              "#f0f921"
             ]
            ],
            "type": "heatmap"
           }
          ],
          "heatmapgl": [
           {
            "colorbar": {
             "outlinewidth": 0,
             "ticks": ""
            },
            "colorscale": [
             [
              0,
              "#0d0887"
             ],
             [
              0.1111111111111111,
              "#46039f"
             ],
             [
              0.2222222222222222,
              "#7201a8"
             ],
             [
              0.3333333333333333,
              "#9c179e"
             ],
             [
              0.4444444444444444,
              "#bd3786"
             ],
             [
              0.5555555555555556,
              "#d8576b"
             ],
             [
              0.6666666666666666,
              "#ed7953"
             ],
             [
              0.7777777777777778,
              "#fb9f3a"
             ],
             [
              0.8888888888888888,
              "#fdca26"
             ],
             [
              1,
              "#f0f921"
             ]
            ],
            "type": "heatmapgl"
           }
          ],
          "histogram": [
           {
            "marker": {
             "pattern": {
              "fillmode": "overlay",
              "size": 10,
              "solidity": 0.2
             }
            },
            "type": "histogram"
           }
          ],
          "histogram2d": [
           {
            "colorbar": {
             "outlinewidth": 0,
             "ticks": ""
            },
            "colorscale": [
             [
              0,
              "#0d0887"
             ],
             [
              0.1111111111111111,
              "#46039f"
             ],
             [
              0.2222222222222222,
              "#7201a8"
             ],
             [
              0.3333333333333333,
              "#9c179e"
             ],
             [
              0.4444444444444444,
              "#bd3786"
             ],
             [
              0.5555555555555556,
              "#d8576b"
             ],
             [
              0.6666666666666666,
              "#ed7953"
             ],
             [
              0.7777777777777778,
              "#fb9f3a"
             ],
             [
              0.8888888888888888,
              "#fdca26"
             ],
             [
              1,
              "#f0f921"
             ]
            ],
            "type": "histogram2d"
           }
          ],
          "histogram2dcontour": [
           {
            "colorbar": {
             "outlinewidth": 0,
             "ticks": ""
            },
            "colorscale": [
             [
              0,
              "#0d0887"
             ],
             [
              0.1111111111111111,
              "#46039f"
             ],
             [
              0.2222222222222222,
              "#7201a8"
             ],
             [
              0.3333333333333333,
              "#9c179e"
             ],
             [
              0.4444444444444444,
              "#bd3786"
             ],
             [
              0.5555555555555556,
              "#d8576b"
             ],
             [
              0.6666666666666666,
              "#ed7953"
             ],
             [
              0.7777777777777778,
              "#fb9f3a"
             ],
             [
              0.8888888888888888,
              "#fdca26"
             ],
             [
              1,
              "#f0f921"
             ]
            ],
            "type": "histogram2dcontour"
           }
          ],
          "mesh3d": [
           {
            "colorbar": {
             "outlinewidth": 0,
             "ticks": ""
            },
            "type": "mesh3d"
           }
          ],
          "parcoords": [
           {
            "line": {
             "colorbar": {
              "outlinewidth": 0,
              "ticks": ""
             }
            },
            "type": "parcoords"
           }
          ],
          "pie": [
           {
            "automargin": true,
            "type": "pie"
           }
          ],
          "scatter": [
           {
            "fillpattern": {
             "fillmode": "overlay",
             "size": 10,
             "solidity": 0.2
            },
            "type": "scatter"
           }
          ],
          "scatter3d": [
           {
            "line": {
             "colorbar": {
              "outlinewidth": 0,
              "ticks": ""
             }
            },
            "marker": {
             "colorbar": {
              "outlinewidth": 0,
              "ticks": ""
             }
            },
            "type": "scatter3d"
           }
          ],
          "scattercarpet": [
           {
            "marker": {
             "colorbar": {
              "outlinewidth": 0,
              "ticks": ""
             }
            },
            "type": "scattercarpet"
           }
          ],
          "scattergeo": [
           {
            "marker": {
             "colorbar": {
              "outlinewidth": 0,
              "ticks": ""
             }
            },
            "type": "scattergeo"
           }
          ],
          "scattergl": [
           {
            "marker": {
             "colorbar": {
              "outlinewidth": 0,
              "ticks": ""
             }
            },
            "type": "scattergl"
           }
          ],
          "scattermapbox": [
           {
            "marker": {
             "colorbar": {
              "outlinewidth": 0,
              "ticks": ""
             }
            },
            "type": "scattermapbox"
           }
          ],
          "scatterpolar": [
           {
            "marker": {
             "colorbar": {
              "outlinewidth": 0,
              "ticks": ""
             }
            },
            "type": "scatterpolar"
           }
          ],
          "scatterpolargl": [
           {
            "marker": {
             "colorbar": {
              "outlinewidth": 0,
              "ticks": ""
             }
            },
            "type": "scatterpolargl"
           }
          ],
          "scatterternary": [
           {
            "marker": {
             "colorbar": {
              "outlinewidth": 0,
              "ticks": ""
             }
            },
            "type": "scatterternary"
           }
          ],
          "surface": [
           {
            "colorbar": {
             "outlinewidth": 0,
             "ticks": ""
            },
            "colorscale": [
             [
              0,
              "#0d0887"
             ],
             [
              0.1111111111111111,
              "#46039f"
             ],
             [
              0.2222222222222222,
              "#7201a8"
             ],
             [
              0.3333333333333333,
              "#9c179e"
             ],
             [
              0.4444444444444444,
              "#bd3786"
             ],
             [
              0.5555555555555556,
              "#d8576b"
             ],
             [
              0.6666666666666666,
              "#ed7953"
             ],
             [
              0.7777777777777778,
              "#fb9f3a"
             ],
             [
              0.8888888888888888,
              "#fdca26"
             ],
             [
              1,
              "#f0f921"
             ]
            ],
            "type": "surface"
           }
          ],
          "table": [
           {
            "cells": {
             "fill": {
              "color": "#EBF0F8"
             },
             "line": {
              "color": "white"
             }
            },
            "header": {
             "fill": {
              "color": "#C8D4E3"
             },
             "line": {
              "color": "white"
             }
            },
            "type": "table"
           }
          ]
         },
         "layout": {
          "annotationdefaults": {
           "arrowcolor": "#2a3f5f",
           "arrowhead": 0,
           "arrowwidth": 1
          },
          "autotypenumbers": "strict",
          "coloraxis": {
           "colorbar": {
            "outlinewidth": 0,
            "ticks": ""
           }
          },
          "colorscale": {
           "diverging": [
            [
             0,
             "#8e0152"
            ],
            [
             0.1,
             "#c51b7d"
            ],
            [
             0.2,
             "#de77ae"
            ],
            [
             0.3,
             "#f1b6da"
            ],
            [
             0.4,
             "#fde0ef"
            ],
            [
             0.5,
             "#f7f7f7"
            ],
            [
             0.6,
             "#e6f5d0"
            ],
            [
             0.7,
             "#b8e186"
            ],
            [
             0.8,
             "#7fbc41"
            ],
            [
             0.9,
             "#4d9221"
            ],
            [
             1,
             "#276419"
            ]
           ],
           "sequential": [
            [
             0,
             "#0d0887"
            ],
            [
             0.1111111111111111,
             "#46039f"
            ],
            [
             0.2222222222222222,
             "#7201a8"
            ],
            [
             0.3333333333333333,
             "#9c179e"
            ],
            [
             0.4444444444444444,
             "#bd3786"
            ],
            [
             0.5555555555555556,
             "#d8576b"
            ],
            [
             0.6666666666666666,
             "#ed7953"
            ],
            [
             0.7777777777777778,
             "#fb9f3a"
            ],
            [
             0.8888888888888888,
             "#fdca26"
            ],
            [
             1,
             "#f0f921"
            ]
           ],
           "sequentialminus": [
            [
             0,
             "#0d0887"
            ],
            [
             0.1111111111111111,
             "#46039f"
            ],
            [
             0.2222222222222222,
             "#7201a8"
            ],
            [
             0.3333333333333333,
             "#9c179e"
            ],
            [
             0.4444444444444444,
             "#bd3786"
            ],
            [
             0.5555555555555556,
             "#d8576b"
            ],
            [
             0.6666666666666666,
             "#ed7953"
            ],
            [
             0.7777777777777778,
             "#fb9f3a"
            ],
            [
             0.8888888888888888,
             "#fdca26"
            ],
            [
             1,
             "#f0f921"
            ]
           ]
          },
          "colorway": [
           "#636efa",
           "#EF553B",
           "#00cc96",
           "#ab63fa",
           "#FFA15A",
           "#19d3f3",
           "#FF6692",
           "#B6E880",
           "#FF97FF",
           "#FECB52"
          ],
          "font": {
           "color": "#2a3f5f"
          },
          "geo": {
           "bgcolor": "white",
           "lakecolor": "white",
           "landcolor": "#E5ECF6",
           "showlakes": true,
           "showland": true,
           "subunitcolor": "white"
          },
          "hoverlabel": {
           "align": "left"
          },
          "hovermode": "closest",
          "mapbox": {
           "style": "light"
          },
          "paper_bgcolor": "white",
          "plot_bgcolor": "#E5ECF6",
          "polar": {
           "angularaxis": {
            "gridcolor": "white",
            "linecolor": "white",
            "ticks": ""
           },
           "bgcolor": "#E5ECF6",
           "radialaxis": {
            "gridcolor": "white",
            "linecolor": "white",
            "ticks": ""
           }
          },
          "scene": {
           "xaxis": {
            "backgroundcolor": "#E5ECF6",
            "gridcolor": "white",
            "gridwidth": 2,
            "linecolor": "white",
            "showbackground": true,
            "ticks": "",
            "zerolinecolor": "white"
           },
           "yaxis": {
            "backgroundcolor": "#E5ECF6",
            "gridcolor": "white",
            "gridwidth": 2,
            "linecolor": "white",
            "showbackground": true,
            "ticks": "",
            "zerolinecolor": "white"
           },
           "zaxis": {
            "backgroundcolor": "#E5ECF6",
            "gridcolor": "white",
            "gridwidth": 2,
            "linecolor": "white",
            "showbackground": true,
            "ticks": "",
            "zerolinecolor": "white"
           }
          },
          "shapedefaults": {
           "line": {
            "color": "#2a3f5f"
           }
          },
          "ternary": {
           "aaxis": {
            "gridcolor": "white",
            "linecolor": "white",
            "ticks": ""
           },
           "baxis": {
            "gridcolor": "white",
            "linecolor": "white",
            "ticks": ""
           },
           "bgcolor": "#E5ECF6",
           "caxis": {
            "gridcolor": "white",
            "linecolor": "white",
            "ticks": ""
           }
          },
          "title": {
           "x": 0.05
          },
          "xaxis": {
           "automargin": true,
           "gridcolor": "white",
           "linecolor": "white",
           "ticks": "",
           "title": {
            "standoff": 15
           },
           "zerolinecolor": "white",
           "zerolinewidth": 2
          },
          "yaxis": {
           "automargin": true,
           "gridcolor": "white",
           "linecolor": "white",
           "ticks": "",
           "title": {
            "standoff": 15
           },
           "zerolinecolor": "white",
           "zerolinewidth": 2
          }
         }
        },
        "width": 1300,
        "xaxis": {
         "anchor": "y",
         "categoryarray": [
          0,
          0.25,
          0.5,
          0.75
         ],
         "categoryorder": "array",
         "domain": [
          0,
          0.235
         ],
         "showgrid": true,
         "title": {
          "text": "% optimal genes"
         },
         "type": "category"
        },
        "xaxis2": {
         "anchor": "y2",
         "categoryarray": [
          0,
          0.25,
          0.5,
          0.75
         ],
         "categoryorder": "array",
         "domain": [
          0.255,
          0.49
         ],
         "matches": "x",
         "showgrid": true,
         "title": {
          "text": "% optimal genes"
         },
         "type": "category"
        },
        "xaxis3": {
         "anchor": "y3",
         "categoryarray": [
          0,
          0.25,
          0.5,
          0.75
         ],
         "categoryorder": "array",
         "domain": [
          0.51,
          0.745
         ],
         "matches": "x",
         "showgrid": true,
         "title": {
          "text": "% optimal genes"
         },
         "type": "category"
        },
        "xaxis4": {
         "anchor": "y4",
         "categoryarray": [
          0,
          0.25,
          0.5,
          0.75
         ],
         "categoryorder": "array",
         "domain": [
          0.7649999999999999,
          0.9999999999999999
         ],
         "matches": "x",
         "showgrid": true,
         "title": {
          "text": "% optimal genes"
         },
         "type": "category"
        },
        "yaxis": {
         "anchor": "x",
         "domain": [
          0,
          1
         ],
         "title": {
          "text": "min_f"
         }
        },
        "yaxis2": {
         "anchor": "x2",
         "domain": [
          0,
          1
         ],
         "matches": "y",
         "showticklabels": false
        },
        "yaxis3": {
         "anchor": "x3",
         "domain": [
          0,
          1
         ],
         "matches": "y",
         "showticklabels": false
        },
        "yaxis4": {
         "anchor": "x4",
         "domain": [
          0,
          1
         ],
         "matches": "y",
         "showticklabels": false
        }
       }
      }
     },
     "metadata": {},
     "output_type": "display_data"
    }
   ],
   "source": [
    "import pandas as pd\n",
    "import plotly.express as px\n",
    "\n",
    "gen = 50; dim = 16; crossover=\"UX\"\n",
    "\n",
    "# =============================================================================\n",
    "# Impact\n",
    "# =============================================================================\n",
    "\n",
    "ci_df = pd.read_csv(\"../data/sphere_function_data_out/counting_impact.csv\")\n",
    "only_last_gen_ci = ci_df[ci_df.generation == gen]\n",
    "only_last_gen_ci = only_last_gen_ci[only_last_gen_ci.dim == dim]\n",
    "only_last_gen_ci = only_last_gen_ci[only_last_gen_ci.seed_quality != \"utopia\"]\n",
    "only_last_gen_ci = only_last_gen_ci[only_last_gen_ci.seed_quality != \"dystopia\"]\n",
    "only_last_gen_ci = only_last_gen_ci[only_last_gen_ci.crossover == crossover]\n",
    "\n",
    "\n",
    "only_last_gen_ci = only_last_gen_ci[['traceID_1', 'percentage_of_optimal_genes', 'seed_quality', 'crossover']]\n",
    "\n",
    "fig = px.box(\n",
    "    only_last_gen_ci,\n",
    "    y=\"traceID_1\", x=\"percentage_of_optimal_genes\",\n",
    "    facet_col=\"seed_quality\",\n",
    "    #facet_row=\"crossover\",\n",
    "    color=\"percentage_of_optimal_genes\",\n",
    "    labels={\n",
    "            \"value\": \"counting impact\",\n",
    "            \"variable\": \"\",\n",
    "            \"percentage_of_optimal_genes\": \"% optimal genes\",\n",
    "            \"traceID_1\" : \"seed ind influence\"\n",
    "        },       \n",
    "    height=400, width=1300,\n",
    "    \n",
    "    )\n",
    "fig.update_layout(showlegend=False)\n",
    "fig.update_xaxes(showgrid=True, type='category')\n",
    "fig.write_image(\"../figures/presentation/seed_quality_comparison_impact.svg\")\n",
    "fig.show()\n",
    "\n",
    "# =============================================================================\n",
    "# performance\n",
    "# =============================================================================\n",
    "\n",
    "perf_df = pd.read_csv(\"../data/sphere_function_data_out/performance.csv\")\n",
    "only_last_gen_perf = perf_df[perf_df.generation == gen]\n",
    "only_last_gen_perf = only_last_gen_perf[only_last_gen_perf.dim == dim]\n",
    "only_last_gen_perf = only_last_gen_perf[only_last_gen_perf.seed_quality != \"utopia\"]\n",
    "only_last_gen_perf = only_last_gen_perf[only_last_gen_perf.seed_quality != \"dystopia\"]\n",
    "only_last_gen_perf = only_last_gen_perf[only_last_gen_perf.crossover == crossover]\n",
    "\n",
    "\n",
    "fig = px.box(\n",
    "    only_last_gen_perf,\n",
    "    y=\"min_f\", x=\"percentage_of_optimal_genes\",\n",
    "    facet_col=\"seed_quality\",\n",
    "    #facet_row=\"crossover\",\n",
    "    color=\"percentage_of_optimal_genes\",\n",
    "    labels={\n",
    "            \"value\": \"counting impact\",\n",
    "            \"variable\": \"\",\n",
    "            \"percentage_of_optimal_genes\": \"% optimal genes\",\n",
    "            \"traceID_1\" : \"seed ind influence\"\n",
    "        },       \n",
    "    height=400, width=1300,\n",
    "    )\n",
    "fig.update_layout(showlegend=False)\n",
    "fig.update_xaxes(showgrid=True, type='category')\n",
    "fig.write_image(\"../figures/presentation/seed_quality_comparison_performance.svg\")\n",
    "fig.show()"
   ]
  },
  {
   "cell_type": "markdown",
   "metadata": {},
   "source": [
    "# Dimensions"
   ]
  },
  {
   "cell_type": "code",
   "execution_count": 85,
   "metadata": {},
   "outputs": [
    {
     "data": {
      "application/vnd.plotly.v1+json": {
       "config": {
        "plotlyServerURL": "https://plot.ly"
       },
       "data": [
        {
         "alignmentgroup": "True",
         "hovertemplate": "% optimal genes=%{x}<br>dim=4<br>seed ind influence=%{y}<extra></extra>",
         "legendgroup": "0.0",
         "marker": {
          "color": "#636efa"
         },
         "name": "0.0",
         "notched": false,
         "offsetgroup": "0.0",
         "orientation": "v",
         "showlegend": true,
         "type": "box",
         "x": [
          0,
          0,
          0,
          0,
          0,
          0,
          0,
          0,
          0,
          0,
          0,
          0,
          0,
          0,
          0,
          0,
          0,
          0,
          0,
          0,
          0,
          0,
          0,
          0,
          0,
          0,
          0,
          0,
          0,
          0,
          0
         ],
         "x0": " ",
         "xaxis": "x",
         "y": [
          0,
          0,
          0,
          0,
          0.0798605117438889,
          0,
          0,
          0,
          0,
          0,
          0,
          0,
          0,
          0.0582244778849743,
          0,
          0,
          0,
          0,
          0,
          0,
          0,
          0,
          0,
          0,
          0,
          0,
          0,
          0,
          0,
          0,
          0
         ],
         "y0": " ",
         "yaxis": "y"
        },
        {
         "alignmentgroup": "True",
         "hovertemplate": "% optimal genes=%{x}<br>dim=8<br>seed ind influence=%{y}<extra></extra>",
         "legendgroup": "0.0",
         "marker": {
          "color": "#636efa"
         },
         "name": "0.0",
         "notched": false,
         "offsetgroup": "0.0",
         "orientation": "v",
         "showlegend": false,
         "type": "box",
         "x": [
          0,
          0,
          0,
          0,
          0,
          0,
          0,
          0,
          0,
          0,
          0,
          0,
          0,
          0,
          0,
          0,
          0,
          0,
          0,
          0,
          0,
          0,
          0,
          0,
          0,
          0,
          0,
          0,
          0,
          0,
          0
         ],
         "x0": " ",
         "xaxis": "x2",
         "y": [
          0,
          0,
          0,
          0,
          0,
          0,
          0,
          0,
          0,
          0.0203437572612773,
          0,
          0,
          0,
          0,
          0,
          0,
          0,
          0,
          0,
          0,
          0,
          0,
          0,
          0,
          0,
          0,
          0,
          0,
          0,
          0,
          0
         ],
         "y0": " ",
         "yaxis": "y2"
        },
        {
         "alignmentgroup": "True",
         "hovertemplate": "% optimal genes=%{x}<br>dim=16<br>seed ind influence=%{y}<extra></extra>",
         "legendgroup": "0.0",
         "marker": {
          "color": "#636efa"
         },
         "name": "0.0",
         "notched": false,
         "offsetgroup": "0.0",
         "orientation": "v",
         "showlegend": false,
         "type": "box",
         "x": [
          0,
          0,
          0,
          0,
          0,
          0,
          0,
          0,
          0,
          0,
          0,
          0,
          0,
          0,
          0,
          0,
          0,
          0,
          0,
          0,
          0,
          0,
          0,
          0,
          0,
          0,
          0,
          0,
          0,
          0,
          0
         ],
         "x0": " ",
         "xaxis": "x3",
         "y": [
          0,
          0,
          0,
          0,
          0,
          0,
          0,
          0.0290578103735129,
          0,
          0,
          0,
          0,
          0,
          0,
          0,
          0,
          0,
          0,
          0,
          0.0142931934266974,
          0,
          0,
          0,
          0,
          0,
          0,
          0,
          0,
          0,
          0,
          0
         ],
         "y0": " ",
         "yaxis": "y3"
        },
        {
         "alignmentgroup": "True",
         "hovertemplate": "% optimal genes=%{x}<br>dim=32<br>seed ind influence=%{y}<extra></extra>",
         "legendgroup": "0.0",
         "marker": {
          "color": "#636efa"
         },
         "name": "0.0",
         "notched": false,
         "offsetgroup": "0.0",
         "orientation": "v",
         "showlegend": false,
         "type": "box",
         "x": [
          0,
          0,
          0,
          0,
          0,
          0,
          0,
          0,
          0,
          0,
          0,
          0,
          0,
          0,
          0,
          0,
          0,
          0,
          0,
          0,
          0,
          0,
          0,
          0,
          0,
          0,
          0,
          0,
          0,
          0,
          0
         ],
         "x0": " ",
         "xaxis": "x4",
         "y": [
          0,
          0,
          0,
          0.050964793226627,
          0,
          0.0212434759108208,
          0,
          0,
          0.0441057774559572,
          0.0136546449889813,
          0,
          0,
          0,
          0,
          0,
          0.0194676244779246,
          0.0284032015394639,
          0.0265275814933179,
          0,
          0,
          0,
          0,
          0,
          0,
          0,
          0,
          0,
          0,
          0,
          0.0139758493172136,
          0
         ],
         "y0": " ",
         "yaxis": "y4"
        },
        {
         "alignmentgroup": "True",
         "hovertemplate": "% optimal genes=%{x}<br>dim=4<br>seed ind influence=%{y}<extra></extra>",
         "legendgroup": "0.25",
         "marker": {
          "color": "#EF553B"
         },
         "name": "0.25",
         "notched": false,
         "offsetgroup": "0.25",
         "orientation": "v",
         "showlegend": true,
         "type": "box",
         "x": [
          0.25,
          0.25,
          0.25,
          0.25,
          0.25,
          0.25,
          0.25,
          0.25,
          0.25,
          0.25,
          0.25,
          0.25,
          0.25,
          0.25,
          0.25,
          0.25,
          0.25,
          0.25,
          0.25,
          0.25,
          0.25,
          0.25,
          0.25,
          0.25,
          0.25,
          0.25,
          0.25,
          0.25,
          0.25,
          0.25,
          0.25
         ],
         "x0": " ",
         "xaxis": "x",
         "y": [
          0.1350490322707286,
          0.05,
          0,
          0.1,
          0.125,
          0,
          0.1334391425143984,
          0.0875,
          0,
          0.2375,
          0,
          0,
          0,
          0.1125,
          0,
          0.125,
          0,
          0.25,
          0,
          0,
          0,
          0.0625,
          0.1,
          0,
          0.25,
          0,
          0.0875,
          0,
          0.25,
          0.125,
          0.0875
         ],
         "y0": " ",
         "yaxis": "y"
        },
        {
         "alignmentgroup": "True",
         "hovertemplate": "% optimal genes=%{x}<br>dim=8<br>seed ind influence=%{y}<extra></extra>",
         "legendgroup": "0.25",
         "marker": {
          "color": "#EF553B"
         },
         "name": "0.25",
         "notched": false,
         "offsetgroup": "0.25",
         "orientation": "v",
         "showlegend": false,
         "type": "box",
         "x": [
          0.25,
          0.25,
          0.25,
          0.25,
          0.25,
          0.25,
          0.25,
          0.25,
          0.25,
          0.25,
          0.25,
          0.25,
          0.25,
          0.25,
          0.25,
          0.25,
          0.25,
          0.25,
          0.25,
          0.25,
          0.25,
          0.25,
          0.25,
          0.25,
          0.25,
          0.25,
          0.25,
          0.25,
          0.25,
          0.25,
          0.25
         ],
         "x0": " ",
         "xaxis": "x2",
         "y": [
          0.1125,
          0.10625,
          0.125,
          0,
          0.125,
          0.18125,
          0.06875,
          0.23125,
          0.24375,
          0.017894419136845,
          0,
          0.125,
          0.125,
          0.125,
          0.125,
          0.05,
          0.19375,
          0,
          0.05625,
          0.0625,
          0.1125,
          0.09375,
          0.20625,
          0,
          0,
          0.06875,
          0.19375,
          0.125,
          0.16875,
          0,
          0.025
         ],
         "y0": " ",
         "yaxis": "y2"
        },
        {
         "alignmentgroup": "True",
         "hovertemplate": "% optimal genes=%{x}<br>dim=16<br>seed ind influence=%{y}<extra></extra>",
         "legendgroup": "0.25",
         "marker": {
          "color": "#EF553B"
         },
         "name": "0.25",
         "notched": false,
         "offsetgroup": "0.25",
         "orientation": "v",
         "showlegend": false,
         "type": "box",
         "x": [
          0.25,
          0.25,
          0.25,
          0.25,
          0.25,
          0.25,
          0.25,
          0.25,
          0.25,
          0.25,
          0.25,
          0.25,
          0.25,
          0.25,
          0.25,
          0.25,
          0.25,
          0.25,
          0.25,
          0.25,
          0.25,
          0.25,
          0.25,
          0.25,
          0.25,
          0.25,
          0.25,
          0.25,
          0.25,
          0.25,
          0.25
         ],
         "x0": " ",
         "xaxis": "x3",
         "y": [
          0.11875,
          0.034375,
          0,
          0.128125,
          0.03125,
          0.05,
          0.034375,
          0.028125,
          0,
          0,
          0.125,
          0.0550558886609117,
          0,
          0,
          0.20625,
          0.0625,
          0,
          0,
          0,
          0,
          0,
          0,
          0.125,
          0.0625,
          0,
          0,
          0.0625,
          0,
          0,
          0.1125949488729414,
          0
         ],
         "y0": " ",
         "yaxis": "y3"
        },
        {
         "alignmentgroup": "True",
         "hovertemplate": "% optimal genes=%{x}<br>dim=32<br>seed ind influence=%{y}<extra></extra>",
         "legendgroup": "0.25",
         "marker": {
          "color": "#EF553B"
         },
         "name": "0.25",
         "notched": false,
         "offsetgroup": "0.25",
         "orientation": "v",
         "showlegend": false,
         "type": "box",
         "x": [
          0.25,
          0.25,
          0.25,
          0.25,
          0.25,
          0.25,
          0.25,
          0.25,
          0.25,
          0.25,
          0.25,
          0.25,
          0.25,
          0.25,
          0.25,
          0.25,
          0.25,
          0.25,
          0.25,
          0.25,
          0.25,
          0.25,
          0.25,
          0.25,
          0.25,
          0.25,
          0.25,
          0.25,
          0.25,
          0.25,
          0.25
         ],
         "x0": " ",
         "xaxis": "x4",
         "y": [
          0,
          0.0625,
          0,
          0.05625,
          0.0625,
          0.1,
          0.09375,
          0,
          0.1,
          0.1421875,
          0.0625,
          0,
          0.134375,
          0,
          0.1528052059686756,
          0.05,
          0.1531965130679709,
          0.0515625,
          0,
          0,
          0,
          0.0625,
          0,
          0,
          0,
          0,
          0,
          0.03125,
          0,
          0,
          0.1510293755942336
         ],
         "y0": " ",
         "yaxis": "y4"
        },
        {
         "alignmentgroup": "True",
         "hovertemplate": "% optimal genes=%{x}<br>dim=4<br>seed ind influence=%{y}<extra></extra>",
         "legendgroup": "0.5",
         "marker": {
          "color": "#00cc96"
         },
         "name": "0.5",
         "notched": false,
         "offsetgroup": "0.5",
         "orientation": "v",
         "showlegend": true,
         "type": "box",
         "x": [
          0.5,
          0.5,
          0.5,
          0.5,
          0.5,
          0.5,
          0.5,
          0.5,
          0.5,
          0.5,
          0.5,
          0.5,
          0.5,
          0.5,
          0.5,
          0.5,
          0.5,
          0.5,
          0.5,
          0.5,
          0.5,
          0.5,
          0.5,
          0.5,
          0.5,
          0.5,
          0.5,
          0.5,
          0.5,
          0.5,
          0.5
         ],
         "x0": " ",
         "xaxis": "x",
         "y": [
          0.3443387993206609,
          0.25,
          0,
          0.0875,
          0.0625,
          0,
          0.2449080078501886,
          0,
          0,
          0.35,
          0,
          0.3375,
          0.0375,
          0.225,
          0,
          0.3,
          0,
          0.2875,
          0.1,
          0.2125,
          0.2375,
          0.0625,
          0.1125,
          0,
          0.075,
          0,
          0,
          0.175,
          0.1125,
          0.325,
          0.3
         ],
         "y0": " ",
         "yaxis": "y"
        },
        {
         "alignmentgroup": "True",
         "hovertemplate": "% optimal genes=%{x}<br>dim=8<br>seed ind influence=%{y}<extra></extra>",
         "legendgroup": "0.5",
         "marker": {
          "color": "#00cc96"
         },
         "name": "0.5",
         "notched": false,
         "offsetgroup": "0.5",
         "orientation": "v",
         "showlegend": false,
         "type": "box",
         "x": [
          0.5,
          0.5,
          0.5,
          0.5,
          0.5,
          0.5,
          0.5,
          0.5,
          0.5,
          0.5,
          0.5,
          0.5,
          0.5,
          0.5,
          0.5,
          0.5,
          0.5,
          0.5,
          0.5,
          0.5,
          0.5,
          0.5,
          0.5,
          0.5,
          0.5,
          0.5,
          0.5,
          0.5,
          0.5,
          0.5,
          0.5
         ],
         "x0": " ",
         "xaxis": "x2",
         "y": [
          0.04375,
          0.15625,
          0.325,
          0.4,
          0.15,
          0.2375,
          0.1625,
          0.26875,
          0.3,
          0,
          0.0625,
          0,
          0.125,
          0,
          0.2375,
          0.38125,
          0.0625,
          0.24375,
          0.24375,
          0.20625,
          0.25,
          0.04375,
          0.25,
          0,
          0.15625,
          0.075,
          0.2375,
          0.14375,
          0.3875,
          0.2375,
          0.25625
         ],
         "y0": " ",
         "yaxis": "y2"
        },
        {
         "alignmentgroup": "True",
         "hovertemplate": "% optimal genes=%{x}<br>dim=16<br>seed ind influence=%{y}<extra></extra>",
         "legendgroup": "0.5",
         "marker": {
          "color": "#00cc96"
         },
         "name": "0.5",
         "notched": false,
         "offsetgroup": "0.5",
         "orientation": "v",
         "showlegend": false,
         "type": "box",
         "x": [
          0.5,
          0.5,
          0.5,
          0.5,
          0.5,
          0.5,
          0.5,
          0.5,
          0.5,
          0.5,
          0.5,
          0.5,
          0.5,
          0.5,
          0.5,
          0.5,
          0.5,
          0.5,
          0.5,
          0.5,
          0.5,
          0.5,
          0.5,
          0.5,
          0.5,
          0.5,
          0.5,
          0.5,
          0.5,
          0.5,
          0.5
         ],
         "x0": " ",
         "xaxis": "x3",
         "y": [
          0.1,
          0.090625,
          0,
          0.346875,
          0,
          0.25,
          0.028125,
          0.059375,
          0,
          0,
          0.040625,
          0.0625,
          0.1375,
          0.24375,
          0.38125,
          0.16875,
          0,
          0.053125,
          0.29375,
          0.2125,
          0.0625,
          0,
          0.109375,
          0.340625,
          0,
          0.034375,
          0.33125,
          0,
          0,
          0.275,
          0
         ],
         "y0": " ",
         "yaxis": "y3"
        },
        {
         "alignmentgroup": "True",
         "hovertemplate": "% optimal genes=%{x}<br>dim=32<br>seed ind influence=%{y}<extra></extra>",
         "legendgroup": "0.5",
         "marker": {
          "color": "#00cc96"
         },
         "name": "0.5",
         "notched": false,
         "offsetgroup": "0.5",
         "orientation": "v",
         "showlegend": false,
         "type": "box",
         "x": [
          0.5,
          0.5,
          0.5,
          0.5,
          0.5,
          0.5,
          0.5,
          0.5,
          0.5,
          0.5,
          0.5,
          0.5,
          0.5,
          0.5,
          0.5,
          0.5,
          0.5,
          0.5,
          0.5,
          0.5,
          0.5,
          0.5,
          0.5,
          0.5,
          0.5,
          0.5,
          0.5,
          0.5,
          0.5,
          0.5,
          0.5
         ],
         "x0": " ",
         "xaxis": "x4",
         "y": [
          0,
          0.3296875,
          0,
          0.2953125,
          0,
          0.1671875,
          0,
          0.03125,
          0.3726721142806429,
          0.11875,
          0.125,
          0,
          0.1171875,
          0,
          0.3625,
          0.215625,
          0.21875,
          0.03125,
          0,
          0,
          0,
          0.08125,
          0.0890625,
          0,
          0.1375,
          0.0484375,
          0,
          0.115625,
          0,
          0.21875,
          0.2078125
         ],
         "y0": " ",
         "yaxis": "y4"
        },
        {
         "alignmentgroup": "True",
         "hovertemplate": "% optimal genes=%{x}<br>dim=4<br>seed ind influence=%{y}<extra></extra>",
         "legendgroup": "0.75",
         "marker": {
          "color": "#ab63fa"
         },
         "name": "0.75",
         "notched": false,
         "offsetgroup": "0.75",
         "orientation": "v",
         "showlegend": true,
         "type": "box",
         "x": [
          0.75,
          0.75,
          0.75,
          0.75,
          0.75,
          0.75,
          0.75,
          0.75,
          0.75,
          0.75,
          0.75,
          0.75,
          0.75,
          0.75,
          0.75,
          0.75,
          0.75,
          0.75,
          0.75,
          0.75,
          0.75,
          0.75,
          0.75,
          0.75,
          0.75,
          0.75,
          0.75,
          0.75,
          0.75,
          0.75,
          0.75
         ],
         "x0": " ",
         "xaxis": "x",
         "y": [
          0.25,
          0.325,
          0.225,
          0.4875,
          0,
          0,
          0.425,
          0,
          0,
          0.425,
          0.25,
          0.175,
          0.1875,
          0.25,
          0,
          0.3,
          0,
          0,
          0.1,
          0.3125,
          0.1625,
          0.0625,
          0.1375,
          0.275,
          0.4125,
          0,
          0.2125,
          0.4,
          0.05,
          0.325,
          0.5375
         ],
         "y0": " ",
         "yaxis": "y"
        },
        {
         "alignmentgroup": "True",
         "hovertemplate": "% optimal genes=%{x}<br>dim=8<br>seed ind influence=%{y}<extra></extra>",
         "legendgroup": "0.75",
         "marker": {
          "color": "#ab63fa"
         },
         "name": "0.75",
         "notched": false,
         "offsetgroup": "0.75",
         "orientation": "v",
         "showlegend": false,
         "type": "box",
         "x": [
          0.75,
          0.75,
          0.75,
          0.75,
          0.75,
          0.75,
          0.75,
          0.75,
          0.75,
          0.75,
          0.75,
          0.75,
          0.75,
          0.75,
          0.75,
          0.75,
          0.75,
          0.75,
          0.75,
          0.75,
          0.75,
          0.75,
          0.75,
          0.75,
          0.75,
          0.75,
          0.75,
          0.75,
          0.75,
          0.75,
          0.75
         ],
         "x0": " ",
         "xaxis": "x2",
         "y": [
          0.2375,
          0.35625,
          0.38125,
          0.41875,
          0.25,
          0.525,
          0.41875,
          0.2125,
          0.45625,
          0.14375,
          0.05,
          0.45,
          0.45,
          0,
          0.4375,
          0.2625,
          0.0625,
          0,
          0.34375,
          0.2125,
          0.3375,
          0.46875,
          0.4125,
          0,
          0.19375,
          0,
          0.56875,
          0.14375,
          0.24375,
          0,
          0.55625
         ],
         "y0": " ",
         "yaxis": "y2"
        },
        {
         "alignmentgroup": "True",
         "hovertemplate": "% optimal genes=%{x}<br>dim=16<br>seed ind influence=%{y}<extra></extra>",
         "legendgroup": "0.75",
         "marker": {
          "color": "#ab63fa"
         },
         "name": "0.75",
         "notched": false,
         "offsetgroup": "0.75",
         "orientation": "v",
         "showlegend": false,
         "type": "box",
         "x": [
          0.75,
          0.75,
          0.75,
          0.75,
          0.75,
          0.75,
          0.75,
          0.75,
          0.75,
          0.75,
          0.75,
          0.75,
          0.75,
          0.75,
          0.75,
          0.75,
          0.75,
          0.75,
          0.75,
          0.75,
          0.75,
          0.75,
          0.75,
          0.75,
          0.75,
          0.75,
          0.75,
          0.75,
          0.75,
          0.75,
          0.75
         ],
         "x0": " ",
         "xaxis": "x3",
         "y": [
          0.221875,
          0.484375,
          0,
          0.2625,
          0.5125,
          0.384375,
          0,
          0.096875,
          0.365625,
          0.125,
          0.375,
          0.321875,
          0.040625,
          0.2375,
          0.36875,
          0.0625,
          0.153125,
          0.10625,
          0,
          0,
          0.353125,
          0.125,
          0.2625,
          0.0625,
          0,
          0.38125,
          0.36875,
          0.159375,
          0.20625,
          0.125,
          0.10625
         ],
         "y0": " ",
         "yaxis": "y3"
        },
        {
         "alignmentgroup": "True",
         "hovertemplate": "% optimal genes=%{x}<br>dim=32<br>seed ind influence=%{y}<extra></extra>",
         "legendgroup": "0.75",
         "marker": {
          "color": "#ab63fa"
         },
         "name": "0.75",
         "notched": false,
         "offsetgroup": "0.75",
         "orientation": "v",
         "showlegend": false,
         "type": "box",
         "x": [
          0.75,
          0.75,
          0.75,
          0.75,
          0.75,
          0.75,
          0.75,
          0.75,
          0.75,
          0.75,
          0.75,
          0.75,
          0.75,
          0.75,
          0.75,
          0.75,
          0.75,
          0.75,
          0.75,
          0.75,
          0.75,
          0.75,
          0.75,
          0.75,
          0.75,
          0.75,
          0.75,
          0.75,
          0.75,
          0.75,
          0.75
         ],
         "x0": " ",
         "xaxis": "x4",
         "y": [
          0,
          0.3515625,
          0.3296875,
          0.11875,
          0.0625,
          0.49375,
          0,
          0.28125,
          0.43125,
          0.125,
          0.2046875,
          0.36875,
          0.1859375,
          0,
          0.4296875,
          0.2515625,
          0.15625,
          0.4546875,
          0,
          0,
          0,
          0.3171875,
          0.18125,
          0,
          0.2890625,
          0.1671875,
          0,
          0.3875,
          0.4109375,
          0.3953125,
          0.3296875
         ],
         "y0": " ",
         "yaxis": "y4"
        }
       ],
       "layout": {
        "annotations": [
         {
          "font": {},
          "showarrow": false,
          "text": "dim=4",
          "x": 0.111875,
          "xanchor": "center",
          "xref": "paper",
          "y": 1,
          "yanchor": "bottom",
          "yref": "paper"
         },
         {
          "font": {},
          "showarrow": false,
          "text": "dim=8",
          "x": 0.37062500000000004,
          "xanchor": "center",
          "xref": "paper",
          "y": 1,
          "yanchor": "bottom",
          "yref": "paper"
         },
         {
          "font": {},
          "showarrow": false,
          "text": "dim=16",
          "x": 0.629375,
          "xanchor": "center",
          "xref": "paper",
          "y": 1,
          "yanchor": "bottom",
          "yref": "paper"
         },
         {
          "font": {},
          "showarrow": false,
          "text": "dim=32",
          "x": 0.888125,
          "xanchor": "center",
          "xref": "paper",
          "y": 1,
          "yanchor": "bottom",
          "yref": "paper"
         }
        ],
        "boxmode": "overlay",
        "height": 400,
        "legend": {
         "title": {
          "text": "% optimal genes"
         },
         "tracegroupgap": 0
        },
        "margin": {
         "t": 60
        },
        "showlegend": false,
        "template": {
         "data": {
          "bar": [
           {
            "error_x": {
             "color": "#2a3f5f"
            },
            "error_y": {
             "color": "#2a3f5f"
            },
            "marker": {
             "line": {
              "color": "#E5ECF6",
              "width": 0.5
             },
             "pattern": {
              "fillmode": "overlay",
              "size": 10,
              "solidity": 0.2
             }
            },
            "type": "bar"
           }
          ],
          "barpolar": [
           {
            "marker": {
             "line": {
              "color": "#E5ECF6",
              "width": 0.5
             },
             "pattern": {
              "fillmode": "overlay",
              "size": 10,
              "solidity": 0.2
             }
            },
            "type": "barpolar"
           }
          ],
          "carpet": [
           {
            "aaxis": {
             "endlinecolor": "#2a3f5f",
             "gridcolor": "white",
             "linecolor": "white",
             "minorgridcolor": "white",
             "startlinecolor": "#2a3f5f"
            },
            "baxis": {
             "endlinecolor": "#2a3f5f",
             "gridcolor": "white",
             "linecolor": "white",
             "minorgridcolor": "white",
             "startlinecolor": "#2a3f5f"
            },
            "type": "carpet"
           }
          ],
          "choropleth": [
           {
            "colorbar": {
             "outlinewidth": 0,
             "ticks": ""
            },
            "type": "choropleth"
           }
          ],
          "contour": [
           {
            "colorbar": {
             "outlinewidth": 0,
             "ticks": ""
            },
            "colorscale": [
             [
              0,
              "#0d0887"
             ],
             [
              0.1111111111111111,
              "#46039f"
             ],
             [
              0.2222222222222222,
              "#7201a8"
             ],
             [
              0.3333333333333333,
              "#9c179e"
             ],
             [
              0.4444444444444444,
              "#bd3786"
             ],
             [
              0.5555555555555556,
              "#d8576b"
             ],
             [
              0.6666666666666666,
              "#ed7953"
             ],
             [
              0.7777777777777778,
              "#fb9f3a"
             ],
             [
              0.8888888888888888,
              "#fdca26"
             ],
             [
              1,
              "#f0f921"
             ]
            ],
            "type": "contour"
           }
          ],
          "contourcarpet": [
           {
            "colorbar": {
             "outlinewidth": 0,
             "ticks": ""
            },
            "type": "contourcarpet"
           }
          ],
          "heatmap": [
           {
            "colorbar": {
             "outlinewidth": 0,
             "ticks": ""
            },
            "colorscale": [
             [
              0,
              "#0d0887"
             ],
             [
              0.1111111111111111,
              "#46039f"
             ],
             [
              0.2222222222222222,
              "#7201a8"
             ],
             [
              0.3333333333333333,
              "#9c179e"
             ],
             [
              0.4444444444444444,
              "#bd3786"
             ],
             [
              0.5555555555555556,
              "#d8576b"
             ],
             [
              0.6666666666666666,
              "#ed7953"
             ],
             [
              0.7777777777777778,
              "#fb9f3a"
             ],
             [
              0.8888888888888888,
              "#fdca26"
             ],
             [
              1,
              "#f0f921"
             ]
            ],
            "type": "heatmap"
           }
          ],
          "heatmapgl": [
           {
            "colorbar": {
             "outlinewidth": 0,
             "ticks": ""
            },
            "colorscale": [
             [
              0,
              "#0d0887"
             ],
             [
              0.1111111111111111,
              "#46039f"
             ],
             [
              0.2222222222222222,
              "#7201a8"
             ],
             [
              0.3333333333333333,
              "#9c179e"
             ],
             [
              0.4444444444444444,
              "#bd3786"
             ],
             [
              0.5555555555555556,
              "#d8576b"
             ],
             [
              0.6666666666666666,
              "#ed7953"
             ],
             [
              0.7777777777777778,
              "#fb9f3a"
             ],
             [
              0.8888888888888888,
              "#fdca26"
             ],
             [
              1,
              "#f0f921"
             ]
            ],
            "type": "heatmapgl"
           }
          ],
          "histogram": [
           {
            "marker": {
             "pattern": {
              "fillmode": "overlay",
              "size": 10,
              "solidity": 0.2
             }
            },
            "type": "histogram"
           }
          ],
          "histogram2d": [
           {
            "colorbar": {
             "outlinewidth": 0,
             "ticks": ""
            },
            "colorscale": [
             [
              0,
              "#0d0887"
             ],
             [
              0.1111111111111111,
              "#46039f"
             ],
             [
              0.2222222222222222,
              "#7201a8"
             ],
             [
              0.3333333333333333,
              "#9c179e"
             ],
             [
              0.4444444444444444,
              "#bd3786"
             ],
             [
              0.5555555555555556,
              "#d8576b"
             ],
             [
              0.6666666666666666,
              "#ed7953"
             ],
             [
              0.7777777777777778,
              "#fb9f3a"
             ],
             [
              0.8888888888888888,
              "#fdca26"
             ],
             [
              1,
              "#f0f921"
             ]
            ],
            "type": "histogram2d"
           }
          ],
          "histogram2dcontour": [
           {
            "colorbar": {
             "outlinewidth": 0,
             "ticks": ""
            },
            "colorscale": [
             [
              0,
              "#0d0887"
             ],
             [
              0.1111111111111111,
              "#46039f"
             ],
             [
              0.2222222222222222,
              "#7201a8"
             ],
             [
              0.3333333333333333,
              "#9c179e"
             ],
             [
              0.4444444444444444,
              "#bd3786"
             ],
             [
              0.5555555555555556,
              "#d8576b"
             ],
             [
              0.6666666666666666,
              "#ed7953"
             ],
             [
              0.7777777777777778,
              "#fb9f3a"
             ],
             [
              0.8888888888888888,
              "#fdca26"
             ],
             [
              1,
              "#f0f921"
             ]
            ],
            "type": "histogram2dcontour"
           }
          ],
          "mesh3d": [
           {
            "colorbar": {
             "outlinewidth": 0,
             "ticks": ""
            },
            "type": "mesh3d"
           }
          ],
          "parcoords": [
           {
            "line": {
             "colorbar": {
              "outlinewidth": 0,
              "ticks": ""
             }
            },
            "type": "parcoords"
           }
          ],
          "pie": [
           {
            "automargin": true,
            "type": "pie"
           }
          ],
          "scatter": [
           {
            "fillpattern": {
             "fillmode": "overlay",
             "size": 10,
             "solidity": 0.2
            },
            "type": "scatter"
           }
          ],
          "scatter3d": [
           {
            "line": {
             "colorbar": {
              "outlinewidth": 0,
              "ticks": ""
             }
            },
            "marker": {
             "colorbar": {
              "outlinewidth": 0,
              "ticks": ""
             }
            },
            "type": "scatter3d"
           }
          ],
          "scattercarpet": [
           {
            "marker": {
             "colorbar": {
              "outlinewidth": 0,
              "ticks": ""
             }
            },
            "type": "scattercarpet"
           }
          ],
          "scattergeo": [
           {
            "marker": {
             "colorbar": {
              "outlinewidth": 0,
              "ticks": ""
             }
            },
            "type": "scattergeo"
           }
          ],
          "scattergl": [
           {
            "marker": {
             "colorbar": {
              "outlinewidth": 0,
              "ticks": ""
             }
            },
            "type": "scattergl"
           }
          ],
          "scattermapbox": [
           {
            "marker": {
             "colorbar": {
              "outlinewidth": 0,
              "ticks": ""
             }
            },
            "type": "scattermapbox"
           }
          ],
          "scatterpolar": [
           {
            "marker": {
             "colorbar": {
              "outlinewidth": 0,
              "ticks": ""
             }
            },
            "type": "scatterpolar"
           }
          ],
          "scatterpolargl": [
           {
            "marker": {
             "colorbar": {
              "outlinewidth": 0,
              "ticks": ""
             }
            },
            "type": "scatterpolargl"
           }
          ],
          "scatterternary": [
           {
            "marker": {
             "colorbar": {
              "outlinewidth": 0,
              "ticks": ""
             }
            },
            "type": "scatterternary"
           }
          ],
          "surface": [
           {
            "colorbar": {
             "outlinewidth": 0,
             "ticks": ""
            },
            "colorscale": [
             [
              0,
              "#0d0887"
             ],
             [
              0.1111111111111111,
              "#46039f"
             ],
             [
              0.2222222222222222,
              "#7201a8"
             ],
             [
              0.3333333333333333,
              "#9c179e"
             ],
             [
              0.4444444444444444,
              "#bd3786"
             ],
             [
              0.5555555555555556,
              "#d8576b"
             ],
             [
              0.6666666666666666,
              "#ed7953"
             ],
             [
              0.7777777777777778,
              "#fb9f3a"
             ],
             [
              0.8888888888888888,
              "#fdca26"
             ],
             [
              1,
              "#f0f921"
             ]
            ],
            "type": "surface"
           }
          ],
          "table": [
           {
            "cells": {
             "fill": {
              "color": "#EBF0F8"
             },
             "line": {
              "color": "white"
             }
            },
            "header": {
             "fill": {
              "color": "#C8D4E3"
             },
             "line": {
              "color": "white"
             }
            },
            "type": "table"
           }
          ]
         },
         "layout": {
          "annotationdefaults": {
           "arrowcolor": "#2a3f5f",
           "arrowhead": 0,
           "arrowwidth": 1
          },
          "autotypenumbers": "strict",
          "coloraxis": {
           "colorbar": {
            "outlinewidth": 0,
            "ticks": ""
           }
          },
          "colorscale": {
           "diverging": [
            [
             0,
             "#8e0152"
            ],
            [
             0.1,
             "#c51b7d"
            ],
            [
             0.2,
             "#de77ae"
            ],
            [
             0.3,
             "#f1b6da"
            ],
            [
             0.4,
             "#fde0ef"
            ],
            [
             0.5,
             "#f7f7f7"
            ],
            [
             0.6,
             "#e6f5d0"
            ],
            [
             0.7,
             "#b8e186"
            ],
            [
             0.8,
             "#7fbc41"
            ],
            [
             0.9,
             "#4d9221"
            ],
            [
             1,
             "#276419"
            ]
           ],
           "sequential": [
            [
             0,
             "#0d0887"
            ],
            [
             0.1111111111111111,
             "#46039f"
            ],
            [
             0.2222222222222222,
             "#7201a8"
            ],
            [
             0.3333333333333333,
             "#9c179e"
            ],
            [
             0.4444444444444444,
             "#bd3786"
            ],
            [
             0.5555555555555556,
             "#d8576b"
            ],
            [
             0.6666666666666666,
             "#ed7953"
            ],
            [
             0.7777777777777778,
             "#fb9f3a"
            ],
            [
             0.8888888888888888,
             "#fdca26"
            ],
            [
             1,
             "#f0f921"
            ]
           ],
           "sequentialminus": [
            [
             0,
             "#0d0887"
            ],
            [
             0.1111111111111111,
             "#46039f"
            ],
            [
             0.2222222222222222,
             "#7201a8"
            ],
            [
             0.3333333333333333,
             "#9c179e"
            ],
            [
             0.4444444444444444,
             "#bd3786"
            ],
            [
             0.5555555555555556,
             "#d8576b"
            ],
            [
             0.6666666666666666,
             "#ed7953"
            ],
            [
             0.7777777777777778,
             "#fb9f3a"
            ],
            [
             0.8888888888888888,
             "#fdca26"
            ],
            [
             1,
             "#f0f921"
            ]
           ]
          },
          "colorway": [
           "#636efa",
           "#EF553B",
           "#00cc96",
           "#ab63fa",
           "#FFA15A",
           "#19d3f3",
           "#FF6692",
           "#B6E880",
           "#FF97FF",
           "#FECB52"
          ],
          "font": {
           "color": "#2a3f5f"
          },
          "geo": {
           "bgcolor": "white",
           "lakecolor": "white",
           "landcolor": "#E5ECF6",
           "showlakes": true,
           "showland": true,
           "subunitcolor": "white"
          },
          "hoverlabel": {
           "align": "left"
          },
          "hovermode": "closest",
          "mapbox": {
           "style": "light"
          },
          "paper_bgcolor": "white",
          "plot_bgcolor": "#E5ECF6",
          "polar": {
           "angularaxis": {
            "gridcolor": "white",
            "linecolor": "white",
            "ticks": ""
           },
           "bgcolor": "#E5ECF6",
           "radialaxis": {
            "gridcolor": "white",
            "linecolor": "white",
            "ticks": ""
           }
          },
          "scene": {
           "xaxis": {
            "backgroundcolor": "#E5ECF6",
            "gridcolor": "white",
            "gridwidth": 2,
            "linecolor": "white",
            "showbackground": true,
            "ticks": "",
            "zerolinecolor": "white"
           },
           "yaxis": {
            "backgroundcolor": "#E5ECF6",
            "gridcolor": "white",
            "gridwidth": 2,
            "linecolor": "white",
            "showbackground": true,
            "ticks": "",
            "zerolinecolor": "white"
           },
           "zaxis": {
            "backgroundcolor": "#E5ECF6",
            "gridcolor": "white",
            "gridwidth": 2,
            "linecolor": "white",
            "showbackground": true,
            "ticks": "",
            "zerolinecolor": "white"
           }
          },
          "shapedefaults": {
           "line": {
            "color": "#2a3f5f"
           }
          },
          "ternary": {
           "aaxis": {
            "gridcolor": "white",
            "linecolor": "white",
            "ticks": ""
           },
           "baxis": {
            "gridcolor": "white",
            "linecolor": "white",
            "ticks": ""
           },
           "bgcolor": "#E5ECF6",
           "caxis": {
            "gridcolor": "white",
            "linecolor": "white",
            "ticks": ""
           }
          },
          "title": {
           "x": 0.05
          },
          "xaxis": {
           "automargin": true,
           "gridcolor": "white",
           "linecolor": "white",
           "ticks": "",
           "title": {
            "standoff": 15
           },
           "zerolinecolor": "white",
           "zerolinewidth": 2
          },
          "yaxis": {
           "automargin": true,
           "gridcolor": "white",
           "linecolor": "white",
           "ticks": "",
           "title": {
            "standoff": 15
           },
           "zerolinecolor": "white",
           "zerolinewidth": 2
          }
         }
        },
        "width": 1300,
        "xaxis": {
         "anchor": "y",
         "categoryarray": [
          0,
          0.25,
          0.5,
          0.75
         ],
         "categoryorder": "array",
         "domain": [
          0,
          0.22375
         ],
         "showgrid": true,
         "title": {
          "text": "% optimal genes"
         },
         "type": "category"
        },
        "xaxis2": {
         "anchor": "y2",
         "categoryarray": [
          0,
          0.25,
          0.5,
          0.75
         ],
         "categoryorder": "array",
         "domain": [
          0.25875000000000004,
          0.48250000000000004
         ],
         "matches": "x",
         "showgrid": true,
         "title": {
          "text": "% optimal genes"
         },
         "type": "category"
        },
        "xaxis3": {
         "anchor": "y3",
         "categoryarray": [
          0,
          0.25,
          0.5,
          0.75
         ],
         "categoryorder": "array",
         "domain": [
          0.5175000000000001,
          0.7412500000000001
         ],
         "matches": "x",
         "showgrid": true,
         "title": {
          "text": "% optimal genes"
         },
         "type": "category"
        },
        "xaxis4": {
         "anchor": "y4",
         "categoryarray": [
          0,
          0.25,
          0.5,
          0.75
         ],
         "categoryorder": "array",
         "domain": [
          0.77625,
          1
         ],
         "matches": "x",
         "showgrid": true,
         "title": {
          "text": "% optimal genes"
         },
         "type": "category"
        },
        "yaxis": {
         "anchor": "x",
         "domain": [
          0,
          1
         ],
         "title": {
          "text": "seed ind influence"
         }
        },
        "yaxis2": {
         "anchor": "x2",
         "domain": [
          0,
          1
         ],
         "matches": "y",
         "showticklabels": false
        },
        "yaxis3": {
         "anchor": "x3",
         "domain": [
          0,
          1
         ],
         "matches": "y",
         "showticklabels": false
        },
        "yaxis4": {
         "anchor": "x4",
         "domain": [
          0,
          1
         ],
         "matches": "y",
         "showticklabels": false
        }
       }
      }
     },
     "metadata": {},
     "output_type": "display_data"
    },
    {
     "data": {
      "application/vnd.plotly.v1+json": {
       "config": {
        "plotlyServerURL": "https://plot.ly"
       },
       "data": [
        {
         "alignmentgroup": "True",
         "hovertemplate": "% optimal genes=%{x}<br>dim=4<br>min_f=%{y}<extra></extra>",
         "legendgroup": "0.0",
         "marker": {
          "color": "#636efa"
         },
         "name": "0.0",
         "notched": false,
         "offsetgroup": "0.0",
         "orientation": "v",
         "showlegend": true,
         "type": "box",
         "x": [
          0,
          0,
          0,
          0,
          0,
          0,
          0,
          0,
          0,
          0,
          0,
          0,
          0,
          0,
          0,
          0,
          0,
          0,
          0,
          0,
          0,
          0,
          0,
          0,
          0,
          0,
          0,
          0,
          0,
          0,
          0
         ],
         "x0": " ",
         "xaxis": "x",
         "y": [
          0.00025243947512,
          0.0002661874651833,
          0.0001734239713473,
          0.0001225094639625,
          0.00002053424224802106,
          0.00007484768740006701,
          0.0003346505678408,
          0.000188437612411,
          0.0005217466383612,
          0.0001513297908682,
          0.00009686351915970772,
          0.0002426290663427,
          0.0001308327545518,
          0.000016783767231998496,
          0.0001615486361586,
          0.0002105591162653,
          0.0004155298932579,
          0.0002952055717305,
          0.0004178490046814,
          0.0001997979677982,
          0.000111046536967,
          0.0002115489302316,
          0.0004457672119401,
          0.0001503308791507,
          0.0001916305748816,
          0.00004396333114426624,
          0.000048151051297273456,
          0.00006329170380100574,
          0.00004337937630393844,
          0.0003862458224672,
          0.00002750308221983358
         ],
         "y0": " ",
         "yaxis": "y"
        },
        {
         "alignmentgroup": "True",
         "hovertemplate": "% optimal genes=%{x}<br>dim=8<br>min_f=%{y}<extra></extra>",
         "legendgroup": "0.0",
         "marker": {
          "color": "#636efa"
         },
         "name": "0.0",
         "notched": false,
         "offsetgroup": "0.0",
         "orientation": "v",
         "showlegend": false,
         "type": "box",
         "x": [
          0,
          0,
          0,
          0,
          0,
          0,
          0,
          0,
          0,
          0,
          0,
          0,
          0,
          0,
          0,
          0,
          0,
          0,
          0,
          0,
          0,
          0,
          0,
          0,
          0,
          0,
          0,
          0,
          0,
          0,
          0
         ],
         "x0": " ",
         "xaxis": "x2",
         "y": [
          0.0038694189534566,
          0.0071555358925232,
          0.0023663394471593,
          0.0075967036494008,
          0.0032690815544845,
          0.0018902289110137,
          0.016093264431153,
          0.0115854828386572,
          0.016402671020353,
          0.004598039718173,
          0.0078126261090418,
          0.005318734137975,
          0.0039481587293072,
          0.0039269910170923,
          0.0024275871160755,
          0.0046532282965589,
          0.0092260458992071,
          0.0118412009766388,
          0.0176936076989253,
          0.0017107294951028,
          0.0062949518438192,
          0.0010723829903566,
          0.0065938359591913,
          0.0062249361171486,
          0.0065742713579214,
          0.0106533773138909,
          0.0065395587697909,
          0.0016112761146333,
          0.0038970365062898,
          0.0017012422139778,
          0.0144950929907396
         ],
         "y0": " ",
         "yaxis": "y2"
        },
        {
         "alignmentgroup": "True",
         "hovertemplate": "% optimal genes=%{x}<br>dim=16<br>min_f=%{y}<extra></extra>",
         "legendgroup": "0.0",
         "marker": {
          "color": "#636efa"
         },
         "name": "0.0",
         "notched": false,
         "offsetgroup": "0.0",
         "orientation": "v",
         "showlegend": false,
         "type": "box",
         "x": [
          0,
          0,
          0,
          0,
          0,
          0,
          0,
          0,
          0,
          0,
          0,
          0,
          0,
          0,
          0,
          0,
          0,
          0,
          0,
          0,
          0,
          0,
          0,
          0,
          0,
          0,
          0,
          0,
          0,
          0,
          0
         ],
         "x0": " ",
         "xaxis": "x3",
         "y": [
          0.0693786163016842,
          0.1416876727943044,
          0.1670772957449847,
          0.0996754763102357,
          0.3509545932613952,
          0.1040364935359273,
          0.3297631562425239,
          0.2959882200528145,
          0.207545655412207,
          0.1453570219850363,
          0.3376746126354198,
          0.1546015635796576,
          0.1151466853834701,
          0.1123444337050844,
          0.1028626606342481,
          0.2167380863046759,
          0.0975367821234788,
          0.1194295215561388,
          0.0836829231166975,
          0.0716433968594541,
          0.0771818265163754,
          0.0839830742600501,
          0.1607921668870385,
          0.2787052894733568,
          0.2220727122186871,
          0.1884326246705638,
          0.0923249900985524,
          0.1556022321436972,
          0.1785337376351538,
          0.1907355105729479,
          0.0677464911293066
         ],
         "y0": " ",
         "yaxis": "y3"
        },
        {
         "alignmentgroup": "True",
         "hovertemplate": "% optimal genes=%{x}<br>dim=32<br>min_f=%{y}<extra></extra>",
         "legendgroup": "0.0",
         "marker": {
          "color": "#636efa"
         },
         "name": "0.0",
         "notched": false,
         "offsetgroup": "0.0",
         "orientation": "v",
         "showlegend": false,
         "type": "box",
         "x": [
          0,
          0,
          0,
          0,
          0,
          0,
          0,
          0,
          0,
          0,
          0,
          0,
          0,
          0,
          0,
          0,
          0,
          0,
          0,
          0,
          0,
          0,
          0,
          0,
          0,
          0,
          0,
          0,
          0,
          0,
          0
         ],
         "x0": " ",
         "xaxis": "x4",
         "y": [
          2.59005606945882,
          3.1345823617967543,
          1.9641540004742857,
          3.03602583349028,
          2.008787535570448,
          4.159811611441107,
          2.460422099027148,
          3.134004581896659,
          4.281592246402336,
          1.5044983860631338,
          3.523062925711548,
          1.308694067553449,
          3.1291493503334147,
          2.842119257148174,
          3.547528663017911,
          2.044959975220351,
          1.8054129850334315,
          2.8828302363200287,
          2.2891475196856943,
          3.224758874701163,
          2.1300553687706154,
          3.0368960926102457,
          2.771888374934006,
          3.924562001081749,
          1.754027825481563,
          1.7274343010129742,
          3.145713413919373,
          2.091466405940464,
          1.7757638093857997,
          3.286080929888014,
          4.212595433169126
         ],
         "y0": " ",
         "yaxis": "y4"
        },
        {
         "alignmentgroup": "True",
         "hovertemplate": "% optimal genes=%{x}<br>dim=4<br>min_f=%{y}<extra></extra>",
         "legendgroup": "0.25",
         "marker": {
          "color": "#EF553B"
         },
         "name": "0.25",
         "notched": false,
         "offsetgroup": "0.25",
         "orientation": "v",
         "showlegend": true,
         "type": "box",
         "x": [
          0.25,
          0.25,
          0.25,
          0.25,
          0.25,
          0.25,
          0.25,
          0.25,
          0.25,
          0.25,
          0.25,
          0.25,
          0.25,
          0.25,
          0.25,
          0.25,
          0.25,
          0.25,
          0.25,
          0.25,
          0.25,
          0.25,
          0.25,
          0.25,
          0.25,
          0.25,
          0.25,
          0.25,
          0.25,
          0.25,
          0.25
         ],
         "x0": " ",
         "xaxis": "x",
         "y": [
          0.000017515806452366432,
          0.0000917960256471189,
          0.0004448361838742,
          0.00005781504320634324,
          0.0001853317590474,
          0.00007484768740006701,
          0.00003430193649487972,
          0.0001734167329982,
          0.00004062889795097216,
          0.000047065699876710064,
          0.0003180278759529,
          0.0005496382608728,
          0.0001845112785166,
          0.0001954266785621,
          0.0001019913221633,
          0.00006893427188079156,
          0.0001409346207892,
          0.00003571507631667835,
          0.000445483893256,
          0.00006896013092232369,
          0.0001081657816874,
          0.0000497021173672167,
          0.00006588363811771513,
          0.0000382354659663188,
          0.00001760422484571604,
          0.00005414028765578369,
          0.0002329638329405,
          0.0001418990625944,
          0.000005188565909355971,
          0.00008534073125573131,
          0.0005201623501722
         ],
         "y0": " ",
         "yaxis": "y"
        },
        {
         "alignmentgroup": "True",
         "hovertemplate": "% optimal genes=%{x}<br>dim=8<br>min_f=%{y}<extra></extra>",
         "legendgroup": "0.25",
         "marker": {
          "color": "#EF553B"
         },
         "name": "0.25",
         "notched": false,
         "offsetgroup": "0.25",
         "orientation": "v",
         "showlegend": false,
         "type": "box",
         "x": [
          0.25,
          0.25,
          0.25,
          0.25,
          0.25,
          0.25,
          0.25,
          0.25,
          0.25,
          0.25,
          0.25,
          0.25,
          0.25,
          0.25,
          0.25,
          0.25,
          0.25,
          0.25,
          0.25,
          0.25,
          0.25,
          0.25,
          0.25,
          0.25,
          0.25,
          0.25,
          0.25,
          0.25,
          0.25,
          0.25,
          0.25
         ],
         "x0": " ",
         "xaxis": "x2",
         "y": [
          0.0008749911366077,
          0.0024236498374187,
          0.0079425355336649,
          0.0099325512785488,
          0.0018386228146279,
          0.0020460919884103,
          0.0026129292333523,
          0.004834397566646,
          0.0000965559063843433,
          0.0040005863799995,
          0.0083014268654603,
          0.0036712060342493,
          0.0012153294535126,
          0.0047171965743311,
          0.0039874671609479,
          0.0033987462294791,
          0.0007514550639245,
          0.0118412009766388,
          0.0021419208918325,
          0.0016630037625199,
          0.0032397757250813,
          0.0025653042901841,
          0.0043800223173869,
          0.006035429875996,
          0.002463073783814,
          0.0082557669698152,
          0.000552487039825,
          0.0023608012927849,
          0.0015316759200146,
          0.0061070957408118,
          0.0035105569559729
         ],
         "y0": " ",
         "yaxis": "y2"
        },
        {
         "alignmentgroup": "True",
         "hovertemplate": "% optimal genes=%{x}<br>dim=16<br>min_f=%{y}<extra></extra>",
         "legendgroup": "0.25",
         "marker": {
          "color": "#EF553B"
         },
         "name": "0.25",
         "notched": false,
         "offsetgroup": "0.25",
         "orientation": "v",
         "showlegend": false,
         "type": "box",
         "x": [
          0.25,
          0.25,
          0.25,
          0.25,
          0.25,
          0.25,
          0.25,
          0.25,
          0.25,
          0.25,
          0.25,
          0.25,
          0.25,
          0.25,
          0.25,
          0.25,
          0.25,
          0.25,
          0.25,
          0.25,
          0.25,
          0.25,
          0.25,
          0.25,
          0.25,
          0.25,
          0.25,
          0.25,
          0.25,
          0.25,
          0.25
         ],
         "x0": " ",
         "xaxis": "x3",
         "y": [
          0.0366778072800898,
          0.1873295338634535,
          0.1670772957449847,
          0.0969039195628259,
          0.170638796480233,
          0.1040799125423843,
          0.1635800449318767,
          0.3473669763135837,
          0.2445924590581677,
          0.0655993281744524,
          0.0399213603618381,
          0.1449131136460785,
          0.0529075085112306,
          0.3258868550933106,
          0.0695379645472873,
          0.0630025730920132,
          0.1728220610989972,
          0.2523514683765704,
          0.3117678796009213,
          0.1072347660274218,
          0.0271313301972421,
          0.0720919333851744,
          0.2768355102250518,
          0.1228021114017731,
          0.2220727122186871,
          0.070119451495162,
          0.1132303089930894,
          0.133899038536194,
          0.0928122482949529,
          0.401017084714709,
          0.1129182743146502
         ],
         "y0": " ",
         "yaxis": "y3"
        },
        {
         "alignmentgroup": "True",
         "hovertemplate": "% optimal genes=%{x}<br>dim=32<br>min_f=%{y}<extra></extra>",
         "legendgroup": "0.25",
         "marker": {
          "color": "#EF553B"
         },
         "name": "0.25",
         "notched": false,
         "offsetgroup": "0.25",
         "orientation": "v",
         "showlegend": false,
         "type": "box",
         "x": [
          0.25,
          0.25,
          0.25,
          0.25,
          0.25,
          0.25,
          0.25,
          0.25,
          0.25,
          0.25,
          0.25,
          0.25,
          0.25,
          0.25,
          0.25,
          0.25,
          0.25,
          0.25,
          0.25,
          0.25,
          0.25,
          0.25,
          0.25,
          0.25,
          0.25,
          0.25,
          0.25,
          0.25,
          0.25,
          0.25,
          0.25
         ],
         "x0": " ",
         "xaxis": "x4",
         "y": [
          2.59005606945882,
          2.2733192039798342,
          3.5365101866765745,
          1.4591278318019016,
          1.824458476414848,
          3.317044169219488,
          1.1987420824240091,
          4.259562535046692,
          4.788999175161615,
          1.0998081836708484,
          3.327951339610979,
          3.2063755064591835,
          0.959812396570796,
          3.07063013084992,
          2.0152349030796017,
          2.0991168107372618,
          1.3636449301989808,
          2.5005947590114124,
          3.428679317622448,
          3.224758874701163,
          2.1300553687706154,
          2.412456051355476,
          2.9734301402582632,
          3.924562001081749,
          1.5021354956370014,
          3.1701600760042554,
          2.2729407315262597,
          1.8685017544179596,
          1.7757638093857997,
          3.0514891802799,
          2.53111197749618
         ],
         "y0": " ",
         "yaxis": "y4"
        },
        {
         "alignmentgroup": "True",
         "hovertemplate": "% optimal genes=%{x}<br>dim=4<br>min_f=%{y}<extra></extra>",
         "legendgroup": "0.5",
         "marker": {
          "color": "#00cc96"
         },
         "name": "0.5",
         "notched": false,
         "offsetgroup": "0.5",
         "orientation": "v",
         "showlegend": true,
         "type": "box",
         "x": [
          0.5,
          0.5,
          0.5,
          0.5,
          0.5,
          0.5,
          0.5,
          0.5,
          0.5,
          0.5,
          0.5,
          0.5,
          0.5,
          0.5,
          0.5,
          0.5,
          0.5,
          0.5,
          0.5,
          0.5,
          0.5,
          0.5,
          0.5,
          0.5,
          0.5,
          0.5,
          0.5,
          0.5,
          0.5,
          0.5,
          0.5
         ],
         "x0": " ",
         "xaxis": "x",
         "y": [
          0.000059366993240062165,
          0.0002286115908228,
          0.0002864946874399,
          0.0003118937535301,
          0.00005158863922802268,
          0.00007484768740006701,
          0.0012365787155328,
          0.0000842553193906539,
          0.00004062889795097216,
          0.00002176619249120479,
          0.000011288377629756893,
          4.082546938320756e-7,
          0.0005102568952311,
          0.000002429714915963155,
          0.0001493729766213,
          0.00000377129292849712,
          0.00009396301219384163,
          0.00003731774254501947,
          0.0003689010297326,
          0.0001169970314147,
          0.0001185561143266,
          0.0000497021173672167,
          0.0001609548651187,
          0.0001503308791507,
          0.0005124335546694,
          0.00007234814460604738,
          0.0001793043816439,
          0.000009574342040430264,
          0.000249529263987,
          0.00009406125986254098,
          0.000015515680755614338
         ],
         "y0": " ",
         "yaxis": "y"
        },
        {
         "alignmentgroup": "True",
         "hovertemplate": "% optimal genes=%{x}<br>dim=8<br>min_f=%{y}<extra></extra>",
         "legendgroup": "0.5",
         "marker": {
          "color": "#00cc96"
         },
         "name": "0.5",
         "notched": false,
         "offsetgroup": "0.5",
         "orientation": "v",
         "showlegend": false,
         "type": "box",
         "x": [
          0.5,
          0.5,
          0.5,
          0.5,
          0.5,
          0.5,
          0.5,
          0.5,
          0.5,
          0.5,
          0.5,
          0.5,
          0.5,
          0.5,
          0.5,
          0.5,
          0.5,
          0.5,
          0.5,
          0.5,
          0.5,
          0.5,
          0.5,
          0.5,
          0.5,
          0.5,
          0.5,
          0.5,
          0.5,
          0.5,
          0.5
         ],
         "x0": " ",
         "xaxis": "x2",
         "y": [
          0.0126453961632792,
          0.0031824071111339,
          0.0039879053710859,
          0.0025063855890416,
          0.0022385297761555,
          0.0047168238658304,
          0.0032812333433889,
          0.0014544059990248,
          0.0023451952213465,
          0.0033795299289208,
          0.0042731671924363,
          0.0071338367658375,
          0.0055966469456805,
          0.0112233842163109,
          0.0005864123717838,
          0.0049500053529761,
          0.0022362393424016,
          0.0022669475576013,
          0.0005047920653202,
          0.0020753029668742,
          0.0017710010011318,
          0.0012678407030871,
          0.0006518576792865,
          0.0089746288490105,
          0.0088465182049795,
          0.000894156554765,
          0.0015075539995467,
          0.0033686149206918,
          0.0002233499397632,
          0.000411874127143,
          0.0021875698160036
         ],
         "y0": " ",
         "yaxis": "y2"
        },
        {
         "alignmentgroup": "True",
         "hovertemplate": "% optimal genes=%{x}<br>dim=16<br>min_f=%{y}<extra></extra>",
         "legendgroup": "0.5",
         "marker": {
          "color": "#00cc96"
         },
         "name": "0.5",
         "notched": false,
         "offsetgroup": "0.5",
         "orientation": "v",
         "showlegend": false,
         "type": "box",
         "x": [
          0.5,
          0.5,
          0.5,
          0.5,
          0.5,
          0.5,
          0.5,
          0.5,
          0.5,
          0.5,
          0.5,
          0.5,
          0.5,
          0.5,
          0.5,
          0.5,
          0.5,
          0.5,
          0.5,
          0.5,
          0.5,
          0.5,
          0.5,
          0.5,
          0.5,
          0.5,
          0.5,
          0.5,
          0.5,
          0.5,
          0.5
         ],
         "x0": " ",
         "xaxis": "x3",
         "y": [
          0.0259598809603889,
          0.1329604456011356,
          0.1670772957449847,
          0.0249161458967193,
          0.219947699091466,
          0.047973450998613,
          0.1660980847282049,
          0.1909932941084764,
          0.0463178453757397,
          0.0893049758780238,
          0.0632303945575584,
          0.3928385356963546,
          0.0967076394293659,
          0.0341457505560075,
          0.0958989527193915,
          0.0944801133964429,
          0.2053101740100654,
          0.1680209329913148,
          0.0616249414531624,
          0.0276221660451443,
          0.1929779932400665,
          0.044271344004598,
          0.2945633135016623,
          0.0312418846269141,
          0.2220727122186871,
          0.2085709663102601,
          0.0505025340747934,
          0.0856998373244045,
          0.1388720363763159,
          0.1536952447035808,
          0.1370015808203932
         ],
         "y0": " ",
         "yaxis": "y3"
        },
        {
         "alignmentgroup": "True",
         "hovertemplate": "% optimal genes=%{x}<br>dim=32<br>min_f=%{y}<extra></extra>",
         "legendgroup": "0.5",
         "marker": {
          "color": "#00cc96"
         },
         "name": "0.5",
         "notched": false,
         "offsetgroup": "0.5",
         "orientation": "v",
         "showlegend": false,
         "type": "box",
         "x": [
          0.5,
          0.5,
          0.5,
          0.5,
          0.5,
          0.5,
          0.5,
          0.5,
          0.5,
          0.5,
          0.5,
          0.5,
          0.5,
          0.5,
          0.5,
          0.5,
          0.5,
          0.5,
          0.5,
          0.5,
          0.5,
          0.5,
          0.5,
          0.5,
          0.5,
          0.5,
          0.5,
          0.5,
          0.5,
          0.5,
          0.5
         ],
         "x0": " ",
         "xaxis": "x4",
         "y": [
          2.59005606945882,
          0.7276097548843979,
          3.0547215002381973,
          1.2107670231248462,
          2.008787535570448,
          2.3281118855909027,
          2.3375934753958463,
          5.432509727471134,
          0.8821695057852231,
          1.8719226513319216,
          4.526981571532069,
          1.8300278306300288,
          1.6445166319421478,
          2.288689558655403,
          0.9388342841045452,
          0.93980091457459,
          1.7692710296576108,
          1.9962176259495883,
          2.2891475196856943,
          3.224758874701163,
          2.1300553687706154,
          1.6504520129952178,
          2.1075430946182583,
          3.924562001081749,
          1.762757120915835,
          3.0883606906621512,
          2.3364420046365555,
          2.7918356674385927,
          1.7757638093857997,
          1.222430349799902,
          1.360101010441932
         ],
         "y0": " ",
         "yaxis": "y4"
        },
        {
         "alignmentgroup": "True",
         "hovertemplate": "% optimal genes=%{x}<br>dim=4<br>min_f=%{y}<extra></extra>",
         "legendgroup": "0.75",
         "marker": {
          "color": "#ab63fa"
         },
         "name": "0.75",
         "notched": false,
         "offsetgroup": "0.75",
         "orientation": "v",
         "showlegend": true,
         "type": "box",
         "x": [
          0.75,
          0.75,
          0.75,
          0.75,
          0.75,
          0.75,
          0.75,
          0.75,
          0.75,
          0.75,
          0.75,
          0.75,
          0.75,
          0.75,
          0.75,
          0.75,
          0.75,
          0.75,
          0.75,
          0.75,
          0.75,
          0.75,
          0.75,
          0.75,
          0.75,
          0.75,
          0.75,
          0.75,
          0.75,
          0.75,
          0.75
         ],
         "x0": " ",
         "xaxis": "x",
         "y": [
          0.000006325341129684856,
          0.0003581439605652,
          0.000007824555114238246,
          0.000041294264836507245,
          0.000029979072261682968,
          0.00007484768740006701,
          4.3470778267959683e-7,
          0.0000842553193906539,
          0.0001557136652711,
          0.000010630952187496309,
          0.000011186722376563278,
          0.000006582360571956648,
          0.00008212574612360157,
          0.0001152454620864,
          0.0001493729766213,
          0.000022319711370386148,
          0.000196370022006,
          0.001979042969768,
          0.0003689010297326,
          0.0000046301104532777705,
          0.00003176160618235451,
          0.0000497021173672167,
          0.00005782570387968194,
          0.00004125824429970223,
          0.00002733735404416888,
          0.00007234814460604738,
          0.0001044320583412,
          0.0000031869425800233224,
          0.00002899735417587109,
          0.00009406125986254098,
          0.000002764671420963844
         ],
         "y0": " ",
         "yaxis": "y"
        },
        {
         "alignmentgroup": "True",
         "hovertemplate": "% optimal genes=%{x}<br>dim=8<br>min_f=%{y}<extra></extra>",
         "legendgroup": "0.75",
         "marker": {
          "color": "#ab63fa"
         },
         "name": "0.75",
         "notched": false,
         "offsetgroup": "0.75",
         "orientation": "v",
         "showlegend": false,
         "type": "box",
         "x": [
          0.75,
          0.75,
          0.75,
          0.75,
          0.75,
          0.75,
          0.75,
          0.75,
          0.75,
          0.75,
          0.75,
          0.75,
          0.75,
          0.75,
          0.75,
          0.75,
          0.75,
          0.75,
          0.75,
          0.75,
          0.75,
          0.75,
          0.75,
          0.75,
          0.75,
          0.75,
          0.75,
          0.75,
          0.75,
          0.75,
          0.75
         ],
         "x0": " ",
         "xaxis": "x2",
         "y": [
          0.0022034314598093,
          0.0007067628454092,
          0.0037446853549566,
          0.0001114064978722,
          0.0015999929619417,
          0.0002356961342558,
          0.0012348325585874,
          0.0043024027091459,
          0.000263850141601,
          0.0113015748664671,
          0.0098568128276154,
          0.0015899656285284,
          0.0088106251193885,
          0.0010508352795819,
          0.0004923217670082,
          0.0024168951156106,
          0.0022362393424016,
          0.0118412009766388,
          0.0022213360562794,
          0.0059043293371519,
          0.0098103051328764,
          0.0006704145204527,
          0.0001695464761191,
          0.0089746288490105,
          0.0006435000025828,
          0.0056510927081988,
          0.0001148885816249,
          0.0033686149206918,
          0.0011233281432657,
          0.0048389946761268,
          0.0005379845130064
         ],
         "y0": " ",
         "yaxis": "y2"
        },
        {
         "alignmentgroup": "True",
         "hovertemplate": "% optimal genes=%{x}<br>dim=16<br>min_f=%{y}<extra></extra>",
         "legendgroup": "0.75",
         "marker": {
          "color": "#ab63fa"
         },
         "name": "0.75",
         "notched": false,
         "offsetgroup": "0.75",
         "orientation": "v",
         "showlegend": false,
         "type": "box",
         "x": [
          0.75,
          0.75,
          0.75,
          0.75,
          0.75,
          0.75,
          0.75,
          0.75,
          0.75,
          0.75,
          0.75,
          0.75,
          0.75,
          0.75,
          0.75,
          0.75,
          0.75,
          0.75,
          0.75,
          0.75,
          0.75,
          0.75,
          0.75,
          0.75,
          0.75,
          0.75,
          0.75,
          0.75,
          0.75,
          0.75,
          0.75
         ],
         "x0": " ",
         "xaxis": "x3",
         "y": [
          0.0878797201885775,
          0.0065509229094798,
          0.0384947431683077,
          0.1524561833120971,
          0.0989710441620833,
          0.0134871503586908,
          0.2977169065901986,
          0.0190182738802959,
          0.0143069046522625,
          0.03299011092004,
          0.0461390488876244,
          0.1668632163523873,
          0.0824698371440744,
          0.0825735862144309,
          0.0113842887717675,
          0.1974480892048407,
          0.0489867950229163,
          0.0830170590539573,
          0.1551472304058536,
          0.2037213106075532,
          0.0343615246658683,
          0.0697231450371053,
          0.0351203031786725,
          0.3332879636208278,
          0.2220727122186871,
          0.0154264243793652,
          0.0424683839501588,
          0.0644528605745553,
          0.0902803584133572,
          0.0892407494130449,
          0.2458218458936958
         ],
         "y0": " ",
         "yaxis": "y3"
        },
        {
         "alignmentgroup": "True",
         "hovertemplate": "% optimal genes=%{x}<br>dim=32<br>min_f=%{y}<extra></extra>",
         "legendgroup": "0.75",
         "marker": {
          "color": "#ab63fa"
         },
         "name": "0.75",
         "notched": false,
         "offsetgroup": "0.75",
         "orientation": "v",
         "showlegend": false,
         "type": "box",
         "x": [
          0.75,
          0.75,
          0.75,
          0.75,
          0.75,
          0.75,
          0.75,
          0.75,
          0.75,
          0.75,
          0.75,
          0.75,
          0.75,
          0.75,
          0.75,
          0.75,
          0.75,
          0.75,
          0.75,
          0.75,
          0.75,
          0.75,
          0.75,
          0.75,
          0.75,
          0.75,
          0.75,
          0.75,
          0.75,
          0.75,
          0.75
         ],
         "x0": " ",
         "xaxis": "x4",
         "y": [
          2.59005606945882,
          3.6005686281336846,
          1.021763654007212,
          2.0962178845047017,
          2.623838366001962,
          0.8574009111901572,
          2.7820737094664207,
          2.646476832026952,
          1.134179850412053,
          1.9769672927848332,
          2.2462564495912765,
          1.6296801210133611,
          1.5166387807298718,
          2.696251482466506,
          1.7814167730024455,
          0.7171243707627514,
          1.553649671109643,
          1.0086144925781686,
          3.295097969474318,
          3.224758874701163,
          2.1300553687706154,
          2.397543727873838,
          1.46532382745402,
          3.924562001081749,
          1.125687336535952,
          2.1124588123273083,
          2.2729407315262597,
          1.6137402927279003,
          0.9708989249971672,
          1.0027095257466083,
          2.567094600937516
         ],
         "y0": " ",
         "yaxis": "y4"
        }
       ],
       "layout": {
        "annotations": [
         {
          "font": {},
          "showarrow": false,
          "text": "dim=4",
          "x": 0.111875,
          "xanchor": "center",
          "xref": "paper",
          "y": 1,
          "yanchor": "bottom",
          "yref": "paper"
         },
         {
          "font": {},
          "showarrow": false,
          "text": "dim=8",
          "x": 0.37062500000000004,
          "xanchor": "center",
          "xref": "paper",
          "y": 1,
          "yanchor": "bottom",
          "yref": "paper"
         },
         {
          "font": {},
          "showarrow": false,
          "text": "dim=16",
          "x": 0.629375,
          "xanchor": "center",
          "xref": "paper",
          "y": 1,
          "yanchor": "bottom",
          "yref": "paper"
         },
         {
          "font": {},
          "showarrow": false,
          "text": "dim=32",
          "x": 0.888125,
          "xanchor": "center",
          "xref": "paper",
          "y": 1,
          "yanchor": "bottom",
          "yref": "paper"
         }
        ],
        "boxmode": "overlay",
        "height": 400,
        "legend": {
         "title": {
          "text": "% optimal genes"
         },
         "tracegroupgap": 0
        },
        "margin": {
         "t": 60
        },
        "showlegend": false,
        "template": {
         "data": {
          "bar": [
           {
            "error_x": {
             "color": "#2a3f5f"
            },
            "error_y": {
             "color": "#2a3f5f"
            },
            "marker": {
             "line": {
              "color": "#E5ECF6",
              "width": 0.5
             },
             "pattern": {
              "fillmode": "overlay",
              "size": 10,
              "solidity": 0.2
             }
            },
            "type": "bar"
           }
          ],
          "barpolar": [
           {
            "marker": {
             "line": {
              "color": "#E5ECF6",
              "width": 0.5
             },
             "pattern": {
              "fillmode": "overlay",
              "size": 10,
              "solidity": 0.2
             }
            },
            "type": "barpolar"
           }
          ],
          "carpet": [
           {
            "aaxis": {
             "endlinecolor": "#2a3f5f",
             "gridcolor": "white",
             "linecolor": "white",
             "minorgridcolor": "white",
             "startlinecolor": "#2a3f5f"
            },
            "baxis": {
             "endlinecolor": "#2a3f5f",
             "gridcolor": "white",
             "linecolor": "white",
             "minorgridcolor": "white",
             "startlinecolor": "#2a3f5f"
            },
            "type": "carpet"
           }
          ],
          "choropleth": [
           {
            "colorbar": {
             "outlinewidth": 0,
             "ticks": ""
            },
            "type": "choropleth"
           }
          ],
          "contour": [
           {
            "colorbar": {
             "outlinewidth": 0,
             "ticks": ""
            },
            "colorscale": [
             [
              0,
              "#0d0887"
             ],
             [
              0.1111111111111111,
              "#46039f"
             ],
             [
              0.2222222222222222,
              "#7201a8"
             ],
             [
              0.3333333333333333,
              "#9c179e"
             ],
             [
              0.4444444444444444,
              "#bd3786"
             ],
             [
              0.5555555555555556,
              "#d8576b"
             ],
             [
              0.6666666666666666,
              "#ed7953"
             ],
             [
              0.7777777777777778,
              "#fb9f3a"
             ],
             [
              0.8888888888888888,
              "#fdca26"
             ],
             [
              1,
              "#f0f921"
             ]
            ],
            "type": "contour"
           }
          ],
          "contourcarpet": [
           {
            "colorbar": {
             "outlinewidth": 0,
             "ticks": ""
            },
            "type": "contourcarpet"
           }
          ],
          "heatmap": [
           {
            "colorbar": {
             "outlinewidth": 0,
             "ticks": ""
            },
            "colorscale": [
             [
              0,
              "#0d0887"
             ],
             [
              0.1111111111111111,
              "#46039f"
             ],
             [
              0.2222222222222222,
              "#7201a8"
             ],
             [
              0.3333333333333333,
              "#9c179e"
             ],
             [
              0.4444444444444444,
              "#bd3786"
             ],
             [
              0.5555555555555556,
              "#d8576b"
             ],
             [
              0.6666666666666666,
              "#ed7953"
             ],
             [
              0.7777777777777778,
              "#fb9f3a"
             ],
             [
              0.8888888888888888,
              "#fdca26"
             ],
             [
              1,
              "#f0f921"
             ]
            ],
            "type": "heatmap"
           }
          ],
          "heatmapgl": [
           {
            "colorbar": {
             "outlinewidth": 0,
             "ticks": ""
            },
            "colorscale": [
             [
              0,
              "#0d0887"
             ],
             [
              0.1111111111111111,
              "#46039f"
             ],
             [
              0.2222222222222222,
              "#7201a8"
             ],
             [
              0.3333333333333333,
              "#9c179e"
             ],
             [
              0.4444444444444444,
              "#bd3786"
             ],
             [
              0.5555555555555556,
              "#d8576b"
             ],
             [
              0.6666666666666666,
              "#ed7953"
             ],
             [
              0.7777777777777778,
              "#fb9f3a"
             ],
             [
              0.8888888888888888,
              "#fdca26"
             ],
             [
              1,
              "#f0f921"
             ]
            ],
            "type": "heatmapgl"
           }
          ],
          "histogram": [
           {
            "marker": {
             "pattern": {
              "fillmode": "overlay",
              "size": 10,
              "solidity": 0.2
             }
            },
            "type": "histogram"
           }
          ],
          "histogram2d": [
           {
            "colorbar": {
             "outlinewidth": 0,
             "ticks": ""
            },
            "colorscale": [
             [
              0,
              "#0d0887"
             ],
             [
              0.1111111111111111,
              "#46039f"
             ],
             [
              0.2222222222222222,
              "#7201a8"
             ],
             [
              0.3333333333333333,
              "#9c179e"
             ],
             [
              0.4444444444444444,
              "#bd3786"
             ],
             [
              0.5555555555555556,
              "#d8576b"
             ],
             [
              0.6666666666666666,
              "#ed7953"
             ],
             [
              0.7777777777777778,
              "#fb9f3a"
             ],
             [
              0.8888888888888888,
              "#fdca26"
             ],
             [
              1,
              "#f0f921"
             ]
            ],
            "type": "histogram2d"
           }
          ],
          "histogram2dcontour": [
           {
            "colorbar": {
             "outlinewidth": 0,
             "ticks": ""
            },
            "colorscale": [
             [
              0,
              "#0d0887"
             ],
             [
              0.1111111111111111,
              "#46039f"
             ],
             [
              0.2222222222222222,
              "#7201a8"
             ],
             [
              0.3333333333333333,
              "#9c179e"
             ],
             [
              0.4444444444444444,
              "#bd3786"
             ],
             [
              0.5555555555555556,
              "#d8576b"
             ],
             [
              0.6666666666666666,
              "#ed7953"
             ],
             [
              0.7777777777777778,
              "#fb9f3a"
             ],
             [
              0.8888888888888888,
              "#fdca26"
             ],
             [
              1,
              "#f0f921"
             ]
            ],
            "type": "histogram2dcontour"
           }
          ],
          "mesh3d": [
           {
            "colorbar": {
             "outlinewidth": 0,
             "ticks": ""
            },
            "type": "mesh3d"
           }
          ],
          "parcoords": [
           {
            "line": {
             "colorbar": {
              "outlinewidth": 0,
              "ticks": ""
             }
            },
            "type": "parcoords"
           }
          ],
          "pie": [
           {
            "automargin": true,
            "type": "pie"
           }
          ],
          "scatter": [
           {
            "fillpattern": {
             "fillmode": "overlay",
             "size": 10,
             "solidity": 0.2
            },
            "type": "scatter"
           }
          ],
          "scatter3d": [
           {
            "line": {
             "colorbar": {
              "outlinewidth": 0,
              "ticks": ""
             }
            },
            "marker": {
             "colorbar": {
              "outlinewidth": 0,
              "ticks": ""
             }
            },
            "type": "scatter3d"
           }
          ],
          "scattercarpet": [
           {
            "marker": {
             "colorbar": {
              "outlinewidth": 0,
              "ticks": ""
             }
            },
            "type": "scattercarpet"
           }
          ],
          "scattergeo": [
           {
            "marker": {
             "colorbar": {
              "outlinewidth": 0,
              "ticks": ""
             }
            },
            "type": "scattergeo"
           }
          ],
          "scattergl": [
           {
            "marker": {
             "colorbar": {
              "outlinewidth": 0,
              "ticks": ""
             }
            },
            "type": "scattergl"
           }
          ],
          "scattermapbox": [
           {
            "marker": {
             "colorbar": {
              "outlinewidth": 0,
              "ticks": ""
             }
            },
            "type": "scattermapbox"
           }
          ],
          "scatterpolar": [
           {
            "marker": {
             "colorbar": {
              "outlinewidth": 0,
              "ticks": ""
             }
            },
            "type": "scatterpolar"
           }
          ],
          "scatterpolargl": [
           {
            "marker": {
             "colorbar": {
              "outlinewidth": 0,
              "ticks": ""
             }
            },
            "type": "scatterpolargl"
           }
          ],
          "scatterternary": [
           {
            "marker": {
             "colorbar": {
              "outlinewidth": 0,
              "ticks": ""
             }
            },
            "type": "scatterternary"
           }
          ],
          "surface": [
           {
            "colorbar": {
             "outlinewidth": 0,
             "ticks": ""
            },
            "colorscale": [
             [
              0,
              "#0d0887"
             ],
             [
              0.1111111111111111,
              "#46039f"
             ],
             [
              0.2222222222222222,
              "#7201a8"
             ],
             [
              0.3333333333333333,
              "#9c179e"
             ],
             [
              0.4444444444444444,
              "#bd3786"
             ],
             [
              0.5555555555555556,
              "#d8576b"
             ],
             [
              0.6666666666666666,
              "#ed7953"
             ],
             [
              0.7777777777777778,
              "#fb9f3a"
             ],
             [
              0.8888888888888888,
              "#fdca26"
             ],
             [
              1,
              "#f0f921"
             ]
            ],
            "type": "surface"
           }
          ],
          "table": [
           {
            "cells": {
             "fill": {
              "color": "#EBF0F8"
             },
             "line": {
              "color": "white"
             }
            },
            "header": {
             "fill": {
              "color": "#C8D4E3"
             },
             "line": {
              "color": "white"
             }
            },
            "type": "table"
           }
          ]
         },
         "layout": {
          "annotationdefaults": {
           "arrowcolor": "#2a3f5f",
           "arrowhead": 0,
           "arrowwidth": 1
          },
          "autotypenumbers": "strict",
          "coloraxis": {
           "colorbar": {
            "outlinewidth": 0,
            "ticks": ""
           }
          },
          "colorscale": {
           "diverging": [
            [
             0,
             "#8e0152"
            ],
            [
             0.1,
             "#c51b7d"
            ],
            [
             0.2,
             "#de77ae"
            ],
            [
             0.3,
             "#f1b6da"
            ],
            [
             0.4,
             "#fde0ef"
            ],
            [
             0.5,
             "#f7f7f7"
            ],
            [
             0.6,
             "#e6f5d0"
            ],
            [
             0.7,
             "#b8e186"
            ],
            [
             0.8,
             "#7fbc41"
            ],
            [
             0.9,
             "#4d9221"
            ],
            [
             1,
             "#276419"
            ]
           ],
           "sequential": [
            [
             0,
             "#0d0887"
            ],
            [
             0.1111111111111111,
             "#46039f"
            ],
            [
             0.2222222222222222,
             "#7201a8"
            ],
            [
             0.3333333333333333,
             "#9c179e"
            ],
            [
             0.4444444444444444,
             "#bd3786"
            ],
            [
             0.5555555555555556,
             "#d8576b"
            ],
            [
             0.6666666666666666,
             "#ed7953"
            ],
            [
             0.7777777777777778,
             "#fb9f3a"
            ],
            [
             0.8888888888888888,
             "#fdca26"
            ],
            [
             1,
             "#f0f921"
            ]
           ],
           "sequentialminus": [
            [
             0,
             "#0d0887"
            ],
            [
             0.1111111111111111,
             "#46039f"
            ],
            [
             0.2222222222222222,
             "#7201a8"
            ],
            [
             0.3333333333333333,
             "#9c179e"
            ],
            [
             0.4444444444444444,
             "#bd3786"
            ],
            [
             0.5555555555555556,
             "#d8576b"
            ],
            [
             0.6666666666666666,
             "#ed7953"
            ],
            [
             0.7777777777777778,
             "#fb9f3a"
            ],
            [
             0.8888888888888888,
             "#fdca26"
            ],
            [
             1,
             "#f0f921"
            ]
           ]
          },
          "colorway": [
           "#636efa",
           "#EF553B",
           "#00cc96",
           "#ab63fa",
           "#FFA15A",
           "#19d3f3",
           "#FF6692",
           "#B6E880",
           "#FF97FF",
           "#FECB52"
          ],
          "font": {
           "color": "#2a3f5f"
          },
          "geo": {
           "bgcolor": "white",
           "lakecolor": "white",
           "landcolor": "#E5ECF6",
           "showlakes": true,
           "showland": true,
           "subunitcolor": "white"
          },
          "hoverlabel": {
           "align": "left"
          },
          "hovermode": "closest",
          "mapbox": {
           "style": "light"
          },
          "paper_bgcolor": "white",
          "plot_bgcolor": "#E5ECF6",
          "polar": {
           "angularaxis": {
            "gridcolor": "white",
            "linecolor": "white",
            "ticks": ""
           },
           "bgcolor": "#E5ECF6",
           "radialaxis": {
            "gridcolor": "white",
            "linecolor": "white",
            "ticks": ""
           }
          },
          "scene": {
           "xaxis": {
            "backgroundcolor": "#E5ECF6",
            "gridcolor": "white",
            "gridwidth": 2,
            "linecolor": "white",
            "showbackground": true,
            "ticks": "",
            "zerolinecolor": "white"
           },
           "yaxis": {
            "backgroundcolor": "#E5ECF6",
            "gridcolor": "white",
            "gridwidth": 2,
            "linecolor": "white",
            "showbackground": true,
            "ticks": "",
            "zerolinecolor": "white"
           },
           "zaxis": {
            "backgroundcolor": "#E5ECF6",
            "gridcolor": "white",
            "gridwidth": 2,
            "linecolor": "white",
            "showbackground": true,
            "ticks": "",
            "zerolinecolor": "white"
           }
          },
          "shapedefaults": {
           "line": {
            "color": "#2a3f5f"
           }
          },
          "ternary": {
           "aaxis": {
            "gridcolor": "white",
            "linecolor": "white",
            "ticks": ""
           },
           "baxis": {
            "gridcolor": "white",
            "linecolor": "white",
            "ticks": ""
           },
           "bgcolor": "#E5ECF6",
           "caxis": {
            "gridcolor": "white",
            "linecolor": "white",
            "ticks": ""
           }
          },
          "title": {
           "x": 0.05
          },
          "xaxis": {
           "automargin": true,
           "gridcolor": "white",
           "linecolor": "white",
           "ticks": "",
           "title": {
            "standoff": 15
           },
           "zerolinecolor": "white",
           "zerolinewidth": 2
          },
          "yaxis": {
           "automargin": true,
           "gridcolor": "white",
           "linecolor": "white",
           "ticks": "",
           "title": {
            "standoff": 15
           },
           "zerolinecolor": "white",
           "zerolinewidth": 2
          }
         }
        },
        "width": 1300,
        "xaxis": {
         "anchor": "y",
         "categoryarray": [
          0,
          0.25,
          0.5,
          0.75
         ],
         "categoryorder": "array",
         "domain": [
          0,
          0.22375
         ],
         "showgrid": true,
         "title": {
          "text": "% optimal genes"
         },
         "type": "category"
        },
        "xaxis2": {
         "anchor": "y2",
         "categoryarray": [
          0,
          0.25,
          0.5,
          0.75
         ],
         "categoryorder": "array",
         "domain": [
          0.25875000000000004,
          0.48250000000000004
         ],
         "matches": "x",
         "showgrid": true,
         "title": {
          "text": "% optimal genes"
         },
         "type": "category"
        },
        "xaxis3": {
         "anchor": "y3",
         "categoryarray": [
          0,
          0.25,
          0.5,
          0.75
         ],
         "categoryorder": "array",
         "domain": [
          0.5175000000000001,
          0.7412500000000001
         ],
         "matches": "x",
         "showgrid": true,
         "title": {
          "text": "% optimal genes"
         },
         "type": "category"
        },
        "xaxis4": {
         "anchor": "y4",
         "categoryarray": [
          0,
          0.25,
          0.5,
          0.75
         ],
         "categoryorder": "array",
         "domain": [
          0.77625,
          1
         ],
         "matches": "x",
         "showgrid": true,
         "title": {
          "text": "% optimal genes"
         },
         "type": "category"
        },
        "yaxis": {
         "anchor": "x",
         "domain": [
          0,
          1
         ],
         "showticklabels": true,
         "title": {
          "text": "min_f"
         }
        },
        "yaxis2": {
         "anchor": "x2",
         "domain": [
          0,
          1
         ],
         "showticklabels": true
        },
        "yaxis3": {
         "anchor": "x3",
         "domain": [
          0,
          1
         ],
         "showticklabels": true
        },
        "yaxis4": {
         "anchor": "x4",
         "domain": [
          0,
          1
         ],
         "showticklabels": true
        }
       }
      }
     },
     "metadata": {},
     "output_type": "display_data"
    }
   ],
   "source": [
    "import pandas as pd\n",
    "import plotly.express as px\n",
    "\n",
    "gen = 50; seed_quality = \"lower quartile\"; crossover=\"UX\"\n",
    "\n",
    "# =============================================================================\n",
    "# Impact\n",
    "# =============================================================================\n",
    "\n",
    "ci_df = pd.read_csv(\"../data/sphere_function_data_out/counting_impact.csv\")\n",
    "only_last_gen_ci = ci_df[ci_df.generation == gen]\n",
    "only_last_gen_ci = only_last_gen_ci[only_last_gen_ci.seed_quality == seed_quality]\n",
    "only_last_gen_ci = only_last_gen_ci[only_last_gen_ci.crossover == crossover]\n",
    "\n",
    "\n",
    "only_last_gen_ci = only_last_gen_ci[['traceID_1', 'percentage_of_optimal_genes', 'dim', 'crossover']]\n",
    "\n",
    "fig = px.box(\n",
    "    only_last_gen_ci,\n",
    "    y=\"traceID_1\", x=\"percentage_of_optimal_genes\",\n",
    "    facet_col=\"dim\",\n",
    "    facet_col_spacing=0.035,#for consistency with the performance plot\n",
    "    color=\"percentage_of_optimal_genes\",\n",
    "    labels={\n",
    "            \"value\": \"counting impact\",\n",
    "            \"variable\": \"\",\n",
    "            \"percentage_of_optimal_genes\": \"% optimal genes\",\n",
    "            \"traceID_1\" : \"seed ind influence\"\n",
    "        },       \n",
    "    height=400, width=1300,\n",
    "    )\n",
    "fig.update_layout(showlegend=False)\n",
    "fig.update_xaxes(showgrid=True, type='category')\n",
    "fig.write_image(\"../figures/presentation/dimensionality_comparison_impact.svg\")\n",
    "fig.show()\n",
    "\n",
    "# =============================================================================\n",
    "# performance\n",
    "# =============================================================================\n",
    "\n",
    "perf_df = pd.read_csv(\"../data/sphere_function_data_out/performance.csv\")\n",
    "only_last_gen_perf = perf_df[perf_df.generation == gen]\n",
    "only_last_gen_perf = only_last_gen_perf[only_last_gen_perf.seed_quality == seed_quality]\n",
    "only_last_gen_perf = only_last_gen_perf[only_last_gen_perf.crossover == crossover]\n",
    "\n",
    "\n",
    "fig = px.box(\n",
    "    only_last_gen_perf,\n",
    "    y=\"min_f\", x=\"percentage_of_optimal_genes\",\n",
    "    facet_col=\"dim\",\n",
    "    facet_col_spacing=0.035,\n",
    "    color=\"percentage_of_optimal_genes\",\n",
    "    labels={\n",
    "            \"value\": \"counting impact\",\n",
    "            \"variable\": \"\",\n",
    "            \"percentage_of_optimal_genes\": \"% optimal genes\",\n",
    "            \"traceID_1\" : \"seed ind influence\"\n",
    "        },       \n",
    "    height=400, width=1300,\n",
    "    )\n",
    "fig.update_layout(showlegend=False)\n",
    "fig.update_xaxes(showgrid=True, type='category')\n",
    "fig.update_yaxes(matches=None) #here we have quite a different scale\n",
    "fig.for_each_yaxis(lambda yaxis: yaxis.update(showticklabels=True))\n",
    "fig.write_image(\"../figures/presentation/dimensionality_comparison_performance.svg\")\n",
    "fig.show()"
   ]
  },
  {
   "cell_type": "markdown",
   "metadata": {},
   "source": [
    "# Crossover"
   ]
  },
  {
   "cell_type": "code",
   "execution_count": 88,
   "metadata": {},
   "outputs": [
    {
     "data": {
      "application/vnd.plotly.v1+json": {
       "config": {
        "plotlyServerURL": "https://plot.ly"
       },
       "data": [
        {
         "alignmentgroup": "True",
         "hovertemplate": "% optimal genes=%{x}<br>crossover=SBX<br>seed ind influence=%{y}<extra></extra>",
         "legendgroup": "0.0",
         "marker": {
          "color": "#636efa"
         },
         "name": "0.0",
         "notched": false,
         "offsetgroup": "0.0",
         "orientation": "v",
         "showlegend": true,
         "type": "box",
         "x": [
          0,
          0,
          0,
          0,
          0,
          0,
          0,
          0,
          0,
          0,
          0,
          0,
          0,
          0,
          0,
          0,
          0,
          0,
          0,
          0,
          0,
          0,
          0,
          0,
          0,
          0,
          0,
          0,
          0,
          0,
          0
         ],
         "x0": " ",
         "xaxis": "x",
         "y": [
          0.0019536084603966,
          0.0035317909051394,
          0,
          0.0061575037524303,
          0.0063656390392551,
          0,
          0.0115308458340995,
          0.0030275756341969,
          0.0052796312128933,
          0.0001690041108045,
          0.0108571867442191,
          0.0006156995212754,
          0.000002086298355674716,
          0.0002425217133501,
          0.0519290824578421,
          0.003233135483192,
          0.0002936138160482,
          0,
          0.0092739054869656,
          0.0021084828484959,
          0.0050764628917269,
          0.0090140230898568,
          2.281592333834225e-8,
          0.0011483296259778,
          0,
          0.0006916032328536,
          0.0221364319871937,
          0.0559122168443314,
          0,
          0.0026768751553455,
          0
         ],
         "y0": " ",
         "yaxis": "y"
        },
        {
         "alignmentgroup": "True",
         "hovertemplate": "% optimal genes=%{x}<br>crossover=UX<br>seed ind influence=%{y}<extra></extra>",
         "legendgroup": "0.0",
         "marker": {
          "color": "#636efa"
         },
         "name": "0.0",
         "notched": false,
         "offsetgroup": "0.0",
         "orientation": "v",
         "showlegend": false,
         "type": "box",
         "x": [
          0,
          0,
          0,
          0,
          0,
          0,
          0,
          0,
          0,
          0,
          0,
          0,
          0,
          0,
          0,
          0,
          0,
          0,
          0,
          0,
          0,
          0,
          0,
          0,
          0,
          0,
          0,
          0,
          0,
          0,
          0
         ],
         "x0": " ",
         "xaxis": "x2",
         "y": [
          0,
          0,
          0,
          0,
          0,
          0,
          0,
          0.0290578103735129,
          0,
          0,
          0,
          0,
          0,
          0,
          0,
          0,
          0,
          0,
          0,
          0.0142931934266974,
          0,
          0,
          0,
          0,
          0,
          0,
          0,
          0,
          0,
          0,
          0
         ],
         "y0": " ",
         "yaxis": "y2"
        },
        {
         "alignmentgroup": "True",
         "hovertemplate": "% optimal genes=%{x}<br>crossover=SBX<br>seed ind influence=%{y}<extra></extra>",
         "legendgroup": "0.25",
         "marker": {
          "color": "#EF553B"
         },
         "name": "0.25",
         "notched": false,
         "offsetgroup": "0.25",
         "orientation": "v",
         "showlegend": true,
         "type": "box",
         "x": [
          0.25,
          0.25,
          0.25,
          0.25,
          0.25,
          0.25,
          0.25,
          0.25,
          0.25,
          0.25,
          0.25,
          0.25,
          0.25,
          0.25,
          0.25,
          0.25,
          0.25,
          0.25,
          0.25,
          0.25,
          0.25,
          0.25,
          0.25,
          0.25,
          0.25,
          0.25,
          0.25,
          0.25,
          0.25,
          0.25,
          0.25
         ],
         "x0": " ",
         "xaxis": "x",
         "y": [
          0.0072271336108344,
          0.1197737047534646,
          0,
          0.1911508700895171,
          0.052548662745809,
          0,
          0.0000019031853700680848,
          0.0644186823904376,
          0.0612203091201065,
          0.0015873241686525,
          0,
          0.00045457089217,
          0,
          0.0018672534287729,
          0.0628311601208043,
          0.0557088748368058,
          0,
          0.0000015248725652484268,
          0.06464224393477,
          0.0000764648226205878,
          0.0001144652569062,
          0.2167009883352738,
          0.0030637507610545,
          0.00002711357380954624,
          0,
          0.0003533444518125,
          0.0726548975742421,
          0.0468646021373342,
          0.0015286025298507,
          0.0592368374799427,
          0
         ],
         "y0": " ",
         "yaxis": "y"
        },
        {
         "alignmentgroup": "True",
         "hovertemplate": "% optimal genes=%{x}<br>crossover=UX<br>seed ind influence=%{y}<extra></extra>",
         "legendgroup": "0.25",
         "marker": {
          "color": "#EF553B"
         },
         "name": "0.25",
         "notched": false,
         "offsetgroup": "0.25",
         "orientation": "v",
         "showlegend": false,
         "type": "box",
         "x": [
          0.25,
          0.25,
          0.25,
          0.25,
          0.25,
          0.25,
          0.25,
          0.25,
          0.25,
          0.25,
          0.25,
          0.25,
          0.25,
          0.25,
          0.25,
          0.25,
          0.25,
          0.25,
          0.25,
          0.25,
          0.25,
          0.25,
          0.25,
          0.25,
          0.25,
          0.25,
          0.25,
          0.25,
          0.25,
          0.25,
          0.25
         ],
         "x0": " ",
         "xaxis": "x2",
         "y": [
          0.11875,
          0.034375,
          0,
          0.128125,
          0.03125,
          0.05,
          0.034375,
          0.028125,
          0,
          0,
          0.125,
          0.0550558886609117,
          0,
          0,
          0.20625,
          0.0625,
          0,
          0,
          0,
          0,
          0,
          0,
          0.125,
          0.0625,
          0,
          0,
          0.0625,
          0,
          0,
          0.1125949488729414,
          0
         ],
         "y0": " ",
         "yaxis": "y2"
        },
        {
         "alignmentgroup": "True",
         "hovertemplate": "% optimal genes=%{x}<br>crossover=SBX<br>seed ind influence=%{y}<extra></extra>",
         "legendgroup": "0.5",
         "marker": {
          "color": "#00cc96"
         },
         "name": "0.5",
         "notched": false,
         "offsetgroup": "0.5",
         "orientation": "v",
         "showlegend": true,
         "type": "box",
         "x": [
          0.5,
          0.5,
          0.5,
          0.5,
          0.5,
          0.5,
          0.5,
          0.5,
          0.5,
          0.5,
          0.5,
          0.5,
          0.5,
          0.5,
          0.5,
          0.5,
          0.5,
          0.5,
          0.5,
          0.5,
          0.5,
          0.5,
          0.5,
          0.5,
          0.5,
          0.5,
          0.5,
          0.5,
          0.5,
          0.5,
          0.5
         ],
         "x0": " ",
         "xaxis": "x",
         "y": [
          0.0620023832547544,
          0.3557039251477948,
          0,
          0.2184103578878135,
          0.1205856868191455,
          0.0618321926183594,
          0.0607785746350485,
          0.0652446929334287,
          0.0018806082694846,
          0.000411931037067,
          0.0527262743483333,
          0.0614343715815922,
          0,
          0.0012451966130213,
          0.0661304857852966,
          0.0834799635463086,
          0.3557416088349752,
          0,
          0.0001820051041222,
          4.48500759434934e-7,
          0,
          0.1855710564496388,
          0.1156968747014461,
          1.728127861166128e-7,
          0,
          0.0011279632187316,
          0.2716973683016269,
          0.072044994866332,
          0.00005926592637474992,
          0,
          0.0523356951569076
         ],
         "y0": " ",
         "yaxis": "y"
        },
        {
         "alignmentgroup": "True",
         "hovertemplate": "% optimal genes=%{x}<br>crossover=UX<br>seed ind influence=%{y}<extra></extra>",
         "legendgroup": "0.5",
         "marker": {
          "color": "#00cc96"
         },
         "name": "0.5",
         "notched": false,
         "offsetgroup": "0.5",
         "orientation": "v",
         "showlegend": false,
         "type": "box",
         "x": [
          0.5,
          0.5,
          0.5,
          0.5,
          0.5,
          0.5,
          0.5,
          0.5,
          0.5,
          0.5,
          0.5,
          0.5,
          0.5,
          0.5,
          0.5,
          0.5,
          0.5,
          0.5,
          0.5,
          0.5,
          0.5,
          0.5,
          0.5,
          0.5,
          0.5,
          0.5,
          0.5,
          0.5,
          0.5,
          0.5,
          0.5
         ],
         "x0": " ",
         "xaxis": "x2",
         "y": [
          0.1,
          0.090625,
          0,
          0.346875,
          0,
          0.25,
          0.028125,
          0.059375,
          0,
          0,
          0.040625,
          0.0625,
          0.1375,
          0.24375,
          0.38125,
          0.16875,
          0,
          0.053125,
          0.29375,
          0.2125,
          0.0625,
          0,
          0.109375,
          0.340625,
          0,
          0.034375,
          0.33125,
          0,
          0,
          0.275,
          0
         ],
         "y0": " ",
         "yaxis": "y2"
        },
        {
         "alignmentgroup": "True",
         "hovertemplate": "% optimal genes=%{x}<br>crossover=SBX<br>seed ind influence=%{y}<extra></extra>",
         "legendgroup": "0.75",
         "marker": {
          "color": "#ab63fa"
         },
         "name": "0.75",
         "notched": false,
         "offsetgroup": "0.75",
         "orientation": "v",
         "showlegend": true,
         "type": "box",
         "x": [
          0.75,
          0.75,
          0.75,
          0.75,
          0.75,
          0.75,
          0.75,
          0.75,
          0.75,
          0.75,
          0.75,
          0.75,
          0.75,
          0.75,
          0.75,
          0.75,
          0.75,
          0.75,
          0.75,
          0.75,
          0.75,
          0.75,
          0.75,
          0.75,
          0.75,
          0.75,
          0.75,
          0.75,
          0.75,
          0.75,
          0.75
         ],
         "x0": " ",
         "xaxis": "x",
         "y": [
          0.2947475412477181,
          0.404574350495226,
          0,
          0.1201491529567279,
          0.3141055935944224,
          0.1204991797136367,
          0.055095026869851,
          0,
          0.1129078181126861,
          7.97500164352092e-8,
          0,
          0.4116810056787132,
          0.0546403867948225,
          0.00005072711839335647,
          0.2021474629122697,
          0.2816685288358584,
          0.1131690167257281,
          0,
          0.0556445677848793,
          0.4759412490469231,
          0.310567378421158,
          0.1168920074880472,
          0.00005027571105886601,
          0.4641198461492242,
          0,
          0.0653103594823403,
          0.2475817180899861,
          0.182640449006913,
          0,
          0.3051362420523739,
          0
         ],
         "y0": " ",
         "yaxis": "y"
        },
        {
         "alignmentgroup": "True",
         "hovertemplate": "% optimal genes=%{x}<br>crossover=UX<br>seed ind influence=%{y}<extra></extra>",
         "legendgroup": "0.75",
         "marker": {
          "color": "#ab63fa"
         },
         "name": "0.75",
         "notched": false,
         "offsetgroup": "0.75",
         "orientation": "v",
         "showlegend": false,
         "type": "box",
         "x": [
          0.75,
          0.75,
          0.75,
          0.75,
          0.75,
          0.75,
          0.75,
          0.75,
          0.75,
          0.75,
          0.75,
          0.75,
          0.75,
          0.75,
          0.75,
          0.75,
          0.75,
          0.75,
          0.75,
          0.75,
          0.75,
          0.75,
          0.75,
          0.75,
          0.75,
          0.75,
          0.75,
          0.75,
          0.75,
          0.75,
          0.75
         ],
         "x0": " ",
         "xaxis": "x2",
         "y": [
          0.221875,
          0.484375,
          0,
          0.2625,
          0.5125,
          0.384375,
          0,
          0.096875,
          0.365625,
          0.125,
          0.375,
          0.321875,
          0.040625,
          0.2375,
          0.36875,
          0.0625,
          0.153125,
          0.10625,
          0,
          0,
          0.353125,
          0.125,
          0.2625,
          0.0625,
          0,
          0.38125,
          0.36875,
          0.159375,
          0.20625,
          0.125,
          0.10625
         ],
         "y0": " ",
         "yaxis": "y2"
        }
       ],
       "layout": {
        "annotations": [
         {
          "font": {},
          "showarrow": false,
          "text": "crossover=SBX",
          "x": 0.24,
          "xanchor": "center",
          "xref": "paper",
          "y": 1,
          "yanchor": "bottom",
          "yref": "paper"
         },
         {
          "font": {},
          "showarrow": false,
          "text": "crossover=UX",
          "x": 0.76,
          "xanchor": "center",
          "xref": "paper",
          "y": 1,
          "yanchor": "bottom",
          "yref": "paper"
         }
        ],
        "boxmode": "overlay",
        "height": 400,
        "legend": {
         "title": {
          "text": "% optimal genes"
         },
         "tracegroupgap": 0
        },
        "margin": {
         "t": 60
        },
        "showlegend": false,
        "template": {
         "data": {
          "bar": [
           {
            "error_x": {
             "color": "#2a3f5f"
            },
            "error_y": {
             "color": "#2a3f5f"
            },
            "marker": {
             "line": {
              "color": "#E5ECF6",
              "width": 0.5
             },
             "pattern": {
              "fillmode": "overlay",
              "size": 10,
              "solidity": 0.2
             }
            },
            "type": "bar"
           }
          ],
          "barpolar": [
           {
            "marker": {
             "line": {
              "color": "#E5ECF6",
              "width": 0.5
             },
             "pattern": {
              "fillmode": "overlay",
              "size": 10,
              "solidity": 0.2
             }
            },
            "type": "barpolar"
           }
          ],
          "carpet": [
           {
            "aaxis": {
             "endlinecolor": "#2a3f5f",
             "gridcolor": "white",
             "linecolor": "white",
             "minorgridcolor": "white",
             "startlinecolor": "#2a3f5f"
            },
            "baxis": {
             "endlinecolor": "#2a3f5f",
             "gridcolor": "white",
             "linecolor": "white",
             "minorgridcolor": "white",
             "startlinecolor": "#2a3f5f"
            },
            "type": "carpet"
           }
          ],
          "choropleth": [
           {
            "colorbar": {
             "outlinewidth": 0,
             "ticks": ""
            },
            "type": "choropleth"
           }
          ],
          "contour": [
           {
            "colorbar": {
             "outlinewidth": 0,
             "ticks": ""
            },
            "colorscale": [
             [
              0,
              "#0d0887"
             ],
             [
              0.1111111111111111,
              "#46039f"
             ],
             [
              0.2222222222222222,
              "#7201a8"
             ],
             [
              0.3333333333333333,
              "#9c179e"
             ],
             [
              0.4444444444444444,
              "#bd3786"
             ],
             [
              0.5555555555555556,
              "#d8576b"
             ],
             [
              0.6666666666666666,
              "#ed7953"
             ],
             [
              0.7777777777777778,
              "#fb9f3a"
             ],
             [
              0.8888888888888888,
              "#fdca26"
             ],
             [
              1,
              "#f0f921"
             ]
            ],
            "type": "contour"
           }
          ],
          "contourcarpet": [
           {
            "colorbar": {
             "outlinewidth": 0,
             "ticks": ""
            },
            "type": "contourcarpet"
           }
          ],
          "heatmap": [
           {
            "colorbar": {
             "outlinewidth": 0,
             "ticks": ""
            },
            "colorscale": [
             [
              0,
              "#0d0887"
             ],
             [
              0.1111111111111111,
              "#46039f"
             ],
             [
              0.2222222222222222,
              "#7201a8"
             ],
             [
              0.3333333333333333,
              "#9c179e"
             ],
             [
              0.4444444444444444,
              "#bd3786"
             ],
             [
              0.5555555555555556,
              "#d8576b"
             ],
             [
              0.6666666666666666,
              "#ed7953"
             ],
             [
              0.7777777777777778,
              "#fb9f3a"
             ],
             [
              0.8888888888888888,
              "#fdca26"
             ],
             [
              1,
              "#f0f921"
             ]
            ],
            "type": "heatmap"
           }
          ],
          "heatmapgl": [
           {
            "colorbar": {
             "outlinewidth": 0,
             "ticks": ""
            },
            "colorscale": [
             [
              0,
              "#0d0887"
             ],
             [
              0.1111111111111111,
              "#46039f"
             ],
             [
              0.2222222222222222,
              "#7201a8"
             ],
             [
              0.3333333333333333,
              "#9c179e"
             ],
             [
              0.4444444444444444,
              "#bd3786"
             ],
             [
              0.5555555555555556,
              "#d8576b"
             ],
             [
              0.6666666666666666,
              "#ed7953"
             ],
             [
              0.7777777777777778,
              "#fb9f3a"
             ],
             [
              0.8888888888888888,
              "#fdca26"
             ],
             [
              1,
              "#f0f921"
             ]
            ],
            "type": "heatmapgl"
           }
          ],
          "histogram": [
           {
            "marker": {
             "pattern": {
              "fillmode": "overlay",
              "size": 10,
              "solidity": 0.2
             }
            },
            "type": "histogram"
           }
          ],
          "histogram2d": [
           {
            "colorbar": {
             "outlinewidth": 0,
             "ticks": ""
            },
            "colorscale": [
             [
              0,
              "#0d0887"
             ],
             [
              0.1111111111111111,
              "#46039f"
             ],
             [
              0.2222222222222222,
              "#7201a8"
             ],
             [
              0.3333333333333333,
              "#9c179e"
             ],
             [
              0.4444444444444444,
              "#bd3786"
             ],
             [
              0.5555555555555556,
              "#d8576b"
             ],
             [
              0.6666666666666666,
              "#ed7953"
             ],
             [
              0.7777777777777778,
              "#fb9f3a"
             ],
             [
              0.8888888888888888,
              "#fdca26"
             ],
             [
              1,
              "#f0f921"
             ]
            ],
            "type": "histogram2d"
           }
          ],
          "histogram2dcontour": [
           {
            "colorbar": {
             "outlinewidth": 0,
             "ticks": ""
            },
            "colorscale": [
             [
              0,
              "#0d0887"
             ],
             [
              0.1111111111111111,
              "#46039f"
             ],
             [
              0.2222222222222222,
              "#7201a8"
             ],
             [
              0.3333333333333333,
              "#9c179e"
             ],
             [
              0.4444444444444444,
              "#bd3786"
             ],
             [
              0.5555555555555556,
              "#d8576b"
             ],
             [
              0.6666666666666666,
              "#ed7953"
             ],
             [
              0.7777777777777778,
              "#fb9f3a"
             ],
             [
              0.8888888888888888,
              "#fdca26"
             ],
             [
              1,
              "#f0f921"
             ]
            ],
            "type": "histogram2dcontour"
           }
          ],
          "mesh3d": [
           {
            "colorbar": {
             "outlinewidth": 0,
             "ticks": ""
            },
            "type": "mesh3d"
           }
          ],
          "parcoords": [
           {
            "line": {
             "colorbar": {
              "outlinewidth": 0,
              "ticks": ""
             }
            },
            "type": "parcoords"
           }
          ],
          "pie": [
           {
            "automargin": true,
            "type": "pie"
           }
          ],
          "scatter": [
           {
            "fillpattern": {
             "fillmode": "overlay",
             "size": 10,
             "solidity": 0.2
            },
            "type": "scatter"
           }
          ],
          "scatter3d": [
           {
            "line": {
             "colorbar": {
              "outlinewidth": 0,
              "ticks": ""
             }
            },
            "marker": {
             "colorbar": {
              "outlinewidth": 0,
              "ticks": ""
             }
            },
            "type": "scatter3d"
           }
          ],
          "scattercarpet": [
           {
            "marker": {
             "colorbar": {
              "outlinewidth": 0,
              "ticks": ""
             }
            },
            "type": "scattercarpet"
           }
          ],
          "scattergeo": [
           {
            "marker": {
             "colorbar": {
              "outlinewidth": 0,
              "ticks": ""
             }
            },
            "type": "scattergeo"
           }
          ],
          "scattergl": [
           {
            "marker": {
             "colorbar": {
              "outlinewidth": 0,
              "ticks": ""
             }
            },
            "type": "scattergl"
           }
          ],
          "scattermapbox": [
           {
            "marker": {
             "colorbar": {
              "outlinewidth": 0,
              "ticks": ""
             }
            },
            "type": "scattermapbox"
           }
          ],
          "scatterpolar": [
           {
            "marker": {
             "colorbar": {
              "outlinewidth": 0,
              "ticks": ""
             }
            },
            "type": "scatterpolar"
           }
          ],
          "scatterpolargl": [
           {
            "marker": {
             "colorbar": {
              "outlinewidth": 0,
              "ticks": ""
             }
            },
            "type": "scatterpolargl"
           }
          ],
          "scatterternary": [
           {
            "marker": {
             "colorbar": {
              "outlinewidth": 0,
              "ticks": ""
             }
            },
            "type": "scatterternary"
           }
          ],
          "surface": [
           {
            "colorbar": {
             "outlinewidth": 0,
             "ticks": ""
            },
            "colorscale": [
             [
              0,
              "#0d0887"
             ],
             [
              0.1111111111111111,
              "#46039f"
             ],
             [
              0.2222222222222222,
              "#7201a8"
             ],
             [
              0.3333333333333333,
              "#9c179e"
             ],
             [
              0.4444444444444444,
              "#bd3786"
             ],
             [
              0.5555555555555556,
              "#d8576b"
             ],
             [
              0.6666666666666666,
              "#ed7953"
             ],
             [
              0.7777777777777778,
              "#fb9f3a"
             ],
             [
              0.8888888888888888,
              "#fdca26"
             ],
             [
              1,
              "#f0f921"
             ]
            ],
            "type": "surface"
           }
          ],
          "table": [
           {
            "cells": {
             "fill": {
              "color": "#EBF0F8"
             },
             "line": {
              "color": "white"
             }
            },
            "header": {
             "fill": {
              "color": "#C8D4E3"
             },
             "line": {
              "color": "white"
             }
            },
            "type": "table"
           }
          ]
         },
         "layout": {
          "annotationdefaults": {
           "arrowcolor": "#2a3f5f",
           "arrowhead": 0,
           "arrowwidth": 1
          },
          "autotypenumbers": "strict",
          "coloraxis": {
           "colorbar": {
            "outlinewidth": 0,
            "ticks": ""
           }
          },
          "colorscale": {
           "diverging": [
            [
             0,
             "#8e0152"
            ],
            [
             0.1,
             "#c51b7d"
            ],
            [
             0.2,
             "#de77ae"
            ],
            [
             0.3,
             "#f1b6da"
            ],
            [
             0.4,
             "#fde0ef"
            ],
            [
             0.5,
             "#f7f7f7"
            ],
            [
             0.6,
             "#e6f5d0"
            ],
            [
             0.7,
             "#b8e186"
            ],
            [
             0.8,
             "#7fbc41"
            ],
            [
             0.9,
             "#4d9221"
            ],
            [
             1,
             "#276419"
            ]
           ],
           "sequential": [
            [
             0,
             "#0d0887"
            ],
            [
             0.1111111111111111,
             "#46039f"
            ],
            [
             0.2222222222222222,
             "#7201a8"
            ],
            [
             0.3333333333333333,
             "#9c179e"
            ],
            [
             0.4444444444444444,
             "#bd3786"
            ],
            [
             0.5555555555555556,
             "#d8576b"
            ],
            [
             0.6666666666666666,
             "#ed7953"
            ],
            [
             0.7777777777777778,
             "#fb9f3a"
            ],
            [
             0.8888888888888888,
             "#fdca26"
            ],
            [
             1,
             "#f0f921"
            ]
           ],
           "sequentialminus": [
            [
             0,
             "#0d0887"
            ],
            [
             0.1111111111111111,
             "#46039f"
            ],
            [
             0.2222222222222222,
             "#7201a8"
            ],
            [
             0.3333333333333333,
             "#9c179e"
            ],
            [
             0.4444444444444444,
             "#bd3786"
            ],
            [
             0.5555555555555556,
             "#d8576b"
            ],
            [
             0.6666666666666666,
             "#ed7953"
            ],
            [
             0.7777777777777778,
             "#fb9f3a"
            ],
            [
             0.8888888888888888,
             "#fdca26"
            ],
            [
             1,
             "#f0f921"
            ]
           ]
          },
          "colorway": [
           "#636efa",
           "#EF553B",
           "#00cc96",
           "#ab63fa",
           "#FFA15A",
           "#19d3f3",
           "#FF6692",
           "#B6E880",
           "#FF97FF",
           "#FECB52"
          ],
          "font": {
           "color": "#2a3f5f"
          },
          "geo": {
           "bgcolor": "white",
           "lakecolor": "white",
           "landcolor": "#E5ECF6",
           "showlakes": true,
           "showland": true,
           "subunitcolor": "white"
          },
          "hoverlabel": {
           "align": "left"
          },
          "hovermode": "closest",
          "mapbox": {
           "style": "light"
          },
          "paper_bgcolor": "white",
          "plot_bgcolor": "#E5ECF6",
          "polar": {
           "angularaxis": {
            "gridcolor": "white",
            "linecolor": "white",
            "ticks": ""
           },
           "bgcolor": "#E5ECF6",
           "radialaxis": {
            "gridcolor": "white",
            "linecolor": "white",
            "ticks": ""
           }
          },
          "scene": {
           "xaxis": {
            "backgroundcolor": "#E5ECF6",
            "gridcolor": "white",
            "gridwidth": 2,
            "linecolor": "white",
            "showbackground": true,
            "ticks": "",
            "zerolinecolor": "white"
           },
           "yaxis": {
            "backgroundcolor": "#E5ECF6",
            "gridcolor": "white",
            "gridwidth": 2,
            "linecolor": "white",
            "showbackground": true,
            "ticks": "",
            "zerolinecolor": "white"
           },
           "zaxis": {
            "backgroundcolor": "#E5ECF6",
            "gridcolor": "white",
            "gridwidth": 2,
            "linecolor": "white",
            "showbackground": true,
            "ticks": "",
            "zerolinecolor": "white"
           }
          },
          "shapedefaults": {
           "line": {
            "color": "#2a3f5f"
           }
          },
          "ternary": {
           "aaxis": {
            "gridcolor": "white",
            "linecolor": "white",
            "ticks": ""
           },
           "baxis": {
            "gridcolor": "white",
            "linecolor": "white",
            "ticks": ""
           },
           "bgcolor": "#E5ECF6",
           "caxis": {
            "gridcolor": "white",
            "linecolor": "white",
            "ticks": ""
           }
          },
          "title": {
           "x": 0.05
          },
          "xaxis": {
           "automargin": true,
           "gridcolor": "white",
           "linecolor": "white",
           "ticks": "",
           "title": {
            "standoff": 15
           },
           "zerolinecolor": "white",
           "zerolinewidth": 2
          },
          "yaxis": {
           "automargin": true,
           "gridcolor": "white",
           "linecolor": "white",
           "ticks": "",
           "title": {
            "standoff": 15
           },
           "zerolinecolor": "white",
           "zerolinewidth": 2
          }
         }
        },
        "width": 800,
        "xaxis": {
         "anchor": "y",
         "categoryarray": [
          0,
          0.25,
          0.5,
          0.75
         ],
         "categoryorder": "array",
         "domain": [
          0,
          0.48
         ],
         "showgrid": true,
         "title": {
          "text": "% optimal genes"
         },
         "type": "category"
        },
        "xaxis2": {
         "anchor": "y2",
         "categoryarray": [
          0,
          0.25,
          0.5,
          0.75
         ],
         "categoryorder": "array",
         "domain": [
          0.52,
          1
         ],
         "matches": "x",
         "showgrid": true,
         "title": {
          "text": "% optimal genes"
         },
         "type": "category"
        },
        "yaxis": {
         "anchor": "x",
         "domain": [
          0,
          1
         ],
         "title": {
          "text": "seed ind influence"
         }
        },
        "yaxis2": {
         "anchor": "x2",
         "domain": [
          0,
          1
         ],
         "matches": "y",
         "showticklabels": false
        }
       }
      }
     },
     "metadata": {},
     "output_type": "display_data"
    },
    {
     "data": {
      "application/vnd.plotly.v1+json": {
       "config": {
        "plotlyServerURL": "https://plot.ly"
       },
       "data": [
        {
         "alignmentgroup": "True",
         "hovertemplate": "% optimal genes=%{x}<br>crossover=SBX<br>min_f=%{y}<extra></extra>",
         "legendgroup": "0.0",
         "marker": {
          "color": "#636efa"
         },
         "name": "0.0",
         "notched": false,
         "offsetgroup": "0.0",
         "orientation": "v",
         "showlegend": true,
         "type": "box",
         "x": [
          0,
          0,
          0,
          0,
          0,
          0,
          0,
          0,
          0,
          0,
          0,
          0,
          0,
          0,
          0,
          0,
          0,
          0,
          0,
          0,
          0,
          0,
          0,
          0,
          0,
          0,
          0,
          0,
          0,
          0,
          0
         ],
         "x0": " ",
         "xaxis": "x",
         "y": [
          1.5372341092138195,
          1.0596332300238076,
          0.5365037832341715,
          1.2814215795619837,
          1.0346692804670312,
          0.4343862624430747,
          1.1976672502180612,
          0.9991305857172184,
          0.3824797671139061,
          0.8433135389468079,
          0.9553676281726264,
          0.8410741279251758,
          0.4749177011486304,
          0.5118648113327975,
          0.7949889105578324,
          0.8250402566142566,
          1.411807415515988,
          1.3021625850153449,
          1.810567607803168,
          1.452289456576374,
          0.8093634406290293,
          1.5806056294102402,
          0.8972430106450948,
          1.3499153544936149,
          1.4930764866810344,
          0.9311966622753468,
          1.0288619263826897,
          3.424064701389524,
          0.951117258051833,
          1.408111998837498,
          2.330021966039532
         ],
         "y0": " ",
         "yaxis": "y"
        },
        {
         "alignmentgroup": "True",
         "hovertemplate": "% optimal genes=%{x}<br>crossover=UX<br>min_f=%{y}<extra></extra>",
         "legendgroup": "0.0",
         "marker": {
          "color": "#636efa"
         },
         "name": "0.0",
         "notched": false,
         "offsetgroup": "0.0",
         "orientation": "v",
         "showlegend": false,
         "type": "box",
         "x": [
          0,
          0,
          0,
          0,
          0,
          0,
          0,
          0,
          0,
          0,
          0,
          0,
          0,
          0,
          0,
          0,
          0,
          0,
          0,
          0,
          0,
          0,
          0,
          0,
          0,
          0,
          0,
          0,
          0,
          0,
          0
         ],
         "x0": " ",
         "xaxis": "x2",
         "y": [
          0.0693786163016842,
          0.1416876727943044,
          0.1670772957449847,
          0.0996754763102357,
          0.3509545932613952,
          0.1040364935359273,
          0.3297631562425239,
          0.2959882200528145,
          0.207545655412207,
          0.1453570219850363,
          0.3376746126354198,
          0.1546015635796576,
          0.1151466853834701,
          0.1123444337050844,
          0.1028626606342481,
          0.2167380863046759,
          0.0975367821234788,
          0.1194295215561388,
          0.0836829231166975,
          0.0716433968594541,
          0.0771818265163754,
          0.0839830742600501,
          0.1607921668870385,
          0.2787052894733568,
          0.2220727122186871,
          0.1884326246705638,
          0.0923249900985524,
          0.1556022321436972,
          0.1785337376351538,
          0.1907355105729479,
          0.0677464911293066
         ],
         "y0": " ",
         "yaxis": "y2"
        },
        {
         "alignmentgroup": "True",
         "hovertemplate": "% optimal genes=%{x}<br>crossover=SBX<br>min_f=%{y}<extra></extra>",
         "legendgroup": "0.25",
         "marker": {
          "color": "#EF553B"
         },
         "name": "0.25",
         "notched": false,
         "offsetgroup": "0.25",
         "orientation": "v",
         "showlegend": true,
         "type": "box",
         "x": [
          0.25,
          0.25,
          0.25,
          0.25,
          0.25,
          0.25,
          0.25,
          0.25,
          0.25,
          0.25,
          0.25,
          0.25,
          0.25,
          0.25,
          0.25,
          0.25,
          0.25,
          0.25,
          0.25,
          0.25,
          0.25,
          0.25,
          0.25,
          0.25,
          0.25,
          0.25,
          0.25,
          0.25,
          0.25,
          0.25,
          0.25
         ],
         "x0": " ",
         "xaxis": "x",
         "y": [
          1.031073818698122,
          0.6432932172406283,
          0.5365037832341715,
          1.0771216459768596,
          0.4773600750159177,
          0.4190277351447961,
          2.357941586389526,
          2.5069680309867426,
          0.4690164239926488,
          1.3345361003484846,
          1.0643175373769054,
          1.0345074771909704,
          0.5930253689461636,
          1.8745411100056093,
          0.5574667188489212,
          0.7786146095676014,
          0.7364389743105417,
          1.2938611485603515,
          0.494608848699698,
          1.2985150911714534,
          0.6008613230266788,
          1.037327258445098,
          0.2222538903082758,
          1.6153757642590174,
          1.4930764866810344,
          1.0185736721205954,
          2.05559837798702,
          2.3240737691667386,
          0.7733285047761379,
          0.401615466211351,
          0.516869762773843
         ],
         "y0": " ",
         "yaxis": "y"
        },
        {
         "alignmentgroup": "True",
         "hovertemplate": "% optimal genes=%{x}<br>crossover=UX<br>min_f=%{y}<extra></extra>",
         "legendgroup": "0.25",
         "marker": {
          "color": "#EF553B"
         },
         "name": "0.25",
         "notched": false,
         "offsetgroup": "0.25",
         "orientation": "v",
         "showlegend": false,
         "type": "box",
         "x": [
          0.25,
          0.25,
          0.25,
          0.25,
          0.25,
          0.25,
          0.25,
          0.25,
          0.25,
          0.25,
          0.25,
          0.25,
          0.25,
          0.25,
          0.25,
          0.25,
          0.25,
          0.25,
          0.25,
          0.25,
          0.25,
          0.25,
          0.25,
          0.25,
          0.25,
          0.25,
          0.25,
          0.25,
          0.25,
          0.25,
          0.25
         ],
         "x0": " ",
         "xaxis": "x2",
         "y": [
          0.0366778072800898,
          0.1873295338634535,
          0.1670772957449847,
          0.0969039195628259,
          0.170638796480233,
          0.1040799125423843,
          0.1635800449318767,
          0.3473669763135837,
          0.2445924590581677,
          0.0655993281744524,
          0.0399213603618381,
          0.1449131136460785,
          0.0529075085112306,
          0.3258868550933106,
          0.0695379645472873,
          0.0630025730920132,
          0.1728220610989972,
          0.2523514683765704,
          0.3117678796009213,
          0.1072347660274218,
          0.0271313301972421,
          0.0720919333851744,
          0.2768355102250518,
          0.1228021114017731,
          0.2220727122186871,
          0.070119451495162,
          0.1132303089930894,
          0.133899038536194,
          0.0928122482949529,
          0.401017084714709,
          0.1129182743146502
         ],
         "y0": " ",
         "yaxis": "y2"
        },
        {
         "alignmentgroup": "True",
         "hovertemplate": "% optimal genes=%{x}<br>crossover=SBX<br>min_f=%{y}<extra></extra>",
         "legendgroup": "0.5",
         "marker": {
          "color": "#00cc96"
         },
         "name": "0.5",
         "notched": false,
         "offsetgroup": "0.5",
         "orientation": "v",
         "showlegend": true,
         "type": "box",
         "x": [
          0.5,
          0.5,
          0.5,
          0.5,
          0.5,
          0.5,
          0.5,
          0.5,
          0.5,
          0.5,
          0.5,
          0.5,
          0.5,
          0.5,
          0.5,
          0.5,
          0.5,
          0.5,
          0.5,
          0.5,
          0.5,
          0.5,
          0.5,
          0.5,
          0.5,
          0.5,
          0.5,
          0.5,
          0.5,
          0.5,
          0.5
         ],
         "x0": " ",
         "xaxis": "x",
         "y": [
          1.0140571264740506,
          0.3727696972048628,
          0.5365037832341715,
          0.7574374925157447,
          0.6269417205452799,
          0.6280220854282362,
          1.3968499439997513,
          1.4238985517929377,
          1.1212293583283903,
          0.6699701744868782,
          0.4252000438032505,
          1.5526913010779968,
          0.5930253689461636,
          0.6867508313292507,
          1.355809011215802,
          1.6925854823260835,
          1.380611048664485,
          1.6754802587848103,
          1.0657075841137638,
          0.8342001034893364,
          1.1613846083259007,
          1.369363653036616,
          0.1769697652954535,
          0.7629958835032715,
          1.4930764866810344,
          1.298452452134768,
          1.448730315202721,
          0.6232305409443304,
          0.5936475503430915,
          1.09037770779805,
          1.0832673966255908
         ],
         "y0": " ",
         "yaxis": "y"
        },
        {
         "alignmentgroup": "True",
         "hovertemplate": "% optimal genes=%{x}<br>crossover=UX<br>min_f=%{y}<extra></extra>",
         "legendgroup": "0.5",
         "marker": {
          "color": "#00cc96"
         },
         "name": "0.5",
         "notched": false,
         "offsetgroup": "0.5",
         "orientation": "v",
         "showlegend": false,
         "type": "box",
         "x": [
          0.5,
          0.5,
          0.5,
          0.5,
          0.5,
          0.5,
          0.5,
          0.5,
          0.5,
          0.5,
          0.5,
          0.5,
          0.5,
          0.5,
          0.5,
          0.5,
          0.5,
          0.5,
          0.5,
          0.5,
          0.5,
          0.5,
          0.5,
          0.5,
          0.5,
          0.5,
          0.5,
          0.5,
          0.5,
          0.5,
          0.5
         ],
         "x0": " ",
         "xaxis": "x2",
         "y": [
          0.0259598809603889,
          0.1329604456011356,
          0.1670772957449847,
          0.0249161458967193,
          0.219947699091466,
          0.047973450998613,
          0.1660980847282049,
          0.1909932941084764,
          0.0463178453757397,
          0.0893049758780238,
          0.0632303945575584,
          0.3928385356963546,
          0.0967076394293659,
          0.0341457505560075,
          0.0958989527193915,
          0.0944801133964429,
          0.2053101740100654,
          0.1680209329913148,
          0.0616249414531624,
          0.0276221660451443,
          0.1929779932400665,
          0.044271344004598,
          0.2945633135016623,
          0.0312418846269141,
          0.2220727122186871,
          0.2085709663102601,
          0.0505025340747934,
          0.0856998373244045,
          0.1388720363763159,
          0.1536952447035808,
          0.1370015808203932
         ],
         "y0": " ",
         "yaxis": "y2"
        },
        {
         "alignmentgroup": "True",
         "hovertemplate": "% optimal genes=%{x}<br>crossover=SBX<br>min_f=%{y}<extra></extra>",
         "legendgroup": "0.75",
         "marker": {
          "color": "#ab63fa"
         },
         "name": "0.75",
         "notched": false,
         "offsetgroup": "0.75",
         "orientation": "v",
         "showlegend": true,
         "type": "box",
         "x": [
          0.75,
          0.75,
          0.75,
          0.75,
          0.75,
          0.75,
          0.75,
          0.75,
          0.75,
          0.75,
          0.75,
          0.75,
          0.75,
          0.75,
          0.75,
          0.75,
          0.75,
          0.75,
          0.75,
          0.75,
          0.75,
          0.75,
          0.75,
          0.75,
          0.75,
          0.75,
          0.75,
          0.75,
          0.75,
          0.75,
          0.75
         ],
         "x0": " ",
         "xaxis": "x",
         "y": [
          0.6579785443005131,
          0.798263773259849,
          0.5365037832341715,
          0.5972389737916532,
          0.8976602257370121,
          0.7285931017845844,
          1.1164543326755587,
          0.8498454015506228,
          0.4933224954466165,
          0.679394843610015,
          1.696329117254681,
          0.5456684025408391,
          1.1415250003131925,
          1.982077392202694,
          1.4885195621923906,
          1.4116394166431336,
          0.5425915255599723,
          1.1402792027476332,
          1.3528992396106938,
          0.6002007108999252,
          0.316544112191395,
          1.5248459299027088,
          0.9206353756013096,
          0.9301100804815952,
          1.4930764866810344,
          0.208493374468282,
          0.5147897083789568,
          2.2021257806520573,
          1.4152774931502037,
          1.244088249823083,
          0.8299474950214646
         ],
         "y0": " ",
         "yaxis": "y"
        },
        {
         "alignmentgroup": "True",
         "hovertemplate": "% optimal genes=%{x}<br>crossover=UX<br>min_f=%{y}<extra></extra>",
         "legendgroup": "0.75",
         "marker": {
          "color": "#ab63fa"
         },
         "name": "0.75",
         "notched": false,
         "offsetgroup": "0.75",
         "orientation": "v",
         "showlegend": false,
         "type": "box",
         "x": [
          0.75,
          0.75,
          0.75,
          0.75,
          0.75,
          0.75,
          0.75,
          0.75,
          0.75,
          0.75,
          0.75,
          0.75,
          0.75,
          0.75,
          0.75,
          0.75,
          0.75,
          0.75,
          0.75,
          0.75,
          0.75,
          0.75,
          0.75,
          0.75,
          0.75,
          0.75,
          0.75,
          0.75,
          0.75,
          0.75,
          0.75
         ],
         "x0": " ",
         "xaxis": "x2",
         "y": [
          0.0878797201885775,
          0.0065509229094798,
          0.0384947431683077,
          0.1524561833120971,
          0.0989710441620833,
          0.0134871503586908,
          0.2977169065901986,
          0.0190182738802959,
          0.0143069046522625,
          0.03299011092004,
          0.0461390488876244,
          0.1668632163523873,
          0.0824698371440744,
          0.0825735862144309,
          0.0113842887717675,
          0.1974480892048407,
          0.0489867950229163,
          0.0830170590539573,
          0.1551472304058536,
          0.2037213106075532,
          0.0343615246658683,
          0.0697231450371053,
          0.0351203031786725,
          0.3332879636208278,
          0.2220727122186871,
          0.0154264243793652,
          0.0424683839501588,
          0.0644528605745553,
          0.0902803584133572,
          0.0892407494130449,
          0.2458218458936958
         ],
         "y0": " ",
         "yaxis": "y2"
        }
       ],
       "layout": {
        "annotations": [
         {
          "font": {},
          "showarrow": false,
          "text": "crossover=SBX",
          "x": 0.24,
          "xanchor": "center",
          "xref": "paper",
          "y": 1,
          "yanchor": "bottom",
          "yref": "paper"
         },
         {
          "font": {},
          "showarrow": false,
          "text": "crossover=UX",
          "x": 0.76,
          "xanchor": "center",
          "xref": "paper",
          "y": 1,
          "yanchor": "bottom",
          "yref": "paper"
         }
        ],
        "boxmode": "overlay",
        "height": 400,
        "legend": {
         "title": {
          "text": "% optimal genes"
         },
         "tracegroupgap": 0
        },
        "margin": {
         "t": 60
        },
        "showlegend": false,
        "template": {
         "data": {
          "bar": [
           {
            "error_x": {
             "color": "#2a3f5f"
            },
            "error_y": {
             "color": "#2a3f5f"
            },
            "marker": {
             "line": {
              "color": "#E5ECF6",
              "width": 0.5
             },
             "pattern": {
              "fillmode": "overlay",
              "size": 10,
              "solidity": 0.2
             }
            },
            "type": "bar"
           }
          ],
          "barpolar": [
           {
            "marker": {
             "line": {
              "color": "#E5ECF6",
              "width": 0.5
             },
             "pattern": {
              "fillmode": "overlay",
              "size": 10,
              "solidity": 0.2
             }
            },
            "type": "barpolar"
           }
          ],
          "carpet": [
           {
            "aaxis": {
             "endlinecolor": "#2a3f5f",
             "gridcolor": "white",
             "linecolor": "white",
             "minorgridcolor": "white",
             "startlinecolor": "#2a3f5f"
            },
            "baxis": {
             "endlinecolor": "#2a3f5f",
             "gridcolor": "white",
             "linecolor": "white",
             "minorgridcolor": "white",
             "startlinecolor": "#2a3f5f"
            },
            "type": "carpet"
           }
          ],
          "choropleth": [
           {
            "colorbar": {
             "outlinewidth": 0,
             "ticks": ""
            },
            "type": "choropleth"
           }
          ],
          "contour": [
           {
            "colorbar": {
             "outlinewidth": 0,
             "ticks": ""
            },
            "colorscale": [
             [
              0,
              "#0d0887"
             ],
             [
              0.1111111111111111,
              "#46039f"
             ],
             [
              0.2222222222222222,
              "#7201a8"
             ],
             [
              0.3333333333333333,
              "#9c179e"
             ],
             [
              0.4444444444444444,
              "#bd3786"
             ],
             [
              0.5555555555555556,
              "#d8576b"
             ],
             [
              0.6666666666666666,
              "#ed7953"
             ],
             [
              0.7777777777777778,
              "#fb9f3a"
             ],
             [
              0.8888888888888888,
              "#fdca26"
             ],
             [
              1,
              "#f0f921"
             ]
            ],
            "type": "contour"
           }
          ],
          "contourcarpet": [
           {
            "colorbar": {
             "outlinewidth": 0,
             "ticks": ""
            },
            "type": "contourcarpet"
           }
          ],
          "heatmap": [
           {
            "colorbar": {
             "outlinewidth": 0,
             "ticks": ""
            },
            "colorscale": [
             [
              0,
              "#0d0887"
             ],
             [
              0.1111111111111111,
              "#46039f"
             ],
             [
              0.2222222222222222,
              "#7201a8"
             ],
             [
              0.3333333333333333,
              "#9c179e"
             ],
             [
              0.4444444444444444,
              "#bd3786"
             ],
             [
              0.5555555555555556,
              "#d8576b"
             ],
             [
              0.6666666666666666,
              "#ed7953"
             ],
             [
              0.7777777777777778,
              "#fb9f3a"
             ],
             [
              0.8888888888888888,
              "#fdca26"
             ],
             [
              1,
              "#f0f921"
             ]
            ],
            "type": "heatmap"
           }
          ],
          "heatmapgl": [
           {
            "colorbar": {
             "outlinewidth": 0,
             "ticks": ""
            },
            "colorscale": [
             [
              0,
              "#0d0887"
             ],
             [
              0.1111111111111111,
              "#46039f"
             ],
             [
              0.2222222222222222,
              "#7201a8"
             ],
             [
              0.3333333333333333,
              "#9c179e"
             ],
             [
              0.4444444444444444,
              "#bd3786"
             ],
             [
              0.5555555555555556,
              "#d8576b"
             ],
             [
              0.6666666666666666,
              "#ed7953"
             ],
             [
              0.7777777777777778,
              "#fb9f3a"
             ],
             [
              0.8888888888888888,
              "#fdca26"
             ],
             [
              1,
              "#f0f921"
             ]
            ],
            "type": "heatmapgl"
           }
          ],
          "histogram": [
           {
            "marker": {
             "pattern": {
              "fillmode": "overlay",
              "size": 10,
              "solidity": 0.2
             }
            },
            "type": "histogram"
           }
          ],
          "histogram2d": [
           {
            "colorbar": {
             "outlinewidth": 0,
             "ticks": ""
            },
            "colorscale": [
             [
              0,
              "#0d0887"
             ],
             [
              0.1111111111111111,
              "#46039f"
             ],
             [
              0.2222222222222222,
              "#7201a8"
             ],
             [
              0.3333333333333333,
              "#9c179e"
             ],
             [
              0.4444444444444444,
              "#bd3786"
             ],
             [
              0.5555555555555556,
              "#d8576b"
             ],
             [
              0.6666666666666666,
              "#ed7953"
             ],
             [
              0.7777777777777778,
              "#fb9f3a"
             ],
             [
              0.8888888888888888,
              "#fdca26"
             ],
             [
              1,
              "#f0f921"
             ]
            ],
            "type": "histogram2d"
           }
          ],
          "histogram2dcontour": [
           {
            "colorbar": {
             "outlinewidth": 0,
             "ticks": ""
            },
            "colorscale": [
             [
              0,
              "#0d0887"
             ],
             [
              0.1111111111111111,
              "#46039f"
             ],
             [
              0.2222222222222222,
              "#7201a8"
             ],
             [
              0.3333333333333333,
              "#9c179e"
             ],
             [
              0.4444444444444444,
              "#bd3786"
             ],
             [
              0.5555555555555556,
              "#d8576b"
             ],
             [
              0.6666666666666666,
              "#ed7953"
             ],
             [
              0.7777777777777778,
              "#fb9f3a"
             ],
             [
              0.8888888888888888,
              "#fdca26"
             ],
             [
              1,
              "#f0f921"
             ]
            ],
            "type": "histogram2dcontour"
           }
          ],
          "mesh3d": [
           {
            "colorbar": {
             "outlinewidth": 0,
             "ticks": ""
            },
            "type": "mesh3d"
           }
          ],
          "parcoords": [
           {
            "line": {
             "colorbar": {
              "outlinewidth": 0,
              "ticks": ""
             }
            },
            "type": "parcoords"
           }
          ],
          "pie": [
           {
            "automargin": true,
            "type": "pie"
           }
          ],
          "scatter": [
           {
            "fillpattern": {
             "fillmode": "overlay",
             "size": 10,
             "solidity": 0.2
            },
            "type": "scatter"
           }
          ],
          "scatter3d": [
           {
            "line": {
             "colorbar": {
              "outlinewidth": 0,
              "ticks": ""
             }
            },
            "marker": {
             "colorbar": {
              "outlinewidth": 0,
              "ticks": ""
             }
            },
            "type": "scatter3d"
           }
          ],
          "scattercarpet": [
           {
            "marker": {
             "colorbar": {
              "outlinewidth": 0,
              "ticks": ""
             }
            },
            "type": "scattercarpet"
           }
          ],
          "scattergeo": [
           {
            "marker": {
             "colorbar": {
              "outlinewidth": 0,
              "ticks": ""
             }
            },
            "type": "scattergeo"
           }
          ],
          "scattergl": [
           {
            "marker": {
             "colorbar": {
              "outlinewidth": 0,
              "ticks": ""
             }
            },
            "type": "scattergl"
           }
          ],
          "scattermapbox": [
           {
            "marker": {
             "colorbar": {
              "outlinewidth": 0,
              "ticks": ""
             }
            },
            "type": "scattermapbox"
           }
          ],
          "scatterpolar": [
           {
            "marker": {
             "colorbar": {
              "outlinewidth": 0,
              "ticks": ""
             }
            },
            "type": "scatterpolar"
           }
          ],
          "scatterpolargl": [
           {
            "marker": {
             "colorbar": {
              "outlinewidth": 0,
              "ticks": ""
             }
            },
            "type": "scatterpolargl"
           }
          ],
          "scatterternary": [
           {
            "marker": {
             "colorbar": {
              "outlinewidth": 0,
              "ticks": ""
             }
            },
            "type": "scatterternary"
           }
          ],
          "surface": [
           {
            "colorbar": {
             "outlinewidth": 0,
             "ticks": ""
            },
            "colorscale": [
             [
              0,
              "#0d0887"
             ],
             [
              0.1111111111111111,
              "#46039f"
             ],
             [
              0.2222222222222222,
              "#7201a8"
             ],
             [
              0.3333333333333333,
              "#9c179e"
             ],
             [
              0.4444444444444444,
              "#bd3786"
             ],
             [
              0.5555555555555556,
              "#d8576b"
             ],
             [
              0.6666666666666666,
              "#ed7953"
             ],
             [
              0.7777777777777778,
              "#fb9f3a"
             ],
             [
              0.8888888888888888,
              "#fdca26"
             ],
             [
              1,
              "#f0f921"
             ]
            ],
            "type": "surface"
           }
          ],
          "table": [
           {
            "cells": {
             "fill": {
              "color": "#EBF0F8"
             },
             "line": {
              "color": "white"
             }
            },
            "header": {
             "fill": {
              "color": "#C8D4E3"
             },
             "line": {
              "color": "white"
             }
            },
            "type": "table"
           }
          ]
         },
         "layout": {
          "annotationdefaults": {
           "arrowcolor": "#2a3f5f",
           "arrowhead": 0,
           "arrowwidth": 1
          },
          "autotypenumbers": "strict",
          "coloraxis": {
           "colorbar": {
            "outlinewidth": 0,
            "ticks": ""
           }
          },
          "colorscale": {
           "diverging": [
            [
             0,
             "#8e0152"
            ],
            [
             0.1,
             "#c51b7d"
            ],
            [
             0.2,
             "#de77ae"
            ],
            [
             0.3,
             "#f1b6da"
            ],
            [
             0.4,
             "#fde0ef"
            ],
            [
             0.5,
             "#f7f7f7"
            ],
            [
             0.6,
             "#e6f5d0"
            ],
            [
             0.7,
             "#b8e186"
            ],
            [
             0.8,
             "#7fbc41"
            ],
            [
             0.9,
             "#4d9221"
            ],
            [
             1,
             "#276419"
            ]
           ],
           "sequential": [
            [
             0,
             "#0d0887"
            ],
            [
             0.1111111111111111,
             "#46039f"
            ],
            [
             0.2222222222222222,
             "#7201a8"
            ],
            [
             0.3333333333333333,
             "#9c179e"
            ],
            [
             0.4444444444444444,
             "#bd3786"
            ],
            [
             0.5555555555555556,
             "#d8576b"
            ],
            [
             0.6666666666666666,
             "#ed7953"
            ],
            [
             0.7777777777777778,
             "#fb9f3a"
            ],
            [
             0.8888888888888888,
             "#fdca26"
            ],
            [
             1,
             "#f0f921"
            ]
           ],
           "sequentialminus": [
            [
             0,
             "#0d0887"
            ],
            [
             0.1111111111111111,
             "#46039f"
            ],
            [
             0.2222222222222222,
             "#7201a8"
            ],
            [
             0.3333333333333333,
             "#9c179e"
            ],
            [
             0.4444444444444444,
             "#bd3786"
            ],
            [
             0.5555555555555556,
             "#d8576b"
            ],
            [
             0.6666666666666666,
             "#ed7953"
            ],
            [
             0.7777777777777778,
             "#fb9f3a"
            ],
            [
             0.8888888888888888,
             "#fdca26"
            ],
            [
             1,
             "#f0f921"
            ]
           ]
          },
          "colorway": [
           "#636efa",
           "#EF553B",
           "#00cc96",
           "#ab63fa",
           "#FFA15A",
           "#19d3f3",
           "#FF6692",
           "#B6E880",
           "#FF97FF",
           "#FECB52"
          ],
          "font": {
           "color": "#2a3f5f"
          },
          "geo": {
           "bgcolor": "white",
           "lakecolor": "white",
           "landcolor": "#E5ECF6",
           "showlakes": true,
           "showland": true,
           "subunitcolor": "white"
          },
          "hoverlabel": {
           "align": "left"
          },
          "hovermode": "closest",
          "mapbox": {
           "style": "light"
          },
          "paper_bgcolor": "white",
          "plot_bgcolor": "#E5ECF6",
          "polar": {
           "angularaxis": {
            "gridcolor": "white",
            "linecolor": "white",
            "ticks": ""
           },
           "bgcolor": "#E5ECF6",
           "radialaxis": {
            "gridcolor": "white",
            "linecolor": "white",
            "ticks": ""
           }
          },
          "scene": {
           "xaxis": {
            "backgroundcolor": "#E5ECF6",
            "gridcolor": "white",
            "gridwidth": 2,
            "linecolor": "white",
            "showbackground": true,
            "ticks": "",
            "zerolinecolor": "white"
           },
           "yaxis": {
            "backgroundcolor": "#E5ECF6",
            "gridcolor": "white",
            "gridwidth": 2,
            "linecolor": "white",
            "showbackground": true,
            "ticks": "",
            "zerolinecolor": "white"
           },
           "zaxis": {
            "backgroundcolor": "#E5ECF6",
            "gridcolor": "white",
            "gridwidth": 2,
            "linecolor": "white",
            "showbackground": true,
            "ticks": "",
            "zerolinecolor": "white"
           }
          },
          "shapedefaults": {
           "line": {
            "color": "#2a3f5f"
           }
          },
          "ternary": {
           "aaxis": {
            "gridcolor": "white",
            "linecolor": "white",
            "ticks": ""
           },
           "baxis": {
            "gridcolor": "white",
            "linecolor": "white",
            "ticks": ""
           },
           "bgcolor": "#E5ECF6",
           "caxis": {
            "gridcolor": "white",
            "linecolor": "white",
            "ticks": ""
           }
          },
          "title": {
           "x": 0.05
          },
          "xaxis": {
           "automargin": true,
           "gridcolor": "white",
           "linecolor": "white",
           "ticks": "",
           "title": {
            "standoff": 15
           },
           "zerolinecolor": "white",
           "zerolinewidth": 2
          },
          "yaxis": {
           "automargin": true,
           "gridcolor": "white",
           "linecolor": "white",
           "ticks": "",
           "title": {
            "standoff": 15
           },
           "zerolinecolor": "white",
           "zerolinewidth": 2
          }
         }
        },
        "width": 800,
        "xaxis": {
         "anchor": "y",
         "categoryarray": [
          0,
          0.25,
          0.5,
          0.75
         ],
         "categoryorder": "array",
         "domain": [
          0,
          0.48
         ],
         "showgrid": true,
         "title": {
          "text": "% optimal genes"
         },
         "type": "category"
        },
        "xaxis2": {
         "anchor": "y2",
         "categoryarray": [
          0,
          0.25,
          0.5,
          0.75
         ],
         "categoryorder": "array",
         "domain": [
          0.52,
          1
         ],
         "matches": "x",
         "showgrid": true,
         "title": {
          "text": "% optimal genes"
         },
         "type": "category"
        },
        "yaxis": {
         "anchor": "x",
         "domain": [
          0,
          1
         ],
         "showticklabels": true,
         "title": {
          "text": "min_f"
         }
        },
        "yaxis2": {
         "anchor": "x2",
         "domain": [
          0,
          1
         ],
         "showticklabels": true
        }
       }
      }
     },
     "metadata": {},
     "output_type": "display_data"
    }
   ],
   "source": [
    "import pandas as pd\n",
    "import plotly.express as px\n",
    "\n",
    "gen = 50; seed_quality = \"lower quartile\"; dim=16\n",
    "\n",
    "# =============================================================================\n",
    "# Impact\n",
    "# =============================================================================\n",
    "\n",
    "ci_df = pd.read_csv(\"../data/sphere_function_data_out/counting_impact.csv\")\n",
    "only_last_gen_ci = ci_df[ci_df.generation == gen]\n",
    "only_last_gen_ci = only_last_gen_ci[only_last_gen_ci.seed_quality == seed_quality]\n",
    "only_last_gen_ci = only_last_gen_ci[only_last_gen_ci.dim == dim]\n",
    "\n",
    "\n",
    "only_last_gen_ci = only_last_gen_ci[['traceID_1', 'percentage_of_optimal_genes', 'dim', 'crossover']]\n",
    "\n",
    "fig = px.box(\n",
    "    only_last_gen_ci,\n",
    "    y=\"traceID_1\", x=\"percentage_of_optimal_genes\",\n",
    "    facet_col=\"crossover\",\n",
    "        facet_col_spacing=0.04, #for consistency with the performance plot\n",
    "    color=\"percentage_of_optimal_genes\",\n",
    "    labels={\n",
    "            \"value\": \"counting impact\",\n",
    "            \"variable\": \"\",\n",
    "            \"percentage_of_optimal_genes\": \"% optimal genes\",\n",
    "            \"traceID_1\" : \"seed ind influence\"\n",
    "        },       \n",
    "    height=400, width=800,\n",
    "    )\n",
    "fig.update_layout(showlegend=False)\n",
    "fig.update_xaxes(showgrid=True, type='category')\n",
    "fig.write_image(\"../figures/presentation/crossover_comparison_impact.svg\")\n",
    "fig.show()\n",
    "\n",
    "# =============================================================================\n",
    "# performance\n",
    "# =============================================================================\n",
    "\n",
    "perf_df = pd.read_csv(\"../data/sphere_function_data_out/performance.csv\")\n",
    "only_last_gen_perf = perf_df[perf_df.generation == gen]\n",
    "only_last_gen_perf = only_last_gen_perf[only_last_gen_perf.seed_quality == seed_quality]\n",
    "only_last_gen_perf = only_last_gen_perf[only_last_gen_perf.dim == dim]\n",
    "\n",
    "\n",
    "fig = px.box(\n",
    "    only_last_gen_perf,\n",
    "    y=\"min_f\", x=\"percentage_of_optimal_genes\",\n",
    "    facet_col=\"crossover\",\n",
    "    facet_col_spacing=0.04,\n",
    "    color=\"percentage_of_optimal_genes\",\n",
    "    labels={\n",
    "            \"value\": \"counting impact\",\n",
    "            \"variable\": \"\",\n",
    "            \"percentage_of_optimal_genes\": \"% optimal genes\",\n",
    "            \"traceID_1\" : \"seed ind influence\"\n",
    "        },       \n",
    "    height=400, width=800,\n",
    "    )\n",
    "fig.update_layout(showlegend=False)\n",
    "fig.update_xaxes(showgrid=True, type='category')\n",
    "fig.update_yaxes(matches=None) #here we have quite a different scale\n",
    "fig.for_each_yaxis(lambda yaxis: yaxis.update(showticklabels=True))\n",
    "fig.write_image(\"../figures/presentation/crossover_comparison_performance.svg\")\n",
    "fig.show()"
   ]
  }
 ],
 "metadata": {
  "kernelspec": {
   "display_name": "venv",
   "language": "python",
   "name": "python3"
  },
  "language_info": {
   "codemirror_mode": {
    "name": "ipython",
    "version": 3
   },
   "file_extension": ".py",
   "mimetype": "text/x-python",
   "name": "python",
   "nbconvert_exporter": "python",
   "pygments_lexer": "ipython3",
   "version": "3.9.6"
  }
 },
 "nbformat": 4,
 "nbformat_minor": 2
}
